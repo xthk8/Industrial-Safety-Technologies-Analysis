{
 "cells": [
  {
   "cell_type": "code",
   "execution_count": 1,
   "metadata": {},
   "outputs": [
    {
     "name": "stderr",
     "output_type": "stream",
     "text": [
      "c:\\Python38\\lib\\site-packages\\tqdm\\auto.py:21: TqdmWarning: IProgress not found. Please update jupyter and ipywidgets. See https://ipywidgets.readthedocs.io/en/stable/user_install.html\n",
      "  from .autonotebook import tqdm as notebook_tqdm\n"
     ]
    }
   ],
   "source": [
    "import torch\n",
    "from torch import nn\n",
    "import torch.nn.functional as F\n",
    "import torch.optim as optim\n",
    "from torch.utils.data import Dataset, DataLoader\n",
    "#import gluonnlp as nlp\n",
    "import numpy as np\n",
    "from tqdm import tqdm, tqdm_notebook\n",
    "\n",
    "#transformers\n",
    "from transformers import AdamW\n",
    "from transformers.optimization import get_cosine_schedule_with_warmup\n",
    "from kobert_transformers import get_kobert_model\n",
    "\n",
    "\n",
    "import nltk\n",
    "from itertools import product\n",
    "from nltk.corpus import stopwords\n",
    "from nltk.stem import WordNetLemmatizer\n",
    "from nltk.tokenize import word_tokenize\n",
    "from nltk import pos_tag\n",
    "from sklearn.preprocessing import normalize\n",
    "import pandas as pd\n",
    "\n",
    "\n",
    "from nltk.corpus import stopwords\n",
    "import nltk\n",
    "#nltk.download('stopwords')\n",
    "\n",
    "# 초기화\n",
    "from konlpy.tag import Okt\n",
    "\n",
    "\n",
    "import nltk\n",
    "import jpype\n",
    "import jpype.imports\n",
    "from jpype.types import *\n",
    "\n",
    "from transformers import BertModel, BertTokenizer\n",
    "from transformers import AutoModel\n",
    "from sentence_transformers import SentenceTransformer\n",
    "\n",
    "\n",
    "from bertopic import BERTopic\n",
    "\n",
    "from bertopic.vectorizers import ClassTfidfTransformer\n",
    "from sklearn.feature_extraction.text import CountVectorizer\n",
    "\n",
    "from ugtm import eGTM\n",
    "import umap\n",
    "import hdbscan"
   ]
  },
  {
   "cell_type": "code",
   "execution_count": 2,
   "metadata": {},
   "outputs": [
    {
     "name": "stderr",
     "output_type": "stream",
     "text": [
      "[nltk_data] Downloading package punkt to\n",
      "[nltk_data]     C:\\Users\\user\\AppData\\Roaming\\nltk_data...\n",
      "[nltk_data]   Package punkt is already up-to-date!\n",
      "[nltk_data] Downloading package wordnet to\n",
      "[nltk_data]     C:\\Users\\user\\AppData\\Roaming\\nltk_data...\n",
      "[nltk_data]   Package wordnet is already up-to-date!\n",
      "[nltk_data] Downloading package stopwords to\n",
      "[nltk_data]     C:\\Users\\user\\AppData\\Roaming\\nltk_data...\n",
      "[nltk_data]   Package stopwords is already up-to-date!\n",
      "[nltk_data] Downloading package averaged_perceptron_tagger to\n",
      "[nltk_data]     C:\\Users\\user\\AppData\\Roaming\\nltk_data...\n",
      "[nltk_data]   Package averaged_perceptron_tagger is already up-to-\n",
      "[nltk_data]       date!\n"
     ]
    },
    {
     "data": {
      "text/plain": [
       "True"
      ]
     },
     "execution_count": 2,
     "metadata": {},
     "output_type": "execute_result"
    }
   ],
   "source": [
    "# NLTK 설정 및 리소스 다운로드\n",
    "\n",
    "\n",
    "nltk.download('punkt')\n",
    "nltk.download('wordnet')\n",
    "nltk.download('stopwords')\n",
    "nltk.download('averaged_perceptron_tagger')"
   ]
  },
  {
   "cell_type": "code",
   "execution_count": 3,
   "metadata": {},
   "outputs": [],
   "source": [
    "patent = pd.read_excel('patentdata_v.0.4.xls')"
   ]
  },
  {
   "cell_type": "code",
   "execution_count": 4,
   "metadata": {},
   "outputs": [],
   "source": [
    "summ = patent['청구항']"
   ]
  },
  {
   "cell_type": "code",
   "execution_count": 601,
   "metadata": {},
   "outputs": [],
   "source": [
    "# 불용어 목록 (수정 - 보고서 기반 불용어 제거)\n",
    "\n",
    "stopword = {\n",
    "    \n",
    "    \n",
    "    '및', '또는', '시스템', '프로세스', '모델', '삭제', '청구항', '추출', '발명', '문서', '구조', '화면', '반도체', '기능', '프로그램', '연결', '시작', '운전', '권한', '구동', '조회', '현황', '내용', '점자', '보건',\n",
    "    '계측', '제조', '포함', '출력', '송신', '저장', '생산', '전달', '방식', '자료', '환경', '효과', '조절', '들다', '동일하다', '발음', '음주','투과','버스','플랜트','블록','소자','출입문','수소','서브', \n",
    "    '실행', '수집', '특성', '발생', '구성', '작동', '장비', '접속', '고정', '운영', '전환', '획득', '디바이스', '할당', '스펙트럼', '식별', '표면온도', '차단', '전방', '인증', '진입', \n",
    "    '구현', '수행', '제한', '효율', '형성', '절차', '변환', '배치', '발견', '감소', '유도', '저감', '계산', '전개', '상황', '통화', '보행', '집중', '회전', '현재상황', '좌우','위험하다','속도','축적','분해','장소','아릴','치환','여기','임의','테로','원자','화합물','모션','미러','말단',\n",
    "    '방출', '형태', '적용', '최적화', '하다', '상기', '되다', '작업', '있다', '관리', '으로', '보다', '화학', '객체', '아크', '볼륨', '진동', '소화기', '애', '플러그','어셈블리','채널','캐쉬','투입',\n",
    "    '대한', '모듈', '조물', '되어다', '현장', '은', '는', '를', '이용', '에', '관하여', '관해', '것', '따르다', '체험', '미세먼지','주변', '사면','차원','사업자',\n",
    "    '의', '예', '각종', '산업', '몸', '사용자', '채', '요소', '자', '에게', '정량', '정성', '적', '전압', '치유', '오브젝트', '무선통신', '사용', '광고',\n",
    "    '가다', '제공', '로부터', '인접', '구', '영향', '미치다', '요인', '선별', '계측값', '인접물', '가시설', '것으로서', '농도', '근접', '감성', '변위', '석기', '자선',\n",
    "    '계획', '서다', '감리자', '확인', '이루어지다', '부', '자격', '인적', '부가', '물', '물의', '이', '면', '별로', '스크램블링', '박스','귀마개', \n",
    "    '각각', '관련', '위', '공사', '사업', '등', '용이하다', '이로', '수', '인하다', '노동', '강도', '줄이다', '규정', '가드', '포스트', '래커', '가스',\n",
    "    '준수', '오다', '쓰러지다', '공간', '설치', '실시', '실시예', '점유', '율', '협업', '이다', '전용', '피뢰침', '코드', '승인', '센터', \n",
    "    '늘다', '시설', '측정', '수치', '기준', '중요하다', '남아', '흙막이', '설', '와', '통해', '보고서', '이고', '가드 포스트', '질의', '정정',\n",
    "    '과', '가지다', '자의', '또한', '에서는', '일', '의하다', '생', '성', '대해', '복수', '으로써', '계', '가시', '온도', '메인보드', \n",
    "    '관', '부와', '측', '값', '얻다', '미지', '물론', '주다', '부르다', '이르다', '바다', '도록', '전후', '동', '이동식','전복', '치료','외피', '두부', '파장', '과정', '크루', '태블릿', '케이', '어플', '튜브',\n",
    "    '축', '관통', '공', '유', '입구', '구르다', '구로', '사이', '대역', '설정', '현상', '검', '제', '구의', '움직임 감지', '감지 센서',\n",
    "    '내', '해', '추다', '적어도', '해당', '산출', '물질', '가설', '후', '벗어나다', '제시', '단말', '자다', '범위', '영역', '안전성', '시공', '안전성 평가', '이동형 시공',\n",
    "    '경우', '표시', '통지', '특징', '위해', '철거', '원', '방향', '이동성', '누적', '지시', '레이', '계통', '보조', '감성','위험',\n",
    "    '모으다', '불다', '이중화', '마', '그네', '틱', '콘텍트', '어느', '한쪽', '일부', '지점', '다른', '단락', '상거동', '질문', '대상', '수용', '하천', '수배', '전반', '석면',\n",
    "    '폐', '간', '그룹', '건전하다', '동시에', '원천적', '활용', '기반', '혼합', '정이', '때', '각',  '미분', '미션', '안심', '필터', '비실', '구획', '덮개'\n",
    "    '상황', '시', '가능하다', '장인', '신속하다', '폴', '다양하다', '연결하다', '개선', '조건', '알다', '줄', '파라미터', '통합', '터널',\n",
    "    '레스트', '개', '상세', '빈번', '자연재해', '저', '감', '과제', '붕괴', '강하다', '피해', '재산', '로고', '용품', '길다', '공종','승강기',\n",
    "    '유역', '범', '검토', '적극', '화', '마다', '구비', '을', '으로서', '한', '함', '역', '용', '기', '에서', '하나', '어부', '하', '거나', '기', '속', '서', '가', '한', '에서', '모', '로', '격', '각각으로', '부터',\n",
    "    '함', '반', '대하', '여', '어', '로', '하고', '흐르다', '가', '류', '중', '화하다', '지역', '뿐', '만', '시키다', '라돈', '안내', '거리', '시나리오', '확산', '소화', '대다', '사람', \n",
    "    '화상', '패드', '미리', '디스플레이', '클러스터', '물품', '서명', '노드', '스트림', '소방', '출입', '으로부터', '방송', '비교', '개방', '전류','전력','스케줄링',\n",
    "    '아니다', '기존', '안전하다', '지', '중', '하이', '식', '노면', '그리고', '그', '으로는', '명세서', '이러하다', '통', '받다', '부로', '신', '필요하다', '미세먼지 농도',\n",
    "    '사', '고원', '재해', '원인', '사고', '분류', '별', '고르다', '바', '오', '탐미', '타다', '영', '상인', '인', '재', '셋', '하영', '영',\n",
    "    '형', '끈', '주', '이나', '크다', '웨어', '누', '올바르다', '갖다', '조', '치가', '쉬다', '유닛', '다', '더욱', '종', '들', '다수', '특히', '밉다', '작', '업도', '업자', '들', '않다', '머신',\n",
    "    '고', '청', '단', '말로', '성하다', '층', '항상', '러블', '업', '부터의', '가망', '부의', '피', '가의', '양', '나', '물이', '부위', '정해석',\n",
    "    '본체', '고리', '단계', '체결', '여부', '프로젝트', '부분', '고장', '문제점', '체내', '건설 프로젝트', '동구', '보호', '보도', '전송', '수신', '디지털', '손상', '발전', '점검', '판단', '도면', '파악', '개구', '선택', '이동식 크레인', '근로자', '패턴', '하천 제방', '금속 배관',\n",
    "    '에스', '처지', '지피다', '지피다 에스', '크레인', '서버', '증강현실 영상', '인자', '운항 선박', '선박 운항', '선박 항해', '무선 중계기', '시점 이전', '이전 이후', '라이트 인터페이스', '이전', '근거', '조치', '인증 인증', '촬영', '시점 이전', '이전 이후', '인식 인증', '클라이언트',\n",
    "    '스마트', '외부', '침입', '퇴치', '배', '지부', '대체', '시공사', '발주', '처', '연', '징후', '대처', '은닉', '특정', '메모리', '와의', '요청', '대응', '응답', '송출', '리스트', '소정', '구간', '내의', '연', '신하', '구체', '구역', '성함', '양상',\n",
    "    '규제', '유해', '역사', '어댑터', '동작', '결과', '사각', '지수', '내지', '모드', '시급', '탐지', '실내', '게이트웨이', '공정', '개시', '멜빵', '부착', '체크', '전원', '공급', '유해', '색', '변하다', '염료', '색상', '유출', '개시', '정원', '기질', '쾌적', '화재',\n",
    "    '공장', '빌딩', '아파트', '같다', '대형', '건물', '차량', '위생', '절감', '쾌적하다', '같다', '특', '고압', '특 고압', '입력', '자동', '백업', '항목', '지하철', '명령', '피난', '화염', '재다', '연기', '신호', '통신',\n",
    "    '컴퓨터', '매체', '학습', '성부', '심층', '관측', '제품', '업체', '번호', '일자', '유효', '기간', '조사', '조국', '업체', '구분', '명', '게',  '인지', '인식', '기초', '부재', '등급', '진단', '장착', '기계', '하량', '시도', '신부', '뛰어나다',\n",
    "    '청구', '당사자', '삭제', '상호작용', '서상기', '휴대', '관리자', '항', '알킬', '프레임', '내부', '지진', '서비스', '변화', '현재', '시간', '이벤트' ,'결합', '장애', '주파수', '부감', '치르다', '표준', '구축',\n",
    "    '주행', '자율', '동체', '나노', '전자', '부스', '고유', '액세스', '해제', '코딩', '원단', '전장', '잠금장치', '융합', '출사', '출하', '기기', '부여','임대', '입출력','수단','종단','임차','타입', '산소','커튼','피뢰기','실제','에어','시반','어감','위치','사운드','발열','상부','함께','독립','에는',\n",
    "    '분할','세기','호감','용량','아날로그','로서','헤테로시클릴','할로겐','페닐','환자','메틸','클릴','결함','인부','당한','글로벌', '그라파이트','섬유',' 페이퍼','수지','컨텐츠','쿠션','컴포넌트','동부','하자','수명','회전체','트레이닝','분리','전기','결부','적의','조립','전력량','모바일',\n",
    "    '유형', '카드','복조','정확도','위상','시계열','경계','토대','승선','레이어','분기','지게차','코일','정해진','커넥터','형상','개별','다비','입축','이스','전해','재활','냉각수','보시','픽셀','부상', '케이블','포트','의견',\n",
    "    '인쇄회로기판','찾아내다', '변경','크기','신청', '출시', '스켈레톤', '역다', '슬롯', '로그', '프로토콜', '클라우드', '균열', '시험', '타겟', '콘크리트', '부품', '촬상', '피어', '접근', '통신망', '밀폐', '활성화', '화물', '건설', '비상', '상관', '적합하다', '나머지', '단일', '담당', '공개',\n",
    "    '누설', '경비', '주행', '화질', '엔진', '사중', '광등', '구성요소', '태양광', '의미', '습도', '자체', '함수', '평균', '이하', '도출', '회로', '상이', '서로', '엮어', '차이나다', '점화', '케이스', '파형', '스파크', '노출', '성품',\n",
    "    '차원', '데이터베이스', '전동차', '속성', '의복', '취득', '비컨', '긴급', '목표', '조업', '라인', '동키', '우레아', '효소', '계전기', '직접', '차단기', '작성', '가능성', '램프', '상체', '건전', '내시경', '굴절', '전자기기', '거치', '오프',\n",
    "    '에너지', '프로세서', '콘텐츠', '로컬', '재부팅', '앵커', '링크', '암호', '브러쉬', '환기', '접지', '마모', '패킷', '화로', '동기화', '세션', '취출', '단위', '모범', '사례', '잠그다', '운항', '수준', '중인', '안테나', '종료', '레저', '요트'\n",
    "    '변전소', '통풍', '파생', '판정', '배전', '구제', '탬덤', '덮개', '솔레노이드', '굳다', '밸브', '페이', '계류', '마리나', '가이드', '판별', '항해', '제어기', '불쾌', '그린', '분산', '이상인', '모두', '측량', '끼리', '과거', '마이크로', '실어', '변전', '검사', '용기', '광원', '화용', '내압 레이저', '앰프', '예상', '이더넷',\n",
    "    '물건', '통과', '근무', '무인기', '의심', '컨트롤러', '스캔', '스크린도어', '통계', '송수', '소지', '공부', '도크', '배지', '기동', '상대', '청력', '마이크로폰', '장갑', '트래킹', '중앙', '인코더', '중계', '화기', '초당', '스펙', '에러', '중계기', '간의', '가변', '중량', '알고리즘',\n",
    "    '해결', '예정', '카테고리', '시간대', '참조', '공유', '지도', '상승', '하락', '지속', '매핑', '성분', '체류', '장부', '자로', '조이다', '매우', '해상도', '나누다', '중요도', '낮다', '증가', '이면', '노랑', '외형', '스티커', '스트리밍', '인쇄', '콘덴서', '극상', '텍스트',\n",
    "    '등록', '해지', '부하', '삽입', '신체', '조작', '임계', '진폭', '증폭', '레이블', '소형', '선의', '명칭', '제작', '경과', '탁월', '반영', '업로드', '플러스', '신후', '동시', '사항', '존재', '날짜', '종류', '혹은', '목록', '가볍다', '회전기', '이엠', '비아',\n",
    "    '삼각', '육상', '원래', '마이너스', '보트', '측위', '제거', '문자', '노이즈', '베드', '및기', '라이더', '년도', '미래', '설계도', '따라서', '관심', '유무', '좌표', '주차', '이동속도', '사람인', '선정', '높다', '분수', '배수', '시동', '재질', '차속', '교신', '비정상', '배기가스', '회피', '확률', '이중',\n",
    "    '수득', '대책', '측정값', '안전센', '압전센', '관계', '아니다', '부근', '축소', '행동', '차선', '후방', '보장', '소방차', '구급차', '정상', '장면', '중이', '컬러', '지정', '회의', '구별', '보안안', '우선적', '선적',\n",
    "    '정보', '조명기구', '방법', '지표', '선박박', '의사', '선박', '양단', '장치치', '누수', '단말기', '데이터', '연료', '전지', '보안', '이상', '장치', '센서', '상태' , '변전소', '감지', '연동', '이탈', '리소스', '페이퍼', '레벨', '상점', '스트레스', '레이더', '재래', '시장', '표적', '중장비',\n",
    "    '타이어', '프롬', '프트', '질환', '검색', '현실', '방호벽', '정비', '에서의', '추진', '자외선', '냉각', '화각', '주기', '넘다', '연구','바디','맞춤','일체', '후드', '밀착', '지표', '둘레', '보호복','커버', '매뉴얼', '교체', '협착', '시뮬레이션', '전기요금', '정기','인스턴스','슬라이딩','주위','공기','도우미','냉온','표면','화학물질','압구','웨이퍼','방열',\n",
    "    '적정','자식','부들','보충','음원','각도','성공','이력','봉투','유효하다','웨이블릿','신세기','글래스','탄성','시침','피스톤','수리','벨트','매개변수','축의','비율','쓰다','플로우','생활','도르다','준비','모습','안착','역률','기구','잔류','측정기','가시광선','원수','홀더','에틸렌','프로필렌','헤드','하의','통한','레진',\n",
    "    '최고점','저항','선단','차수','진출','하강','정화','불꽃','접착','정형','열전도','터널링','공작','반의','도포','베이스','음극','나타내다','엘리베이터','바이어스','기상','스팅','보정','움직임','익수','태깅','개체','수립','상계','동기','판독','안정','로드','목별','취약','지각','청각','증대','저하','소리','가산','도포','유압잭','귀걸이','풍력발전','표정',\n",
    "    '수직','수평','헤드','데크','기자','각속도','평행','임베디드','로트','사이즈','스팅','펜싱','목별','상단','업데이트','대차','수습','페달','호강','일산화탄소','원점','이웃','예비','선단','반사경','수직','수평','요약','샘플링','감쇠','각의','재물','제약','스프링','기술자','보고','커패시터','신뢰','활선','차륜','블럭','직상','용단','입자','파싱','지하','목적',\n",
    "    '재래','표적','시장','스트레스','상점','선박박','볼라드','교통','샘플','도로','밴드','변압기','포지셔닝','써비','검지','접점','대피소','발급','전도',\n",
    "    \n",
    "    '이미지','장력','펌웨어','영상','전계','순차','도어','중공','시트','트러스트','벤츄리','오존','넘버','자재','정체','청구','항','생','성하다','수질', '랙티브', '인터', '연관','결정','유지','시퀀스','자속','포맷', '설비', '안전', '제어', '분석',\n",
    "    '''''\n",
    "    '전극', '세트', '처리','패널','돌출', '이동', '감시', '알림', '재난','아웃렛','주민','수광',\n",
    "    '단자','비아','웹페이지','기관', '편차', '취급', '음향', '한계', '적외선', '보수', '초기', '비행', '이후','원판','착용', '태그','스피커', '점수', '기록', '워드', '다음','오스','체온','축척','메시지','하우','소켓','위험관리','행태','세다','하중','위급','착탈','감싸다','날씨','산정','모용','마스크','상행위','이며','사진','진압','유저',\n",
    "    '오류','제스쳐','물리','식품','벡터','응급','건축물'\n",
    "    '''} \n",
    "\n"
   ]
  },
  {
   "cell_type": "code",
   "execution_count": 420,
   "metadata": {},
   "outputs": [],
   "source": [
    "# 표제어 추출기 설정\n",
    "\n",
    "lemmatizer = WordNetLemmatizer()"
   ]
  },
  {
   "cell_type": "code",
   "execution_count": 421,
   "metadata": {},
   "outputs": [],
   "source": [
    "# KoBERT 모델 로드\n",
    "kobert_model = AutoModel.from_pretrained(\"skt/kobert-base-v1\")"
   ]
  },
  {
   "cell_type": "code",
   "execution_count": 422,
   "metadata": {},
   "outputs": [],
   "source": [
    "# 트리뱅크 형식의 품사 태그를 WordNet 형식에 맞게 변환\n",
    "\n",
    "def wordnet_pos_tags_kor(treebank_tag):\n",
    "    \"\"\"Converts POS tags from Korean treebank format to WordNet format.\"\"\"\n",
    "    if treebank_tag.startswith('VA') or treebank_tag.startswith('VV'):\n",
    "        return 'v'  # verb\n",
    "    elif treebank_tag.startswith('N'):\n",
    "        return 'n'  # noun\n",
    "    elif treebank_tag.startswith('M'):\n",
    "        return 'r'  # adverb (관형사, 부사)\n",
    "    elif treebank_tag.startswith('XR') or treebank_tag.startswith('MM'):\n",
    "        return 'a'  # adjective (어근, 관형사)\n",
    "    else:\n",
    "        return 'n'  # default to noun\n"
   ]
  },
  {
   "cell_type": "code",
   "execution_count": 423,
   "metadata": {},
   "outputs": [],
   "source": [
    "okt = Okt()"
   ]
  },
  {
   "cell_type": "code",
   "execution_count": 424,
   "metadata": {},
   "outputs": [],
   "source": [
    "# 특허 데이터 적용 (형태소 분석 & 불용어 제거)\n",
    "\n",
    "import re\n",
    "\n",
    "# 전처리\n",
    "def preprocess_patent_summaries(summaries):\n",
    "\n",
    "    preprocessed_summaries = []\n",
    "    for summary in summaries:\n",
    "\n",
    "        summary = re.sub(r'[^가-힣\\s]', '', summary)  # 한글과 공백을 제외하고 모두 제거\n",
    "        summary = re.sub(r'\\s+', ' ', summary)  # 중복 공백 제거\n",
    "        summary = summary.strip()\n",
    "\n",
    "        # 형태소 분석 및 불용어 제거\n",
    "        tokens = okt.morphs(summary, stem=True)  # 형태소 분석 및 어간 추출\n",
    "        tokens = [token for token in tokens if token not in stopword]  # 불용어 제거\n",
    "\n",
    "        # 전처리된 문서를 리스트에 추가\n",
    "        preprocessed_summaries.append(\" \".join(tokens))\n",
    "\n",
    "    return preprocessed_summaries"
   ]
  },
  {
   "cell_type": "code",
   "execution_count": 425,
   "metadata": {},
   "outputs": [],
   "source": [
    "# 표제어 추출\n",
    "def extract_lemmatized_tokens(preprocessed_docs):\n",
    "    lemmatized_docs = []\n",
    "    for document in preprocessed_docs:\n",
    "        tokens_with_pos = okt.pos(document, stem=True)  # 품사 태깅\n",
    "        lemmatized_tokens = [token for token, tag in tokens_with_pos if wordnet_pos_tags_kor(tag)]\n",
    "        lemmatized_docs.append(\" \".join(lemmatized_tokens))\n",
    "\n",
    "    return lemmatized_docs"
   ]
  },
  {
   "cell_type": "code",
   "execution_count": 590,
   "metadata": {},
   "outputs": [],
   "source": [
    "# 특허 요약문 전처리\n",
    "patent_prep = preprocess_patent_summaries(summ)\n",
    "# print(patent_prep)"
   ]
  },
  {
   "cell_type": "code",
   "execution_count": 591,
   "metadata": {},
   "outputs": [],
   "source": [
    "# 표제어 추출\n",
    "lemmatized_patents = extract_lemmatized_tokens(patent_prep)\n",
    "# print(lemmatized_patents)"
   ]
  },
  {
   "cell_type": "code",
   "execution_count": 592,
   "metadata": {},
   "outputs": [],
   "source": [
    "# 동일한 파라미터 값에 대해 항상 동일한 값이 출력되도록 고정\n",
    "\n",
    "import random\n",
    "\n",
    "seed = 42\n",
    "\n",
    "# Python 내장 랜덤 모듈 시드 설정\n",
    "random.seed(seed)\n",
    "\n",
    "# NumPy 시드 설정\n",
    "np.random.seed(seed)\n",
    "\n",
    "# PyTorch 시드 설정\n",
    "torch.manual_seed(seed)\n",
    "if torch.cuda.is_available():\n",
    "    torch.cuda.manual_seed(seed)\n",
    "    torch.cuda.manual_seed_all(seed)"
   ]
  },
  {
   "cell_type": "code",
   "execution_count": 622,
   "metadata": {},
   "outputs": [],
   "source": [
    "# KoBERT 모델과 토크나이저 불러오기\n",
    "#tokenizer = BertTokenizer.from_pretrained('monologg/kobert')\n",
    "#model = BertModel.from_pretrained('monologg/kobert')\n",
    "\n",
    "# Vectorizer 모델 설정\n",
    "vectorizer_model = CountVectorizer(ngram_range=(1, 1), stop_words=list(stopword)) \n",
    "\n",
    "# UMAP 모델 설정\n",
    "umap_model = umap.UMAP(n_neighbors=800, n_components=10, min_dist=0, metric='cosine', random_state=seed) # , spread=3.0)\n",
    "\n",
    "# HDBSCAN 모델 설정\n",
    "hdbscan_model = hdbscan.HDBSCAN(min_cluster_size=20, metric='euclidean', cluster_selection_method='eom', prediction_data=True)\n",
    "\n",
    "# cTF-IDF 모델 설정\n",
    "ctfidf_model = ClassTfidfTransformer()"
   ]
  },
  {
   "cell_type": "code",
   "execution_count": 623,
   "metadata": {},
   "outputs": [],
   "source": [
    "# BERTopic 모델 초기화 및 훈련\n",
    "topic_model = BERTopic(\n",
    "    language=\"korean\",  # 언어 설정\n",
    "    calculate_probabilities=True,  # 확률 계산 여부\n",
    "    nr_topics='auto',  # 주제의 수 제한, auto로 해야 HDBSCAN 작동\n",
    "    top_n_words=10,  # 각 주제의 상위 단어 수\n",
    "    min_topic_size=70,  # 주제의 최소 크기\n",
    "    vectorizer_model=vectorizer_model,  # 벡터화 모델\n",
    "    embedding_model=kobert_model,  # 임베딩 모델\n",
    "    umap_model=umap_model,  # UMAP 모델\n",
    "    hdbscan_model=hdbscan_model,  # HDBSCAN 모델\n",
    "    ctfidf_model=ctfidf_model,  # c-TFIDF 모델\n",
    "    verbose=True  # 진행 상황 출력 여부\n",
    ")"
   ]
  },
  {
   "cell_type": "code",
   "execution_count": 624,
   "metadata": {},
   "outputs": [
    {
     "name": "stderr",
     "output_type": "stream",
     "text": [
      "2024-06-27 02:18:18,246 - BERTopic - Embedding - Transforming documents to embeddings.\n",
      "Batches: 100%|██████████| 20/20 [00:16<00:00,  1.22it/s]\n",
      "2024-06-27 02:18:37,124 - BERTopic - Embedding - Completed ✓\n",
      "2024-06-27 02:18:37,140 - BERTopic - Dimensionality - Fitting the dimensionality reduction algorithm\n",
      "2024-06-27 02:18:39,659 - BERTopic - Dimensionality - Completed ✓\n",
      "2024-06-27 02:18:39,659 - BERTopic - Cluster - Start clustering the reduced embeddings\n",
      "2024-06-27 02:18:39,678 - BERTopic - Cluster - Completed ✓\n",
      "2024-06-27 02:18:39,678 - BERTopic - Representation - Extracting topics from clusters using representation models.\n",
      "2024-06-27 02:18:39,713 - BERTopic - Representation - Completed ✓\n",
      "2024-06-27 02:18:39,713 - BERTopic - Topic reduction - Reducing number of topics\n",
      "2024-06-27 02:18:39,743 - BERTopic - Topic reduction - Reduced number of topics from 4 to 4\n"
     ]
    }
   ],
   "source": [
    "# 주제 모델 훈련\n",
    "topics, probabilities = topic_model.fit_transform(lemmatized_patents)"
   ]
  },
  {
   "cell_type": "code",
   "execution_count": 625,
   "metadata": {},
   "outputs": [
    {
     "data": {
      "text/html": [
       "<div>\n",
       "<style scoped>\n",
       "    .dataframe tbody tr th:only-of-type {\n",
       "        vertical-align: middle;\n",
       "    }\n",
       "\n",
       "    .dataframe tbody tr th {\n",
       "        vertical-align: top;\n",
       "    }\n",
       "\n",
       "    .dataframe thead th {\n",
       "        text-align: right;\n",
       "    }\n",
       "</style>\n",
       "<table border=\"1\" class=\"dataframe\">\n",
       "  <thead>\n",
       "    <tr style=\"text-align: right;\">\n",
       "      <th></th>\n",
       "      <th>Topic</th>\n",
       "      <th>Count</th>\n",
       "      <th>Name</th>\n",
       "      <th>Representation</th>\n",
       "      <th>Representative_Docs</th>\n",
       "    </tr>\n",
       "  </thead>\n",
       "  <tbody>\n",
       "    <tr>\n",
       "      <th>0</th>\n",
       "      <td>-1</td>\n",
       "      <td>251</td>\n",
       "      <td>-1_카메라_모니터링_지능_무선</td>\n",
       "      <td>[카메라, 모니터링, 지능, 무선, 관제, 예측, 경보, 인공, 안전모, 네트워크]</td>\n",
       "      <td>[지능 예방 경로 상 얼굴 얼굴 열 열 카메라 일정 움직 이다 실시간 추적 추적 카...</td>\n",
       "    </tr>\n",
       "    <tr>\n",
       "      <th>1</th>\n",
       "      <td>0</td>\n",
       "      <td>184</td>\n",
       "      <td>0_평가_안전모_경고_무선</td>\n",
       "      <td>[평가, 안전모, 경고, 무선, 예측, 관제, 훈련, 실시간, 센싱, 생체]</td>\n",
       "      <td>[도 평가 노후 도 평가 평가 평가 평가 유사 평가 평가 평가 평가 평가 빈도 예측...</td>\n",
       "    </tr>\n",
       "    <tr>\n",
       "      <th>2</th>\n",
       "      <td>1</td>\n",
       "      <td>164</td>\n",
       "      <td>1_모니터링_무선_실시간_스위치</td>\n",
       "      <td>[모니터링, 무선, 실시간, 스위치, 가상, 경보, 감지기, 카메라, 네트워크, 교육]</td>\n",
       "      <td>[비콘 증 지문 손 혈관 정맥 얼굴 생체 심박수 심박수 생체 생체인식 방문자 생체 ...</td>\n",
       "    </tr>\n",
       "    <tr>\n",
       "      <th>3</th>\n",
       "      <td>2</td>\n",
       "      <td>24</td>\n",
       "      <td>2_예측_로봇_레이저_카메라</td>\n",
       "      <td>[예측, 로봇, 레이저, 카메라, 빅데이터, 관제, 원격, 인공, 실시간, 컨테이너]</td>\n",
       "      <td>[폭 예측 예측 예측 예측 예측 예측 예측 예측 예측 예측 예측 예측 설계 설계 예...</td>\n",
       "    </tr>\n",
       "  </tbody>\n",
       "</table>\n",
       "</div>"
      ],
      "text/plain": [
       "   Topic  Count               Name  \\\n",
       "0     -1    251  -1_카메라_모니터링_지능_무선   \n",
       "1      0    184     0_평가_안전모_경고_무선   \n",
       "2      1    164  1_모니터링_무선_실시간_스위치   \n",
       "3      2     24    2_예측_로봇_레이저_카메라   \n",
       "\n",
       "                                     Representation  \\\n",
       "0    [카메라, 모니터링, 지능, 무선, 관제, 예측, 경보, 인공, 안전모, 네트워크]   \n",
       "1        [평가, 안전모, 경고, 무선, 예측, 관제, 훈련, 실시간, 센싱, 생체]   \n",
       "2  [모니터링, 무선, 실시간, 스위치, 가상, 경보, 감지기, 카메라, 네트워크, 교육]   \n",
       "3   [예측, 로봇, 레이저, 카메라, 빅데이터, 관제, 원격, 인공, 실시간, 컨테이너]   \n",
       "\n",
       "                                 Representative_Docs  \n",
       "0  [지능 예방 경로 상 얼굴 얼굴 열 열 카메라 일정 움직 이다 실시간 추적 추적 카...  \n",
       "1  [도 평가 노후 도 평가 평가 평가 평가 유사 평가 평가 평가 평가 평가 빈도 예측...  \n",
       "2  [비콘 증 지문 손 혈관 정맥 얼굴 생체 심박수 심박수 생체 생체인식 방문자 생체 ...  \n",
       "3  [폭 예측 예측 예측 예측 예측 예측 예측 예측 예측 예측 예측 예측 설계 설계 예...  "
      ]
     },
     "execution_count": 625,
     "metadata": {},
     "output_type": "execute_result"
    }
   ],
   "source": [
    "# 주제 모델 결과 출력\n",
    "topic_model.get_topic_info()"
   ]
  },
  {
   "cell_type": "markdown",
   "metadata": {},
   "source": []
  },
  {
   "cell_type": "code",
   "execution_count": 626,
   "metadata": {},
   "outputs": [
    {
     "name": "stdout",
     "output_type": "stream",
     "text": [
      "Topic -1: 카메라 모니터링 지능 무선 관제 예측 경보 인공 안전모 네트워크\n",
      "Topic 0: 평가 안전모 경고 무선 예측 관제 훈련 실시간 센싱 생체\n",
      "Topic 1: 모니터링 무선 실시간 스위치 가상 경보 감지기 카메라 네트워크 교육\n",
      "Topic 2: 예측 로봇 레이저 카메라 빅데이터 관제 원격 인공 실시간 컨테이너\n"
     ]
    }
   ],
   "source": [
    "for topic_num in topic_model.get_topics():\n",
    "    words = [word for word, _ in topic_model.get_topic(topic_num)] \n",
    "    print(f\"Topic {topic_num}: {' '.join(words)}\")"
   ]
  },
  {
   "cell_type": "code",
   "execution_count": 627,
   "metadata": {},
   "outputs": [],
   "source": [
    "# 문서별 할당된 토픽\n",
    "doc_topics = pd.DataFrame({\"Document\": patent_prep, \"Topic\": topics})\n",
    "# print(doc_topics)"
   ]
  },
  {
   "cell_type": "code",
   "execution_count": 628,
   "metadata": {},
   "outputs": [],
   "source": [
    "from transformers import BertTokenizer, BertModel\n",
    "import torch\n",
    "import numpy as np\n",
    "from ugtm import eGTM, eGTC\n",
    "import altair as alt"
   ]
  },
  {
   "cell_type": "code",
   "execution_count": 634,
   "metadata": {},
   "outputs": [
    {
     "name": "stdout",
     "output_type": "stream",
     "text": [
      "[[-9.85872950e-01  9.68066629e-01]\n",
      " [-4.84249919e-01  5.72449802e-01]\n",
      " [ 5.51820965e-01 -4.48163544e-01]\n",
      " ...\n",
      " [ 9.99524349e-01  4.99070804e-01]\n",
      " [-8.73244008e-01  1.19790810e-01]\n",
      " [ 4.99051612e-01  5.35925537e-04]]\n",
      "[[-1.   1. ]\n",
      " [-0.5  0.5]\n",
      " [ 0.5 -0.5]\n",
      " ...\n",
      " [ 1.   0.5]\n",
      " [-1.   0.5]\n",
      " [ 0.5  0. ]]\n"
     ]
    }
   ],
   "source": [
    "# GTM 모델 학습 및 변환 \n",
    "# 주어진 항만 특허 데이터의 주제 Scope를 고려하여 적합한 차원 수 설정\n",
    "gtm_model = eGTM(k=5, model=\"responsibilities\").fit(probabilities)\n",
    "gtm_means = eGTM(k=5, model=\"means\").fit_transform(probabilities)\n",
    "gtm_modes = eGTM(k=5, model=\"modes\").fit_transform(probabilities)\n",
    "\n",
    "#print(gtm_model)\n",
    "print(gtm_means)\n",
    "print(gtm_modes)"
   ]
  },
  {
   "cell_type": "code",
   "execution_count": 691,
   "metadata": {},
   "outputs": [],
   "source": [
    "# GTM 결과 시각화\n",
    "dgtm_modes = pd.DataFrame(gtm_modes, columns=[\"x1\", \"x2\"])\n",
    "dgtm_modes[\"topic\"] = doc_topics['Topic']\n",
    "\n",
    "# GTM modes 차트 생성\n",
    "gtm_modes_chart = alt.Chart(dgtm_modes).mark_circle().encode(\n",
    "    x='x1',\n",
    "    y='x2',\n",
    "    color=alt.Color(\n",
    "        'topic:N',\n",
    "        scale=alt.Scale(domain=[-1, 0, 1, 2],\n",
    "                        range=['purple', 'orchid', 'hotpink', 'pink']),\n",
    "        legend=None\n",
    "    ),\n",
    "    size=alt.value(1500),\n",
    "    tooltip=['x1', 'x2', 'topic:N']\n",
    ").properties(\n",
    "    title=\"GTM (modes)\", width=400, height=400\n",
    ")\n",
    "\n",
    "# 데이터프레임 생성\n",
    "dgtm_means = pd.DataFrame(gtm_means, columns=[\"x1\", \"x2\"])\n",
    "dgtm_means[\"topic\"] = doc_topics['Topic']\n",
    "\n",
    "# GTM means 차트 생성\n",
    "gtm_means_chart = alt.Chart(dgtm_means).mark_circle().encode(\n",
    "    x='x1',\n",
    "    y='x2',\n",
    "    color=alt.Color(\n",
    "        'topic:N',\n",
    "        scale=alt.Scale(domain=[-1, 0, 1, 2],\n",
    "                        range=['purple', 'orchid', 'hotpink', 'pink']),\n",
    "        legend=None\n",
    "    ),\n",
    "    size=alt.value(100),\n",
    "    tooltip=['x1', 'x2', 'topic:N']\n",
    ").properties(\n",
    "    title=\"GTM (means)\", width=400, height=400\n",
    ")"
   ]
  },
  {
   "cell_type": "code",
   "execution_count": 692,
   "metadata": {},
   "outputs": [
    {
     "data": {
      "text/html": [
       "\n",
       "<style>\n",
       "  #altair-viz-faccb5dfd6194d1a91493360f00797b3.vega-embed {\n",
       "    width: 100%;\n",
       "    display: flex;\n",
       "  }\n",
       "\n",
       "  #altair-viz-faccb5dfd6194d1a91493360f00797b3.vega-embed details,\n",
       "  #altair-viz-faccb5dfd6194d1a91493360f00797b3.vega-embed details summary {\n",
       "    position: relative;\n",
       "  }\n",
       "</style>\n",
       "<div id=\"altair-viz-faccb5dfd6194d1a91493360f00797b3\"></div>\n",
       "<script type=\"text/javascript\">\n",
       "  var VEGA_DEBUG = (typeof VEGA_DEBUG == \"undefined\") ? {} : VEGA_DEBUG;\n",
       "  (function(spec, embedOpt){\n",
       "    let outputDiv = document.currentScript.previousElementSibling;\n",
       "    if (outputDiv.id !== \"altair-viz-faccb5dfd6194d1a91493360f00797b3\") {\n",
       "      outputDiv = document.getElementById(\"altair-viz-faccb5dfd6194d1a91493360f00797b3\");\n",
       "    }\n",
       "    const paths = {\n",
       "      \"vega\": \"https://cdn.jsdelivr.net/npm/vega@5?noext\",\n",
       "      \"vega-lib\": \"https://cdn.jsdelivr.net/npm/vega-lib?noext\",\n",
       "      \"vega-lite\": \"https://cdn.jsdelivr.net/npm/vega-lite@5.17.0?noext\",\n",
       "      \"vega-embed\": \"https://cdn.jsdelivr.net/npm/vega-embed@6?noext\",\n",
       "    };\n",
       "\n",
       "    function maybeLoadScript(lib, version) {\n",
       "      var key = `${lib.replace(\"-\", \"\")}_version`;\n",
       "      return (VEGA_DEBUG[key] == version) ?\n",
       "        Promise.resolve(paths[lib]) :\n",
       "        new Promise(function(resolve, reject) {\n",
       "          var s = document.createElement('script');\n",
       "          document.getElementsByTagName(\"head\")[0].appendChild(s);\n",
       "          s.async = true;\n",
       "          s.onload = () => {\n",
       "            VEGA_DEBUG[key] = version;\n",
       "            return resolve(paths[lib]);\n",
       "          };\n",
       "          s.onerror = () => reject(`Error loading script: ${paths[lib]}`);\n",
       "          s.src = paths[lib];\n",
       "        });\n",
       "    }\n",
       "\n",
       "    function showError(err) {\n",
       "      outputDiv.innerHTML = `<div class=\"error\" style=\"color:red;\">${err}</div>`;\n",
       "      throw err;\n",
       "    }\n",
       "\n",
       "    function displayChart(vegaEmbed) {\n",
       "      vegaEmbed(outputDiv, spec, embedOpt)\n",
       "        .catch(err => showError(`Javascript Error: ${err.message}<br>This usually means there's a typo in your chart specification. See the javascript console for the full traceback.`));\n",
       "    }\n",
       "\n",
       "    if(typeof define === \"function\" && define.amd) {\n",
       "      requirejs.config({paths});\n",
       "      require([\"vega-embed\"], displayChart, err => showError(`Error loading script: ${err.message}`));\n",
       "    } else {\n",
       "      maybeLoadScript(\"vega\", \"5\")\n",
       "        .then(() => maybeLoadScript(\"vega-lite\", \"5.17.0\"))\n",
       "        .then(() => maybeLoadScript(\"vega-embed\", \"6\"))\n",
       "        .catch(showError)\n",
       "        .then(() => displayChart(vegaEmbed));\n",
       "    }\n",
       "  })({\"config\": {\"view\": {\"continuousWidth\": 300, \"continuousHeight\": 300}}, \"hconcat\": [{\"data\": {\"name\": \"data-d3669d997604ffb4a30a5bd60e6ebde1\"}, \"mark\": {\"type\": \"circle\"}, \"encoding\": {\"color\": {\"field\": \"topic\", \"legend\": null, \"scale\": {\"domain\": [-1, 0, 1, 2], \"range\": [\"purple\", \"orchid\", \"hotpink\", \"pink\"]}, \"type\": \"nominal\"}, \"size\": {\"value\": 100}, \"tooltip\": [{\"field\": \"x1\", \"type\": \"quantitative\"}, {\"field\": \"x2\", \"type\": \"quantitative\"}, {\"field\": \"topic\", \"type\": \"nominal\"}], \"x\": {\"field\": \"x1\", \"type\": \"quantitative\"}, \"y\": {\"field\": \"x2\", \"type\": \"quantitative\"}}, \"height\": 400, \"title\": \"GTM (means)\", \"width\": 400}, {\"data\": {\"name\": \"data-032805a21bb3fa79f7da2e2d9ee93c3d\"}, \"mark\": {\"type\": \"circle\"}, \"encoding\": {\"color\": {\"field\": \"topic\", \"legend\": null, \"scale\": {\"domain\": [-1, 0, 1, 2], \"range\": [\"purple\", \"orchid\", \"hotpink\", \"pink\"]}, \"type\": \"nominal\"}, \"size\": {\"value\": 1500}, \"tooltip\": [{\"field\": \"x1\", \"type\": \"quantitative\"}, {\"field\": \"x2\", \"type\": \"quantitative\"}, {\"field\": \"topic\", \"type\": \"nominal\"}], \"x\": {\"field\": \"x1\", \"type\": \"quantitative\"}, \"y\": {\"field\": \"x2\", \"type\": \"quantitative\"}}, \"height\": 400, \"title\": \"GTM (modes)\", \"width\": 400}], \"$schema\": \"https://vega.github.io/schema/vega-lite/v5.17.0.json\", \"datasets\": {\"data-d3669d997604ffb4a30a5bd60e6ebde1\": [{\"x1\": -0.9858729498520267, \"x2\": 0.9680666285752959, \"topic\": -1}, {\"x1\": -0.4842499193530546, \"x2\": 0.572449801557987, \"topic\": -1}, {\"x1\": 0.5518209648537886, \"x2\": -0.4481635435719322, \"topic\": 1}, {\"x1\": -0.9999905204682444, \"x2\": -9.479798078569527e-06, \"topic\": 0}, {\"x1\": 1.0, \"x2\": -1.0, \"topic\": 1}, {\"x1\": -1.0, \"x2\": -0.7563654441494511, \"topic\": 0}, {\"x1\": 0.5062395978996508, \"x2\": -0.49361077303522255, \"topic\": -1}, {\"x1\": 0.27223174462049754, \"x2\": 0.08990514678145703, \"topic\": -1}, {\"x1\": -0.9871371365050815, \"x2\": 0.974082813633383, \"topic\": -1}, {\"x1\": 8.251248233668627e-05, \"x2\": 0.49943735557851027, \"topic\": -1}, {\"x1\": -0.7935780714095079, \"x2\": 0.9999914292229851, \"topic\": -1}, {\"x1\": 0.5020999327123923, \"x2\": 0.002100113272826221, \"topic\": -1}, {\"x1\": 0.4999929338713013, \"x2\": 0.40860059036818663, \"topic\": -1}, {\"x1\": 0.9999995697240525, \"x2\": -0.27244638981293556, \"topic\": 1}, {\"x1\": -0.0005943484615088589, \"x2\": -0.2761714133242244, \"topic\": -1}, {\"x1\": 0.9968036071640547, \"x2\": -0.003201755730008279, \"topic\": 1}, {\"x1\": -0.503258177005064, \"x2\": -0.5700348407557863, \"topic\": 0}, {\"x1\": -0.46533162223387686, \"x2\": 0.4646338352820082, \"topic\": -1}, {\"x1\": 0.964295639318239, \"x2\": 0.4642949558120298, \"topic\": -1}, {\"x1\": -0.9896201691842597, \"x2\": -0.01039205689731831, \"topic\": 0}, {\"x1\": 0.5744787505287106, \"x2\": -0.35106913362851955, \"topic\": 1}, {\"x1\": 0.9856376083667595, \"x2\": -0.014362538870102493, \"topic\": 1}, {\"x1\": -0.5000187177163684, \"x2\": 0.9993763464248228, \"topic\": -1}, {\"x1\": 0.48918793100235425, \"x2\": 0.47560528707250516, \"topic\": -1}, {\"x1\": -0.00019017099991806567, \"x2\": 0.0801522322034027, \"topic\": -1}, {\"x1\": 0.7623708390295968, \"x2\": -0.23762862590267655, \"topic\": 1}, {\"x1\": 0.9928104748798336, \"x2\": 0.4928062569754667, \"topic\": -1}, {\"x1\": 1.0, \"x2\": -1.0, \"topic\": 1}, {\"x1\": 0.5, \"x2\": 1.0, \"topic\": 2}, {\"x1\": -0.8005246125056479, \"x2\": -0.09678316954657587, \"topic\": 0}, {\"x1\": 0.5045736065859778, \"x2\": -0.49512917108009646, \"topic\": 1}, {\"x1\": 0.5065566759794613, \"x2\": -0.48715070378891573, \"topic\": -1}, {\"x1\": -0.8343333260122971, \"x2\": -0.16768637276067166, \"topic\": 0}, {\"x1\": 0.0023010114497323776, \"x2\": 0.4597423919356875, \"topic\": -1}, {\"x1\": -0.994577667487152, \"x2\": -0.005425816931941629, \"topic\": 0}, {\"x1\": -1.0, \"x2\": -0.7563654441494511, \"topic\": 0}, {\"x1\": 0.49999671291711556, \"x2\": 0.4641326584072164, \"topic\": -1}, {\"x1\": -1.0, \"x2\": -0.7563654441494511, \"topic\": 0}, {\"x1\": 1.0, \"x2\": -0.4999999996752604, \"topic\": 1}, {\"x1\": -0.8720400630967488, \"x2\": 0.999768634331202, \"topic\": -1}, {\"x1\": 1.0, \"x2\": 1.0, \"topic\": -1}, {\"x1\": 0.5002119442151987, \"x2\": 0.0002165757205258231, \"topic\": -1}, {\"x1\": -0.9215378824149503, \"x2\": 0.26630185163735565, \"topic\": 0}, {\"x1\": 0.9994733428049792, \"x2\": -0.0006732151352549948, \"topic\": 1}, {\"x1\": -0.8604322323219125, \"x2\": -0.14057136945271043, \"topic\": 0}, {\"x1\": 1.0, \"x2\": -1.0, \"topic\": 1}, {\"x1\": 0.5, \"x2\": 1.0, \"topic\": 2}, {\"x1\": -0.6596407352794483, \"x2\": -0.5049641390254999, \"topic\": 0}, {\"x1\": -0.9992579191936066, \"x2\": -0.0007424843141439827, \"topic\": 0}, {\"x1\": 0.5699454639710512, \"x2\": -0.43004465601265696, \"topic\": 1}, {\"x1\": -0.5723144540761355, \"x2\": 0.921229928676727, \"topic\": -1}, {\"x1\": -0.9999999862528106, \"x2\": -0.02110230351265178, \"topic\": 0}, {\"x1\": -0.9881832039894919, \"x2\": -0.01182018330013751, \"topic\": 0}, {\"x1\": -0.9205346608567438, \"x2\": -0.08239380765178919, \"topic\": 0}, {\"x1\": 0.9974272885571396, \"x2\": -0.0025944742626820465, \"topic\": 1}, {\"x1\": 0.9999999999944861, \"x2\": -0.49981469593300804, \"topic\": 1}, {\"x1\": -5.989454637044996e-05, \"x2\": -0.18150957294095282, \"topic\": -1}, {\"x1\": 0.9988412363381228, \"x2\": 0.49883814383254593, \"topic\": -1}, {\"x1\": 0.40071859459888903, \"x2\": 0.4944302104978701, \"topic\": -1}, {\"x1\": -0.7624290256602718, \"x2\": -0.1749528694119836, \"topic\": -1}, {\"x1\": -0.5839156048103776, \"x2\": 0.1835359355315702, \"topic\": 0}, {\"x1\": 0.4971242756707301, \"x2\": 0.49999820276137047, \"topic\": -1}, {\"x1\": 0.5049349672057976, \"x2\": -0.49478696653876064, \"topic\": 1}, {\"x1\": 1.0, \"x2\": -1.0, \"topic\": 1}, {\"x1\": -0.7105619056265498, \"x2\": -0.29274938269695894, \"topic\": 0}, {\"x1\": -0.9999988030594051, \"x2\": -1.2061740935606997e-06, \"topic\": 0}, {\"x1\": 0.5000048118697059, \"x2\": 5.763532719262829e-06, \"topic\": 1}, {\"x1\": -0.5431540139516644, \"x2\": -0.7997851879761096, \"topic\": 0}, {\"x1\": -3.082857374612817e-05, \"x2\": -0.48695816125348074, \"topic\": -1}, {\"x1\": -0.9369054319085764, \"x2\": 0.4317551458831131, \"topic\": 0}, {\"x1\": 0.9999999999999999, \"x2\": -0.5000000015865722, \"topic\": 1}, {\"x1\": 0.49999974594312874, \"x2\": 0.49907089983725905, \"topic\": -1}, {\"x1\": -0.4999916896077368, \"x2\": 0.5092611065637498, \"topic\": -1}, {\"x1\": 0.9999999999948554, \"x2\": -0.49938457782102835, \"topic\": 1}, {\"x1\": 0.1476424992686479, \"x2\": 0.14374101170893608, \"topic\": -1}, {\"x1\": -0.7224573373789078, \"x2\": -0.33191950864852854, \"topic\": 0}, {\"x1\": 0.6885940676633513, \"x2\": -0.3114046199204344, \"topic\": 1}, {\"x1\": -0.5028249593625087, \"x2\": -0.6605790639401283, \"topic\": 0}, {\"x1\": -0.5864569836657886, \"x2\": -0.7327890575293792, \"topic\": 0}, {\"x1\": 0.9987454349792824, \"x2\": 0.4974925229275849, \"topic\": -1}, {\"x1\": -0.96940372245481, \"x2\": -0.03060297685876027, \"topic\": 0}, {\"x1\": 0.9997729143474089, \"x2\": -0.0003678627000781741, \"topic\": 1}, {\"x1\": 0.9999999999998153, \"x2\": -0.49997331218661295, \"topic\": 1}, {\"x1\": 2.3115663016270315e-05, \"x2\": 0.47538955252755893, \"topic\": -1}, {\"x1\": 1.0, \"x2\": -1.0, \"topic\": 1}, {\"x1\": 0.9980883713106037, \"x2\": 0.4980743423227031, \"topic\": 1}, {\"x1\": -0.01636097466800559, \"x2\": 0.027835304542897753, \"topic\": -1}, {\"x1\": -0.0033328063153469293, \"x2\": 0.3973137291551893, \"topic\": -1}, {\"x1\": 0.49999893224591785, \"x2\": 1.733617168765959e-05, \"topic\": -1}, {\"x1\": 0.9999892090450097, \"x2\": -0.07361521683759552, \"topic\": 1}, {\"x1\": -0.9006234144946887, \"x2\": 0.9987809301008861, \"topic\": -1}, {\"x1\": 1.0, \"x2\": -1.0, \"topic\": 1}, {\"x1\": 1.0, \"x2\": -1.0, \"topic\": 1}, {\"x1\": 0.9085330028208192, \"x2\": 0.317065665899281, \"topic\": 1}, {\"x1\": 0.5009158440157908, \"x2\": 0.0009160455856083029, \"topic\": -1}, {\"x1\": 0.507951613282275, \"x2\": -0.4843155002833258, \"topic\": 1}, {\"x1\": -0.5299399794247012, \"x2\": 0.0557482772226871, \"topic\": 0}, {\"x1\": -0.49999625858710306, \"x2\": 0.5171108335428877, \"topic\": -1}, {\"x1\": 0.9996781144097513, \"x2\": 0.4993626807421284, \"topic\": -1}, {\"x1\": 0.4880247484183271, \"x2\": 0.07217557382960157, \"topic\": -1}, {\"x1\": -0.999994794403213, \"x2\": 0.9991866210447504, \"topic\": 0}, {\"x1\": 0.0006072306503424421, \"x2\": -0.49920236104327653, \"topic\": -1}, {\"x1\": -0.35714030632135335, \"x2\": 0.35642238053308223, \"topic\": -1}, {\"x1\": -1.0, \"x2\": -0.7563654441494511, \"topic\": 0}, {\"x1\": -0.502243808250325, \"x2\": 0.998521695153914, \"topic\": -1}, {\"x1\": 0.9997849217860788, \"x2\": 0.499626569626336, \"topic\": -1}, {\"x1\": -0.9930489194247933, \"x2\": 0.9861012276455822, \"topic\": -1}, {\"x1\": -0.5039239507975563, \"x2\": -0.612670872198755, \"topic\": 0}, {\"x1\": 0.499999345454155, \"x2\": 0.27317304292762834, \"topic\": -1}, {\"x1\": -0.5030957768256992, \"x2\": -0.5333411948088058, \"topic\": 0}, {\"x1\": 0.9999999999999987, \"x2\": 1.0, \"topic\": -1}, {\"x1\": -1.0, \"x2\": -0.7563654441494511, \"topic\": 0}, {\"x1\": -0.5048274379641412, \"x2\": 0.00923870088856658, \"topic\": -1}, {\"x1\": -0.505116073178525, \"x2\": 0.005175872340775503, \"topic\": 0}, {\"x1\": 1.0, \"x2\": 1.0, \"topic\": 2}, {\"x1\": 1.0, \"x2\": -1.0, \"topic\": 1}, {\"x1\": 0.9576090255492845, \"x2\": -0.04239102331931889, \"topic\": 1}, {\"x1\": 0.7551293514902447, \"x2\": -0.24487003609491767, \"topic\": 1}, {\"x1\": 0.500002411742025, \"x2\": 0.0004394837842244821, \"topic\": -1}, {\"x1\": -1.0, \"x2\": -0.7563654441494511, \"topic\": 0}, {\"x1\": 0.0006075942384728188, \"x2\": -0.49912688965213237, \"topic\": -1}, {\"x1\": 9.442013401092225e-33, \"x2\": 1.0, \"topic\": 2}, {\"x1\": 0.49999523889172076, \"x2\": 0.007535069933967467, \"topic\": -1}, {\"x1\": 0.9999987561585109, \"x2\": -0.3122677721288106, \"topic\": 1}, {\"x1\": 2.3468064066439446e-05, \"x2\": -0.4996524968830743, \"topic\": -1}, {\"x1\": 0.0073601727640762804, \"x2\": -0.47155785404026596, \"topic\": -1}, {\"x1\": 0.9996904679796098, \"x2\": 0.49939114200365753, \"topic\": 1}, {\"x1\": -0.5789675332452351, \"x2\": -0.7306950419493007, \"topic\": -1}, {\"x1\": 1.0, \"x2\": -1.0, \"topic\": 1}, {\"x1\": 0.9999949324434599, \"x2\": -0.03512931051732729, \"topic\": 1}, {\"x1\": 0.6454142128315637, \"x2\": -0.354582842155125, \"topic\": 1}, {\"x1\": 0.8908904659215885, \"x2\": -0.10910950599331236, \"topic\": 1}, {\"x1\": -0.9963027509473074, \"x2\": 0.7576025715392678, \"topic\": 0}, {\"x1\": -0.5812362225457294, \"x2\": 0.03935443992363333, \"topic\": -1}, {\"x1\": 0.5001198209218297, \"x2\": 0.00012274388428438698, \"topic\": -1}, {\"x1\": 0.5050780774292348, \"x2\": -0.4903032124851176, \"topic\": 1}, {\"x1\": -0.7608707545897642, \"x2\": -0.208230550228628, \"topic\": 0}, {\"x1\": -0.4999618870195511, \"x2\": 0.8548105668217225, \"topic\": -1}, {\"x1\": 0.5, \"x2\": 1.0, \"topic\": 2}, {\"x1\": 0.002244763882099838, \"x2\": 0.3101415058313398, \"topic\": -1}, {\"x1\": -0.002594425371763783, \"x2\": -0.008965604470340335, \"topic\": -1}, {\"x1\": 0.5003826196273183, \"x2\": 0.0003827499816972889, \"topic\": 1}, {\"x1\": 0.9990305515306919, \"x2\": 0.4980677321792625, \"topic\": 1}, {\"x1\": 9.340427394338757e-27, \"x2\": 1.0, \"topic\": -1}, {\"x1\": 0.5, \"x2\": 1.0, \"topic\": 2}, {\"x1\": -0.10218147470062497, \"x2\": -0.09582037639678306, \"topic\": -1}, {\"x1\": -0.5245325157986275, \"x2\": -0.7687622192140691, \"topic\": 0}, {\"x1\": 0.17064600711974454, \"x2\": -0.3259489790046181, \"topic\": -1}, {\"x1\": 0.9999999999999999, \"x2\": -0.5000097504047785, \"topic\": 1}, {\"x1\": 0.999999999000398, \"x2\": 0.999999999998644, \"topic\": -1}, {\"x1\": -0.865652672399403, \"x2\": 0.7103070767594436, \"topic\": -1}, {\"x1\": 1.1033341874392693e-29, \"x2\": 1.0, \"topic\": 2}, {\"x1\": 0.848117488773391, \"x2\": 0.1962339668739623, \"topic\": 1}, {\"x1\": 0.4983577826123778, \"x2\": 0.03131945487721506, \"topic\": -1}, {\"x1\": 0.00015895907735502348, \"x2\": 0.48448199310326445, \"topic\": -1}, {\"x1\": 0.995732033196849, \"x2\": 0.4914658594487045, \"topic\": 1}, {\"x1\": 0.9999999863777019, \"x2\": -0.4713247843406246, \"topic\": 1}, {\"x1\": 1.0, \"x2\": -1.0, \"topic\": 1}, {\"x1\": 0.5068064530554667, \"x2\": -0.4866271187952927, \"topic\": -1}, {\"x1\": 0.5008767699495231, \"x2\": 0.0009130205722184568, \"topic\": -1}, {\"x1\": -1.0, \"x2\": -0.7563654441494511, \"topic\": 0}, {\"x1\": 0.0016713213074442594, \"x2\": 0.4974198809386007, \"topic\": -1}, {\"x1\": 4.446390289445513e-25, \"x2\": 1.0, \"topic\": -1}, {\"x1\": 0.0005087644780732667, \"x2\": -0.4987045839493479, \"topic\": -1}, {\"x1\": 0.9917841665000067, \"x2\": -0.008217213605060766, \"topic\": 1}, {\"x1\": 4.913055921862679e-08, \"x2\": 0.499994676352949, \"topic\": -1}, {\"x1\": -0.4996550544649966, \"x2\": 0.8477991950874502, \"topic\": -1}, {\"x1\": 0.9999927775653816, \"x2\": -0.028031883918810053, \"topic\": 1}, {\"x1\": -0.6565170204998207, \"x2\": -0.507036627345802, \"topic\": 0}, {\"x1\": 0.5, \"x2\": 1.0, \"topic\": 2}, {\"x1\": 5.267570151808175e-05, \"x2\": 0.4987986529825807, \"topic\": -1}, {\"x1\": 0.5010508993201536, \"x2\": 0.0010510229240685283, \"topic\": -1}, {\"x1\": 0.3678040160796942, \"x2\": 0.49813245337526635, \"topic\": -1}, {\"x1\": 0.002636759992195616, \"x2\": -0.49731258332196826, \"topic\": -1}, {\"x1\": 0.5000889253529838, \"x2\": 9.928584194021573e-05, \"topic\": -1}, {\"x1\": -1.0, \"x2\": -0.7563654441494511, \"topic\": 0}, {\"x1\": -0.0001386115163639072, \"x2\": 0.03266421319310637, \"topic\": -1}, {\"x1\": -0.5296106751284395, \"x2\": 0.030937509549656714, \"topic\": 0}, {\"x1\": 3.22126141495983e-05, \"x2\": 0.4978364482147693, \"topic\": -1}, {\"x1\": 1.0, \"x2\": -0.49999991576413366, \"topic\": 1}, {\"x1\": -0.00759318182251216, \"x2\": 0.001812645203749503, \"topic\": -1}, {\"x1\": -1.0, \"x2\": -0.7563654441494511, \"topic\": 0}, {\"x1\": -0.31575123051013393, \"x2\": 0.6411448055311474, \"topic\": -1}, {\"x1\": 5.885686184677748e-24, \"x2\": 1.0, \"topic\": -1}, {\"x1\": -0.9969224802638104, \"x2\": 0.9993019575757878, \"topic\": -1}, {\"x1\": 0.8902007403224808, \"x2\": 0.2804011116622813, \"topic\": -1}, {\"x1\": -0.5004193834266115, \"x2\": 0.41426376692844985, \"topic\": 0}, {\"x1\": 0.5, \"x2\": 1.0, \"topic\": 2}, {\"x1\": -0.9999630022508343, \"x2\": -3.699903331227499e-05, \"topic\": 0}, {\"x1\": 0.499715012175335, \"x2\": 0.4976894909405438, \"topic\": -1}, {\"x1\": 0.9999999972252153, \"x2\": -0.489211939861548, \"topic\": 1}, {\"x1\": 0.6405107471440864, \"x2\": -0.3594867121308165, \"topic\": 1}, {\"x1\": 0.0006649889951677256, \"x2\": 0.49269348636699534, \"topic\": -1}, {\"x1\": -0.7957957635388324, \"x2\": -0.2111341889419693, \"topic\": 0}, {\"x1\": -4.343811755965163e-06, \"x2\": -0.4941240149662362, \"topic\": -1}, {\"x1\": 0.9397713196195581, \"x2\": -0.060228924458696424, \"topic\": 1}, {\"x1\": -0.9747275610160888, \"x2\": 0.429858550550334, \"topic\": 0}, {\"x1\": 0.060418312382206726, \"x2\": 0.4946398182639893, \"topic\": -1}, {\"x1\": -0.8380791361217701, \"x2\": -0.1626476311361668, \"topic\": 0}, {\"x1\": 0.4833064871669764, \"x2\": 0.49997829934229177, \"topic\": -1}, {\"x1\": 0.5000490239949313, \"x2\": 0.001929894132393057, \"topic\": -1}, {\"x1\": 0.49997904634910967, \"x2\": 0.49999554010512476, \"topic\": -1}, {\"x1\": 0.5, \"x2\": 1.0, \"topic\": 2}, {\"x1\": -1.584029171291579e-05, \"x2\": 0.04555409234273158, \"topic\": -1}, {\"x1\": 0.5004578279038471, \"x2\": 0.000458756615993409, \"topic\": -1}, {\"x1\": -0.5038607936657019, \"x2\": 0.003984191540594512, \"topic\": 0}, {\"x1\": 1.0, \"x2\": -1.0, \"topic\": 1}, {\"x1\": -0.7527505904843598, \"x2\": -0.2342403669740924, \"topic\": 0}, {\"x1\": -0.9999999990197525, \"x2\": -0.6054341506459208, \"topic\": 0}, {\"x1\": 0.000317439275247703, \"x2\": 0.4760042228266275, \"topic\": -1}, {\"x1\": -1.0, \"x2\": -0.7563654441494511, \"topic\": 0}, {\"x1\": 0.999464207736597, \"x2\": -0.000575413273337509, \"topic\": 1}, {\"x1\": -0.9217219615710018, \"x2\": -0.07863422458250754, \"topic\": 0}, {\"x1\": -0.5058674329651179, \"x2\": -0.522934837135399, \"topic\": 0}, {\"x1\": -0.5018809380268469, \"x2\": 0.3120772098635011, \"topic\": -1}, {\"x1\": -0.4999956868537555, \"x2\": 0.49973593608078176, \"topic\": 0}, {\"x1\": -0.49999489894173343, \"x2\": 0.5075241518284432, \"topic\": -1}, {\"x1\": 1.0, \"x2\": -1.0, \"topic\": 1}, {\"x1\": 0.9999999999997645, \"x2\": -0.49996696715984856, \"topic\": 1}, {\"x1\": -1.0, \"x2\": -0.7563654441494511, \"topic\": 0}, {\"x1\": 0.0261840500368065, \"x2\": -0.44535949050621393, \"topic\": -1}, {\"x1\": 0.9998020136873333, \"x2\": 0.4997504546693054, \"topic\": -1}, {\"x1\": 0.0018346908440346429, \"x2\": -0.21700292282653488, \"topic\": -1}, {\"x1\": -0.9996732740069726, \"x2\": -0.00032677008719146823, \"topic\": 0}, {\"x1\": 0.03352249618047154, \"x2\": -0.3385879205744073, \"topic\": -1}, {\"x1\": 0.998762925181943, \"x2\": 0.49753164924135584, \"topic\": 1}, {\"x1\": -0.9817605688776059, \"x2\": 0.6714216856416032, \"topic\": 0}, {\"x1\": 0.4999895830962893, \"x2\": 0.4847147563802081, \"topic\": -1}, {\"x1\": 0.5, \"x2\": 1.0, \"topic\": 2}, {\"x1\": -0.0005306764400214185, \"x2\": -0.4906378828952462, \"topic\": -1}, {\"x1\": -1.0, \"x2\": -0.7563654441494511, \"topic\": 0}, {\"x1\": -2.871551889017217e-06, \"x2\": -0.21255417386911216, \"topic\": -1}, {\"x1\": -0.27330804902594796, \"x2\": 0.163934170512491, \"topic\": -1}, {\"x1\": 0.9950512661233156, \"x2\": 0.49504955817494456, \"topic\": 1}, {\"x1\": -0.99939584930646, \"x2\": -0.0006042600266976386, \"topic\": 0}, {\"x1\": -0.9899542398546305, \"x2\": -0.010072167557357438, \"topic\": 0}, {\"x1\": 0.00018206125862811162, \"x2\": 0.49123946760640724, \"topic\": -1}, {\"x1\": 0.5014754325944643, \"x2\": 0.0014759251970865477, \"topic\": -1}, {\"x1\": -0.0045148249606642024, \"x2\": -0.44748018730186506, \"topic\": -1}, {\"x1\": -0.0953925744453825, \"x2\": -0.1605427724755153, \"topic\": -1}, {\"x1\": -0.997619765316892, \"x2\": 0.9998041268266541, \"topic\": -1}, {\"x1\": -0.5008301391136329, \"x2\": 0.8576403329078862, \"topic\": -1}, {\"x1\": 0.9999999999855511, \"x2\": -0.49951882960460264, \"topic\": 1}, {\"x1\": -0.4992675617021346, \"x2\": 0.7576730484139964, \"topic\": -1}, {\"x1\": -0.5066951698328154, \"x2\": 0.8444220421567191, \"topic\": -1}, {\"x1\": 0.0016959258799100338, \"x2\": 0.4974034517950944, \"topic\": -1}, {\"x1\": -0.50008965925578, \"x2\": 0.9881800413592402, \"topic\": -1}, {\"x1\": 0.5000041111348524, \"x2\": 4.2668312112418484e-06, \"topic\": 1}, {\"x1\": 1.0, \"x2\": -1.0, \"topic\": 1}, {\"x1\": -1.0, \"x2\": -0.7563654441494511, \"topic\": 0}, {\"x1\": 0.5034441502846774, \"x2\": -0.49608418101972224, \"topic\": 1}, {\"x1\": -0.8459724964513711, \"x2\": 0.33225833361154633, \"topic\": 0}, {\"x1\": -0.5893998986967182, \"x2\": -0.5156023972274604, \"topic\": 0}, {\"x1\": 0.999999999974049, \"x2\": -0.4992453438166288, \"topic\": 1}, {\"x1\": -0.9680276557317856, \"x2\": 0.4434772426931168, \"topic\": 0}, {\"x1\": -0.5065889699808963, \"x2\": -0.5644515715496512, \"topic\": 0}, {\"x1\": 0.4999775584034255, \"x2\": 0.4997023281883218, \"topic\": -1}, {\"x1\": 0.5635737596197985, \"x2\": -0.37288107244201507, \"topic\": 1}, {\"x1\": 0.5307103176295581, \"x2\": -0.43866053021293694, \"topic\": 1}, {\"x1\": 0.9999999999891027, \"x2\": -0.4993963466672573, \"topic\": 1}, {\"x1\": -0.6792098641036994, \"x2\": 0.17679312681133186, \"topic\": 0}, {\"x1\": 0.5747684051606212, \"x2\": -0.35048665016440744, \"topic\": 1}, {\"x1\": -0.4997794857474317, \"x2\": 0.57582474929126, \"topic\": -1}, {\"x1\": -0.5002352729832338, \"x2\": 0.00041380671526265733, \"topic\": 0}, {\"x1\": 0.5733830656234171, \"x2\": -0.4266080618514543, \"topic\": 1}, {\"x1\": 0.5055742709894319, \"x2\": -0.49407357544461195, \"topic\": 1}, {\"x1\": 1.0, \"x2\": -1.0, \"topic\": 1}, {\"x1\": 0.5000015364487144, \"x2\": 0.0033933655020970876, \"topic\": -1}, {\"x1\": 0.0004112430037880926, \"x2\": 0.4242074461879108, \"topic\": -1}, {\"x1\": 0.3184184153533409, \"x2\": -0.09126517550092833, \"topic\": -1}, {\"x1\": -1.0, \"x2\": -0.7563654441494511, \"topic\": 0}, {\"x1\": 1.3832613562692904e-05, \"x2\": 0.0787188044897263, \"topic\": -1}, {\"x1\": 1.0, \"x2\": -1.0, \"topic\": 1}, {\"x1\": -0.00640788241184666, \"x2\": -0.04067607038440611, \"topic\": -1}, {\"x1\": -0.00024571319981581477, \"x2\": -0.4988707959566598, \"topic\": 1}, {\"x1\": 0.9838504467829472, \"x2\": 0.46770096206302214, \"topic\": -1}, {\"x1\": -0.5039555938866326, \"x2\": -0.7156449325441117, \"topic\": 0}, {\"x1\": -0.8333290405577924, \"x2\": 0.000809737349778241, \"topic\": 0}, {\"x1\": -1.0, \"x2\": -0.7563654441494511, \"topic\": 0}, {\"x1\": 3.625858579777122e-06, \"x2\": -0.4999449246383402, \"topic\": 1}, {\"x1\": 0.5118974843930263, \"x2\": -0.47644704730686027, \"topic\": 1}, {\"x1\": -3.50683925207012e-05, \"x2\": -0.35240584639400735, \"topic\": 1}, {\"x1\": -0.5629291256075873, \"x2\": 0.12339109044478473, \"topic\": -1}, {\"x1\": -0.5021534532742479, \"x2\": 0.004093867070450049, \"topic\": -1}, {\"x1\": 0.5030201793897838, \"x2\": -0.4963115568905841, \"topic\": 1}, {\"x1\": 1.0, \"x2\": -1.0, \"topic\": 1}, {\"x1\": -0.5000155125979927, \"x2\": 3.308696817087354e-05, \"topic\": 0}, {\"x1\": -1.0, \"x2\": -0.7563654441494511, \"topic\": 0}, {\"x1\": -0.5042092461058708, \"x2\": 0.00850364727061445, \"topic\": -1}, {\"x1\": -0.7646246703366683, \"x2\": 0.5503974942328829, \"topic\": -1}, {\"x1\": 7.273492438533389e-07, \"x2\": -0.49590883193296403, \"topic\": -1}, {\"x1\": -0.7013854591310903, \"x2\": -0.3935215069982317, \"topic\": 0}, {\"x1\": -1.0, \"x2\": -0.7563654441494511, \"topic\": 0}, {\"x1\": -0.5204365563915557, \"x2\": 0.9756497133972337, \"topic\": -1}, {\"x1\": 1.0, \"x2\": -0.4999999976369658, \"topic\": 1}, {\"x1\": 0.9999755920789336, \"x2\": -0.022948686987014317, \"topic\": 1}, {\"x1\": 1.0, \"x2\": -0.961229913677785, \"topic\": 1}, {\"x1\": 0.8726396751584425, \"x2\": -0.12736025536876605, \"topic\": 1}, {\"x1\": 1.0, \"x2\": -1.0, \"topic\": 1}, {\"x1\": 0.00033669601366785395, \"x2\": -0.49949041817771567, \"topic\": -1}, {\"x1\": -0.00522577939648792, \"x2\": 0.47775660493250216, \"topic\": -1}, {\"x1\": 0.9975813550320498, \"x2\": 0.4975747935197764, \"topic\": 1}, {\"x1\": 1.0, \"x2\": 1.0, \"topic\": -1}, {\"x1\": -0.5011428196201879, \"x2\": 0.93389037867469, \"topic\": -1}, {\"x1\": -0.6948981861329734, \"x2\": 0.5538757596300157, \"topic\": -1}, {\"x1\": 0.6045186046458291, \"x2\": -0.3954763599178581, \"topic\": 1}, {\"x1\": -0.9767658191396682, \"x2\": 0.4305654324432726, \"topic\": 0}, {\"x1\": 0.03956883516279639, \"x2\": 0.2098500203351, \"topic\": -1}, {\"x1\": 0.5, \"x2\": 1.0, \"topic\": 2}, {\"x1\": 1.0, \"x2\": -1.0, \"topic\": 1}, {\"x1\": 1.0, \"x2\": -0.49999997433484467, \"topic\": 1}, {\"x1\": 0.5210810693496187, \"x2\": 0.021081069767083526, \"topic\": 1}, {\"x1\": -0.5219876021479657, \"x2\": -0.9034018391679449, \"topic\": 0}, {\"x1\": 0.9996451853289322, \"x2\": 0.49930462077696136, \"topic\": -1}, {\"x1\": -1.0, \"x2\": -0.7563654441494511, \"topic\": 0}, {\"x1\": 0.999999999993236, \"x2\": -0.49975321224820013, \"topic\": 1}, {\"x1\": -0.0030593956432325925, \"x2\": -0.42217874597204186, \"topic\": -1}, {\"x1\": 0.9999993606931663, \"x2\": -0.3313670990024017, \"topic\": 1}, {\"x1\": 1.1100233034472597e-07, \"x2\": 0.49847258123221627, \"topic\": -1}, {\"x1\": -0.9466853198493815, \"x2\": 0.34305280848569614, \"topic\": 0}, {\"x1\": -1.0, \"x2\": -0.7563654441494511, \"topic\": 0}, {\"x1\": 5.063213120464891e-18, \"x2\": 1.0, \"topic\": 2}, {\"x1\": 0.0001644157333985136, \"x2\": 0.25110784939895103, \"topic\": -1}, {\"x1\": 0.0002144476989768515, \"x2\": 0.4979292320003058, \"topic\": -1}, {\"x1\": 0.9996362990734401, \"x2\": -0.0004755267121519108, \"topic\": 1}, {\"x1\": 0.999193038653927, \"x2\": -0.0008232735114177438, \"topic\": 1}, {\"x1\": 0.4998808299505416, \"x2\": 0.49993603808642306, \"topic\": -1}, {\"x1\": 0.11030297706647163, \"x2\": -0.1406854435329234, \"topic\": -1}, {\"x1\": -0.9990432880014486, \"x2\": 0.987028188529793, \"topic\": 0}, {\"x1\": -1.0, \"x2\": -0.7563654441494511, \"topic\": 0}, {\"x1\": -0.006901655522502643, \"x2\": -0.09336531472436393, \"topic\": -1}, {\"x1\": 0.500004934139663, \"x2\": 0.00017793101199494794, \"topic\": -1}, {\"x1\": -0.538644220318938, \"x2\": -0.47749416107331444, \"topic\": 0}, {\"x1\": -0.5060258048060648, \"x2\": 0.7256362811115522, \"topic\": -1}, {\"x1\": 0.9997481880855092, \"x2\": 0.499732914378251, \"topic\": -1}, {\"x1\": 0.5, \"x2\": 1.0, \"topic\": 2}, {\"x1\": 1.8938459001901522e-06, \"x2\": -0.49993168996608806, \"topic\": -1}, {\"x1\": -1.0, \"x2\": -0.7563654441494511, \"topic\": 0}, {\"x1\": -0.0010115867587064274, \"x2\": 0.009533906220381796, \"topic\": -1}, {\"x1\": -0.8816615021314703, \"x2\": 0.7639087245175833, \"topic\": -1}, {\"x1\": -0.49989312024580035, \"x2\": 0.9229351598315257, \"topic\": -1}, {\"x1\": -0.41150037841477305, \"x2\": 0.42130279221286504, \"topic\": -1}, {\"x1\": -0.49951854801324996, \"x2\": 0.6973945681332692, \"topic\": -1}, {\"x1\": -0.6786556187481437, \"x2\": -0.45834150312290667, \"topic\": 0}, {\"x1\": 0.5, \"x2\": 1.0, \"topic\": 2}, {\"x1\": 0.6929765181296687, \"x2\": -0.30702220978617567, \"topic\": 1}, {\"x1\": 0.6573792542446191, \"x2\": -0.34261845216540815, \"topic\": 1}, {\"x1\": 0.99930865543514, \"x2\": 0.4986400469666561, \"topic\": 1}, {\"x1\": -0.4996677608766706, \"x2\": 0.9958800813762417, \"topic\": -1}, {\"x1\": -0.5544638109139142, \"x2\": -0.4560614247651395, \"topic\": 0}, {\"x1\": 0.5037146350577938, \"x2\": 0.003714636613385954, \"topic\": 1}, {\"x1\": 0.9852677701901095, \"x2\": -0.014733834629605006, \"topic\": 1}, {\"x1\": -0.2562792912097232, \"x2\": 0.26411260700944017, \"topic\": -1}, {\"x1\": 0.0053374628695959285, \"x2\": 0.2703004748096304, \"topic\": -1}, {\"x1\": -0.7522571122029696, \"x2\": 0.9999395118168993, \"topic\": -1}, {\"x1\": 0.9999999999997738, \"x2\": -0.499953412266816, \"topic\": 1}, {\"x1\": -0.5123744882592453, \"x2\": -0.5964135270350128, \"topic\": 0}, {\"x1\": 0.49999997296545295, \"x2\": 0.4899278966228287, \"topic\": -1}, {\"x1\": 0.5053965979537568, \"x2\": -0.49440288993659504, \"topic\": 1}, {\"x1\": -0.49997894592708575, \"x2\": 0.5291071225003812, \"topic\": -1}, {\"x1\": 0.5901615062127821, \"x2\": 0.09016150776837525, \"topic\": 1}, {\"x1\": 1.0, \"x2\": -1.0, \"topic\": 1}, {\"x1\": 0.4964216215952064, \"x2\": 0.036670841195762194, \"topic\": -1}, {\"x1\": 0.827662636720027, \"x2\": 0.1553242441725986, \"topic\": -1}, {\"x1\": -0.5156058486566583, \"x2\": -0.8525375657405319, \"topic\": 0}, {\"x1\": -1.0, \"x2\": -0.7563654441494511, \"topic\": 0}, {\"x1\": -0.0008147326427915354, \"x2\": 0.005385798979412885, \"topic\": -1}, {\"x1\": -0.5242782280701075, \"x2\": -0.8688250316711289, \"topic\": 0}, {\"x1\": -4.406069187938427e-05, \"x2\": -0.4979411601036964, \"topic\": -1}, {\"x1\": -1.0, \"x2\": -0.7563654441494511, \"topic\": 0}, {\"x1\": -0.5746876022386488, \"x2\": -0.4262518904802581, \"topic\": 0}, {\"x1\": -0.03280956645935024, \"x2\": 0.00023658219884956476, \"topic\": -1}, {\"x1\": 0.5, \"x2\": 1.0, \"topic\": 2}, {\"x1\": -0.9090078989400211, \"x2\": 0.5580580285629338, \"topic\": 0}, {\"x1\": 1.1402097321024019e-05, \"x2\": -0.46514284540469053, \"topic\": -1}, {\"x1\": -1.0, \"x2\": -0.7563654441494511, \"topic\": 0}, {\"x1\": -0.9131572981677663, \"x2\": 0.9998921846793589, \"topic\": -1}, {\"x1\": -0.49934257383694314, \"x2\": 0.514541646321891, \"topic\": -1}, {\"x1\": -0.6606282603301048, \"x2\": -0.5118615566364798, \"topic\": 0}, {\"x1\": -1.0, \"x2\": -0.7563654441494511, \"topic\": 0}, {\"x1\": -1.0, \"x2\": -0.7563654441494511, \"topic\": 0}, {\"x1\": 0.49970237135928974, \"x2\": 0.4065826698864618, \"topic\": -1}, {\"x1\": -1.0, \"x2\": -0.7563654441494511, \"topic\": 0}, {\"x1\": -0.9974872323942003, \"x2\": -0.002522784493329028, \"topic\": 0}, {\"x1\": -0.9003306695678734, \"x2\": 0.2012130425175005, \"topic\": 0}, {\"x1\": 0.0003606484480278791, \"x2\": 0.47634129015388166, \"topic\": -1}, {\"x1\": 0.5000202559761452, \"x2\": 2.4911472217803708e-05, \"topic\": -1}, {\"x1\": -0.5040936237689496, \"x2\": -0.6580929813993943, \"topic\": 0}, {\"x1\": -1.0, \"x2\": -0.7563654441494511, \"topic\": 0}, {\"x1\": -1.0, \"x2\": -0.7563654441494511, \"topic\": 0}, {\"x1\": 0.9682111506241499, \"x2\": 0.436422312666901, \"topic\": -1}, {\"x1\": -0.6519901900752462, \"x2\": -0.35146420564077424, \"topic\": 0}, {\"x1\": 1.0, \"x2\": -1.0, \"topic\": 1}, {\"x1\": 0.9996567482936762, \"x2\": 0.4995004161880617, \"topic\": -1}, {\"x1\": -0.5163669366037323, \"x2\": 0.019558773227088735, \"topic\": -1}, {\"x1\": 0.4998911678387778, \"x2\": 0.4999998773187855, \"topic\": -1}, {\"x1\": 0.8357361317235148, \"x2\": 0.17147115091271917, \"topic\": 1}, {\"x1\": -1.0, \"x2\": -0.7563654441494511, \"topic\": 0}, {\"x1\": -0.9997008962024125, \"x2\": 0.9415966753073077, \"topic\": 0}, {\"x1\": -1.0, \"x2\": -0.7563654441494511, \"topic\": 0}, {\"x1\": -0.5666277251923698, \"x2\": -0.7954926963013281, \"topic\": 0}, {\"x1\": 4.609381364624448e-05, \"x2\": -0.4674719488167103, \"topic\": -1}, {\"x1\": -1.0, \"x2\": -0.7563654441494511, \"topic\": 0}, {\"x1\": -1.0, \"x2\": -0.7563654441494511, \"topic\": 0}, {\"x1\": 0.9999985425922024, \"x2\": -0.26277300320739994, \"topic\": 1}, {\"x1\": 1.0, \"x2\": -1.0, \"topic\": 1}, {\"x1\": -0.5038936841079631, \"x2\": 0.007673700564236061, \"topic\": 0}, {\"x1\": 0.49927767738847845, \"x2\": 0.22353997995686617, \"topic\": -1}, {\"x1\": 0.49994065625648815, \"x2\": -2.5220221397130002e-05, \"topic\": 1}, {\"x1\": 1.0, \"x2\": -1.0, \"topic\": 1}, {\"x1\": -0.3236983927153706, \"x2\": 0.3468252177655943, \"topic\": -1}, {\"x1\": -0.50003735286108, \"x2\": 0.004438102476656707, \"topic\": 0}, {\"x1\": 0.9995449049664152, \"x2\": 0.499531435902187, \"topic\": -1}, {\"x1\": -0.4995482924188194, \"x2\": 0.5013429098978288, \"topic\": -1}, {\"x1\": -0.7465530747048589, \"x2\": -0.25717523882393023, \"topic\": 0}, {\"x1\": -0.9335764111449466, \"x2\": 0.8950162137270687, \"topic\": -1}, {\"x1\": -0.535903716118013, \"x2\": 0.06983610812632875, \"topic\": 0}, {\"x1\": 0.5032788914505425, \"x2\": -0.496177771870423, \"topic\": 1}, {\"x1\": 0.8744344874470056, \"x2\": 0.2488683815486117, \"topic\": 1}, {\"x1\": -0.689704781307264, \"x2\": 0.42837038434001895, \"topic\": -1}, {\"x1\": 0.5027344271823211, \"x2\": -0.49612705497703335, \"topic\": 1}, {\"x1\": -0.9605961194633031, \"x2\": 0.38619578987827463, \"topic\": 0}, {\"x1\": -0.9840981566177119, \"x2\": 0.9803310725234877, \"topic\": -1}, {\"x1\": 0.00045278370364738434, \"x2\": 0.36480272825649196, \"topic\": -1}, {\"x1\": -0.4857807777108194, \"x2\": 0.47387504289785215, \"topic\": -1}, {\"x1\": -0.9547351155528969, \"x2\": -0.04528946623328151, \"topic\": 0}, {\"x1\": 0.21317088720006602, \"x2\": -0.09112073794242743, \"topic\": -1}, {\"x1\": -0.4998484908647703, \"x2\": 0.8986667497599932, \"topic\": -1}, {\"x1\": 1.0, \"x2\": -0.4999998943831205, \"topic\": 1}, {\"x1\": -3.654514565178208e-05, \"x2\": -0.49984211885654806, \"topic\": 1}, {\"x1\": -0.5012645255055994, \"x2\": -0.5618982475758271, \"topic\": 0}, {\"x1\": -0.5440340618113054, \"x2\": -0.4659457872013208, \"topic\": 0}, {\"x1\": -0.5000040766177176, \"x2\": 0.5243381038508734, \"topic\": -1}, {\"x1\": 0.948818854364995, \"x2\": 0.39763767532036937, \"topic\": 1}, {\"x1\": -0.502342236557851, \"x2\": -0.5037907271167321, \"topic\": 0}, {\"x1\": -0.5015257755816652, \"x2\": -0.5410296264913774, \"topic\": 0}, {\"x1\": -0.49217665339299754, \"x2\": 0.9772035943958853, \"topic\": -1}, {\"x1\": 0.00011047271926542849, \"x2\": -0.49985348214872116, \"topic\": -1}, {\"x1\": -0.9999991376441916, \"x2\": -9.53350926580487e-07, \"topic\": 0}, {\"x1\": 0.996040428599995, \"x2\": -0.003983816862464197, \"topic\": 1}, {\"x1\": 0.49999116120861437, \"x2\": 0.4998131571989238, \"topic\": -1}, {\"x1\": -1.0, \"x2\": -0.7563654441494511, \"topic\": 0}, {\"x1\": 1.0000000000000002, \"x2\": -0.49999957377998483, \"topic\": 1}, {\"x1\": 0.9999691237058828, \"x2\": -0.003249796887664153, \"topic\": 1}, {\"x1\": -0.4999977628483277, \"x2\": 0.49983663639031567, \"topic\": 0}, {\"x1\": -0.5243480072013919, \"x2\": -0.8965192605343264, \"topic\": 0}, {\"x1\": 0.4997946959888435, \"x2\": 0.49988322912389005, \"topic\": -1}, {\"x1\": -0.9768847743272152, \"x2\": -0.023206587447648346, \"topic\": 0}, {\"x1\": -1.0, \"x2\": -0.7563654441494511, \"topic\": 0}, {\"x1\": -0.5086801859432075, \"x2\": 0.10363981082279689, \"topic\": -1}, {\"x1\": -0.4999827069240985, \"x2\": 0.9971249800481619, \"topic\": -1}, {\"x1\": 0.8383825897860049, \"x2\": 0.17676375182516063, \"topic\": 1}, {\"x1\": 0.9729149691573721, \"x2\": -0.02709156979397585, \"topic\": 1}, {\"x1\": 0.5000005424955761, \"x2\": 0.015678229710014275, \"topic\": -1}, {\"x1\": -0.9290651882225187, \"x2\": 0.28839890263448076, \"topic\": 0}, {\"x1\": 0.5, \"x2\": 1.0, \"topic\": 2}, {\"x1\": -0.9733824951963265, \"x2\": 0.4205308347300444, \"topic\": 0}, {\"x1\": 0.002592885896580088, \"x2\": -0.4746657385726815, \"topic\": -1}, {\"x1\": 1.0, \"x2\": -1.0, \"topic\": 1}, {\"x1\": -0.7008794987676688, \"x2\": -0.3860834804744311, \"topic\": 0}, {\"x1\": -0.500649812472904, \"x2\": -0.522197004455766, \"topic\": 0}, {\"x1\": -0.998514089747605, \"x2\": -0.0014860860888259867, \"topic\": 0}, {\"x1\": -0.5046874928431049, \"x2\": -0.6988131295216486, \"topic\": 0}, {\"x1\": -1.0, \"x2\": -0.7563654441494511, \"topic\": 0}, {\"x1\": 0.4979302167692424, \"x2\": 0.49999975520512974, \"topic\": -1}, {\"x1\": -1.0, \"x2\": -0.7563654441494511, \"topic\": 0}, {\"x1\": -1.0, \"x2\": -0.7563654441494511, \"topic\": 0}, {\"x1\": -0.5101647346083914, \"x2\": -0.7267785061386491, \"topic\": 0}, {\"x1\": -0.004020372952980135, \"x2\": 0.01568777435525763, \"topic\": -1}, {\"x1\": 0.5000070367902082, \"x2\": 8.788094056809958e-06, \"topic\": -1}, {\"x1\": -0.5066029229216535, \"x2\": 0.9999813654926103, \"topic\": -1}, {\"x1\": -0.9999777968535488, \"x2\": -2.2203396231173595e-05, \"topic\": 0}, {\"x1\": -1.0, \"x2\": -0.7563654441494511, \"topic\": 0}, {\"x1\": -1.0, \"x2\": -0.7563654441494511, \"topic\": 0}, {\"x1\": 0.9212564185044493, \"x2\": -0.07874365645164962, \"topic\": 1}, {\"x1\": 0.9984330146488575, \"x2\": -0.001597756797335471, \"topic\": 1}, {\"x1\": -0.9999782905243433, \"x2\": 0.9998180412493318, \"topic\": 0}, {\"x1\": -0.9986080611830975, \"x2\": 0.9996201806915719, \"topic\": -1}, {\"x1\": -1.0, \"x2\": -0.7563654441494511, \"topic\": 0}, {\"x1\": 1.0, \"x2\": -1.0, \"topic\": 1}, {\"x1\": -1.0, \"x2\": -0.7563654441494511, \"topic\": 0}, {\"x1\": 0.4923113242456721, \"x2\": 0.01960022768340002, \"topic\": -1}, {\"x1\": -1.0, \"x2\": -0.7563654441494511, \"topic\": 0}, {\"x1\": -0.500368951226298, \"x2\": 0.00048603206303959645, \"topic\": 0}, {\"x1\": 0.4999995150501428, \"x2\": 0.03890946511662821, \"topic\": -1}, {\"x1\": -0.5000003665761169, \"x2\": 0.4962405082225484, \"topic\": 0}, {\"x1\": -0.7529669195878481, \"x2\": -0.2400095326192662, \"topic\": 0}, {\"x1\": 0.5142326034722983, \"x2\": -0.4716697653045901, \"topic\": 1}, {\"x1\": 0.5, \"x2\": 1.0, \"topic\": 2}, {\"x1\": 1.0, \"x2\": -1.0, \"topic\": 1}, {\"x1\": -0.5003990308344317, \"x2\": -0.5078613290224415, \"topic\": 0}, {\"x1\": 1.0, \"x2\": -1.0, \"topic\": 1}, {\"x1\": 0.2561215119848801, \"x2\": 0.49015308350765113, \"topic\": -1}, {\"x1\": 1.0, \"x2\": -1.0, \"topic\": 1}, {\"x1\": 0.5527610050299259, \"x2\": -0.4472266924588013, \"topic\": 1}, {\"x1\": 1.0, \"x2\": -1.0, \"topic\": 1}, {\"x1\": 6.560321047887453e-07, \"x2\": -0.49997948468496306, \"topic\": 0}, {\"x1\": 0.5000116017183921, \"x2\": 0.019566527577268625, \"topic\": -1}, {\"x1\": 1.0, \"x2\": -1.0, \"topic\": 1}, {\"x1\": -1.0, \"x2\": -0.7563654441494511, \"topic\": 0}, {\"x1\": 0.6771049606383932, \"x2\": -0.1457962024982711, \"topic\": 1}, {\"x1\": 0.9997548474511689, \"x2\": 0.49957984210644774, \"topic\": 1}, {\"x1\": -1.0, \"x2\": -0.7563654441494511, \"topic\": 0}, {\"x1\": -1.0, \"x2\": -0.7563654441494511, \"topic\": 0}, {\"x1\": -0.5517359662935082, \"x2\": -0.6863137779123438, \"topic\": 0}, {\"x1\": 0.9932271829047421, \"x2\": -0.0067968298818375395, \"topic\": 1}, {\"x1\": -0.9999650452710546, \"x2\": -3.495535328912481e-05, \"topic\": 0}, {\"x1\": 0.9071554073596068, \"x2\": 0.4071546974539738, \"topic\": -1}, {\"x1\": 0.996619379436416, \"x2\": 0.49661789908541604, \"topic\": -1}, {\"x1\": -0.5007714737854352, \"x2\": 0.9142718664280507, \"topic\": -1}, {\"x1\": 4.84718075106532e-05, \"x2\": -0.4979367722789953, \"topic\": -1}, {\"x1\": 0.9999999999387639, \"x2\": -0.49822178353083196, \"topic\": 1}, {\"x1\": -0.0013353734095431797, \"x2\": 0.4277574373007733, \"topic\": -1}, {\"x1\": 1.0, \"x2\": -0.5000000009672376, \"topic\": 1}, {\"x1\": 0.5, \"x2\": 1.0, \"topic\": 2}, {\"x1\": -1.0, \"x2\": -0.7563654441494511, \"topic\": 0}, {\"x1\": -0.5003672128067366, \"x2\": 0.9994776456630332, \"topic\": -1}, {\"x1\": 0.0002276106496524976, \"x2\": 0.4993816703746197, \"topic\": -1}, {\"x1\": 0.3142474922296929, \"x2\": 0.49999842507775705, \"topic\": -1}, {\"x1\": 1.0, \"x2\": -1.0, \"topic\": 1}, {\"x1\": -0.4993750594170744, \"x2\": 0.5119503948122193, \"topic\": -1}, {\"x1\": -0.899872319714248, \"x2\": 0.20092290450537903, \"topic\": 0}, {\"x1\": -1.0, \"x2\": -0.7563654441494511, \"topic\": 0}, {\"x1\": -1.0, \"x2\": -0.7563654441494511, \"topic\": 0}, {\"x1\": 0.5220612582273613, \"x2\": 0.022090239385061165, \"topic\": -1}, {\"x1\": 0.9969689960289437, \"x2\": 0.4939387678043282, \"topic\": -1}, {\"x1\": -0.9999928139940653, \"x2\": -7.186198902402723e-06, \"topic\": 0}, {\"x1\": -1.0, \"x2\": -0.7563654441494511, \"topic\": 0}, {\"x1\": -0.9445867343797544, \"x2\": 0.723710490493414, \"topic\": 0}, {\"x1\": 0.9999999890019816, \"x2\": -0.4800357087457172, \"topic\": 1}, {\"x1\": 0.9999999999999359, \"x2\": -0.49998659270931606, \"topic\": 1}, {\"x1\": 0.5, \"x2\": 1.0, \"topic\": 2}, {\"x1\": -0.5170569183013282, \"x2\": -0.8562135029031349, \"topic\": 0}, {\"x1\": 0.6118777931537783, \"x2\": -0.2762596606055701, \"topic\": 1}, {\"x1\": 3.8706442815908795e-17, \"x2\": 1.0, \"topic\": -1}, {\"x1\": -0.0811508794340395, \"x2\": 0.07967585650942725, \"topic\": -1}, {\"x1\": -0.07955386805565857, \"x2\": -0.05800354618511457, \"topic\": -1}, {\"x1\": -1.0, \"x2\": -0.7563654441494511, \"topic\": 0}, {\"x1\": 0.5007778242835861, \"x2\": 0.0007784529582501504, \"topic\": -1}, {\"x1\": 0.5, \"x2\": 1.0, \"topic\": 2}, {\"x1\": 2.0519246236429577e-05, \"x2\": 0.49998716820125455, \"topic\": -1}, {\"x1\": -0.5011325071614514, \"x2\": -0.530713784222457, \"topic\": 0}, {\"x1\": 0.5000071519340442, \"x2\": 0.0006490860177061431, \"topic\": -1}, {\"x1\": 0.6928651279894086, \"x2\": -0.11427570869247117, \"topic\": 1}, {\"x1\": 0.5044745740229398, \"x2\": -0.4951505251963157, \"topic\": 1}, {\"x1\": 0.5107574390640661, \"x2\": 0.010757495873340961, \"topic\": 1}, {\"x1\": -0.9955436174648702, \"x2\": -0.004463306070103334, \"topic\": 0}, {\"x1\": -0.505445350495173, \"x2\": 0.010931631976404893, \"topic\": -1}, {\"x1\": 0.5960012825990118, \"x2\": -0.30801571161883406, \"topic\": 1}, {\"x1\": -0.5004128213063522, \"x2\": 0.0029373381953085036, \"topic\": 0}, {\"x1\": -0.5086770416695434, \"x2\": 0.9820641455567709, \"topic\": -1}, {\"x1\": 1.0, \"x2\": -1.0, \"topic\": 1}, {\"x1\": 0.10041028611341421, \"x2\": 0.4721656088229813, \"topic\": -1}, {\"x1\": 0.9997627141889409, \"x2\": 0.49953083236485984, \"topic\": -1}, {\"x1\": 0.9995372078792918, \"x2\": 0.4995199991328433, \"topic\": 1}, {\"x1\": 1.0, \"x2\": -1.0, \"topic\": 1}, {\"x1\": -1.0, \"x2\": -0.7563654441494511, \"topic\": 0}, {\"x1\": -1.0, \"x2\": -0.7563654441494511, \"topic\": 0}, {\"x1\": 0.500009325704568, \"x2\": 0.000254482944942858, \"topic\": 1}, {\"x1\": -0.4728975826702963, \"x2\": 0.8944168207311971, \"topic\": -1}, {\"x1\": 0.6456211344942925, \"x2\": -0.20876711047258006, \"topic\": 1}, {\"x1\": 0.5, \"x2\": 1.0, \"topic\": 2}, {\"x1\": 0.5084363314773709, \"x2\": -0.4914144766107183, \"topic\": 1}, {\"x1\": -0.000452411341206492, \"x2\": -0.49054960812376336, \"topic\": 1}, {\"x1\": 0.4231937840119931, \"x2\": 0.3761882436745545, \"topic\": -1}, {\"x1\": 0.9869059551762585, \"x2\": -0.013111506405059124, \"topic\": 1}, {\"x1\": -1.0, \"x2\": -0.7563654441494511, \"topic\": 0}, {\"x1\": -0.7408559442436422, \"x2\": -0.2726265640342944, \"topic\": 0}, {\"x1\": -0.49995531753602834, \"x2\": 0.5008391028951621, \"topic\": -1}, {\"x1\": -0.5071361602274487, \"x2\": -0.7979038268448062, \"topic\": 0}, {\"x1\": 0.9999235569747809, \"x2\": -0.003833189040553869, \"topic\": 1}, {\"x1\": 0.5, \"x2\": 1.0, \"topic\": 2}, {\"x1\": 1.0, \"x2\": -1.0, \"topic\": 1}, {\"x1\": -0.9991309302736867, \"x2\": 0.999119093370591, \"topic\": -1}, {\"x1\": 1.0, \"x2\": -1.0, \"topic\": 1}, {\"x1\": -0.5283314139615964, \"x2\": 0.056883335103689044, \"topic\": -1}, {\"x1\": -1.0, \"x2\": -0.7563654441494511, \"topic\": 0}, {\"x1\": 0.5067480392793722, \"x2\": -0.4867586963053543, \"topic\": -1}, {\"x1\": -1.0, \"x2\": -0.7563654441494511, \"topic\": 0}, {\"x1\": 0.007451350919382492, \"x2\": 0.4968404025088449, \"topic\": -1}, {\"x1\": 1.0, \"x2\": -1.0, \"topic\": 1}, {\"x1\": -0.5394846946529878, \"x2\": 0.03948745324710614, \"topic\": 0}, {\"x1\": -1.0, \"x2\": -0.7563654441494511, \"topic\": 0}, {\"x1\": -1.0, \"x2\": -0.7563654441494511, \"topic\": 0}, {\"x1\": -1.0, \"x2\": -0.7563654441494511, \"topic\": 0}, {\"x1\": 1.0, \"x2\": -1.0, \"topic\": 1}, {\"x1\": 0.487314307681239, \"x2\": 0.4999970849038057, \"topic\": -1}, {\"x1\": 0.982353655383789, \"x2\": 0.4823527785238458, \"topic\": 1}, {\"x1\": -0.5120795987912155, \"x2\": 0.9976815119253586, \"topic\": -1}, {\"x1\": -0.5044877932011393, \"x2\": -0.7181152503343441, \"topic\": 0}, {\"x1\": 0.502797870097648, \"x2\": 0.0027987222396496153, \"topic\": -1}, {\"x1\": -0.9829247083388536, \"x2\": -0.017110125428977607, \"topic\": 0}, {\"x1\": 0.0012304342020388556, \"x2\": 0.4999754744264046, \"topic\": -1}, {\"x1\": 0.5002027351734025, \"x2\": 0.00020278428271303743, \"topic\": -1}, {\"x1\": 0.5003061397017823, \"x2\": 0.00032443564558979975, \"topic\": -1}, {\"x1\": -1.0, \"x2\": -0.7563654441494511, \"topic\": 0}, {\"x1\": -0.8948704350630877, \"x2\": -0.10577754939225094, \"topic\": 0}, {\"x1\": -0.5138254171744269, \"x2\": 0.013961631542899904, \"topic\": 0}, {\"x1\": 1.0, \"x2\": -1.0, \"topic\": 1}, {\"x1\": 1.0, \"x2\": -1.0, \"topic\": 1}, {\"x1\": 0.5288904521876674, \"x2\": -0.4710742314029605, \"topic\": 1}, {\"x1\": 7.043732191583824e-05, \"x2\": -0.4998819056410467, \"topic\": -1}, {\"x1\": -8.749495936198465e-06, \"x2\": 0.013071781904888618, \"topic\": -1}, {\"x1\": -0.00024484001106077504, \"x2\": 0.08598390575491861, \"topic\": -1}, {\"x1\": 0.5646894695073934, \"x2\": -0.43529715592699963, \"topic\": 1}, {\"x1\": -0.5029189556147571, \"x2\": 0.004329380664892438, \"topic\": -1}, {\"x1\": -0.7725870763841638, \"x2\": -0.17833866924357464, \"topic\": 0}, {\"x1\": 0.10413457765160591, \"x2\": 0.4999984432040283, \"topic\": -1}, {\"x1\": 0.5, \"x2\": 1.0, \"topic\": 2}, {\"x1\": 1.0, \"x2\": -1.0, \"topic\": 1}, {\"x1\": 0.5026827238509923, \"x2\": -0.4956637895280719, \"topic\": 1}, {\"x1\": -0.9493732031176894, \"x2\": -0.05063804611400354, \"topic\": 0}, {\"x1\": 0.4229204769212917, \"x2\": -0.0699793549462058, \"topic\": -1}, {\"x1\": 1.0, \"x2\": -1.0, \"topic\": 1}, {\"x1\": 0.4999545803096602, \"x2\": 0.001691787727264675, \"topic\": -1}, {\"x1\": 0.44335835551017977, \"x2\": -0.05627118200932936, \"topic\": -1}, {\"x1\": 0.5625575137086829, \"x2\": -0.4374287974764639, \"topic\": 1}, {\"x1\": 0.5002600977517894, \"x2\": 0.00034183897051660736, \"topic\": -1}, {\"x1\": 0.49995836103523117, \"x2\": 3.600306832242975e-05, \"topic\": -1}, {\"x1\": -0.970083937716988, \"x2\": 0.4103983434899663, \"topic\": 0}, {\"x1\": 0.9995243490098638, \"x2\": 0.4990708037493949, \"topic\": -1}, {\"x1\": -0.8732440078103015, \"x2\": 0.11979081028681898, \"topic\": 0}, {\"x1\": 0.49905161156264566, \"x2\": 0.000535925537064176, \"topic\": -1}], \"data-032805a21bb3fa79f7da2e2d9ee93c3d\": [{\"x1\": -1.0, \"x2\": 1.0, \"topic\": -1}, {\"x1\": -0.5, \"x2\": 0.5, \"topic\": -1}, {\"x1\": 0.5, \"x2\": -0.5, \"topic\": 1}, {\"x1\": -1.0, \"x2\": 0.0, \"topic\": 0}, {\"x1\": 1.0, \"x2\": -1.0, \"topic\": 1}, {\"x1\": -1.0, \"x2\": -1.0, \"topic\": 0}, {\"x1\": 0.5, \"x2\": -0.5, \"topic\": -1}, {\"x1\": 0.5, \"x2\": 0.5, \"topic\": -1}, {\"x1\": -1.0, \"x2\": 1.0, \"topic\": -1}, {\"x1\": 0.0, \"x2\": 0.5, \"topic\": -1}, {\"x1\": -1.0, \"x2\": 1.0, \"topic\": -1}, {\"x1\": 0.5, \"x2\": 0.0, \"topic\": -1}, {\"x1\": 0.5, \"x2\": 0.5, \"topic\": -1}, {\"x1\": 1.0, \"x2\": -0.5, \"topic\": 1}, {\"x1\": 0.0, \"x2\": -0.5, \"topic\": -1}, {\"x1\": 1.0, \"x2\": 0.0, \"topic\": 1}, {\"x1\": -0.5, \"x2\": -0.5, \"topic\": 0}, {\"x1\": -0.5, \"x2\": 0.5, \"topic\": -1}, {\"x1\": 1.0, \"x2\": 0.5, \"topic\": -1}, {\"x1\": -1.0, \"x2\": 0.0, \"topic\": 0}, {\"x1\": 0.5, \"x2\": -0.5, \"topic\": 1}, {\"x1\": 1.0, \"x2\": 0.0, \"topic\": 1}, {\"x1\": -0.5, \"x2\": 1.0, \"topic\": -1}, {\"x1\": 0.5, \"x2\": 0.5, \"topic\": -1}, {\"x1\": 0.0, \"x2\": 0.0, \"topic\": -1}, {\"x1\": 1.0, \"x2\": 0.0, \"topic\": 1}, {\"x1\": 1.0, \"x2\": 0.5, \"topic\": -1}, {\"x1\": 1.0, \"x2\": -1.0, \"topic\": 1}, {\"x1\": 0.5, \"x2\": 1.0, \"topic\": 2}, {\"x1\": -1.0, \"x2\": 0.5, \"topic\": 0}, {\"x1\": 0.5, \"x2\": -0.5, \"topic\": 1}, {\"x1\": 0.5, \"x2\": -0.5, \"topic\": -1}, {\"x1\": -1.0, \"x2\": 0.0, \"topic\": 0}, {\"x1\": 0.0, \"x2\": 0.5, \"topic\": -1}, {\"x1\": -1.0, \"x2\": 0.0, \"topic\": 0}, {\"x1\": -1.0, \"x2\": -1.0, \"topic\": 0}, {\"x1\": 0.5, \"x2\": 0.5, \"topic\": -1}, {\"x1\": -1.0, \"x2\": -1.0, \"topic\": 0}, {\"x1\": 1.0, \"x2\": -0.5, \"topic\": 1}, {\"x1\": -1.0, \"x2\": 1.0, \"topic\": -1}, {\"x1\": 1.0, \"x2\": 1.0, \"topic\": -1}, {\"x1\": 0.5, \"x2\": 0.0, \"topic\": -1}, {\"x1\": -1.0, \"x2\": 0.5, \"topic\": 0}, {\"x1\": 1.0, \"x2\": 0.0, \"topic\": 1}, {\"x1\": -1.0, \"x2\": 0.0, \"topic\": 0}, {\"x1\": 1.0, \"x2\": -1.0, \"topic\": 1}, {\"x1\": 0.5, \"x2\": 1.0, \"topic\": 2}, {\"x1\": -0.5, \"x2\": -1.0, \"topic\": 0}, {\"x1\": -1.0, \"x2\": 0.0, \"topic\": 0}, {\"x1\": 0.5, \"x2\": -0.5, \"topic\": 1}, {\"x1\": -0.5, \"x2\": 1.0, \"topic\": -1}, {\"x1\": -1.0, \"x2\": 0.0, \"topic\": 0}, {\"x1\": -1.0, \"x2\": 0.0, \"topic\": 0}, {\"x1\": -1.0, \"x2\": 0.0, \"topic\": 0}, {\"x1\": 1.0, \"x2\": 0.0, \"topic\": 1}, {\"x1\": 1.0, \"x2\": -0.5, \"topic\": 1}, {\"x1\": 0.0, \"x2\": 0.0, \"topic\": -1}, {\"x1\": 1.0, \"x2\": 0.5, \"topic\": -1}, {\"x1\": 0.5, \"x2\": 0.5, \"topic\": -1}, {\"x1\": -1.0, \"x2\": 0.5, \"topic\": -1}, {\"x1\": -0.5, \"x2\": 0.0, \"topic\": 0}, {\"x1\": 0.5, \"x2\": 0.5, \"topic\": -1}, {\"x1\": 0.5, \"x2\": -0.5, \"topic\": 1}, {\"x1\": 1.0, \"x2\": -1.0, \"topic\": 1}, {\"x1\": -0.5, \"x2\": -0.5, \"topic\": 0}, {\"x1\": -1.0, \"x2\": 0.0, \"topic\": 0}, {\"x1\": 0.5, \"x2\": 0.0, \"topic\": 1}, {\"x1\": -0.5, \"x2\": -1.0, \"topic\": 0}, {\"x1\": 0.0, \"x2\": -0.5, \"topic\": -1}, {\"x1\": -1.0, \"x2\": 0.5, \"topic\": 0}, {\"x1\": 1.0, \"x2\": -0.5, \"topic\": 1}, {\"x1\": 0.5, \"x2\": 0.5, \"topic\": -1}, {\"x1\": -0.5, \"x2\": 0.5, \"topic\": -1}, {\"x1\": 1.0, \"x2\": -0.5, \"topic\": 1}, {\"x1\": 0.0, \"x2\": 0.0, \"topic\": -1}, {\"x1\": -0.5, \"x2\": -1.0, \"topic\": 0}, {\"x1\": 0.5, \"x2\": -0.5, \"topic\": 1}, {\"x1\": -0.5, \"x2\": -0.5, \"topic\": 0}, {\"x1\": -0.5, \"x2\": -1.0, \"topic\": 0}, {\"x1\": 1.0, \"x2\": 0.5, \"topic\": -1}, {\"x1\": -1.0, \"x2\": 0.0, \"topic\": 0}, {\"x1\": 1.0, \"x2\": 0.0, \"topic\": 1}, {\"x1\": 1.0, \"x2\": -0.5, \"topic\": 1}, {\"x1\": 0.0, \"x2\": 0.5, \"topic\": -1}, {\"x1\": 1.0, \"x2\": -1.0, \"topic\": 1}, {\"x1\": 1.0, \"x2\": 0.5, \"topic\": 1}, {\"x1\": 0.0, \"x2\": 0.0, \"topic\": -1}, {\"x1\": 0.0, \"x2\": 0.5, \"topic\": -1}, {\"x1\": 0.5, \"x2\": 0.0, \"topic\": -1}, {\"x1\": 1.0, \"x2\": 0.0, \"topic\": 1}, {\"x1\": -1.0, \"x2\": 1.0, \"topic\": -1}, {\"x1\": 1.0, \"x2\": -1.0, \"topic\": 1}, {\"x1\": 1.0, \"x2\": -1.0, \"topic\": 1}, {\"x1\": 1.0, \"x2\": 0.5, \"topic\": 1}, {\"x1\": 0.5, \"x2\": 0.0, \"topic\": -1}, {\"x1\": 0.5, \"x2\": -0.5, \"topic\": 1}, {\"x1\": -0.5, \"x2\": 0.0, \"topic\": 0}, {\"x1\": -0.5, \"x2\": 0.5, \"topic\": -1}, {\"x1\": 1.0, \"x2\": 0.5, \"topic\": -1}, {\"x1\": 0.5, \"x2\": 0.0, \"topic\": -1}, {\"x1\": -1.0, \"x2\": 1.0, \"topic\": 0}, {\"x1\": 0.0, \"x2\": -0.5, \"topic\": -1}, {\"x1\": -0.5, \"x2\": 0.5, \"topic\": -1}, {\"x1\": -1.0, \"x2\": -1.0, \"topic\": 0}, {\"x1\": -0.5, \"x2\": 1.0, \"topic\": -1}, {\"x1\": 1.0, \"x2\": 0.5, \"topic\": -1}, {\"x1\": -1.0, \"x2\": 1.0, \"topic\": -1}, {\"x1\": -0.5, \"x2\": -0.5, \"topic\": 0}, {\"x1\": 0.5, \"x2\": 0.5, \"topic\": -1}, {\"x1\": -0.5, \"x2\": -0.5, \"topic\": 0}, {\"x1\": 1.0, \"x2\": 1.0, \"topic\": -1}, {\"x1\": -1.0, \"x2\": -1.0, \"topic\": 0}, {\"x1\": -0.5, \"x2\": 0.0, \"topic\": -1}, {\"x1\": -0.5, \"x2\": 0.0, \"topic\": 0}, {\"x1\": 1.0, \"x2\": 1.0, \"topic\": 2}, {\"x1\": 1.0, \"x2\": -1.0, \"topic\": 1}, {\"x1\": 1.0, \"x2\": 0.0, \"topic\": 1}, {\"x1\": 1.0, \"x2\": 0.0, \"topic\": 1}, {\"x1\": 0.5, \"x2\": 0.0, \"topic\": -1}, {\"x1\": -1.0, \"x2\": -1.0, \"topic\": 0}, {\"x1\": 0.0, \"x2\": -0.5, \"topic\": -1}, {\"x1\": 0.0, \"x2\": 1.0, \"topic\": 2}, {\"x1\": 0.5, \"x2\": 0.0, \"topic\": -1}, {\"x1\": 1.0, \"x2\": -0.5, \"topic\": 1}, {\"x1\": 0.0, \"x2\": -0.5, \"topic\": -1}, {\"x1\": 0.0, \"x2\": -0.5, \"topic\": -1}, {\"x1\": 1.0, \"x2\": 0.5, \"topic\": 1}, {\"x1\": -0.5, \"x2\": -1.0, \"topic\": -1}, {\"x1\": 1.0, \"x2\": -1.0, \"topic\": 1}, {\"x1\": 1.0, \"x2\": 0.0, \"topic\": 1}, {\"x1\": 0.5, \"x2\": -0.5, \"topic\": 1}, {\"x1\": 1.0, \"x2\": 0.0, \"topic\": 1}, {\"x1\": -1.0, \"x2\": 1.0, \"topic\": 0}, {\"x1\": -0.5, \"x2\": 0.0, \"topic\": -1}, {\"x1\": 0.5, \"x2\": 0.0, \"topic\": -1}, {\"x1\": 0.5, \"x2\": -0.5, \"topic\": 1}, {\"x1\": -1.0, \"x2\": 0.5, \"topic\": 0}, {\"x1\": -0.5, \"x2\": 1.0, \"topic\": -1}, {\"x1\": 0.5, \"x2\": 1.0, \"topic\": 2}, {\"x1\": 0.0, \"x2\": 0.5, \"topic\": -1}, {\"x1\": 0.0, \"x2\": 0.0, \"topic\": -1}, {\"x1\": 0.5, \"x2\": 0.0, \"topic\": 1}, {\"x1\": 1.0, \"x2\": 0.5, \"topic\": 1}, {\"x1\": 0.0, \"x2\": 1.0, \"topic\": -1}, {\"x1\": 0.5, \"x2\": 1.0, \"topic\": 2}, {\"x1\": 0.0, \"x2\": 0.0, \"topic\": -1}, {\"x1\": -0.5, \"x2\": -1.0, \"topic\": 0}, {\"x1\": 0.0, \"x2\": -0.5, \"topic\": -1}, {\"x1\": 1.0, \"x2\": -0.5, \"topic\": 1}, {\"x1\": 1.0, \"x2\": 1.0, \"topic\": -1}, {\"x1\": -1.0, \"x2\": 1.0, \"topic\": -1}, {\"x1\": 0.0, \"x2\": 1.0, \"topic\": 2}, {\"x1\": 1.0, \"x2\": 0.5, \"topic\": 1}, {\"x1\": 0.5, \"x2\": 0.0, \"topic\": -1}, {\"x1\": 0.0, \"x2\": 0.5, \"topic\": -1}, {\"x1\": 1.0, \"x2\": 0.5, \"topic\": 1}, {\"x1\": 1.0, \"x2\": -0.5, \"topic\": 1}, {\"x1\": 1.0, \"x2\": -1.0, \"topic\": 1}, {\"x1\": 0.5, \"x2\": -0.5, \"topic\": -1}, {\"x1\": 0.5, \"x2\": 0.0, \"topic\": -1}, {\"x1\": -1.0, \"x2\": -1.0, \"topic\": 0}, {\"x1\": 0.0, \"x2\": 0.5, \"topic\": -1}, {\"x1\": 0.0, \"x2\": 1.0, \"topic\": -1}, {\"x1\": 0.0, \"x2\": -0.5, \"topic\": -1}, {\"x1\": 1.0, \"x2\": 0.0, \"topic\": 1}, {\"x1\": 0.0, \"x2\": 0.5, \"topic\": -1}, {\"x1\": -0.5, \"x2\": 1.0, \"topic\": -1}, {\"x1\": 1.0, \"x2\": 0.0, \"topic\": 1}, {\"x1\": -0.5, \"x2\": -1.0, \"topic\": 0}, {\"x1\": 0.5, \"x2\": 1.0, \"topic\": 2}, {\"x1\": 0.0, \"x2\": 0.5, \"topic\": -1}, {\"x1\": 0.5, \"x2\": 0.0, \"topic\": -1}, {\"x1\": 0.5, \"x2\": 0.5, \"topic\": -1}, {\"x1\": 0.0, \"x2\": -0.5, \"topic\": -1}, {\"x1\": 0.5, \"x2\": 0.0, \"topic\": -1}, {\"x1\": -1.0, \"x2\": -1.0, \"topic\": 0}, {\"x1\": 0.0, \"x2\": 0.0, \"topic\": -1}, {\"x1\": -0.5, \"x2\": 0.0, \"topic\": 0}, {\"x1\": 0.0, \"x2\": 0.5, \"topic\": -1}, {\"x1\": 1.0, \"x2\": -0.5, \"topic\": 1}, {\"x1\": 0.0, \"x2\": 0.0, \"topic\": -1}, {\"x1\": -1.0, \"x2\": -1.0, \"topic\": 0}, {\"x1\": -0.5, \"x2\": 1.0, \"topic\": -1}, {\"x1\": 0.0, \"x2\": 1.0, \"topic\": -1}, {\"x1\": -1.0, \"x2\": 1.0, \"topic\": -1}, {\"x1\": 1.0, \"x2\": 0.5, \"topic\": -1}, {\"x1\": -0.5, \"x2\": 0.5, \"topic\": 0}, {\"x1\": 0.5, \"x2\": 1.0, \"topic\": 2}, {\"x1\": -1.0, \"x2\": 0.0, \"topic\": 0}, {\"x1\": 0.5, \"x2\": 0.5, \"topic\": -1}, {\"x1\": 1.0, \"x2\": -0.5, \"topic\": 1}, {\"x1\": 0.5, \"x2\": -0.5, \"topic\": 1}, {\"x1\": 0.0, \"x2\": 0.5, \"topic\": -1}, {\"x1\": -1.0, \"x2\": 0.0, \"topic\": 0}, {\"x1\": 0.0, \"x2\": -0.5, \"topic\": -1}, {\"x1\": 1.0, \"x2\": 0.0, \"topic\": 1}, {\"x1\": -1.0, \"x2\": 0.5, \"topic\": 0}, {\"x1\": 0.0, \"x2\": 0.5, \"topic\": -1}, {\"x1\": -1.0, \"x2\": 0.0, \"topic\": 0}, {\"x1\": 0.5, \"x2\": 0.5, \"topic\": -1}, {\"x1\": 0.5, \"x2\": 0.0, \"topic\": -1}, {\"x1\": 0.5, \"x2\": 0.5, \"topic\": -1}, {\"x1\": 0.5, \"x2\": 1.0, \"topic\": 2}, {\"x1\": 0.0, \"x2\": 0.0, \"topic\": -1}, {\"x1\": 0.5, \"x2\": 0.0, \"topic\": -1}, {\"x1\": -0.5, \"x2\": 0.0, \"topic\": 0}, {\"x1\": 1.0, \"x2\": -1.0, \"topic\": 1}, {\"x1\": -1.0, \"x2\": 0.5, \"topic\": 0}, {\"x1\": -1.0, \"x2\": -1.0, \"topic\": 0}, {\"x1\": 0.0, \"x2\": 0.5, \"topic\": -1}, {\"x1\": -1.0, \"x2\": -1.0, \"topic\": 0}, {\"x1\": 1.0, \"x2\": 0.0, \"topic\": 1}, {\"x1\": -1.0, \"x2\": 0.0, \"topic\": 0}, {\"x1\": -0.5, \"x2\": -0.5, \"topic\": 0}, {\"x1\": -0.5, \"x2\": 0.0, \"topic\": -1}, {\"x1\": -0.5, \"x2\": 0.5, \"topic\": 0}, {\"x1\": -0.5, \"x2\": 0.5, \"topic\": -1}, {\"x1\": 1.0, \"x2\": -1.0, \"topic\": 1}, {\"x1\": 1.0, \"x2\": -0.5, \"topic\": 1}, {\"x1\": -1.0, \"x2\": -1.0, \"topic\": 0}, {\"x1\": 0.0, \"x2\": -0.5, \"topic\": -1}, {\"x1\": 1.0, \"x2\": 0.5, \"topic\": -1}, {\"x1\": 0.0, \"x2\": 0.0, \"topic\": -1}, {\"x1\": -1.0, \"x2\": 0.0, \"topic\": 0}, {\"x1\": 0.0, \"x2\": -0.5, \"topic\": -1}, {\"x1\": 1.0, \"x2\": 0.5, \"topic\": 1}, {\"x1\": -1.0, \"x2\": 0.5, \"topic\": 0}, {\"x1\": 0.5, \"x2\": 0.5, \"topic\": -1}, {\"x1\": 0.5, \"x2\": 1.0, \"topic\": 2}, {\"x1\": 0.0, \"x2\": -0.5, \"topic\": -1}, {\"x1\": -1.0, \"x2\": -1.0, \"topic\": 0}, {\"x1\": 0.0, \"x2\": 0.0, \"topic\": -1}, {\"x1\": -0.5, \"x2\": 0.5, \"topic\": -1}, {\"x1\": 1.0, \"x2\": 0.5, \"topic\": 1}, {\"x1\": -1.0, \"x2\": 0.0, \"topic\": 0}, {\"x1\": -1.0, \"x2\": 0.0, \"topic\": 0}, {\"x1\": 0.0, \"x2\": 0.5, \"topic\": -1}, {\"x1\": 0.5, \"x2\": 0.0, \"topic\": -1}, {\"x1\": 0.0, \"x2\": -0.5, \"topic\": -1}, {\"x1\": 0.0, \"x2\": -0.5, \"topic\": -1}, {\"x1\": -1.0, \"x2\": 1.0, \"topic\": -1}, {\"x1\": -0.5, \"x2\": 1.0, \"topic\": -1}, {\"x1\": 1.0, \"x2\": -0.5, \"topic\": 1}, {\"x1\": -0.5, \"x2\": 1.0, \"topic\": -1}, {\"x1\": -0.5, \"x2\": 1.0, \"topic\": -1}, {\"x1\": 0.0, \"x2\": 0.5, \"topic\": -1}, {\"x1\": -0.5, \"x2\": 1.0, \"topic\": -1}, {\"x1\": 0.5, \"x2\": 0.0, \"topic\": 1}, {\"x1\": 1.0, \"x2\": -1.0, \"topic\": 1}, {\"x1\": -1.0, \"x2\": -1.0, \"topic\": 0}, {\"x1\": 0.5, \"x2\": -0.5, \"topic\": 1}, {\"x1\": -1.0, \"x2\": 0.5, \"topic\": 0}, {\"x1\": -0.5, \"x2\": -0.5, \"topic\": 0}, {\"x1\": 1.0, \"x2\": -0.5, \"topic\": 1}, {\"x1\": -1.0, \"x2\": 0.5, \"topic\": 0}, {\"x1\": -0.5, \"x2\": -0.5, \"topic\": 0}, {\"x1\": 0.5, \"x2\": 0.5, \"topic\": -1}, {\"x1\": 0.5, \"x2\": -0.5, \"topic\": 1}, {\"x1\": 0.5, \"x2\": -0.5, \"topic\": 1}, {\"x1\": 1.0, \"x2\": -0.5, \"topic\": 1}, {\"x1\": -0.5, \"x2\": 0.0, \"topic\": 0}, {\"x1\": 0.5, \"x2\": -0.5, \"topic\": 1}, {\"x1\": -0.5, \"x2\": 0.5, \"topic\": -1}, {\"x1\": -0.5, \"x2\": 0.0, \"topic\": 0}, {\"x1\": 0.5, \"x2\": -0.5, \"topic\": 1}, {\"x1\": 0.5, \"x2\": -0.5, \"topic\": 1}, {\"x1\": 1.0, \"x2\": -1.0, \"topic\": 1}, {\"x1\": 0.5, \"x2\": 0.0, \"topic\": -1}, {\"x1\": 0.0, \"x2\": 0.5, \"topic\": -1}, {\"x1\": 0.5, \"x2\": 0.0, \"topic\": -1}, {\"x1\": -1.0, \"x2\": -1.0, \"topic\": 0}, {\"x1\": 0.0, \"x2\": 0.0, \"topic\": -1}, {\"x1\": 1.0, \"x2\": -1.0, \"topic\": 1}, {\"x1\": 0.0, \"x2\": 0.0, \"topic\": -1}, {\"x1\": 0.0, \"x2\": -0.5, \"topic\": 1}, {\"x1\": 1.0, \"x2\": 0.5, \"topic\": -1}, {\"x1\": -0.5, \"x2\": -0.5, \"topic\": 0}, {\"x1\": -1.0, \"x2\": 0.5, \"topic\": 0}, {\"x1\": -1.0, \"x2\": -1.0, \"topic\": 0}, {\"x1\": 0.0, \"x2\": -0.5, \"topic\": 1}, {\"x1\": 0.5, \"x2\": -0.5, \"topic\": 1}, {\"x1\": 0.0, \"x2\": -0.5, \"topic\": 1}, {\"x1\": -0.5, \"x2\": 0.0, \"topic\": -1}, {\"x1\": -0.5, \"x2\": 0.0, \"topic\": -1}, {\"x1\": 0.5, \"x2\": -0.5, \"topic\": 1}, {\"x1\": 1.0, \"x2\": -1.0, \"topic\": 1}, {\"x1\": -0.5, \"x2\": 0.0, \"topic\": 0}, {\"x1\": -1.0, \"x2\": -1.0, \"topic\": 0}, {\"x1\": -0.5, \"x2\": 0.0, \"topic\": -1}, {\"x1\": -1.0, \"x2\": 1.0, \"topic\": -1}, {\"x1\": 0.0, \"x2\": -0.5, \"topic\": -1}, {\"x1\": -0.5, \"x2\": -1.0, \"topic\": 0}, {\"x1\": -1.0, \"x2\": -1.0, \"topic\": 0}, {\"x1\": -0.5, \"x2\": 1.0, \"topic\": -1}, {\"x1\": 1.0, \"x2\": -0.5, \"topic\": 1}, {\"x1\": 1.0, \"x2\": 0.0, \"topic\": 1}, {\"x1\": 1.0, \"x2\": -1.0, \"topic\": 1}, {\"x1\": 1.0, \"x2\": 0.0, \"topic\": 1}, {\"x1\": 1.0, \"x2\": -1.0, \"topic\": 1}, {\"x1\": 0.0, \"x2\": -0.5, \"topic\": -1}, {\"x1\": 0.0, \"x2\": 0.5, \"topic\": -1}, {\"x1\": 1.0, \"x2\": 0.5, \"topic\": 1}, {\"x1\": 1.0, \"x2\": 1.0, \"topic\": -1}, {\"x1\": -0.5, \"x2\": 1.0, \"topic\": -1}, {\"x1\": -0.5, \"x2\": 0.0, \"topic\": -1}, {\"x1\": 0.5, \"x2\": -0.5, \"topic\": 1}, {\"x1\": -1.0, \"x2\": 0.5, \"topic\": 0}, {\"x1\": 0.0, \"x2\": 0.0, \"topic\": -1}, {\"x1\": 0.5, \"x2\": 1.0, \"topic\": 2}, {\"x1\": 1.0, \"x2\": -1.0, \"topic\": 1}, {\"x1\": 1.0, \"x2\": -0.5, \"topic\": 1}, {\"x1\": 0.5, \"x2\": 0.0, \"topic\": 1}, {\"x1\": -0.5, \"x2\": -1.0, \"topic\": 0}, {\"x1\": 1.0, \"x2\": 0.5, \"topic\": -1}, {\"x1\": -1.0, \"x2\": -1.0, \"topic\": 0}, {\"x1\": 1.0, \"x2\": -0.5, \"topic\": 1}, {\"x1\": 0.0, \"x2\": -0.5, \"topic\": -1}, {\"x1\": 1.0, \"x2\": -0.5, \"topic\": 1}, {\"x1\": 0.0, \"x2\": 0.5, \"topic\": -1}, {\"x1\": -1.0, \"x2\": 0.5, \"topic\": 0}, {\"x1\": -1.0, \"x2\": -1.0, \"topic\": 0}, {\"x1\": 0.0, \"x2\": 1.0, \"topic\": 2}, {\"x1\": 0.0, \"x2\": 0.5, \"topic\": -1}, {\"x1\": 0.0, \"x2\": 0.5, \"topic\": -1}, {\"x1\": 1.0, \"x2\": 0.0, \"topic\": 1}, {\"x1\": 1.0, \"x2\": 0.0, \"topic\": 1}, {\"x1\": 0.5, \"x2\": 0.5, \"topic\": -1}, {\"x1\": 0.0, \"x2\": -0.5, \"topic\": -1}, {\"x1\": -1.0, \"x2\": 1.0, \"topic\": 0}, {\"x1\": -1.0, \"x2\": -1.0, \"topic\": 0}, {\"x1\": 0.0, \"x2\": 0.0, \"topic\": -1}, {\"x1\": 0.5, \"x2\": 0.0, \"topic\": -1}, {\"x1\": -0.5, \"x2\": -0.5, \"topic\": 0}, {\"x1\": -0.5, \"x2\": 0.5, \"topic\": -1}, {\"x1\": 1.0, \"x2\": 0.5, \"topic\": -1}, {\"x1\": 0.5, \"x2\": 1.0, \"topic\": 2}, {\"x1\": 0.0, \"x2\": -0.5, \"topic\": -1}, {\"x1\": -1.0, \"x2\": -1.0, \"topic\": 0}, {\"x1\": 0.0, \"x2\": 0.0, \"topic\": -1}, {\"x1\": -1.0, \"x2\": 1.0, \"topic\": -1}, {\"x1\": -0.5, \"x2\": 1.0, \"topic\": -1}, {\"x1\": -0.5, \"x2\": 0.5, \"topic\": -1}, {\"x1\": -0.5, \"x2\": 0.5, \"topic\": -1}, {\"x1\": -0.5, \"x2\": -1.0, \"topic\": 0}, {\"x1\": 0.5, \"x2\": 1.0, \"topic\": 2}, {\"x1\": 0.5, \"x2\": -0.5, \"topic\": 1}, {\"x1\": 0.5, \"x2\": -0.5, \"topic\": 1}, {\"x1\": 1.0, \"x2\": 0.5, \"topic\": 1}, {\"x1\": -0.5, \"x2\": 1.0, \"topic\": -1}, {\"x1\": -0.5, \"x2\": -0.5, \"topic\": 0}, {\"x1\": 0.5, \"x2\": 0.0, \"topic\": 1}, {\"x1\": 1.0, \"x2\": 0.0, \"topic\": 1}, {\"x1\": -0.5, \"x2\": 0.5, \"topic\": -1}, {\"x1\": 0.0, \"x2\": 0.5, \"topic\": -1}, {\"x1\": -1.0, \"x2\": 1.0, \"topic\": -1}, {\"x1\": 1.0, \"x2\": -0.5, \"topic\": 1}, {\"x1\": -0.5, \"x2\": -0.5, \"topic\": 0}, {\"x1\": 0.5, \"x2\": 0.5, \"topic\": -1}, {\"x1\": 0.5, \"x2\": -0.5, \"topic\": 1}, {\"x1\": -0.5, \"x2\": 0.5, \"topic\": -1}, {\"x1\": 0.5, \"x2\": 0.0, \"topic\": 1}, {\"x1\": 1.0, \"x2\": -1.0, \"topic\": 1}, {\"x1\": 0.5, \"x2\": 0.0, \"topic\": -1}, {\"x1\": 1.0, \"x2\": 0.5, \"topic\": -1}, {\"x1\": -0.5, \"x2\": -1.0, \"topic\": 0}, {\"x1\": -1.0, \"x2\": -1.0, \"topic\": 0}, {\"x1\": 0.0, \"x2\": 0.0, \"topic\": -1}, {\"x1\": -0.5, \"x2\": -1.0, \"topic\": 0}, {\"x1\": 0.0, \"x2\": -0.5, \"topic\": -1}, {\"x1\": -1.0, \"x2\": -1.0, \"topic\": 0}, {\"x1\": -0.5, \"x2\": -0.5, \"topic\": 0}, {\"x1\": 0.0, \"x2\": 0.0, \"topic\": -1}, {\"x1\": 0.5, \"x2\": 1.0, \"topic\": 2}, {\"x1\": -1.0, \"x2\": 0.5, \"topic\": 0}, {\"x1\": 0.0, \"x2\": -0.5, \"topic\": -1}, {\"x1\": -1.0, \"x2\": -1.0, \"topic\": 0}, {\"x1\": -1.0, \"x2\": 1.0, \"topic\": -1}, {\"x1\": -0.5, \"x2\": 0.5, \"topic\": -1}, {\"x1\": -0.5, \"x2\": -1.0, \"topic\": 0}, {\"x1\": -1.0, \"x2\": -1.0, \"topic\": 0}, {\"x1\": -1.0, \"x2\": -1.0, \"topic\": 0}, {\"x1\": 0.5, \"x2\": 0.5, \"topic\": -1}, {\"x1\": -1.0, \"x2\": -1.0, \"topic\": 0}, {\"x1\": -1.0, \"x2\": 0.0, \"topic\": 0}, {\"x1\": -1.0, \"x2\": 0.5, \"topic\": 0}, {\"x1\": 0.0, \"x2\": 0.5, \"topic\": -1}, {\"x1\": 0.5, \"x2\": 0.0, \"topic\": -1}, {\"x1\": -0.5, \"x2\": -0.5, \"topic\": 0}, {\"x1\": -1.0, \"x2\": -1.0, \"topic\": 0}, {\"x1\": -1.0, \"x2\": -1.0, \"topic\": 0}, {\"x1\": 1.0, \"x2\": 0.5, \"topic\": -1}, {\"x1\": -0.5, \"x2\": -0.5, \"topic\": 0}, {\"x1\": 1.0, \"x2\": -1.0, \"topic\": 1}, {\"x1\": 1.0, \"x2\": 0.5, \"topic\": -1}, {\"x1\": -0.5, \"x2\": 0.0, \"topic\": -1}, {\"x1\": 0.5, \"x2\": 0.5, \"topic\": -1}, {\"x1\": 1.0, \"x2\": 0.5, \"topic\": 1}, {\"x1\": -1.0, \"x2\": -1.0, \"topic\": 0}, {\"x1\": -1.0, \"x2\": 1.0, \"topic\": 0}, {\"x1\": -1.0, \"x2\": -1.0, \"topic\": 0}, {\"x1\": -0.5, \"x2\": -1.0, \"topic\": 0}, {\"x1\": 0.0, \"x2\": -0.5, \"topic\": -1}, {\"x1\": -1.0, \"x2\": -1.0, \"topic\": 0}, {\"x1\": -1.0, \"x2\": -1.0, \"topic\": 0}, {\"x1\": 1.0, \"x2\": -0.5, \"topic\": 1}, {\"x1\": 1.0, \"x2\": -1.0, \"topic\": 1}, {\"x1\": -0.5, \"x2\": 0.0, \"topic\": 0}, {\"x1\": 0.5, \"x2\": 0.0, \"topic\": -1}, {\"x1\": 0.5, \"x2\": 0.0, \"topic\": 1}, {\"x1\": 1.0, \"x2\": -1.0, \"topic\": 1}, {\"x1\": -0.5, \"x2\": 0.5, \"topic\": -1}, {\"x1\": -0.5, \"x2\": 0.0, \"topic\": 0}, {\"x1\": 1.0, \"x2\": 0.5, \"topic\": -1}, {\"x1\": -0.5, \"x2\": 0.5, \"topic\": -1}, {\"x1\": -0.5, \"x2\": -1.0, \"topic\": 0}, {\"x1\": -1.0, \"x2\": 1.0, \"topic\": -1}, {\"x1\": -0.5, \"x2\": 0.0, \"topic\": 0}, {\"x1\": 0.5, \"x2\": -0.5, \"topic\": 1}, {\"x1\": 1.0, \"x2\": 0.5, \"topic\": 1}, {\"x1\": -0.5, \"x2\": 0.0, \"topic\": -1}, {\"x1\": 0.5, \"x2\": -0.5, \"topic\": 1}, {\"x1\": -1.0, \"x2\": 0.5, \"topic\": 0}, {\"x1\": -1.0, \"x2\": 1.0, \"topic\": -1}, {\"x1\": 0.0, \"x2\": 0.5, \"topic\": -1}, {\"x1\": -0.5, \"x2\": 0.5, \"topic\": -1}, {\"x1\": -1.0, \"x2\": 0.0, \"topic\": 0}, {\"x1\": 0.0, \"x2\": -0.5, \"topic\": -1}, {\"x1\": -0.5, \"x2\": 1.0, \"topic\": -1}, {\"x1\": 1.0, \"x2\": -0.5, \"topic\": 1}, {\"x1\": 0.0, \"x2\": -0.5, \"topic\": 1}, {\"x1\": -0.5, \"x2\": -0.5, \"topic\": 0}, {\"x1\": -0.5, \"x2\": -0.5, \"topic\": 0}, {\"x1\": -0.5, \"x2\": 0.5, \"topic\": -1}, {\"x1\": 1.0, \"x2\": 0.5, \"topic\": 1}, {\"x1\": -0.5, \"x2\": -0.5, \"topic\": 0}, {\"x1\": -0.5, \"x2\": -0.5, \"topic\": 0}, {\"x1\": -0.5, \"x2\": 1.0, \"topic\": -1}, {\"x1\": 0.0, \"x2\": -0.5, \"topic\": -1}, {\"x1\": -1.0, \"x2\": 0.0, \"topic\": 0}, {\"x1\": 1.0, \"x2\": 0.0, \"topic\": 1}, {\"x1\": 0.5, \"x2\": 0.5, \"topic\": -1}, {\"x1\": -1.0, \"x2\": -1.0, \"topic\": 0}, {\"x1\": 1.0, \"x2\": -0.5, \"topic\": 1}, {\"x1\": 1.0, \"x2\": 0.0, \"topic\": 1}, {\"x1\": -0.5, \"x2\": 0.5, \"topic\": 0}, {\"x1\": -0.5, \"x2\": -1.0, \"topic\": 0}, {\"x1\": 0.5, \"x2\": 0.5, \"topic\": -1}, {\"x1\": -1.0, \"x2\": 0.0, \"topic\": 0}, {\"x1\": -1.0, \"x2\": -1.0, \"topic\": 0}, {\"x1\": -0.5, \"x2\": 0.0, \"topic\": -1}, {\"x1\": -0.5, \"x2\": 1.0, \"topic\": -1}, {\"x1\": 1.0, \"x2\": 0.5, \"topic\": 1}, {\"x1\": 1.0, \"x2\": 0.0, \"topic\": 1}, {\"x1\": 0.5, \"x2\": 0.0, \"topic\": -1}, {\"x1\": -1.0, \"x2\": 0.5, \"topic\": 0}, {\"x1\": 0.5, \"x2\": 1.0, \"topic\": 2}, {\"x1\": -1.0, \"x2\": 0.5, \"topic\": 0}, {\"x1\": 0.0, \"x2\": -0.5, \"topic\": -1}, {\"x1\": 1.0, \"x2\": -1.0, \"topic\": 1}, {\"x1\": -0.5, \"x2\": -1.0, \"topic\": 0}, {\"x1\": -0.5, \"x2\": -0.5, \"topic\": 0}, {\"x1\": -1.0, \"x2\": 0.0, \"topic\": 0}, {\"x1\": -0.5, \"x2\": -0.5, \"topic\": 0}, {\"x1\": -1.0, \"x2\": -1.0, \"topic\": 0}, {\"x1\": 0.5, \"x2\": 0.5, \"topic\": -1}, {\"x1\": -1.0, \"x2\": -1.0, \"topic\": 0}, {\"x1\": -1.0, \"x2\": -1.0, \"topic\": 0}, {\"x1\": -0.5, \"x2\": -1.0, \"topic\": 0}, {\"x1\": 0.0, \"x2\": 0.0, \"topic\": -1}, {\"x1\": 0.5, \"x2\": 0.0, \"topic\": -1}, {\"x1\": -0.5, \"x2\": 1.0, \"topic\": -1}, {\"x1\": -1.0, \"x2\": 0.0, \"topic\": 0}, {\"x1\": -1.0, \"x2\": -1.0, \"topic\": 0}, {\"x1\": -1.0, \"x2\": -1.0, \"topic\": 0}, {\"x1\": 1.0, \"x2\": 0.0, \"topic\": 1}, {\"x1\": 1.0, \"x2\": 0.0, \"topic\": 1}, {\"x1\": -1.0, \"x2\": 1.0, \"topic\": 0}, {\"x1\": -1.0, \"x2\": 1.0, \"topic\": -1}, {\"x1\": -1.0, \"x2\": -1.0, \"topic\": 0}, {\"x1\": 1.0, \"x2\": -1.0, \"topic\": 1}, {\"x1\": -1.0, \"x2\": -1.0, \"topic\": 0}, {\"x1\": 0.5, \"x2\": 0.0, \"topic\": -1}, {\"x1\": -1.0, \"x2\": -1.0, \"topic\": 0}, {\"x1\": -0.5, \"x2\": 0.0, \"topic\": 0}, {\"x1\": 0.5, \"x2\": 0.0, \"topic\": -1}, {\"x1\": -0.5, \"x2\": 0.5, \"topic\": 0}, {\"x1\": -1.0, \"x2\": 0.5, \"topic\": 0}, {\"x1\": 0.5, \"x2\": -0.5, \"topic\": 1}, {\"x1\": 0.5, \"x2\": 1.0, \"topic\": 2}, {\"x1\": 1.0, \"x2\": -1.0, \"topic\": 1}, {\"x1\": -0.5, \"x2\": -0.5, \"topic\": 0}, {\"x1\": 1.0, \"x2\": -1.0, \"topic\": 1}, {\"x1\": 0.5, \"x2\": 0.5, \"topic\": -1}, {\"x1\": 1.0, \"x2\": -1.0, \"topic\": 1}, {\"x1\": 0.5, \"x2\": -0.5, \"topic\": 1}, {\"x1\": 1.0, \"x2\": -1.0, \"topic\": 1}, {\"x1\": 0.0, \"x2\": -0.5, \"topic\": 0}, {\"x1\": 0.5, \"x2\": 0.0, \"topic\": -1}, {\"x1\": 1.0, \"x2\": -1.0, \"topic\": 1}, {\"x1\": -1.0, \"x2\": -1.0, \"topic\": 0}, {\"x1\": 0.5, \"x2\": -0.5, \"topic\": 1}, {\"x1\": 1.0, \"x2\": 0.5, \"topic\": 1}, {\"x1\": -1.0, \"x2\": -1.0, \"topic\": 0}, {\"x1\": -1.0, \"x2\": -1.0, \"topic\": 0}, {\"x1\": -0.5, \"x2\": -1.0, \"topic\": 0}, {\"x1\": 1.0, \"x2\": 0.0, \"topic\": 1}, {\"x1\": -1.0, \"x2\": 0.0, \"topic\": 0}, {\"x1\": 1.0, \"x2\": 0.5, \"topic\": -1}, {\"x1\": 1.0, \"x2\": 0.5, \"topic\": -1}, {\"x1\": -0.5, \"x2\": 1.0, \"topic\": -1}, {\"x1\": 0.0, \"x2\": -0.5, \"topic\": -1}, {\"x1\": 1.0, \"x2\": -0.5, \"topic\": 1}, {\"x1\": 0.0, \"x2\": 0.5, \"topic\": -1}, {\"x1\": 1.0, \"x2\": -0.5, \"topic\": 1}, {\"x1\": 0.5, \"x2\": 1.0, \"topic\": 2}, {\"x1\": -1.0, \"x2\": -1.0, \"topic\": 0}, {\"x1\": -0.5, \"x2\": 1.0, \"topic\": -1}, {\"x1\": 0.0, \"x2\": 0.5, \"topic\": -1}, {\"x1\": 0.5, \"x2\": 0.5, \"topic\": -1}, {\"x1\": 1.0, \"x2\": -1.0, \"topic\": 1}, {\"x1\": -0.5, \"x2\": 0.5, \"topic\": -1}, {\"x1\": -1.0, \"x2\": 0.5, \"topic\": 0}, {\"x1\": -1.0, \"x2\": -1.0, \"topic\": 0}, {\"x1\": -1.0, \"x2\": -1.0, \"topic\": 0}, {\"x1\": 0.5, \"x2\": 0.0, \"topic\": -1}, {\"x1\": 1.0, \"x2\": 0.5, \"topic\": -1}, {\"x1\": -1.0, \"x2\": 0.0, \"topic\": 0}, {\"x1\": -1.0, \"x2\": -1.0, \"topic\": 0}, {\"x1\": -1.0, \"x2\": 1.0, \"topic\": 0}, {\"x1\": 1.0, \"x2\": -0.5, \"topic\": 1}, {\"x1\": 1.0, \"x2\": -0.5, \"topic\": 1}, {\"x1\": 0.5, \"x2\": 1.0, \"topic\": 2}, {\"x1\": -0.5, \"x2\": -1.0, \"topic\": 0}, {\"x1\": 0.5, \"x2\": -0.5, \"topic\": 1}, {\"x1\": 0.0, \"x2\": 1.0, \"topic\": -1}, {\"x1\": 0.0, \"x2\": 0.0, \"topic\": -1}, {\"x1\": 0.0, \"x2\": 0.0, \"topic\": -1}, {\"x1\": -1.0, \"x2\": -1.0, \"topic\": 0}, {\"x1\": 0.5, \"x2\": 0.0, \"topic\": -1}, {\"x1\": 0.5, \"x2\": 1.0, \"topic\": 2}, {\"x1\": 0.0, \"x2\": 0.5, \"topic\": -1}, {\"x1\": -0.5, \"x2\": -0.5, \"topic\": 0}, {\"x1\": 0.5, \"x2\": 0.0, \"topic\": -1}, {\"x1\": 0.5, \"x2\": -0.5, \"topic\": 1}, {\"x1\": 0.5, \"x2\": -0.5, \"topic\": 1}, {\"x1\": 0.5, \"x2\": 0.0, \"topic\": 1}, {\"x1\": -1.0, \"x2\": 0.0, \"topic\": 0}, {\"x1\": -0.5, \"x2\": 0.0, \"topic\": -1}, {\"x1\": 0.5, \"x2\": -0.5, \"topic\": 1}, {\"x1\": -0.5, \"x2\": 0.0, \"topic\": 0}, {\"x1\": -0.5, \"x2\": 1.0, \"topic\": -1}, {\"x1\": 1.0, \"x2\": -1.0, \"topic\": 1}, {\"x1\": 0.0, \"x2\": 0.5, \"topic\": -1}, {\"x1\": 1.0, \"x2\": 0.5, \"topic\": -1}, {\"x1\": 1.0, \"x2\": 0.5, \"topic\": 1}, {\"x1\": 1.0, \"x2\": -1.0, \"topic\": 1}, {\"x1\": -1.0, \"x2\": -1.0, \"topic\": 0}, {\"x1\": -1.0, \"x2\": -1.0, \"topic\": 0}, {\"x1\": 0.5, \"x2\": 0.0, \"topic\": 1}, {\"x1\": -0.5, \"x2\": 1.0, \"topic\": -1}, {\"x1\": 0.5, \"x2\": -0.5, \"topic\": 1}, {\"x1\": 0.5, \"x2\": 1.0, \"topic\": 2}, {\"x1\": 0.5, \"x2\": -0.5, \"topic\": 1}, {\"x1\": 0.0, \"x2\": -0.5, \"topic\": 1}, {\"x1\": 0.5, \"x2\": 0.5, \"topic\": -1}, {\"x1\": 1.0, \"x2\": 0.0, \"topic\": 1}, {\"x1\": -1.0, \"x2\": -1.0, \"topic\": 0}, {\"x1\": -0.5, \"x2\": -1.0, \"topic\": 0}, {\"x1\": -0.5, \"x2\": 0.5, \"topic\": -1}, {\"x1\": -0.5, \"x2\": -1.0, \"topic\": 0}, {\"x1\": 1.0, \"x2\": 0.0, \"topic\": 1}, {\"x1\": 0.5, \"x2\": 1.0, \"topic\": 2}, {\"x1\": 1.0, \"x2\": -1.0, \"topic\": 1}, {\"x1\": -1.0, \"x2\": 1.0, \"topic\": -1}, {\"x1\": 1.0, \"x2\": -1.0, \"topic\": 1}, {\"x1\": -0.5, \"x2\": 0.0, \"topic\": -1}, {\"x1\": -1.0, \"x2\": -1.0, \"topic\": 0}, {\"x1\": 0.5, \"x2\": -0.5, \"topic\": -1}, {\"x1\": -1.0, \"x2\": -1.0, \"topic\": 0}, {\"x1\": 0.0, \"x2\": 0.5, \"topic\": -1}, {\"x1\": 1.0, \"x2\": -1.0, \"topic\": 1}, {\"x1\": -0.5, \"x2\": 0.0, \"topic\": 0}, {\"x1\": -1.0, \"x2\": -1.0, \"topic\": 0}, {\"x1\": -1.0, \"x2\": -1.0, \"topic\": 0}, {\"x1\": -1.0, \"x2\": -1.0, \"topic\": 0}, {\"x1\": 1.0, \"x2\": -1.0, \"topic\": 1}, {\"x1\": 0.5, \"x2\": 0.5, \"topic\": -1}, {\"x1\": 1.0, \"x2\": 0.5, \"topic\": 1}, {\"x1\": -0.5, \"x2\": 1.0, \"topic\": -1}, {\"x1\": -0.5, \"x2\": -0.5, \"topic\": 0}, {\"x1\": 0.5, \"x2\": 0.0, \"topic\": -1}, {\"x1\": -1.0, \"x2\": 0.0, \"topic\": 0}, {\"x1\": 0.0, \"x2\": 0.5, \"topic\": -1}, {\"x1\": 0.5, \"x2\": 0.0, \"topic\": -1}, {\"x1\": 0.5, \"x2\": 0.0, \"topic\": -1}, {\"x1\": -1.0, \"x2\": -1.0, \"topic\": 0}, {\"x1\": -1.0, \"x2\": 0.0, \"topic\": 0}, {\"x1\": -0.5, \"x2\": 0.0, \"topic\": 0}, {\"x1\": 1.0, \"x2\": -1.0, \"topic\": 1}, {\"x1\": 1.0, \"x2\": -1.0, \"topic\": 1}, {\"x1\": 0.5, \"x2\": -0.5, \"topic\": 1}, {\"x1\": 0.0, \"x2\": -0.5, \"topic\": -1}, {\"x1\": 0.0, \"x2\": 0.0, \"topic\": -1}, {\"x1\": 0.0, \"x2\": 0.0, \"topic\": -1}, {\"x1\": 0.5, \"x2\": -0.5, \"topic\": 1}, {\"x1\": -0.5, \"x2\": 0.0, \"topic\": -1}, {\"x1\": -1.0, \"x2\": 0.5, \"topic\": 0}, {\"x1\": 0.0, \"x2\": 0.5, \"topic\": -1}, {\"x1\": 0.5, \"x2\": 1.0, \"topic\": 2}, {\"x1\": 1.0, \"x2\": -1.0, \"topic\": 1}, {\"x1\": 0.5, \"x2\": -0.5, \"topic\": 1}, {\"x1\": -1.0, \"x2\": 0.0, \"topic\": 0}, {\"x1\": 0.5, \"x2\": 0.0, \"topic\": -1}, {\"x1\": 1.0, \"x2\": -1.0, \"topic\": 1}, {\"x1\": 0.5, \"x2\": 0.0, \"topic\": -1}, {\"x1\": 0.5, \"x2\": 0.0, \"topic\": -1}, {\"x1\": 0.5, \"x2\": -0.5, \"topic\": 1}, {\"x1\": 0.5, \"x2\": 0.0, \"topic\": -1}, {\"x1\": 0.5, \"x2\": 0.0, \"topic\": -1}, {\"x1\": -1.0, \"x2\": 0.5, \"topic\": 0}, {\"x1\": 1.0, \"x2\": 0.5, \"topic\": -1}, {\"x1\": -1.0, \"x2\": 0.5, \"topic\": 0}, {\"x1\": 0.5, \"x2\": 0.0, \"topic\": -1}]}}, {\"mode\": \"vega-lite\"});\n",
       "</script>"
      ],
      "text/plain": [
       "alt.HConcatChart(...)"
      ]
     },
     "metadata": {},
     "output_type": "display_data"
    }
   ],
   "source": [
    "# 두 시각화 결합\n",
    "gtm_chart = gtm_means_chart | gtm_modes_chart\n",
    "gtm_chart.display()"
   ]
  },
  {
   "cell_type": "code",
   "execution_count": 637,
   "metadata": {},
   "outputs": [],
   "source": [
    "# Construct GTM\n",
    "gtm_all = eGTM(k=5, model=\"responsibilities\").fit(probabilities)\n",
    "\n",
    "gtm_modes_all = eGTM(k=5, model=\"modes\").fit_transform(probabilities)\n",
    "\n",
    "dgtm_modes_all = pd.DataFrame(gtm_modes_all, columns=[\"x1\", \"x2\"])\n",
    "# dgtm_modes[\"label\"] = y\n",
    "\n",
    "gtm_modes_all = alt.Chart(dgtm_modes_all).mark_circle().encode(\n",
    "    x='x1',\n",
    "    y='x2',\n",
    "#    color=alt.Color('label:N',\n",
    "#                    scale=alt.Scale(scheme='viridis')),\n",
    "    size=alt.value(3000),\n",
    "    tooltip=['x1','x2','label:N']\n",
    ").properties(title = \"GTM (modes)\", width = 500, height = 500)"
   ]
  },
  {
   "cell_type": "code",
   "execution_count": 639,
   "metadata": {},
   "outputs": [
    {
     "data": {
      "text/html": [
       "\n",
       "<style>\n",
       "  #altair-viz-b911be510ae84b4c9919d68891c9ce43.vega-embed {\n",
       "    width: 100%;\n",
       "    display: flex;\n",
       "  }\n",
       "\n",
       "  #altair-viz-b911be510ae84b4c9919d68891c9ce43.vega-embed details,\n",
       "  #altair-viz-b911be510ae84b4c9919d68891c9ce43.vega-embed details summary {\n",
       "    position: relative;\n",
       "  }\n",
       "</style>\n",
       "<div id=\"altair-viz-b911be510ae84b4c9919d68891c9ce43\"></div>\n",
       "<script type=\"text/javascript\">\n",
       "  var VEGA_DEBUG = (typeof VEGA_DEBUG == \"undefined\") ? {} : VEGA_DEBUG;\n",
       "  (function(spec, embedOpt){\n",
       "    let outputDiv = document.currentScript.previousElementSibling;\n",
       "    if (outputDiv.id !== \"altair-viz-b911be510ae84b4c9919d68891c9ce43\") {\n",
       "      outputDiv = document.getElementById(\"altair-viz-b911be510ae84b4c9919d68891c9ce43\");\n",
       "    }\n",
       "    const paths = {\n",
       "      \"vega\": \"https://cdn.jsdelivr.net/npm/vega@5?noext\",\n",
       "      \"vega-lib\": \"https://cdn.jsdelivr.net/npm/vega-lib?noext\",\n",
       "      \"vega-lite\": \"https://cdn.jsdelivr.net/npm/vega-lite@5.17.0?noext\",\n",
       "      \"vega-embed\": \"https://cdn.jsdelivr.net/npm/vega-embed@6?noext\",\n",
       "    };\n",
       "\n",
       "    function maybeLoadScript(lib, version) {\n",
       "      var key = `${lib.replace(\"-\", \"\")}_version`;\n",
       "      return (VEGA_DEBUG[key] == version) ?\n",
       "        Promise.resolve(paths[lib]) :\n",
       "        new Promise(function(resolve, reject) {\n",
       "          var s = document.createElement('script');\n",
       "          document.getElementsByTagName(\"head\")[0].appendChild(s);\n",
       "          s.async = true;\n",
       "          s.onload = () => {\n",
       "            VEGA_DEBUG[key] = version;\n",
       "            return resolve(paths[lib]);\n",
       "          };\n",
       "          s.onerror = () => reject(`Error loading script: ${paths[lib]}`);\n",
       "          s.src = paths[lib];\n",
       "        });\n",
       "    }\n",
       "\n",
       "    function showError(err) {\n",
       "      outputDiv.innerHTML = `<div class=\"error\" style=\"color:red;\">${err}</div>`;\n",
       "      throw err;\n",
       "    }\n",
       "\n",
       "    function displayChart(vegaEmbed) {\n",
       "      vegaEmbed(outputDiv, spec, embedOpt)\n",
       "        .catch(err => showError(`Javascript Error: ${err.message}<br>This usually means there's a typo in your chart specification. See the javascript console for the full traceback.`));\n",
       "    }\n",
       "\n",
       "    if(typeof define === \"function\" && define.amd) {\n",
       "      requirejs.config({paths});\n",
       "      require([\"vega-embed\"], displayChart, err => showError(`Error loading script: ${err.message}`));\n",
       "    } else {\n",
       "      maybeLoadScript(\"vega\", \"5\")\n",
       "        .then(() => maybeLoadScript(\"vega-lite\", \"5.17.0\"))\n",
       "        .then(() => maybeLoadScript(\"vega-embed\", \"6\"))\n",
       "        .catch(showError)\n",
       "        .then(() => displayChart(vegaEmbed));\n",
       "    }\n",
       "  })({\"config\": {\"view\": {\"continuousWidth\": 300, \"continuousHeight\": 300}}, \"data\": {\"name\": \"data-3499160f7ded7d77f4dd11a39909473b\"}, \"mark\": {\"type\": \"circle\"}, \"encoding\": {\"size\": {\"value\": 3000}, \"tooltip\": [{\"field\": \"x1\", \"type\": \"quantitative\"}, {\"field\": \"x2\", \"type\": \"quantitative\"}, {\"field\": \"label\", \"type\": \"nominal\"}], \"x\": {\"field\": \"x1\", \"type\": \"quantitative\"}, \"y\": {\"field\": \"x2\", \"type\": \"quantitative\"}}, \"height\": 500, \"title\": \"GTM (modes)\", \"width\": 500, \"$schema\": \"https://vega.github.io/schema/vega-lite/v5.17.0.json\", \"datasets\": {\"data-3499160f7ded7d77f4dd11a39909473b\": [{\"x1\": -1.0, \"x2\": 1.0}, {\"x1\": -0.5, \"x2\": 0.5}, {\"x1\": 0.5, \"x2\": -0.5}, {\"x1\": -1.0, \"x2\": 0.0}, {\"x1\": 1.0, \"x2\": -1.0}, {\"x1\": -1.0, \"x2\": -1.0}, {\"x1\": 0.5, \"x2\": -0.5}, {\"x1\": 0.5, \"x2\": 0.5}, {\"x1\": -1.0, \"x2\": 1.0}, {\"x1\": 0.0, \"x2\": 0.5}, {\"x1\": -1.0, \"x2\": 1.0}, {\"x1\": 0.5, \"x2\": 0.0}, {\"x1\": 0.5, \"x2\": 0.5}, {\"x1\": 1.0, \"x2\": -0.5}, {\"x1\": 0.0, \"x2\": -0.5}, {\"x1\": 1.0, \"x2\": 0.0}, {\"x1\": -0.5, \"x2\": -0.5}, {\"x1\": -0.5, \"x2\": 0.5}, {\"x1\": 1.0, \"x2\": 0.5}, {\"x1\": -1.0, \"x2\": 0.0}, {\"x1\": 0.5, \"x2\": -0.5}, {\"x1\": 1.0, \"x2\": 0.0}, {\"x1\": -0.5, \"x2\": 1.0}, {\"x1\": 0.5, \"x2\": 0.5}, {\"x1\": 0.0, \"x2\": 0.0}, {\"x1\": 1.0, \"x2\": 0.0}, {\"x1\": 1.0, \"x2\": 0.5}, {\"x1\": 1.0, \"x2\": -1.0}, {\"x1\": 0.5, \"x2\": 1.0}, {\"x1\": -1.0, \"x2\": 0.5}, {\"x1\": 0.5, \"x2\": -0.5}, {\"x1\": 0.5, \"x2\": -0.5}, {\"x1\": -1.0, \"x2\": 0.0}, {\"x1\": 0.0, \"x2\": 0.5}, {\"x1\": -1.0, \"x2\": 0.0}, {\"x1\": -1.0, \"x2\": -1.0}, {\"x1\": 0.5, \"x2\": 0.5}, {\"x1\": -1.0, \"x2\": -1.0}, {\"x1\": 1.0, \"x2\": -0.5}, {\"x1\": -1.0, \"x2\": 1.0}, {\"x1\": 1.0, \"x2\": 1.0}, {\"x1\": 0.5, \"x2\": 0.0}, {\"x1\": -1.0, \"x2\": 0.5}, {\"x1\": 1.0, \"x2\": 0.0}, {\"x1\": -1.0, \"x2\": 0.0}, {\"x1\": 1.0, \"x2\": -1.0}, {\"x1\": 0.5, \"x2\": 1.0}, {\"x1\": -0.5, \"x2\": -1.0}, {\"x1\": -1.0, \"x2\": 0.0}, {\"x1\": 0.5, \"x2\": -0.5}, {\"x1\": -0.5, \"x2\": 1.0}, {\"x1\": -1.0, \"x2\": 0.0}, {\"x1\": -1.0, \"x2\": 0.0}, {\"x1\": -1.0, \"x2\": 0.0}, {\"x1\": 1.0, \"x2\": 0.0}, {\"x1\": 1.0, \"x2\": -0.5}, {\"x1\": 0.0, \"x2\": 0.0}, {\"x1\": 1.0, \"x2\": 0.5}, {\"x1\": 0.5, \"x2\": 0.5}, {\"x1\": -1.0, \"x2\": 0.5}, {\"x1\": -0.5, \"x2\": 0.0}, {\"x1\": 0.5, \"x2\": 0.5}, {\"x1\": 0.5, \"x2\": -0.5}, {\"x1\": 1.0, \"x2\": -1.0}, {\"x1\": -0.5, \"x2\": -0.5}, {\"x1\": -1.0, \"x2\": 0.0}, {\"x1\": 0.5, \"x2\": 0.0}, {\"x1\": -0.5, \"x2\": -1.0}, {\"x1\": 0.0, \"x2\": -0.5}, {\"x1\": -1.0, \"x2\": 0.5}, {\"x1\": 1.0, \"x2\": -0.5}, {\"x1\": 0.5, \"x2\": 0.5}, {\"x1\": -0.5, \"x2\": 0.5}, {\"x1\": 1.0, \"x2\": -0.5}, {\"x1\": 0.0, \"x2\": 0.0}, {\"x1\": -0.5, \"x2\": -1.0}, {\"x1\": 0.5, \"x2\": -0.5}, {\"x1\": -0.5, \"x2\": -0.5}, {\"x1\": -0.5, \"x2\": -1.0}, {\"x1\": 1.0, \"x2\": 0.5}, {\"x1\": -1.0, \"x2\": 0.0}, {\"x1\": 1.0, \"x2\": 0.0}, {\"x1\": 1.0, \"x2\": -0.5}, {\"x1\": 0.0, \"x2\": 0.5}, {\"x1\": 1.0, \"x2\": -1.0}, {\"x1\": 1.0, \"x2\": 0.5}, {\"x1\": 0.0, \"x2\": 0.0}, {\"x1\": 0.0, \"x2\": 0.5}, {\"x1\": 0.5, \"x2\": 0.0}, {\"x1\": 1.0, \"x2\": 0.0}, {\"x1\": -1.0, \"x2\": 1.0}, {\"x1\": 1.0, \"x2\": -1.0}, {\"x1\": 1.0, \"x2\": -1.0}, {\"x1\": 1.0, \"x2\": 0.5}, {\"x1\": 0.5, \"x2\": 0.0}, {\"x1\": 0.5, \"x2\": -0.5}, {\"x1\": -0.5, \"x2\": 0.0}, {\"x1\": -0.5, \"x2\": 0.5}, {\"x1\": 1.0, \"x2\": 0.5}, {\"x1\": 0.5, \"x2\": 0.0}, {\"x1\": -1.0, \"x2\": 1.0}, {\"x1\": 0.0, \"x2\": -0.5}, {\"x1\": -0.5, \"x2\": 0.5}, {\"x1\": -1.0, \"x2\": -1.0}, {\"x1\": -0.5, \"x2\": 1.0}, {\"x1\": 1.0, \"x2\": 0.5}, {\"x1\": -1.0, \"x2\": 1.0}, {\"x1\": -0.5, \"x2\": -0.5}, {\"x1\": 0.5, \"x2\": 0.5}, {\"x1\": -0.5, \"x2\": -0.5}, {\"x1\": 1.0, \"x2\": 1.0}, {\"x1\": -1.0, \"x2\": -1.0}, {\"x1\": -0.5, \"x2\": 0.0}, {\"x1\": -0.5, \"x2\": 0.0}, {\"x1\": 1.0, \"x2\": 1.0}, {\"x1\": 1.0, \"x2\": -1.0}, {\"x1\": 1.0, \"x2\": 0.0}, {\"x1\": 1.0, \"x2\": 0.0}, {\"x1\": 0.5, \"x2\": 0.0}, {\"x1\": -1.0, \"x2\": -1.0}, {\"x1\": 0.0, \"x2\": -0.5}, {\"x1\": 0.0, \"x2\": 1.0}, {\"x1\": 0.5, \"x2\": 0.0}, {\"x1\": 1.0, \"x2\": -0.5}, {\"x1\": 0.0, \"x2\": -0.5}, {\"x1\": 0.0, \"x2\": -0.5}, {\"x1\": 1.0, \"x2\": 0.5}, {\"x1\": -0.5, \"x2\": -1.0}, {\"x1\": 1.0, \"x2\": -1.0}, {\"x1\": 1.0, \"x2\": 0.0}, {\"x1\": 0.5, \"x2\": -0.5}, {\"x1\": 1.0, \"x2\": 0.0}, {\"x1\": -1.0, \"x2\": 1.0}, {\"x1\": -0.5, \"x2\": 0.0}, {\"x1\": 0.5, \"x2\": 0.0}, {\"x1\": 0.5, \"x2\": -0.5}, {\"x1\": -1.0, \"x2\": 0.5}, {\"x1\": -0.5, \"x2\": 1.0}, {\"x1\": 0.5, \"x2\": 1.0}, {\"x1\": 0.0, \"x2\": 0.5}, {\"x1\": 0.0, \"x2\": 0.0}, {\"x1\": 0.5, \"x2\": 0.0}, {\"x1\": 1.0, \"x2\": 0.5}, {\"x1\": 0.0, \"x2\": 1.0}, {\"x1\": 0.5, \"x2\": 1.0}, {\"x1\": 0.0, \"x2\": 0.0}, {\"x1\": -0.5, \"x2\": -1.0}, {\"x1\": 0.0, \"x2\": -0.5}, {\"x1\": 1.0, \"x2\": -0.5}, {\"x1\": 1.0, \"x2\": 1.0}, {\"x1\": -1.0, \"x2\": 1.0}, {\"x1\": 0.0, \"x2\": 1.0}, {\"x1\": 1.0, \"x2\": 0.5}, {\"x1\": 0.5, \"x2\": 0.0}, {\"x1\": 0.0, \"x2\": 0.5}, {\"x1\": 1.0, \"x2\": 0.5}, {\"x1\": 1.0, \"x2\": -0.5}, {\"x1\": 1.0, \"x2\": -1.0}, {\"x1\": 0.5, \"x2\": -0.5}, {\"x1\": 0.5, \"x2\": 0.0}, {\"x1\": -1.0, \"x2\": -1.0}, {\"x1\": 0.0, \"x2\": 0.5}, {\"x1\": 0.0, \"x2\": 1.0}, {\"x1\": 0.0, \"x2\": -0.5}, {\"x1\": 1.0, \"x2\": 0.0}, {\"x1\": 0.0, \"x2\": 0.5}, {\"x1\": -0.5, \"x2\": 1.0}, {\"x1\": 1.0, \"x2\": 0.0}, {\"x1\": -0.5, \"x2\": -1.0}, {\"x1\": 0.5, \"x2\": 1.0}, {\"x1\": 0.0, \"x2\": 0.5}, {\"x1\": 0.5, \"x2\": 0.0}, {\"x1\": 0.5, \"x2\": 0.5}, {\"x1\": 0.0, \"x2\": -0.5}, {\"x1\": 0.5, \"x2\": 0.0}, {\"x1\": -1.0, \"x2\": -1.0}, {\"x1\": 0.0, \"x2\": 0.0}, {\"x1\": -0.5, \"x2\": 0.0}, {\"x1\": 0.0, \"x2\": 0.5}, {\"x1\": 1.0, \"x2\": -0.5}, {\"x1\": 0.0, \"x2\": 0.0}, {\"x1\": -1.0, \"x2\": -1.0}, {\"x1\": -0.5, \"x2\": 1.0}, {\"x1\": 0.0, \"x2\": 1.0}, {\"x1\": -1.0, \"x2\": 1.0}, {\"x1\": 1.0, \"x2\": 0.5}, {\"x1\": -0.5, \"x2\": 0.5}, {\"x1\": 0.5, \"x2\": 1.0}, {\"x1\": -1.0, \"x2\": 0.0}, {\"x1\": 0.5, \"x2\": 0.5}, {\"x1\": 1.0, \"x2\": -0.5}, {\"x1\": 0.5, \"x2\": -0.5}, {\"x1\": 0.0, \"x2\": 0.5}, {\"x1\": -1.0, \"x2\": 0.0}, {\"x1\": 0.0, \"x2\": -0.5}, {\"x1\": 1.0, \"x2\": 0.0}, {\"x1\": -1.0, \"x2\": 0.5}, {\"x1\": 0.0, \"x2\": 0.5}, {\"x1\": -1.0, \"x2\": 0.0}, {\"x1\": 0.5, \"x2\": 0.5}, {\"x1\": 0.5, \"x2\": 0.0}, {\"x1\": 0.5, \"x2\": 0.5}, {\"x1\": 0.5, \"x2\": 1.0}, {\"x1\": 0.0, \"x2\": 0.0}, {\"x1\": 0.5, \"x2\": 0.0}, {\"x1\": -0.5, \"x2\": 0.0}, {\"x1\": 1.0, \"x2\": -1.0}, {\"x1\": -1.0, \"x2\": 0.5}, {\"x1\": -1.0, \"x2\": -1.0}, {\"x1\": 0.0, \"x2\": 0.5}, {\"x1\": -1.0, \"x2\": -1.0}, {\"x1\": 1.0, \"x2\": 0.0}, {\"x1\": -1.0, \"x2\": 0.0}, {\"x1\": -0.5, \"x2\": -0.5}, {\"x1\": -0.5, \"x2\": 0.0}, {\"x1\": -0.5, \"x2\": 0.5}, {\"x1\": -0.5, \"x2\": 0.5}, {\"x1\": 1.0, \"x2\": -1.0}, {\"x1\": 1.0, \"x2\": -0.5}, {\"x1\": -1.0, \"x2\": -1.0}, {\"x1\": 0.0, \"x2\": -0.5}, {\"x1\": 1.0, \"x2\": 0.5}, {\"x1\": 0.0, \"x2\": 0.0}, {\"x1\": -1.0, \"x2\": 0.0}, {\"x1\": 0.0, \"x2\": -0.5}, {\"x1\": 1.0, \"x2\": 0.5}, {\"x1\": -1.0, \"x2\": 0.5}, {\"x1\": 0.5, \"x2\": 0.5}, {\"x1\": 0.5, \"x2\": 1.0}, {\"x1\": 0.0, \"x2\": -0.5}, {\"x1\": -1.0, \"x2\": -1.0}, {\"x1\": 0.0, \"x2\": 0.0}, {\"x1\": -0.5, \"x2\": 0.5}, {\"x1\": 1.0, \"x2\": 0.5}, {\"x1\": -1.0, \"x2\": 0.0}, {\"x1\": -1.0, \"x2\": 0.0}, {\"x1\": 0.0, \"x2\": 0.5}, {\"x1\": 0.5, \"x2\": 0.0}, {\"x1\": 0.0, \"x2\": -0.5}, {\"x1\": 0.0, \"x2\": -0.5}, {\"x1\": -1.0, \"x2\": 1.0}, {\"x1\": -0.5, \"x2\": 1.0}, {\"x1\": 1.0, \"x2\": -0.5}, {\"x1\": -0.5, \"x2\": 1.0}, {\"x1\": -0.5, \"x2\": 1.0}, {\"x1\": 0.0, \"x2\": 0.5}, {\"x1\": -0.5, \"x2\": 1.0}, {\"x1\": 0.5, \"x2\": 0.0}, {\"x1\": 1.0, \"x2\": -1.0}, {\"x1\": -1.0, \"x2\": -1.0}, {\"x1\": 0.5, \"x2\": -0.5}, {\"x1\": -1.0, \"x2\": 0.5}, {\"x1\": -0.5, \"x2\": -0.5}, {\"x1\": 1.0, \"x2\": -0.5}, {\"x1\": -1.0, \"x2\": 0.5}, {\"x1\": -0.5, \"x2\": -0.5}, {\"x1\": 0.5, \"x2\": 0.5}, {\"x1\": 0.5, \"x2\": -0.5}, {\"x1\": 0.5, \"x2\": -0.5}, {\"x1\": 1.0, \"x2\": -0.5}, {\"x1\": -0.5, \"x2\": 0.0}, {\"x1\": 0.5, \"x2\": -0.5}, {\"x1\": -0.5, \"x2\": 0.5}, {\"x1\": -0.5, \"x2\": 0.0}, {\"x1\": 0.5, \"x2\": -0.5}, {\"x1\": 0.5, \"x2\": -0.5}, {\"x1\": 1.0, \"x2\": -1.0}, {\"x1\": 0.5, \"x2\": 0.0}, {\"x1\": 0.0, \"x2\": 0.5}, {\"x1\": 0.5, \"x2\": 0.0}, {\"x1\": -1.0, \"x2\": -1.0}, {\"x1\": 0.0, \"x2\": 0.0}, {\"x1\": 1.0, \"x2\": -1.0}, {\"x1\": 0.0, \"x2\": 0.0}, {\"x1\": 0.0, \"x2\": -0.5}, {\"x1\": 1.0, \"x2\": 0.5}, {\"x1\": -0.5, \"x2\": -0.5}, {\"x1\": -1.0, \"x2\": 0.5}, {\"x1\": -1.0, \"x2\": -1.0}, {\"x1\": 0.0, \"x2\": -0.5}, {\"x1\": 0.5, \"x2\": -0.5}, {\"x1\": 0.0, \"x2\": -0.5}, {\"x1\": -0.5, \"x2\": 0.0}, {\"x1\": -0.5, \"x2\": 0.0}, {\"x1\": 0.5, \"x2\": -0.5}, {\"x1\": 1.0, \"x2\": -1.0}, {\"x1\": -0.5, \"x2\": 0.0}, {\"x1\": -1.0, \"x2\": -1.0}, {\"x1\": -0.5, \"x2\": 0.0}, {\"x1\": -1.0, \"x2\": 1.0}, {\"x1\": 0.0, \"x2\": -0.5}, {\"x1\": -0.5, \"x2\": -1.0}, {\"x1\": -1.0, \"x2\": -1.0}, {\"x1\": -0.5, \"x2\": 1.0}, {\"x1\": 1.0, \"x2\": -0.5}, {\"x1\": 1.0, \"x2\": 0.0}, {\"x1\": 1.0, \"x2\": -1.0}, {\"x1\": 1.0, \"x2\": 0.0}, {\"x1\": 1.0, \"x2\": -1.0}, {\"x1\": 0.0, \"x2\": -0.5}, {\"x1\": 0.0, \"x2\": 0.5}, {\"x1\": 1.0, \"x2\": 0.5}, {\"x1\": 1.0, \"x2\": 1.0}, {\"x1\": -0.5, \"x2\": 1.0}, {\"x1\": -0.5, \"x2\": 0.0}, {\"x1\": 0.5, \"x2\": -0.5}, {\"x1\": -1.0, \"x2\": 0.5}, {\"x1\": 0.0, \"x2\": 0.0}, {\"x1\": 0.5, \"x2\": 1.0}, {\"x1\": 1.0, \"x2\": -1.0}, {\"x1\": 1.0, \"x2\": -0.5}, {\"x1\": 0.5, \"x2\": 0.0}, {\"x1\": -0.5, \"x2\": -1.0}, {\"x1\": 1.0, \"x2\": 0.5}, {\"x1\": -1.0, \"x2\": -1.0}, {\"x1\": 1.0, \"x2\": -0.5}, {\"x1\": 0.0, \"x2\": -0.5}, {\"x1\": 1.0, \"x2\": -0.5}, {\"x1\": 0.0, \"x2\": 0.5}, {\"x1\": -1.0, \"x2\": 0.5}, {\"x1\": -1.0, \"x2\": -1.0}, {\"x1\": 0.0, \"x2\": 1.0}, {\"x1\": 0.0, \"x2\": 0.5}, {\"x1\": 0.0, \"x2\": 0.5}, {\"x1\": 1.0, \"x2\": 0.0}, {\"x1\": 1.0, \"x2\": 0.0}, {\"x1\": 0.5, \"x2\": 0.5}, {\"x1\": 0.0, \"x2\": -0.5}, {\"x1\": -1.0, \"x2\": 1.0}, {\"x1\": -1.0, \"x2\": -1.0}, {\"x1\": 0.0, \"x2\": 0.0}, {\"x1\": 0.5, \"x2\": 0.0}, {\"x1\": -0.5, \"x2\": -0.5}, {\"x1\": -0.5, \"x2\": 0.5}, {\"x1\": 1.0, \"x2\": 0.5}, {\"x1\": 0.5, \"x2\": 1.0}, {\"x1\": 0.0, \"x2\": -0.5}, {\"x1\": -1.0, \"x2\": -1.0}, {\"x1\": 0.0, \"x2\": 0.0}, {\"x1\": -1.0, \"x2\": 1.0}, {\"x1\": -0.5, \"x2\": 1.0}, {\"x1\": -0.5, \"x2\": 0.5}, {\"x1\": -0.5, \"x2\": 0.5}, {\"x1\": -0.5, \"x2\": -1.0}, {\"x1\": 0.5, \"x2\": 1.0}, {\"x1\": 0.5, \"x2\": -0.5}, {\"x1\": 0.5, \"x2\": -0.5}, {\"x1\": 1.0, \"x2\": 0.5}, {\"x1\": -0.5, \"x2\": 1.0}, {\"x1\": -0.5, \"x2\": -0.5}, {\"x1\": 0.5, \"x2\": 0.0}, {\"x1\": 1.0, \"x2\": 0.0}, {\"x1\": -0.5, \"x2\": 0.5}, {\"x1\": 0.0, \"x2\": 0.5}, {\"x1\": -1.0, \"x2\": 1.0}, {\"x1\": 1.0, \"x2\": -0.5}, {\"x1\": -0.5, \"x2\": -0.5}, {\"x1\": 0.5, \"x2\": 0.5}, {\"x1\": 0.5, \"x2\": -0.5}, {\"x1\": -0.5, \"x2\": 0.5}, {\"x1\": 0.5, \"x2\": 0.0}, {\"x1\": 1.0, \"x2\": -1.0}, {\"x1\": 0.5, \"x2\": 0.0}, {\"x1\": 1.0, \"x2\": 0.5}, {\"x1\": -0.5, \"x2\": -1.0}, {\"x1\": -1.0, \"x2\": -1.0}, {\"x1\": 0.0, \"x2\": 0.0}, {\"x1\": -0.5, \"x2\": -1.0}, {\"x1\": 0.0, \"x2\": -0.5}, {\"x1\": -1.0, \"x2\": -1.0}, {\"x1\": -0.5, \"x2\": -0.5}, {\"x1\": 0.0, \"x2\": 0.0}, {\"x1\": 0.5, \"x2\": 1.0}, {\"x1\": -1.0, \"x2\": 0.5}, {\"x1\": 0.0, \"x2\": -0.5}, {\"x1\": -1.0, \"x2\": -1.0}, {\"x1\": -1.0, \"x2\": 1.0}, {\"x1\": -0.5, \"x2\": 0.5}, {\"x1\": -0.5, \"x2\": -1.0}, {\"x1\": -1.0, \"x2\": -1.0}, {\"x1\": -1.0, \"x2\": -1.0}, {\"x1\": 0.5, \"x2\": 0.5}, {\"x1\": -1.0, \"x2\": -1.0}, {\"x1\": -1.0, \"x2\": 0.0}, {\"x1\": -1.0, \"x2\": 0.5}, {\"x1\": 0.0, \"x2\": 0.5}, {\"x1\": 0.5, \"x2\": 0.0}, {\"x1\": -0.5, \"x2\": -0.5}, {\"x1\": -1.0, \"x2\": -1.0}, {\"x1\": -1.0, \"x2\": -1.0}, {\"x1\": 1.0, \"x2\": 0.5}, {\"x1\": -0.5, \"x2\": -0.5}, {\"x1\": 1.0, \"x2\": -1.0}, {\"x1\": 1.0, \"x2\": 0.5}, {\"x1\": -0.5, \"x2\": 0.0}, {\"x1\": 0.5, \"x2\": 0.5}, {\"x1\": 1.0, \"x2\": 0.5}, {\"x1\": -1.0, \"x2\": -1.0}, {\"x1\": -1.0, \"x2\": 1.0}, {\"x1\": -1.0, \"x2\": -1.0}, {\"x1\": -0.5, \"x2\": -1.0}, {\"x1\": 0.0, \"x2\": -0.5}, {\"x1\": -1.0, \"x2\": -1.0}, {\"x1\": -1.0, \"x2\": -1.0}, {\"x1\": 1.0, \"x2\": -0.5}, {\"x1\": 1.0, \"x2\": -1.0}, {\"x1\": -0.5, \"x2\": 0.0}, {\"x1\": 0.5, \"x2\": 0.0}, {\"x1\": 0.5, \"x2\": 0.0}, {\"x1\": 1.0, \"x2\": -1.0}, {\"x1\": -0.5, \"x2\": 0.5}, {\"x1\": -0.5, \"x2\": 0.0}, {\"x1\": 1.0, \"x2\": 0.5}, {\"x1\": -0.5, \"x2\": 0.5}, {\"x1\": -0.5, \"x2\": -1.0}, {\"x1\": -1.0, \"x2\": 1.0}, {\"x1\": -0.5, \"x2\": 0.0}, {\"x1\": 0.5, \"x2\": -0.5}, {\"x1\": 1.0, \"x2\": 0.5}, {\"x1\": -0.5, \"x2\": 0.0}, {\"x1\": 0.5, \"x2\": -0.5}, {\"x1\": -1.0, \"x2\": 0.5}, {\"x1\": -1.0, \"x2\": 1.0}, {\"x1\": 0.0, \"x2\": 0.5}, {\"x1\": -0.5, \"x2\": 0.5}, {\"x1\": -1.0, \"x2\": 0.0}, {\"x1\": 0.0, \"x2\": -0.5}, {\"x1\": -0.5, \"x2\": 1.0}, {\"x1\": 1.0, \"x2\": -0.5}, {\"x1\": 0.0, \"x2\": -0.5}, {\"x1\": -0.5, \"x2\": -0.5}, {\"x1\": -0.5, \"x2\": -0.5}, {\"x1\": -0.5, \"x2\": 0.5}, {\"x1\": 1.0, \"x2\": 0.5}, {\"x1\": -0.5, \"x2\": -0.5}, {\"x1\": -0.5, \"x2\": -0.5}, {\"x1\": -0.5, \"x2\": 1.0}, {\"x1\": 0.0, \"x2\": -0.5}, {\"x1\": -1.0, \"x2\": 0.0}, {\"x1\": 1.0, \"x2\": 0.0}, {\"x1\": 0.5, \"x2\": 0.5}, {\"x1\": -1.0, \"x2\": -1.0}, {\"x1\": 1.0, \"x2\": -0.5}, {\"x1\": 1.0, \"x2\": 0.0}, {\"x1\": -0.5, \"x2\": 0.5}, {\"x1\": -0.5, \"x2\": -1.0}, {\"x1\": 0.5, \"x2\": 0.5}, {\"x1\": -1.0, \"x2\": 0.0}, {\"x1\": -1.0, \"x2\": -1.0}, {\"x1\": -0.5, \"x2\": 0.0}, {\"x1\": -0.5, \"x2\": 1.0}, {\"x1\": 1.0, \"x2\": 0.5}, {\"x1\": 1.0, \"x2\": 0.0}, {\"x1\": 0.5, \"x2\": 0.0}, {\"x1\": -1.0, \"x2\": 0.5}, {\"x1\": 0.5, \"x2\": 1.0}, {\"x1\": -1.0, \"x2\": 0.5}, {\"x1\": 0.0, \"x2\": -0.5}, {\"x1\": 1.0, \"x2\": -1.0}, {\"x1\": -0.5, \"x2\": -1.0}, {\"x1\": -0.5, \"x2\": -0.5}, {\"x1\": -1.0, \"x2\": 0.0}, {\"x1\": -0.5, \"x2\": -0.5}, {\"x1\": -1.0, \"x2\": -1.0}, {\"x1\": 0.5, \"x2\": 0.5}, {\"x1\": -1.0, \"x2\": -1.0}, {\"x1\": -1.0, \"x2\": -1.0}, {\"x1\": -0.5, \"x2\": -1.0}, {\"x1\": 0.0, \"x2\": 0.0}, {\"x1\": 0.5, \"x2\": 0.0}, {\"x1\": -0.5, \"x2\": 1.0}, {\"x1\": -1.0, \"x2\": 0.0}, {\"x1\": -1.0, \"x2\": -1.0}, {\"x1\": -1.0, \"x2\": -1.0}, {\"x1\": 1.0, \"x2\": 0.0}, {\"x1\": 1.0, \"x2\": 0.0}, {\"x1\": -1.0, \"x2\": 1.0}, {\"x1\": -1.0, \"x2\": 1.0}, {\"x1\": -1.0, \"x2\": -1.0}, {\"x1\": 1.0, \"x2\": -1.0}, {\"x1\": -1.0, \"x2\": -1.0}, {\"x1\": 0.5, \"x2\": 0.0}, {\"x1\": -1.0, \"x2\": -1.0}, {\"x1\": -0.5, \"x2\": 0.0}, {\"x1\": 0.5, \"x2\": 0.0}, {\"x1\": -0.5, \"x2\": 0.5}, {\"x1\": -1.0, \"x2\": 0.5}, {\"x1\": 0.5, \"x2\": -0.5}, {\"x1\": 0.5, \"x2\": 1.0}, {\"x1\": 1.0, \"x2\": -1.0}, {\"x1\": -0.5, \"x2\": -0.5}, {\"x1\": 1.0, \"x2\": -1.0}, {\"x1\": 0.5, \"x2\": 0.5}, {\"x1\": 1.0, \"x2\": -1.0}, {\"x1\": 0.5, \"x2\": -0.5}, {\"x1\": 1.0, \"x2\": -1.0}, {\"x1\": 0.0, \"x2\": -0.5}, {\"x1\": 0.5, \"x2\": 0.0}, {\"x1\": 1.0, \"x2\": -1.0}, {\"x1\": -1.0, \"x2\": -1.0}, {\"x1\": 0.5, \"x2\": -0.5}, {\"x1\": 1.0, \"x2\": 0.5}, {\"x1\": -1.0, \"x2\": -1.0}, {\"x1\": -1.0, \"x2\": -1.0}, {\"x1\": -0.5, \"x2\": -1.0}, {\"x1\": 1.0, \"x2\": 0.0}, {\"x1\": -1.0, \"x2\": 0.0}, {\"x1\": 1.0, \"x2\": 0.5}, {\"x1\": 1.0, \"x2\": 0.5}, {\"x1\": -0.5, \"x2\": 1.0}, {\"x1\": 0.0, \"x2\": -0.5}, {\"x1\": 1.0, \"x2\": -0.5}, {\"x1\": 0.0, \"x2\": 0.5}, {\"x1\": 1.0, \"x2\": -0.5}, {\"x1\": 0.5, \"x2\": 1.0}, {\"x1\": -1.0, \"x2\": -1.0}, {\"x1\": -0.5, \"x2\": 1.0}, {\"x1\": 0.0, \"x2\": 0.5}, {\"x1\": 0.5, \"x2\": 0.5}, {\"x1\": 1.0, \"x2\": -1.0}, {\"x1\": -0.5, \"x2\": 0.5}, {\"x1\": -1.0, \"x2\": 0.5}, {\"x1\": -1.0, \"x2\": -1.0}, {\"x1\": -1.0, \"x2\": -1.0}, {\"x1\": 0.5, \"x2\": 0.0}, {\"x1\": 1.0, \"x2\": 0.5}, {\"x1\": -1.0, \"x2\": 0.0}, {\"x1\": -1.0, \"x2\": -1.0}, {\"x1\": -1.0, \"x2\": 1.0}, {\"x1\": 1.0, \"x2\": -0.5}, {\"x1\": 1.0, \"x2\": -0.5}, {\"x1\": 0.5, \"x2\": 1.0}, {\"x1\": -0.5, \"x2\": -1.0}, {\"x1\": 0.5, \"x2\": -0.5}, {\"x1\": 0.0, \"x2\": 1.0}, {\"x1\": 0.0, \"x2\": 0.0}, {\"x1\": 0.0, \"x2\": 0.0}, {\"x1\": -1.0, \"x2\": -1.0}, {\"x1\": 0.5, \"x2\": 0.0}, {\"x1\": 0.5, \"x2\": 1.0}, {\"x1\": 0.0, \"x2\": 0.5}, {\"x1\": -0.5, \"x2\": -0.5}, {\"x1\": 0.5, \"x2\": 0.0}, {\"x1\": 0.5, \"x2\": -0.5}, {\"x1\": 0.5, \"x2\": -0.5}, {\"x1\": 0.5, \"x2\": 0.0}, {\"x1\": -1.0, \"x2\": 0.0}, {\"x1\": -0.5, \"x2\": 0.0}, {\"x1\": 0.5, \"x2\": -0.5}, {\"x1\": -0.5, \"x2\": 0.0}, {\"x1\": -0.5, \"x2\": 1.0}, {\"x1\": 1.0, \"x2\": -1.0}, {\"x1\": 0.0, \"x2\": 0.5}, {\"x1\": 1.0, \"x2\": 0.5}, {\"x1\": 1.0, \"x2\": 0.5}, {\"x1\": 1.0, \"x2\": -1.0}, {\"x1\": -1.0, \"x2\": -1.0}, {\"x1\": -1.0, \"x2\": -1.0}, {\"x1\": 0.5, \"x2\": 0.0}, {\"x1\": -0.5, \"x2\": 1.0}, {\"x1\": 0.5, \"x2\": -0.5}, {\"x1\": 0.5, \"x2\": 1.0}, {\"x1\": 0.5, \"x2\": -0.5}, {\"x1\": 0.0, \"x2\": -0.5}, {\"x1\": 0.5, \"x2\": 0.5}, {\"x1\": 1.0, \"x2\": 0.0}, {\"x1\": -1.0, \"x2\": -1.0}, {\"x1\": -0.5, \"x2\": -1.0}, {\"x1\": -0.5, \"x2\": 0.5}, {\"x1\": -0.5, \"x2\": -1.0}, {\"x1\": 1.0, \"x2\": 0.0}, {\"x1\": 0.5, \"x2\": 1.0}, {\"x1\": 1.0, \"x2\": -1.0}, {\"x1\": -1.0, \"x2\": 1.0}, {\"x1\": 1.0, \"x2\": -1.0}, {\"x1\": -0.5, \"x2\": 0.0}, {\"x1\": -1.0, \"x2\": -1.0}, {\"x1\": 0.5, \"x2\": -0.5}, {\"x1\": -1.0, \"x2\": -1.0}, {\"x1\": 0.0, \"x2\": 0.5}, {\"x1\": 1.0, \"x2\": -1.0}, {\"x1\": -0.5, \"x2\": 0.0}, {\"x1\": -1.0, \"x2\": -1.0}, {\"x1\": -1.0, \"x2\": -1.0}, {\"x1\": -1.0, \"x2\": -1.0}, {\"x1\": 1.0, \"x2\": -1.0}, {\"x1\": 0.5, \"x2\": 0.5}, {\"x1\": 1.0, \"x2\": 0.5}, {\"x1\": -0.5, \"x2\": 1.0}, {\"x1\": -0.5, \"x2\": -0.5}, {\"x1\": 0.5, \"x2\": 0.0}, {\"x1\": -1.0, \"x2\": 0.0}, {\"x1\": 0.0, \"x2\": 0.5}, {\"x1\": 0.5, \"x2\": 0.0}, {\"x1\": 0.5, \"x2\": 0.0}, {\"x1\": -1.0, \"x2\": -1.0}, {\"x1\": -1.0, \"x2\": 0.0}, {\"x1\": -0.5, \"x2\": 0.0}, {\"x1\": 1.0, \"x2\": -1.0}, {\"x1\": 1.0, \"x2\": -1.0}, {\"x1\": 0.5, \"x2\": -0.5}, {\"x1\": 0.0, \"x2\": -0.5}, {\"x1\": 0.0, \"x2\": 0.0}, {\"x1\": 0.0, \"x2\": 0.0}, {\"x1\": 0.5, \"x2\": -0.5}, {\"x1\": -0.5, \"x2\": 0.0}, {\"x1\": -1.0, \"x2\": 0.5}, {\"x1\": 0.0, \"x2\": 0.5}, {\"x1\": 0.5, \"x2\": 1.0}, {\"x1\": 1.0, \"x2\": -1.0}, {\"x1\": 0.5, \"x2\": -0.5}, {\"x1\": -1.0, \"x2\": 0.0}, {\"x1\": 0.5, \"x2\": 0.0}, {\"x1\": 1.0, \"x2\": -1.0}, {\"x1\": 0.5, \"x2\": 0.0}, {\"x1\": 0.5, \"x2\": 0.0}, {\"x1\": 0.5, \"x2\": -0.5}, {\"x1\": 0.5, \"x2\": 0.0}, {\"x1\": 0.5, \"x2\": 0.0}, {\"x1\": -1.0, \"x2\": 0.5}, {\"x1\": 1.0, \"x2\": 0.5}, {\"x1\": -1.0, \"x2\": 0.5}, {\"x1\": 0.5, \"x2\": 0.0}]}}, {\"mode\": \"vega-lite\"});\n",
       "</script>"
      ],
      "text/plain": [
       "alt.Chart(...)"
      ]
     },
     "metadata": {},
     "output_type": "display_data"
    }
   ],
   "source": [
    "gtm_modes_all.display()"
   ]
  },
  {
   "cell_type": "code",
   "execution_count": 640,
   "metadata": {},
   "outputs": [
    {
     "name": "stdout",
     "output_type": "stream",
     "text": [
      "         0         1         2         3         4         5         6   \\\n",
      "0  0.997153  1.005743  0.804985  0.652834  0.535686  0.690672  0.733221   \n",
      "1 -0.000229  0.004013  0.075923  0.139697  0.118090  0.119503  0.120173   \n",
      "2  0.000183  0.005316  0.103237  0.174790  0.191787  0.154850  0.112341   \n",
      "\n",
      "         7         8         9   ...        15        16        17        18  \\\n",
      "0  0.565144  0.451883  0.442677  ...  0.114114  0.154075  0.249744  0.231352   \n",
      "1  0.179978  0.223736  0.157164  ...  0.961873  0.606685  0.415389  0.307073   \n",
      "2  0.132284  0.156704  0.173400  ... -0.667320  0.107748  0.151384  0.185581   \n",
      "\n",
      "         19        20        21        22        23        24  \n",
      "0  0.001390  0.001783  0.096122  0.129528  0.185986  0.286248  \n",
      "1 -0.000667  0.996901  0.802521  0.682797  0.521777  0.083259  \n",
      "2  0.990047 -0.002392  0.086828  0.079935  0.139811  0.412966  \n",
      "\n",
      "[3 rows x 25 columns]\n"
     ]
    }
   ],
   "source": [
    "gtm_df = pd.DataFrame(probabilities)\n",
    "\n",
    "# transform을 적용할 함수 정의\n",
    "def custom_transform(x):\n",
    "    return x + 1\n",
    "\n",
    "# 각 요소에 함수를 적용하여 transform 수행\n",
    "gtm_inverse = gtm_df.apply(custom_transform)\n",
    "\n",
    "# print(gtm_inverse)\n",
    "\n",
    "transformed = gtm_all.transform(gtm_df)\n",
    "gtm = gtm_all.optimizedModel.matY\n",
    "\n",
    "gtm_res = pd.DataFrame(gtm)\n",
    "\n",
    "print(gtm_res)"
   ]
  },
  {
   "cell_type": "code",
   "execution_count": 641,
   "metadata": {},
   "outputs": [],
   "source": [
    "gtm_res.transpose().to_csv(\"C:/Users/user/Desktop/KoBERT/gtm_inverse_v.0.1.4.csv\")"
   ]
  },
  {
   "cell_type": "code",
   "execution_count": null,
   "metadata": {},
   "outputs": [],
   "source": []
  }
 ],
 "metadata": {
  "kernelspec": {
   "display_name": "Python 3",
   "language": "python",
   "name": "python3"
  },
  "language_info": {
   "codemirror_mode": {
    "name": "ipython",
    "version": 3
   },
   "file_extension": ".py",
   "mimetype": "text/x-python",
   "name": "python",
   "nbconvert_exporter": "python",
   "pygments_lexer": "ipython3",
   "version": "3.8.10"
  }
 },
 "nbformat": 4,
 "nbformat_minor": 2
}
