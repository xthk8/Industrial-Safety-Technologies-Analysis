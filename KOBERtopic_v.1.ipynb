{
 "cells": [
  {
   "cell_type": "code",
   "execution_count": 8,
   "metadata": {},
   "outputs": [
    {
     "name": "stdout",
     "output_type": "stream",
     "text": [
      "Collecting mxnet\n",
      "  Downloading mxnet-1.7.0.post2-py2.py3-none-win_amd64.whl (33.1 MB)\n",
      "Collecting requests<2.19.0,>=2.18.4\n",
      "  Downloading requests-2.18.4-py2.py3-none-any.whl (88 kB)\n",
      "Collecting graphviz<0.9.0,>=0.8.1\n",
      "  Downloading graphviz-0.8.4-py2.py3-none-any.whl (16 kB)\n",
      "Collecting numpy<1.17.0,>=1.8.2\n",
      "  Downloading numpy-1.16.6.zip (5.1 MB)\n",
      "Collecting idna<2.7,>=2.5\n",
      "  Downloading idna-2.6-py2.py3-none-any.whl (56 kB)\n",
      "Collecting chardet<3.1.0,>=3.0.2\n",
      "  Downloading chardet-3.0.4-py2.py3-none-any.whl (133 kB)\n",
      "Collecting urllib3<1.23,>=1.21.1\n",
      "  Downloading urllib3-1.22-py2.py3-none-any.whl (132 kB)\n",
      "Collecting certifi>=2017.4.17\n",
      "  Downloading certifi-2024.6.2-py3-none-any.whl (164 kB)\n",
      "Using legacy 'setup.py install' for numpy, since package 'wheel' is not installed.\n",
      "Installing collected packages: idna, chardet, urllib3, certifi, requests, graphviz, numpy, mxnet\n",
      "  Attempting uninstall: numpy\n",
      "    Found existing installation: numpy 1.24.4\n",
      "    Uninstalling numpy-1.24.4:\n",
      "      Successfully uninstalled numpy-1.24.4\n",
      "    Running setup.py install for numpy: started\n",
      "    Running setup.py install for numpy: still running...\n",
      "    Running setup.py install for numpy: finished with status 'done'\n"
     ]
    },
    {
     "name": "stderr",
     "output_type": "stream",
     "text": [
      "ERROR: Could not install packages due to an EnvironmentError: [WinError 5] 액세스가 거부되었습니다: 'C:\\\\Users\\\\user\\\\AppData\\\\Local\\\\Programs\\\\Python\\\\Python38\\\\Lib\\\\site-packages\\\\~umpy\\\\.libs\\\\libopenblas64__v0.3.21-gcc_10_3_0.dll'\n",
      "Consider using the `--user` option or check the permissions.\n",
      "\n",
      "WARNING: You are using pip version 20.2.3; however, version 24.0 is available.\n",
      "You should consider upgrading via the 'c:\\users\\user\\appdata\\local\\programs\\python\\python38\\python.exe -m pip install --upgrade pip' command.\n"
     ]
    },
    {
     "name": "stdout",
     "output_type": "stream",
     "text": [
      "Collecting gluonnlp\n",
      "  Downloading gluonnlp-0.10.0.tar.gz (344 kB)\n",
      "Collecting pandas\n",
      "  Downloading pandas-2.0.3-cp38-cp38-win_amd64.whl (10.8 MB)\n",
      "Requirement already satisfied: tqdm in c:\\users\\user\\appdata\\local\\programs\\python\\python38\\lib\\site-packages (4.66.4)\n",
      "Requirement already satisfied: numpy>=1.16.0 in c:\\users\\user\\appdata\\local\\programs\\python\\python38\\lib\\site-packages (from gluonnlp) (1.16.6)\n",
      "Collecting cython\n",
      "  Using cached Cython-3.0.10-cp38-cp38-win_amd64.whl (2.8 MB)\n",
      "Requirement already satisfied: packaging in c:\\users\\user\\appdata\\roaming\\python\\python38\\site-packages (from gluonnlp) (24.1)\n",
      "Requirement already satisfied: python-dateutil>=2.8.2 in c:\\users\\user\\appdata\\roaming\\python\\python38\\site-packages (from pandas) (2.9.0.post0)\n",
      "Collecting tzdata>=2022.1\n",
      "  Downloading tzdata-2024.1-py2.py3-none-any.whl (345 kB)\n",
      "Collecting pytz>=2020.1\n",
      "  Downloading pytz-2024.1-py2.py3-none-any.whl (505 kB)\n",
      "Requirement already satisfied: colorama; platform_system == \"Windows\" in c:\\users\\user\\appdata\\roaming\\python\\python38\\site-packages (from tqdm) (0.4.6)\n",
      "Requirement already satisfied: six>=1.5 in c:\\users\\user\\appdata\\roaming\\python\\python38\\site-packages (from python-dateutil>=2.8.2->pandas) (1.16.0)\n",
      "Using legacy 'setup.py install' for gluonnlp, since package 'wheel' is not installed.\n",
      "Installing collected packages: cython, gluonnlp, tzdata, pytz, pandas\n",
      "    Running setup.py install for gluonnlp: started\n",
      "    Running setup.py install for gluonnlp: finished with status 'done'\n",
      "Successfully installed cython-3.0.10 gluonnlp-0.10.0 pandas-2.0.3 pytz-2024.1 tzdata-2024.1\n"
     ]
    },
    {
     "name": "stderr",
     "output_type": "stream",
     "text": [
      "ERROR: After October 2020 you may experience errors when installing or updating packages. This is because pip will change the way that it resolves dependency conflicts.\n",
      "\n",
      "We recommend you use --use-feature=2020-resolver to test your packages with the new resolver before it becomes the default.\n",
      "\n",
      "pandas 2.0.3 requires numpy>=1.20.3; python_version < \"3.10\", but you'll have numpy 1.16.6 which is incompatible.\n",
      "WARNING: You are using pip version 20.2.3; however, version 24.0 is available.\n",
      "You should consider upgrading via the 'c:\\users\\user\\appdata\\local\\programs\\python\\python38\\python.exe -m pip install --upgrade pip' command.\n"
     ]
    },
    {
     "name": "stdout",
     "output_type": "stream",
     "text": [
      "Collecting sentencepiece==0.1.96\n",
      "  Downloading sentencepiece-0.1.96-cp38-cp38-win_amd64.whl (1.1 MB)\n",
      "Installing collected packages: sentencepiece\n",
      "Successfully installed sentencepiece-0.1.96\n"
     ]
    },
    {
     "name": "stderr",
     "output_type": "stream",
     "text": [
      "WARNING: You are using pip version 20.2.3; however, version 24.0 is available.\n",
      "You should consider upgrading via the 'c:\\users\\user\\appdata\\local\\programs\\python\\python38\\python.exe -m pip install --upgrade pip' command.\n"
     ]
    },
    {
     "name": "stdout",
     "output_type": "stream",
     "text": [
      "Collecting transformers==4.8.1\n",
      "  Downloading transformers-4.8.1-py3-none-any.whl (2.5 MB)\n",
      "Requirement already satisfied: requests in c:\\users\\user\\appdata\\local\\programs\\python\\python38\\lib\\site-packages (from transformers==4.8.1) (2.18.4)\n",
      "Requirement already satisfied: packaging in c:\\users\\user\\appdata\\roaming\\python\\python38\\site-packages (from transformers==4.8.1) (24.1)\n",
      "Collecting numpy>=1.17\n",
      "  Using cached numpy-1.24.4-cp38-cp38-win_amd64.whl (14.9 MB)\n",
      "Requirement already satisfied: tqdm>=4.27 in c:\\users\\user\\appdata\\local\\programs\\python\\python38\\lib\\site-packages (from transformers==4.8.1) (4.66.4)\n",
      "Requirement already satisfied: regex!=2019.12.17 in c:\\users\\user\\appdata\\local\\programs\\python\\python38\\lib\\site-packages (from transformers==4.8.1) (2024.5.15)\n",
      "Collecting huggingface-hub==0.0.12\n",
      "  Downloading huggingface_hub-0.0.12-py3-none-any.whl (37 kB)\n",
      "Collecting sacremoses\n",
      "  Downloading sacremoses-0.1.1-py3-none-any.whl (897 kB)\n",
      "Collecting pyyaml\n",
      "  Downloading PyYAML-6.0.1-cp38-cp38-win_amd64.whl (157 kB)\n",
      "Collecting tokenizers<0.11,>=0.10.1\n",
      "  Downloading tokenizers-0.10.3-cp38-cp38-win_amd64.whl (2.0 MB)\n",
      "Collecting filelock\n",
      "  Downloading filelock-3.15.3-py3-none-any.whl (16 kB)\n",
      "Requirement already satisfied: chardet<3.1.0,>=3.0.2 in c:\\users\\user\\appdata\\local\\programs\\python\\python38\\lib\\site-packages (from requests->transformers==4.8.1) (3.0.4)\n",
      "Requirement already satisfied: urllib3<1.23,>=1.21.1 in c:\\users\\user\\appdata\\local\\programs\\python\\python38\\lib\\site-packages (from requests->transformers==4.8.1) (1.22)\n",
      "Requirement already satisfied: certifi>=2017.4.17 in c:\\users\\user\\appdata\\local\\programs\\python\\python38\\lib\\site-packages (from requests->transformers==4.8.1) (2024.6.2)\n",
      "Requirement already satisfied: idna<2.7,>=2.5 in c:\\users\\user\\appdata\\local\\programs\\python\\python38\\lib\\site-packages (from requests->transformers==4.8.1) (2.6)\n",
      "Requirement already satisfied: colorama; platform_system == \"Windows\" in c:\\users\\user\\appdata\\roaming\\python\\python38\\site-packages (from tqdm>=4.27->transformers==4.8.1) (0.4.6)\n",
      "Requirement already satisfied: typing-extensions in c:\\users\\user\\appdata\\roaming\\python\\python38\\site-packages (from huggingface-hub==0.0.12->transformers==4.8.1) (4.12.2)\n",
      "Requirement already satisfied: click in c:\\users\\user\\appdata\\local\\programs\\python\\python38\\lib\\site-packages (from sacremoses->transformers==4.8.1) (8.1.7)\n",
      "Requirement already satisfied: joblib in c:\\users\\user\\appdata\\local\\programs\\python\\python38\\lib\\site-packages (from sacremoses->transformers==4.8.1) (1.4.2)\n",
      "Installing collected packages: numpy, filelock, huggingface-hub, sacremoses, pyyaml, tokenizers, transformers\n",
      "  Attempting uninstall: numpy\n",
      "    Found existing installation: numpy 1.16.6\n",
      "    Uninstalling numpy-1.16.6:\n",
      "      Successfully uninstalled numpy-1.16.6\n",
      "Successfully installed filelock-3.15.3 huggingface-hub-0.0.12 numpy-1.24.4 pyyaml-6.0.1 sacremoses-0.1.1 tokenizers-0.10.3 transformers-4.8.1\n"
     ]
    },
    {
     "name": "stderr",
     "output_type": "stream",
     "text": [
      "WARNING: You are using pip version 20.2.3; however, version 24.0 is available.\n",
      "You should consider upgrading via the 'c:\\users\\user\\appdata\\local\\programs\\python\\python38\\python.exe -m pip install --upgrade pip' command.\n"
     ]
    },
    {
     "name": "stdout",
     "output_type": "stream",
     "text": [
      "Collecting torch\n",
      "  Downloading torch-2.3.1-cp38-cp38-win_amd64.whl (159.8 MB)\n",
      "Collecting sympy\n",
      "  Downloading sympy-1.12.1-py3-none-any.whl (5.7 MB)\n",
      "Collecting networkx\n",
      "  Downloading networkx-3.1-py3-none-any.whl (2.1 MB)\n",
      "Requirement already satisfied: typing-extensions>=4.8.0 in c:\\users\\user\\appdata\\roaming\\python\\python38\\site-packages (from torch) (4.12.2)\n",
      "Collecting fsspec\n",
      "  Downloading fsspec-2024.6.0-py3-none-any.whl (176 kB)\n",
      "Collecting mkl<=2021.4.0,>=2021.1.1; platform_system == \"Windows\"\n",
      "  Downloading mkl-2021.4.0-py2.py3-none-win_amd64.whl (228.5 MB)\n",
      "Requirement already satisfied: filelock in c:\\users\\user\\appdata\\local\\programs\\python\\python38\\lib\\site-packages (from torch) (3.15.3)\n",
      "Collecting jinja2\n",
      "  Downloading jinja2-3.1.4-py3-none-any.whl (133 kB)\n",
      "Collecting mpmath<1.4.0,>=1.1.0\n",
      "  Downloading mpmath-1.3.0-py3-none-any.whl (536 kB)\n",
      "Collecting tbb==2021.*\n",
      "  Downloading tbb-2021.12.0-py3-none-win_amd64.whl (286 kB)\n",
      "Collecting intel-openmp==2021.*\n",
      "  Downloading intel_openmp-2021.4.0-py2.py3-none-win_amd64.whl (3.5 MB)\n",
      "Collecting MarkupSafe>=2.0\n",
      "  Downloading MarkupSafe-2.1.5-cp38-cp38-win_amd64.whl (17 kB)\n",
      "Installing collected packages: mpmath, sympy, networkx, fsspec, tbb, intel-openmp, mkl, MarkupSafe, jinja2, torch\n",
      "Successfully installed MarkupSafe-2.1.5 fsspec-2024.6.0 intel-openmp-2021.4.0 jinja2-3.1.4 mkl-2021.4.0 mpmath-1.3.0 networkx-3.1 sympy-1.12.1 tbb-2021.12.0 torch-2.3.1\n"
     ]
    },
    {
     "name": "stderr",
     "output_type": "stream",
     "text": [
      "WARNING: You are using pip version 20.2.3; however, version 24.0 is available.\n",
      "You should consider upgrading via the 'c:\\users\\user\\appdata\\local\\programs\\python\\python38\\python.exe -m pip install --upgrade pip' command.\n"
     ]
    },
    {
     "name": "stdout",
     "output_type": "stream",
     "text": [
      "Collecting xlrd==2.0.1\n",
      "  Downloading xlrd-2.0.1-py2.py3-none-any.whl (96 kB)\n",
      "Installing collected packages: xlrd\n",
      "Successfully installed xlrd-2.0.1\n"
     ]
    },
    {
     "name": "stderr",
     "output_type": "stream",
     "text": [
      "WARNING: You are using pip version 20.2.3; however, version 24.0 is available.\n",
      "You should consider upgrading via the 'c:\\users\\user\\appdata\\local\\programs\\python\\python38\\python.exe -m pip install --upgrade pip' command.\n"
     ]
    }
   ],
   "source": [
    "# 필요한 모듈 설치\n",
    "!pip install mxnet\n",
    "!pip install gluonnlp pandas tqdm\n",
    "!pip install sentencepiece==0.1.96\n",
    "!pip install transformers==4.8.1\n",
    "!pip install torch\n",
    "!pip install xlrd==2.0.1"
   ]
  },
  {
   "cell_type": "code",
   "execution_count": 9,
   "metadata": {},
   "outputs": [
    {
     "name": "stdout",
     "output_type": "stream",
     "text": [
      "Collecting git+https://****@github.com/SKTBrain/KoBERT.git@master\n",
      "  Cloning https://****@github.com/SKTBrain/KoBERT.git (to revision master) to c:\\users\\user\\appdata\\local\\temp\\pip-req-build-py0as6n9\n"
     ]
    },
    {
     "name": "stderr",
     "output_type": "stream",
     "text": [
      "  ERROR: Error [WinError 2] 지정된 파일을 찾을 수 없습니다 while executing command git clone -q 'https://****@github.com/SKTBrain/KoBERT.git' 'C:\\Users\\user\\AppData\\Local\\Temp\\pip-req-build-py0as6n9'\n",
      "ERROR: Cannot find command 'git' - do you have 'git' installed and in your PATH?\n",
      "WARNING: You are using pip version 20.2.3; however, version 24.0 is available.\n",
      "You should consider upgrading via the 'c:\\users\\user\\appdata\\local\\programs\\python\\python38\\python.exe -m pip install --upgrade pip' command.\n"
     ]
    }
   ],
   "source": [
    "#깃허브에서 KoBERT 파일 로드\n",
    "!pip install git+https://git@github.com/SKTBrain/KoBERT.git@master"
   ]
  },
  {
   "cell_type": "code",
   "execution_count": 13,
   "metadata": {},
   "outputs": [
    {
     "name": "stdout",
     "output_type": "stream",
     "text": [
      "Found existing installation: numpy 1.19.5\n",
      "Uninstalling numpy-1.19.5:\n",
      "  Successfully uninstalled numpy-1.19.5\n",
      "Collecting numpy==1.19.5\n",
      "  Using cached numpy-1.19.5-cp38-cp38-win_amd64.whl (13.3 MB)\n",
      "Installing collected packages: numpy\n",
      "Successfully installed numpy-1.19.5\n"
     ]
    },
    {
     "name": "stderr",
     "output_type": "stream",
     "text": [
      "ERROR: After October 2020 you may experience errors when installing or updating packages. This is because pip will change the way that it resolves dependency conflicts.\n",
      "\n",
      "We recommend you use --use-feature=2020-resolver to test your packages with the new resolver before it becomes the default.\n",
      "\n",
      "pandas 2.0.3 requires numpy>=1.20.3; python_version < \"3.10\", but you'll have numpy 1.19.5 which is incompatible.\n",
      "WARNING: You are using pip version 20.2.3; however, version 24.0 is available.\n",
      "You should consider upgrading via the 'c:\\users\\user\\appdata\\local\\programs\\python\\python38\\python.exe -m pip install --upgrade pip' command.\n"
     ]
    }
   ],
   "source": [
    "!pip uninstall -y numpy\n",
    "!pip install numpy==1.19.5"
   ]
  },
  {
   "cell_type": "code",
   "execution_count": 15,
   "metadata": {},
   "outputs": [
    {
     "name": "stdout",
     "output_type": "stream",
     "text": [
      "Requirement already satisfied: gluonnlp in c:\\users\\user\\appdata\\local\\programs\\python\\python38\\lib\\site-packages (0.10.0)\n",
      "Requirement already satisfied: numpy>=1.16.0 in c:\\users\\user\\appdata\\local\\programs\\python\\python38\\lib\\site-packages (from gluonnlp) (1.19.5)\n",
      "Requirement already satisfied: cython in c:\\users\\user\\appdata\\local\\programs\\python\\python38\\lib\\site-packages (from gluonnlp) (3.0.10)\n",
      "Requirement already satisfied: packaging in c:\\users\\user\\appdata\\roaming\\python\\python38\\site-packages (from gluonnlp) (24.1)\n"
     ]
    },
    {
     "name": "stderr",
     "output_type": "stream",
     "text": [
      "WARNING: You are using pip version 20.2.3; however, version 24.0 is available.\n",
      "You should consider upgrading via the 'c:\\users\\user\\appdata\\local\\programs\\python\\python38\\python.exe -m pip install --upgrade pip' command.\n",
      "'apt-get'��(��) ���� �Ǵ� �ܺ� ����, ������ �� �ִ� ���α׷�, �Ǵ�\n",
      "��ġ ������ �ƴմϴ�.\n"
     ]
    },
    {
     "name": "stdout",
     "output_type": "stream",
     "text": [
      "Requirement already satisfied: nltk in c:\\users\\user\\appdata\\local\\programs\\python\\python38\\lib\\site-packages (3.8.1)\n",
      "Requirement already satisfied: joblib in c:\\users\\user\\appdata\\local\\programs\\python\\python38\\lib\\site-packages (from nltk) (1.4.2)\n",
      "Requirement already satisfied: tqdm in c:\\users\\user\\appdata\\local\\programs\\python\\python38\\lib\\site-packages (from nltk) (4.66.4)\n",
      "Requirement already satisfied: click in c:\\users\\user\\appdata\\local\\programs\\python\\python38\\lib\\site-packages (from nltk) (8.1.7)\n",
      "Requirement already satisfied: regex>=2021.8.3 in c:\\users\\user\\appdata\\local\\programs\\python\\python38\\lib\\site-packages (from nltk) (2024.5.15)\n",
      "Requirement already satisfied: colorama; platform_system == \"Windows\" in c:\\users\\user\\appdata\\roaming\\python\\python38\\site-packages (from tqdm->nltk) (0.4.6)\n"
     ]
    },
    {
     "name": "stderr",
     "output_type": "stream",
     "text": [
      "WARNING: You are using pip version 20.2.3; however, version 24.0 is available.\n",
      "You should consider upgrading via the 'c:\\users\\user\\appdata\\local\\programs\\python\\python38\\python.exe -m pip install --upgrade pip' command.\n"
     ]
    },
    {
     "name": "stdout",
     "output_type": "stream",
     "text": [
      "Collecting bertopic\n",
      "  Downloading bertopic-0.16.2-py2.py3-none-any.whl (158 kB)\n",
      "Requirement already satisfied: pandas>=1.1.5 in c:\\users\\user\\appdata\\local\\programs\\python\\python38\\lib\\site-packages (from bertopic) (2.0.3)\n",
      "Collecting scikit-learn>=0.22.2.post1\n",
      "  Downloading scikit_learn-1.3.2-cp38-cp38-win_amd64.whl (9.3 MB)\n",
      "Collecting plotly>=4.7.0\n",
      "  Downloading plotly-5.22.0-py3-none-any.whl (16.4 MB)\n",
      "Collecting hdbscan>=0.8.29\n",
      "  Downloading hdbscan-0.8.37-cp38-cp38-win_amd64.whl (668 kB)\n",
      "Collecting umap-learn>=0.5.0\n",
      "  Downloading umap_learn-0.5.6-py3-none-any.whl (85 kB)\n",
      "Requirement already satisfied: tqdm>=4.41.1 in c:\\users\\user\\appdata\\local\\programs\\python\\python38\\lib\\site-packages (from bertopic) (4.66.4)\n",
      "Collecting numpy>=1.20.0\n",
      "  Using cached numpy-1.24.4-cp38-cp38-win_amd64.whl (14.9 MB)\n",
      "Collecting sentence-transformers>=0.4.1\n",
      "  Downloading sentence_transformers-3.0.1-py3-none-any.whl (227 kB)\n",
      "Requirement already satisfied: python-dateutil>=2.8.2 in c:\\users\\user\\appdata\\roaming\\python\\python38\\site-packages (from pandas>=1.1.5->bertopic) (2.9.0.post0)\n",
      "Requirement already satisfied: pytz>=2020.1 in c:\\users\\user\\appdata\\local\\programs\\python\\python38\\lib\\site-packages (from pandas>=1.1.5->bertopic) (2024.1)\n",
      "Requirement already satisfied: tzdata>=2022.1 in c:\\users\\user\\appdata\\local\\programs\\python\\python38\\lib\\site-packages (from pandas>=1.1.5->bertopic) (2024.1)\n",
      "Collecting threadpoolctl>=2.0.0\n",
      "  Downloading threadpoolctl-3.5.0-py3-none-any.whl (18 kB)\n",
      "Requirement already satisfied: joblib>=1.1.1 in c:\\users\\user\\appdata\\local\\programs\\python\\python38\\lib\\site-packages (from scikit-learn>=0.22.2.post1->bertopic) (1.4.2)\n",
      "Collecting scipy>=1.5.0\n",
      "  Downloading scipy-1.10.1-cp38-cp38-win_amd64.whl (42.2 MB)\n",
      "Requirement already satisfied: packaging in c:\\users\\user\\appdata\\roaming\\python\\python38\\site-packages (from plotly>=4.7.0->bertopic) (24.1)\n",
      "Collecting tenacity>=6.2.0\n",
      "  Downloading tenacity-8.4.1-py3-none-any.whl (27 kB)\n",
      "Collecting cython<3,>=0.27\n",
      "  Downloading Cython-0.29.37-py2.py3-none-any.whl (989 kB)\n",
      "Collecting numba>=0.51.2\n",
      "  Downloading numba-0.58.1-cp38-cp38-win_amd64.whl (2.6 MB)\n",
      "Collecting pynndescent>=0.5\n",
      "  Downloading pynndescent-0.5.13-py3-none-any.whl (56 kB)\n",
      "Requirement already satisfied: colorama; platform_system == \"Windows\" in c:\\users\\user\\appdata\\roaming\\python\\python38\\site-packages (from tqdm>=4.41.1->bertopic) (0.4.6)\n",
      "Collecting huggingface-hub>=0.15.1\n",
      "  Downloading huggingface_hub-0.23.4-py3-none-any.whl (402 kB)\n",
      "Collecting Pillow\n",
      "  Downloading pillow-10.3.0-cp38-cp38-win_amd64.whl (2.5 MB)\n",
      "Requirement already satisfied: torch>=1.11.0 in c:\\users\\user\\appdata\\local\\programs\\python\\python38\\lib\\site-packages (from sentence-transformers>=0.4.1->bertopic) (2.3.1)\n",
      "Collecting transformers<5.0.0,>=4.34.0\n",
      "  Downloading transformers-4.41.2-py3-none-any.whl (9.1 MB)\n",
      "Requirement already satisfied: six>=1.5 in c:\\users\\user\\appdata\\roaming\\python\\python38\\site-packages (from python-dateutil>=2.8.2->pandas>=1.1.5->bertopic) (1.16.0)\n",
      "Collecting llvmlite<0.42,>=0.41.0dev0\n",
      "  Downloading llvmlite-0.41.1-cp38-cp38-win_amd64.whl (28.1 MB)\n",
      "Requirement already satisfied: importlib-metadata; python_version < \"3.9\" in c:\\users\\user\\appdata\\roaming\\python\\python38\\site-packages (from numba>=0.51.2->umap-learn>=0.5.0->bertopic) (7.1.0)\n",
      "Requirement already satisfied: pyyaml>=5.1 in c:\\users\\user\\appdata\\local\\programs\\python\\python38\\lib\\site-packages (from huggingface-hub>=0.15.1->sentence-transformers>=0.4.1->bertopic) (6.0.1)\n",
      "Requirement already satisfied: filelock in c:\\users\\user\\appdata\\local\\programs\\python\\python38\\lib\\site-packages (from huggingface-hub>=0.15.1->sentence-transformers>=0.4.1->bertopic) (3.15.3)\n",
      "Requirement already satisfied: fsspec>=2023.5.0 in c:\\users\\user\\appdata\\local\\programs\\python\\python38\\lib\\site-packages (from huggingface-hub>=0.15.1->sentence-transformers>=0.4.1->bertopic) (2024.6.0)\n",
      "Requirement already satisfied: typing-extensions>=3.7.4.3 in c:\\users\\user\\appdata\\roaming\\python\\python38\\site-packages (from huggingface-hub>=0.15.1->sentence-transformers>=0.4.1->bertopic) (4.12.2)\n",
      "Requirement already satisfied: requests in c:\\users\\user\\appdata\\local\\programs\\python\\python38\\lib\\site-packages (from huggingface-hub>=0.15.1->sentence-transformers>=0.4.1->bertopic) (2.18.4)\n",
      "Requirement already satisfied: sympy in c:\\users\\user\\appdata\\local\\programs\\python\\python38\\lib\\site-packages (from torch>=1.11.0->sentence-transformers>=0.4.1->bertopic) (1.12.1)\n",
      "Requirement already satisfied: mkl<=2021.4.0,>=2021.1.1; platform_system == \"Windows\" in c:\\users\\user\\appdata\\local\\programs\\python\\python38\\lib\\site-packages (from torch>=1.11.0->sentence-transformers>=0.4.1->bertopic) (2021.4.0)\n",
      "Requirement already satisfied: networkx in c:\\users\\user\\appdata\\local\\programs\\python\\python38\\lib\\site-packages (from torch>=1.11.0->sentence-transformers>=0.4.1->bertopic) (3.1)\n",
      "Requirement already satisfied: jinja2 in c:\\users\\user\\appdata\\local\\programs\\python\\python38\\lib\\site-packages (from torch>=1.11.0->sentence-transformers>=0.4.1->bertopic) (3.1.4)\n",
      "Requirement already satisfied: regex!=2019.12.17 in c:\\users\\user\\appdata\\local\\programs\\python\\python38\\lib\\site-packages (from transformers<5.0.0,>=4.34.0->sentence-transformers>=0.4.1->bertopic) (2024.5.15)\n",
      "Collecting safetensors>=0.4.1\n",
      "  Downloading safetensors-0.4.3-cp38-none-win_amd64.whl (286 kB)\n",
      "Collecting tokenizers<0.20,>=0.19\n",
      "  Downloading tokenizers-0.19.1-cp38-none-win_amd64.whl (2.2 MB)\n",
      "Requirement already satisfied: zipp>=0.5 in c:\\users\\user\\appdata\\roaming\\python\\python38\\site-packages (from importlib-metadata; python_version < \"3.9\"->numba>=0.51.2->umap-learn>=0.5.0->bertopic) (3.19.2)\n",
      "Requirement already satisfied: chardet<3.1.0,>=3.0.2 in c:\\users\\user\\appdata\\local\\programs\\python\\python38\\lib\\site-packages (from requests->huggingface-hub>=0.15.1->sentence-transformers>=0.4.1->bertopic) (3.0.4)\n",
      "Requirement already satisfied: certifi>=2017.4.17 in c:\\users\\user\\appdata\\local\\programs\\python\\python38\\lib\\site-packages (from requests->huggingface-hub>=0.15.1->sentence-transformers>=0.4.1->bertopic) (2024.6.2)\n",
      "Requirement already satisfied: urllib3<1.23,>=1.21.1 in c:\\users\\user\\appdata\\local\\programs\\python\\python38\\lib\\site-packages (from requests->huggingface-hub>=0.15.1->sentence-transformers>=0.4.1->bertopic) (1.22)\n",
      "Requirement already satisfied: idna<2.7,>=2.5 in c:\\users\\user\\appdata\\local\\programs\\python\\python38\\lib\\site-packages (from requests->huggingface-hub>=0.15.1->sentence-transformers>=0.4.1->bertopic) (2.6)\n",
      "Requirement already satisfied: mpmath<1.4.0,>=1.1.0 in c:\\users\\user\\appdata\\local\\programs\\python\\python38\\lib\\site-packages (from sympy->torch>=1.11.0->sentence-transformers>=0.4.1->bertopic) (1.3.0)\n",
      "Requirement already satisfied: intel-openmp==2021.* in c:\\users\\user\\appdata\\local\\programs\\python\\python38\\lib\\site-packages (from mkl<=2021.4.0,>=2021.1.1; platform_system == \"Windows\"->torch>=1.11.0->sentence-transformers>=0.4.1->bertopic) (2021.4.0)\n",
      "Requirement already satisfied: tbb==2021.* in c:\\users\\user\\appdata\\local\\programs\\python\\python38\\lib\\site-packages (from mkl<=2021.4.0,>=2021.1.1; platform_system == \"Windows\"->torch>=1.11.0->sentence-transformers>=0.4.1->bertopic) (2021.12.0)\n",
      "Requirement already satisfied: MarkupSafe>=2.0 in c:\\users\\user\\appdata\\local\\programs\\python\\python38\\lib\\site-packages (from jinja2->torch>=1.11.0->sentence-transformers>=0.4.1->bertopic) (2.1.5)\n",
      "Installing collected packages: threadpoolctl, numpy, scipy, scikit-learn, tenacity, plotly, cython, hdbscan, llvmlite, numba, pynndescent, umap-learn, huggingface-hub, Pillow, safetensors, tokenizers, transformers, sentence-transformers, bertopic\n",
      "  Attempting uninstall: numpy\n",
      "    Found existing installation: numpy 1.19.5\n",
      "    Uninstalling numpy-1.19.5:\n",
      "      Successfully uninstalled numpy-1.19.5\n",
      "  Attempting uninstall: cython\n",
      "    Found existing installation: Cython 3.0.10\n",
      "    Uninstalling Cython-3.0.10:\n",
      "      Successfully uninstalled Cython-3.0.10\n",
      "  Attempting uninstall: huggingface-hub\n",
      "    Found existing installation: huggingface-hub 0.0.12\n",
      "    Uninstalling huggingface-hub-0.0.12:\n",
      "      Successfully uninstalled huggingface-hub-0.0.12\n",
      "  Attempting uninstall: tokenizers\n",
      "    Found existing installation: tokenizers 0.10.3\n",
      "    Uninstalling tokenizers-0.10.3:\n",
      "      Successfully uninstalled tokenizers-0.10.3\n",
      "  Attempting uninstall: transformers\n",
      "    Found existing installation: transformers 4.8.1\n",
      "    Uninstalling transformers-4.8.1:\n",
      "      Successfully uninstalled transformers-4.8.1\n",
      "Successfully installed Pillow-10.3.0 bertopic-0.16.2 cython-0.29.37 hdbscan-0.8.37 huggingface-hub-0.23.4 llvmlite-0.41.1 numba-0.58.1 numpy-1.24.4 plotly-5.22.0 pynndescent-0.5.13 safetensors-0.4.3 scikit-learn-1.3.2 scipy-1.10.1 sentence-transformers-3.0.1 tenacity-8.4.1 threadpoolctl-3.5.0 tokenizers-0.19.1 transformers-4.41.2 umap-learn-0.5.6\n"
     ]
    },
    {
     "name": "stderr",
     "output_type": "stream",
     "text": [
      "WARNING: You are using pip version 20.2.3; however, version 24.0 is available.\n",
      "You should consider upgrading via the 'c:\\users\\user\\appdata\\local\\programs\\python\\python38\\python.exe -m pip install --upgrade pip' command.\n"
     ]
    },
    {
     "name": "stdout",
     "output_type": "stream",
     "text": [
      "Requirement already satisfied: konlpy in c:\\users\\user\\appdata\\local\\programs\\python\\python38\\lib\\site-packages (0.6.0)\n",
      "Requirement already satisfied: numpy>=1.6 in c:\\users\\user\\appdata\\local\\programs\\python\\python38\\lib\\site-packages (from konlpy) (1.24.4)\n",
      "Requirement already satisfied: JPype1>=0.7.0 in c:\\users\\user\\appdata\\local\\programs\\python\\python38\\lib\\site-packages (from konlpy) (1.2.0)\n",
      "Requirement already satisfied: lxml>=4.1.0 in c:\\users\\user\\appdata\\local\\programs\\python\\python38\\lib\\site-packages (from konlpy) (5.2.2)\n"
     ]
    },
    {
     "name": "stderr",
     "output_type": "stream",
     "text": [
      "WARNING: You are using pip version 20.2.3; however, version 24.0 is available.\n",
      "You should consider upgrading via the 'c:\\users\\user\\appdata\\local\\programs\\python\\python38\\python.exe -m pip install --upgrade pip' command.\n"
     ]
    },
    {
     "name": "stdout",
     "output_type": "stream",
     "text": [
      "Collecting ugtm\n",
      "  Downloading ugtm-2.1.0.post2.tar.gz (48 kB)\n",
      "Requirement already satisfied: numpy>=1.14.5 in c:\\users\\user\\appdata\\local\\programs\\python\\python38\\lib\\site-packages (from ugtm) (1.24.4)\n",
      "Requirement already satisfied: scikit-learn>=0.20.0 in c:\\users\\user\\appdata\\local\\programs\\python\\python38\\lib\\site-packages (from ugtm) (1.3.2)\n",
      "Collecting matplotlib>=2.2.2\n",
      "  Downloading matplotlib-3.7.5-cp38-cp38-win_amd64.whl (7.5 MB)\n",
      "Requirement already satisfied: scipy>=0.19.1 in c:\\users\\user\\appdata\\local\\programs\\python\\python38\\lib\\site-packages (from ugtm) (1.10.1)\n",
      "Collecting mpld3>=0.3\n",
      "  Downloading mpld3-0.5.10-py3-none-any.whl (202 kB)\n",
      "Requirement already satisfied: jinja2>=2.10.0 in c:\\users\\user\\appdata\\local\\programs\\python\\python38\\lib\\site-packages (from ugtm) (3.1.4)\n",
      "Requirement already satisfied: joblib>=1.1.1 in c:\\users\\user\\appdata\\local\\programs\\python\\python38\\lib\\site-packages (from scikit-learn>=0.20.0->ugtm) (1.4.2)\n",
      "Requirement already satisfied: threadpoolctl>=2.0.0 in c:\\users\\user\\appdata\\local\\programs\\python\\python38\\lib\\site-packages (from scikit-learn>=0.20.0->ugtm) (3.5.0)\n",
      "Collecting contourpy>=1.0.1\n",
      "  Downloading contourpy-1.1.1-cp38-cp38-win_amd64.whl (477 kB)\n",
      "Collecting pyparsing>=2.3.1\n",
      "  Downloading pyparsing-3.1.2-py3-none-any.whl (103 kB)\n",
      "Requirement already satisfied: python-dateutil>=2.7 in c:\\users\\user\\appdata\\roaming\\python\\python38\\site-packages (from matplotlib>=2.2.2->ugtm) (2.9.0.post0)\n",
      "Requirement already satisfied: pillow>=6.2.0 in c:\\users\\user\\appdata\\local\\programs\\python\\python38\\lib\\site-packages (from matplotlib>=2.2.2->ugtm) (10.3.0)\n",
      "Collecting fonttools>=4.22.0\n",
      "  Downloading fonttools-4.53.0-cp38-cp38-win_amd64.whl (1.5 MB)\n",
      "Collecting importlib-resources>=3.2.0; python_version < \"3.10\"\n",
      "  Downloading importlib_resources-6.4.0-py3-none-any.whl (38 kB)\n",
      "Collecting cycler>=0.10\n",
      "  Downloading cycler-0.12.1-py3-none-any.whl (8.3 kB)\n",
      "Requirement already satisfied: packaging>=20.0 in c:\\users\\user\\appdata\\roaming\\python\\python38\\site-packages (from matplotlib>=2.2.2->ugtm) (24.1)\n",
      "Collecting kiwisolver>=1.0.1\n",
      "  Downloading kiwisolver-1.4.5-cp38-cp38-win_amd64.whl (56 kB)\n",
      "Requirement already satisfied: MarkupSafe>=2.0 in c:\\users\\user\\appdata\\local\\programs\\python\\python38\\lib\\site-packages (from jinja2>=2.10.0->ugtm) (2.1.5)\n",
      "Requirement already satisfied: six>=1.5 in c:\\users\\user\\appdata\\roaming\\python\\python38\\site-packages (from python-dateutil>=2.7->matplotlib>=2.2.2->ugtm) (1.16.0)\n",
      "Requirement already satisfied: zipp>=3.1.0; python_version < \"3.10\" in c:\\users\\user\\appdata\\roaming\\python\\python38\\site-packages (from importlib-resources>=3.2.0; python_version < \"3.10\"->matplotlib>=2.2.2->ugtm) (3.19.2)\n",
      "Using legacy 'setup.py install' for ugtm, since package 'wheel' is not installed.\n",
      "Installing collected packages: contourpy, pyparsing, fonttools, importlib-resources, cycler, kiwisolver, matplotlib, mpld3, ugtm\n",
      "    Running setup.py install for ugtm: started\n",
      "    Running setup.py install for ugtm: finished with status 'done'\n",
      "Successfully installed contourpy-1.1.1 cycler-0.12.1 fonttools-4.53.0 importlib-resources-6.4.0 kiwisolver-1.4.5 matplotlib-3.7.5 mpld3-0.5.10 pyparsing-3.1.2 ugtm-2.1.0.post2\n"
     ]
    },
    {
     "name": "stderr",
     "output_type": "stream",
     "text": [
      "WARNING: You are using pip version 20.2.3; however, version 24.0 is available.\n",
      "You should consider upgrading via the 'c:\\users\\user\\appdata\\local\\programs\\python\\python38\\python.exe -m pip install --upgrade pip' command.\n"
     ]
    },
    {
     "name": "stdout",
     "output_type": "stream",
     "text": [
      "Collecting umap\n",
      "  Downloading umap-0.1.1.tar.gz (3.2 kB)\n",
      "Using legacy 'setup.py install' for umap, since package 'wheel' is not installed.\n",
      "Installing collected packages: umap\n",
      "    Running setup.py install for umap: started\n",
      "    Running setup.py install for umap: finished with status 'done'\n",
      "Successfully installed umap-0.1.1\n"
     ]
    },
    {
     "name": "stderr",
     "output_type": "stream",
     "text": [
      "WARNING: You are using pip version 20.2.3; however, version 24.0 is available.\n",
      "You should consider upgrading via the 'c:\\users\\user\\appdata\\local\\programs\\python\\python38\\python.exe -m pip install --upgrade pip' command.\n"
     ]
    },
    {
     "name": "stdout",
     "output_type": "stream",
     "text": [
      "Requirement already satisfied: hdbscan in c:\\users\\user\\appdata\\local\\programs\\python\\python38\\lib\\site-packages (0.8.37)\n",
      "Requirement already satisfied: joblib>=1.0 in c:\\users\\user\\appdata\\local\\programs\\python\\python38\\lib\\site-packages (from hdbscan) (1.4.2)\n",
      "Requirement already satisfied: scipy>=1.0 in c:\\users\\user\\appdata\\local\\programs\\python\\python38\\lib\\site-packages (from hdbscan) (1.10.1)\n",
      "Requirement already satisfied: cython<3,>=0.27 in c:\\users\\user\\appdata\\local\\programs\\python\\python38\\lib\\site-packages (from hdbscan) (0.29.37)\n",
      "Requirement already satisfied: scikit-learn>=0.20 in c:\\users\\user\\appdata\\local\\programs\\python\\python38\\lib\\site-packages (from hdbscan) (1.3.2)\n",
      "Requirement already satisfied: numpy<2,>=1.20 in c:\\users\\user\\appdata\\local\\programs\\python\\python38\\lib\\site-packages (from hdbscan) (1.24.4)\n",
      "Requirement already satisfied: threadpoolctl>=2.0.0 in c:\\users\\user\\appdata\\local\\programs\\python\\python38\\lib\\site-packages (from scikit-learn>=0.20->hdbscan) (3.5.0)\n"
     ]
    },
    {
     "name": "stderr",
     "output_type": "stream",
     "text": [
      "WARNING: You are using pip version 20.2.3; however, version 24.0 is available.\n",
      "You should consider upgrading via the 'c:\\users\\user\\appdata\\local\\programs\\python\\python38\\python.exe -m pip install --upgrade pip' command.\n"
     ]
    },
    {
     "name": "stdout",
     "output_type": "stream",
     "text": [
      "Requirement already satisfied: umap-learn in c:\\users\\user\\appdata\\local\\programs\\python\\python38\\lib\\site-packages (0.5.6)\n",
      "Requirement already satisfied: numpy>=1.17 in c:\\users\\user\\appdata\\local\\programs\\python\\python38\\lib\\site-packages (from umap-learn) (1.24.4)\n",
      "Requirement already satisfied: tqdm in c:\\users\\user\\appdata\\local\\programs\\python\\python38\\lib\\site-packages (from umap-learn) (4.66.4)\n",
      "Requirement already satisfied: scikit-learn>=0.22 in c:\\users\\user\\appdata\\local\\programs\\python\\python38\\lib\\site-packages (from umap-learn) (1.3.2)\n",
      "Requirement already satisfied: pynndescent>=0.5 in c:\\users\\user\\appdata\\local\\programs\\python\\python38\\lib\\site-packages (from umap-learn) (0.5.13)\n",
      "Requirement already satisfied: scipy>=1.3.1 in c:\\users\\user\\appdata\\local\\programs\\python\\python38\\lib\\site-packages (from umap-learn) (1.10.1)\n",
      "Requirement already satisfied: numba>=0.51.2 in c:\\users\\user\\appdata\\local\\programs\\python\\python38\\lib\\site-packages (from umap-learn) (0.58.1)\n",
      "Requirement already satisfied: colorama; platform_system == \"Windows\" in c:\\users\\user\\appdata\\roaming\\python\\python38\\site-packages (from tqdm->umap-learn) (0.4.6)\n",
      "Requirement already satisfied: joblib>=1.1.1 in c:\\users\\user\\appdata\\local\\programs\\python\\python38\\lib\\site-packages (from scikit-learn>=0.22->umap-learn) (1.4.2)\n",
      "Requirement already satisfied: threadpoolctl>=2.0.0 in c:\\users\\user\\appdata\\local\\programs\\python\\python38\\lib\\site-packages (from scikit-learn>=0.22->umap-learn) (3.5.0)\n",
      "Requirement already satisfied: llvmlite>=0.30 in c:\\users\\user\\appdata\\local\\programs\\python\\python38\\lib\\site-packages (from pynndescent>=0.5->umap-learn) (0.41.1)\n",
      "Requirement already satisfied: importlib-metadata; python_version < \"3.9\" in c:\\users\\user\\appdata\\roaming\\python\\python38\\site-packages (from numba>=0.51.2->umap-learn) (7.1.0)\n",
      "Requirement already satisfied: zipp>=0.5 in c:\\users\\user\\appdata\\roaming\\python\\python38\\site-packages (from importlib-metadata; python_version < \"3.9\"->numba>=0.51.2->umap-learn) (3.19.2)\n"
     ]
    },
    {
     "name": "stderr",
     "output_type": "stream",
     "text": [
      "WARNING: You are using pip version 20.2.3; however, version 24.0 is available.\n",
      "You should consider upgrading via the 'c:\\users\\user\\appdata\\local\\programs\\python\\python38\\python.exe -m pip install --upgrade pip' command.\n"
     ]
    },
    {
     "name": "stdout",
     "output_type": "stream",
     "text": [
      "Requirement already satisfied: sentence_transformers in c:\\users\\user\\appdata\\local\\programs\\python\\python38\\lib\\site-packages (3.0.1)\n",
      "Requirement already satisfied: Pillow in c:\\users\\user\\appdata\\local\\programs\\python\\python38\\lib\\site-packages (from sentence_transformers) (10.3.0)\n",
      "Requirement already satisfied: torch>=1.11.0 in c:\\users\\user\\appdata\\local\\programs\\python\\python38\\lib\\site-packages (from sentence_transformers) (2.3.1)\n",
      "Requirement already satisfied: numpy in c:\\users\\user\\appdata\\local\\programs\\python\\python38\\lib\\site-packages (from sentence_transformers) (1.24.4)\n",
      "Requirement already satisfied: transformers<5.0.0,>=4.34.0 in c:\\users\\user\\appdata\\local\\programs\\python\\python38\\lib\\site-packages (from sentence_transformers) (4.41.2)\n",
      "Requirement already satisfied: tqdm in c:\\users\\user\\appdata\\local\\programs\\python\\python38\\lib\\site-packages (from sentence_transformers) (4.66.4)\n",
      "Requirement already satisfied: scipy in c:\\users\\user\\appdata\\local\\programs\\python\\python38\\lib\\site-packages (from sentence_transformers) (1.10.1)\n",
      "Requirement already satisfied: huggingface-hub>=0.15.1 in c:\\users\\user\\appdata\\local\\programs\\python\\python38\\lib\\site-packages (from sentence_transformers) (0.23.4)\n",
      "Requirement already satisfied: scikit-learn in c:\\users\\user\\appdata\\local\\programs\\python\\python38\\lib\\site-packages (from sentence_transformers) (1.3.2)\n",
      "Requirement already satisfied: mkl<=2021.4.0,>=2021.1.1; platform_system == \"Windows\" in c:\\users\\user\\appdata\\local\\programs\\python\\python38\\lib\\site-packages (from torch>=1.11.0->sentence_transformers) (2021.4.0)\n",
      "Requirement already satisfied: typing-extensions>=4.8.0 in c:\\users\\user\\appdata\\roaming\\python\\python38\\site-packages (from torch>=1.11.0->sentence_transformers) (4.12.2)\n",
      "Requirement already satisfied: jinja2 in c:\\users\\user\\appdata\\local\\programs\\python\\python38\\lib\\site-packages (from torch>=1.11.0->sentence_transformers) (3.1.4)\n",
      "Requirement already satisfied: sympy in c:\\users\\user\\appdata\\local\\programs\\python\\python38\\lib\\site-packages (from torch>=1.11.0->sentence_transformers) (1.12.1)\n",
      "Requirement already satisfied: filelock in c:\\users\\user\\appdata\\local\\programs\\python\\python38\\lib\\site-packages (from torch>=1.11.0->sentence_transformers) (3.15.3)\n",
      "Requirement already satisfied: fsspec in c:\\users\\user\\appdata\\local\\programs\\python\\python38\\lib\\site-packages (from torch>=1.11.0->sentence_transformers) (2024.6.0)\n",
      "Requirement already satisfied: networkx in c:\\users\\user\\appdata\\local\\programs\\python\\python38\\lib\\site-packages (from torch>=1.11.0->sentence_transformers) (3.1)\n",
      "Requirement already satisfied: regex!=2019.12.17 in c:\\users\\user\\appdata\\local\\programs\\python\\python38\\lib\\site-packages (from transformers<5.0.0,>=4.34.0->sentence_transformers) (2024.5.15)\n",
      "Requirement already satisfied: packaging>=20.0 in c:\\users\\user\\appdata\\roaming\\python\\python38\\site-packages (from transformers<5.0.0,>=4.34.0->sentence_transformers) (24.1)\n",
      "Requirement already satisfied: tokenizers<0.20,>=0.19 in c:\\users\\user\\appdata\\local\\programs\\python\\python38\\lib\\site-packages (from transformers<5.0.0,>=4.34.0->sentence_transformers) (0.19.1)\n",
      "Requirement already satisfied: requests in c:\\users\\user\\appdata\\local\\programs\\python\\python38\\lib\\site-packages (from transformers<5.0.0,>=4.34.0->sentence_transformers) (2.18.4)\n",
      "Requirement already satisfied: safetensors>=0.4.1 in c:\\users\\user\\appdata\\local\\programs\\python\\python38\\lib\\site-packages (from transformers<5.0.0,>=4.34.0->sentence_transformers) (0.4.3)\n",
      "Requirement already satisfied: pyyaml>=5.1 in c:\\users\\user\\appdata\\local\\programs\\python\\python38\\lib\\site-packages (from transformers<5.0.0,>=4.34.0->sentence_transformers) (6.0.1)\n",
      "Requirement already satisfied: colorama; platform_system == \"Windows\" in c:\\users\\user\\appdata\\roaming\\python\\python38\\site-packages (from tqdm->sentence_transformers) (0.4.6)\n",
      "Requirement already satisfied: threadpoolctl>=2.0.0 in c:\\users\\user\\appdata\\local\\programs\\python\\python38\\lib\\site-packages (from scikit-learn->sentence_transformers) (3.5.0)\n",
      "Requirement already satisfied: joblib>=1.1.1 in c:\\users\\user\\appdata\\local\\programs\\python\\python38\\lib\\site-packages (from scikit-learn->sentence_transformers) (1.4.2)\n",
      "Requirement already satisfied: intel-openmp==2021.* in c:\\users\\user\\appdata\\local\\programs\\python\\python38\\lib\\site-packages (from mkl<=2021.4.0,>=2021.1.1; platform_system == \"Windows\"->torch>=1.11.0->sentence_transformers) (2021.4.0)\n",
      "Requirement already satisfied: tbb==2021.* in c:\\users\\user\\appdata\\local\\programs\\python\\python38\\lib\\site-packages (from mkl<=2021.4.0,>=2021.1.1; platform_system == \"Windows\"->torch>=1.11.0->sentence_transformers) (2021.12.0)\n",
      "Requirement already satisfied: MarkupSafe>=2.0 in c:\\users\\user\\appdata\\local\\programs\\python\\python38\\lib\\site-packages (from jinja2->torch>=1.11.0->sentence_transformers) (2.1.5)\n",
      "Requirement already satisfied: mpmath<1.4.0,>=1.1.0 in c:\\users\\user\\appdata\\local\\programs\\python\\python38\\lib\\site-packages (from sympy->torch>=1.11.0->sentence_transformers) (1.3.0)\n",
      "Requirement already satisfied: certifi>=2017.4.17 in c:\\users\\user\\appdata\\local\\programs\\python\\python38\\lib\\site-packages (from requests->transformers<5.0.0,>=4.34.0->sentence_transformers) (2024.6.2)\n",
      "Requirement already satisfied: chardet<3.1.0,>=3.0.2 in c:\\users\\user\\appdata\\local\\programs\\python\\python38\\lib\\site-packages (from requests->transformers<5.0.0,>=4.34.0->sentence_transformers) (3.0.4)\n",
      "Requirement already satisfied: urllib3<1.23,>=1.21.1 in c:\\users\\user\\appdata\\local\\programs\\python\\python38\\lib\\site-packages (from requests->transformers<5.0.0,>=4.34.0->sentence_transformers) (1.22)\n",
      "Requirement already satisfied: idna<2.7,>=2.5 in c:\\users\\user\\appdata\\local\\programs\\python\\python38\\lib\\site-packages (from requests->transformers<5.0.0,>=4.34.0->sentence_transformers) (2.6)\n"
     ]
    },
    {
     "name": "stderr",
     "output_type": "stream",
     "text": [
      "WARNING: You are using pip version 20.2.3; however, version 24.0 is available.\n",
      "You should consider upgrading via the 'c:\\users\\user\\appdata\\local\\programs\\python\\python38\\python.exe -m pip install --upgrade pip' command.\n"
     ]
    }
   ],
   "source": [
    "# 자연어처리 모듈\n",
    "!pip install gluonnlp\n",
    "!apt-get -qq install -y kobert-transformer\n",
    "!pip install nltk\n",
    "!pip install bertopic\n",
    "\n",
    "# 불용어 처리 라이브러리\n",
    "!pip install konlpy\n",
    "\n",
    "# 차원축소 & 맵핑\n",
    "!pip install ugtm\n",
    "!pip install umap\n",
    "!pip install hdbscan\n",
    "!pip install umap-learn\n",
    "\n",
    "!pip install sentence_transformers"
   ]
  },
  {
   "cell_type": "code",
   "execution_count": 16,
   "metadata": {},
   "outputs": [],
   "source": [
    "import torch\n",
    "from torch import nn\n",
    "import torch.nn.functional as F\n",
    "import torch.optim as optim\n",
    "from torch.utils.data import Dataset, DataLoader\n",
    "#import gluonnlp as nlp\n",
    "import numpy as np\n",
    "from tqdm import tqdm, tqdm_notebook"
   ]
  },
  {
   "cell_type": "code",
   "execution_count": 18,
   "metadata": {},
   "outputs": [
    {
     "name": "stdout",
     "output_type": "stream",
     "text": [
      "Collecting kobert_transformers\n",
      "  Downloading kobert_transformers-0.5.1-py3-none-any.whl (12 kB)\n",
      "Requirement already satisfied: transformers<5,>=3 in c:\\users\\user\\appdata\\local\\programs\\python\\python38\\lib\\site-packages (from kobert_transformers) (4.41.2)\n",
      "Requirement already satisfied: torch>=1.1.0 in c:\\users\\user\\appdata\\local\\programs\\python\\python38\\lib\\site-packages (from kobert_transformers) (2.3.1)\n",
      "Requirement already satisfied: sentencepiece>=0.1.91 in c:\\users\\user\\appdata\\local\\programs\\python\\python38\\lib\\site-packages (from kobert_transformers) (0.1.96)\n",
      "Requirement already satisfied: numpy>=1.17 in c:\\users\\user\\appdata\\local\\programs\\python\\python38\\lib\\site-packages (from transformers<5,>=3->kobert_transformers) (1.24.4)\n",
      "Requirement already satisfied: requests in c:\\users\\user\\appdata\\local\\programs\\python\\python38\\lib\\site-packages (from transformers<5,>=3->kobert_transformers) (2.18.4)\n",
      "Requirement already satisfied: tqdm>=4.27 in c:\\users\\user\\appdata\\local\\programs\\python\\python38\\lib\\site-packages (from transformers<5,>=3->kobert_transformers) (4.66.4)\n",
      "Requirement already satisfied: pyyaml>=5.1 in c:\\users\\user\\appdata\\local\\programs\\python\\python38\\lib\\site-packages (from transformers<5,>=3->kobert_transformers) (6.0.1)\n",
      "Requirement already satisfied: tokenizers<0.20,>=0.19 in c:\\users\\user\\appdata\\local\\programs\\python\\python38\\lib\\site-packages (from transformers<5,>=3->kobert_transformers) (0.19.1)\n",
      "Requirement already satisfied: huggingface-hub<1.0,>=0.23.0 in c:\\users\\user\\appdata\\local\\programs\\python\\python38\\lib\\site-packages (from transformers<5,>=3->kobert_transformers) (0.23.4)\n",
      "Requirement already satisfied: regex!=2019.12.17 in c:\\users\\user\\appdata\\local\\programs\\python\\python38\\lib\\site-packages (from transformers<5,>=3->kobert_transformers) (2024.5.15)\n",
      "Requirement already satisfied: filelock in c:\\users\\user\\appdata\\local\\programs\\python\\python38\\lib\\site-packages (from transformers<5,>=3->kobert_transformers) (3.15.3)\n",
      "Requirement already satisfied: safetensors>=0.4.1 in c:\\users\\user\\appdata\\local\\programs\\python\\python38\\lib\\site-packages (from transformers<5,>=3->kobert_transformers) (0.4.3)\n",
      "Requirement already satisfied: packaging>=20.0 in c:\\users\\user\\appdata\\roaming\\python\\python38\\site-packages (from transformers<5,>=3->kobert_transformers) (24.1)\n",
      "Requirement already satisfied: fsspec in c:\\users\\user\\appdata\\local\\programs\\python\\python38\\lib\\site-packages (from torch>=1.1.0->kobert_transformers) (2024.6.0)\n",
      "Requirement already satisfied: mkl<=2021.4.0,>=2021.1.1; platform_system == \"Windows\" in c:\\users\\user\\appdata\\local\\programs\\python\\python38\\lib\\site-packages (from torch>=1.1.0->kobert_transformers) (2021.4.0)\n",
      "Requirement already satisfied: typing-extensions>=4.8.0 in c:\\users\\user\\appdata\\roaming\\python\\python38\\site-packages (from torch>=1.1.0->kobert_transformers) (4.12.2)\n",
      "Requirement already satisfied: networkx in c:\\users\\user\\appdata\\local\\programs\\python\\python38\\lib\\site-packages (from torch>=1.1.0->kobert_transformers) (3.1)\n",
      "Requirement already satisfied: sympy in c:\\users\\user\\appdata\\local\\programs\\python\\python38\\lib\\site-packages (from torch>=1.1.0->kobert_transformers) (1.12.1)\n",
      "Requirement already satisfied: jinja2 in c:\\users\\user\\appdata\\local\\programs\\python\\python38\\lib\\site-packages (from torch>=1.1.0->kobert_transformers) (3.1.4)\n",
      "Requirement already satisfied: certifi>=2017.4.17 in c:\\users\\user\\appdata\\local\\programs\\python\\python38\\lib\\site-packages (from requests->transformers<5,>=3->kobert_transformers) (2024.6.2)\n",
      "Requirement already satisfied: idna<2.7,>=2.5 in c:\\users\\user\\appdata\\local\\programs\\python\\python38\\lib\\site-packages (from requests->transformers<5,>=3->kobert_transformers) (2.6)\n",
      "Requirement already satisfied: chardet<3.1.0,>=3.0.2 in c:\\users\\user\\appdata\\local\\programs\\python\\python38\\lib\\site-packages (from requests->transformers<5,>=3->kobert_transformers) (3.0.4)\n",
      "Requirement already satisfied: urllib3<1.23,>=1.21.1 in c:\\users\\user\\appdata\\local\\programs\\python\\python38\\lib\\site-packages (from requests->transformers<5,>=3->kobert_transformers) (1.22)\n",
      "Requirement already satisfied: colorama; platform_system == \"Windows\" in c:\\users\\user\\appdata\\roaming\\python\\python38\\site-packages (from tqdm>=4.27->transformers<5,>=3->kobert_transformers) (0.4.6)\n",
      "Requirement already satisfied: intel-openmp==2021.* in c:\\users\\user\\appdata\\local\\programs\\python\\python38\\lib\\site-packages (from mkl<=2021.4.0,>=2021.1.1; platform_system == \"Windows\"->torch>=1.1.0->kobert_transformers) (2021.4.0)\n",
      "Requirement already satisfied: tbb==2021.* in c:\\users\\user\\appdata\\local\\programs\\python\\python38\\lib\\site-packages (from mkl<=2021.4.0,>=2021.1.1; platform_system == \"Windows\"->torch>=1.1.0->kobert_transformers) (2021.12.0)\n",
      "Requirement already satisfied: mpmath<1.4.0,>=1.1.0 in c:\\users\\user\\appdata\\local\\programs\\python\\python38\\lib\\site-packages (from sympy->torch>=1.1.0->kobert_transformers) (1.3.0)\n",
      "Requirement already satisfied: MarkupSafe>=2.0 in c:\\users\\user\\appdata\\local\\programs\\python\\python38\\lib\\site-packages (from jinja2->torch>=1.1.0->kobert_transformers) (2.1.5)\n",
      "Installing collected packages: kobert-transformers\n",
      "Successfully installed kobert-transformers-0.5.1\n"
     ]
    },
    {
     "name": "stderr",
     "output_type": "stream",
     "text": [
      "WARNING: You are using pip version 20.2.3; however, version 24.0 is available.\n",
      "You should consider upgrading via the 'c:\\users\\user\\appdata\\local\\programs\\python\\python38\\python.exe -m pip install --upgrade pip' command.\n"
     ]
    }
   ],
   "source": [
    "!pip install kobert_transformers"
   ]
  },
  {
   "cell_type": "code",
   "execution_count": 19,
   "metadata": {},
   "outputs": [],
   "source": [
    "#transformers\n",
    "from transformers import AdamW\n",
    "from transformers.optimization import get_cosine_schedule_with_warmup\n",
    "\n",
    "from kobert_transformers import get_kobert_model"
   ]
  },
  {
   "cell_type": "code",
   "execution_count": 5,
   "metadata": {},
   "outputs": [
    {
     "name": "stdout",
     "output_type": "stream",
     "text": [
      "Collecting nltk\n",
      "  Downloading nltk-3.8.1-py3-none-any.whl (1.5 MB)\n",
      "Collecting joblib\n",
      "  Downloading joblib-1.4.2-py3-none-any.whl (301 kB)\n",
      "Collecting regex>=2021.8.3\n",
      "  Downloading regex-2024.5.15-cp38-cp38-win_amd64.whl (268 kB)\n",
      "Collecting tqdm\n",
      "  Downloading tqdm-4.66.4-py3-none-any.whl (78 kB)\n",
      "Collecting click\n",
      "  Downloading click-8.1.7-py3-none-any.whl (97 kB)\n",
      "Requirement already satisfied: colorama; platform_system == \"Windows\" in c:\\users\\user\\appdata\\roaming\\python\\python38\\site-packages (from tqdm->nltk) (0.4.6)\n",
      "Installing collected packages: joblib, regex, tqdm, click, nltk\n",
      "Successfully installed click-8.1.7 joblib-1.4.2 nltk-3.8.1 regex-2024.5.15 tqdm-4.66.4\n"
     ]
    },
    {
     "name": "stderr",
     "output_type": "stream",
     "text": [
      "WARNING: You are using pip version 20.2.3; however, version 24.0 is available.\n",
      "You should consider upgrading via the 'c:\\users\\user\\appdata\\local\\programs\\python\\python38\\python.exe -m pip install --upgrade pip' command.\n"
     ]
    }
   ],
   "source": [
    "!pip install nltk"
   ]
  },
  {
   "cell_type": "code",
   "execution_count": 20,
   "metadata": {},
   "outputs": [],
   "source": [
    "import nltk\n",
    "from itertools import product\n",
    "from nltk.corpus import stopwords\n",
    "from nltk.stem import WordNetLemmatizer\n",
    "from nltk.tokenize import word_tokenize\n",
    "from nltk import pos_tag"
   ]
  },
  {
   "cell_type": "code",
   "execution_count": 21,
   "metadata": {},
   "outputs": [
    {
     "name": "stderr",
     "output_type": "stream",
     "text": [
      "[nltk_data] Downloading package punkt to\n",
      "[nltk_data]     C:\\Users\\user\\AppData\\Roaming\\nltk_data...\n",
      "[nltk_data]   Unzipping tokenizers\\punkt.zip.\n",
      "[nltk_data] Downloading package wordnet to\n",
      "[nltk_data]     C:\\Users\\user\\AppData\\Roaming\\nltk_data...\n",
      "[nltk_data] Downloading package stopwords to\n",
      "[nltk_data]     C:\\Users\\user\\AppData\\Roaming\\nltk_data...\n",
      "[nltk_data]   Unzipping corpora\\stopwords.zip.\n",
      "[nltk_data] Downloading package averaged_perceptron_tagger to\n",
      "[nltk_data]     C:\\Users\\user\\AppData\\Roaming\\nltk_data...\n",
      "[nltk_data]   Unzipping taggers\\averaged_perceptron_tagger.zip.\n"
     ]
    },
    {
     "data": {
      "text/plain": [
       "True"
      ]
     },
     "execution_count": 21,
     "metadata": {},
     "output_type": "execute_result"
    }
   ],
   "source": [
    "# NLTK 설정 및 리소스 다운로드\n",
    "import nltk\n",
    "\n",
    "nltk.download('punkt')\n",
    "nltk.download('wordnet')\n",
    "nltk.download('stopwords')\n",
    "nltk.download('averaged_perceptron_tagger')"
   ]
  },
  {
   "cell_type": "code",
   "execution_count": 22,
   "metadata": {},
   "outputs": [],
   "source": [
    "from sklearn.preprocessing import normalize"
   ]
  },
  {
   "cell_type": "markdown",
   "metadata": {},
   "source": [
    "---------------"
   ]
  },
  {
   "cell_type": "code",
   "execution_count": 23,
   "metadata": {},
   "outputs": [
    {
     "name": "stderr",
     "output_type": "stream",
     "text": [
      "c:\\Users\\user\\AppData\\Local\\Programs\\Python\\Python38\\lib\\site-packages\\huggingface_hub\\file_download.py:157: UserWarning: `huggingface_hub` cache-system uses symlinks by default to efficiently store duplicated files but your machine does not support them in C:\\Users\\user\\.cache\\huggingface\\hub\\models--monologg--kobert. Caching files will still work but in a degraded version that might require more space on your disk. This warning can be disabled by setting the `HF_HUB_DISABLE_SYMLINKS_WARNING` environment variable. For more details, see https://huggingface.co/docs/huggingface_hub/how-to-cache#limitations.\n",
      "To support symlinks on Windows, you either need to activate Developer Mode or to run Python as an administrator. In order to see activate developer mode, see this article: https://docs.microsoft.com/en-us/windows/apps/get-started/enable-your-device-for-development\n",
      "  warnings.warn(message)\n"
     ]
    }
   ],
   "source": [
    "#BERT 모델, Vocabulary 불러오기\n",
    "bertmodel = get_kobert_model()\n",
    "vocab = bertmodel.config.vocab_size"
   ]
  },
  {
   "cell_type": "code",
   "execution_count": 24,
   "metadata": {},
   "outputs": [],
   "source": [
    "import pandas as pd\n",
    "\n",
    "patent = pd.read_excel('c:/Users/user/OneDrive - 단국대학교/바탕 화면/공모전/산업안전상생재단_제1회 산업안전 상생 논문 경진대회/data/특허데이터_v.0.2.xls')"
   ]
  },
  {
   "cell_type": "code",
   "execution_count": 25,
   "metadata": {},
   "outputs": [],
   "source": [
    "summ = patent['요약']"
   ]
  },
  {
   "cell_type": "markdown",
   "metadata": {},
   "source": [
    "----------------"
   ]
  },
  {
   "cell_type": "code",
   "execution_count": 1,
   "metadata": {},
   "outputs": [],
   "source": [
    "# 불용어 목록\n",
    "\n",
    "stopword = {'및', '또는', '데이터', '기술', '방법', '시스템', '장치', '제어', '분석', '프로세스', '정보', '모델', '통신', '추출', '발명', '이미지',\n",
    "    '문서', '센서', '신호', '구조', '화면', '반도체', '네트워크', '소자', '기능', '디스플레이', '설비', '프로그램', '연결', '시작',\n",
    "    '운전', '계측', '기록', '제조', '포함', '출력', '송신', '저장', '제어', '생산', '전달', '방식', '자료', '환경', '효과', '조절', '실행', '수집', '처리', '특성', '발생',\n",
    "    '구성', '작동', '결정', '장비', '접속', '고정', '운영', '전환', '획득', '구현', '수행', '제한', '효율', '형성', '절차', '변환', '배치', '발견', '경로', '감소', '유도',\n",
    "    '저감', '계산', '방출', '형태', '적용', '위치', '최적화', '하다', '상기', '되다', '작업', '안전', '있다', '관리', '으로', '보다', '위험', '대한', '모듈', '조물', '되어다', '현장'}"
   ]
  },
  {
   "cell_type": "code",
   "execution_count": 6,
   "metadata": {},
   "outputs": [],
   "source": [
    "from nltk.corpus import stopwords\n",
    "import nltk\n",
    "#nltk.download('stopwords')\n",
    "\n",
    "# 초기화\n",
    "from konlpy.tag import Okt"
   ]
  },
  {
   "cell_type": "code",
   "execution_count": 7,
   "metadata": {},
   "outputs": [],
   "source": [
    "import jpype\n",
    "import jpype.imports\n",
    "from jpype.types import *\n",
    "\n",
    "okt = Okt()"
   ]
  },
  {
   "cell_type": "code",
   "execution_count": 26,
   "metadata": {},
   "outputs": [
    {
     "name": "stdout",
     "output_type": "stream",
     "text": [
      "['은 흙막이 가시 설 의 요인 중 에 인접 구 에 유의 의 영향 을 미치다 요인 을 선별 하고 선별 한 요인 의 계 측 값 에 따르다 인접 물의 영향 을 정량 적 을 예측 인접 물의 안전성 을 평가 흙막이 가시 설 인접 구 통합 안정 성 평가 에 관 한 것 으로서 흙막이 가시 설 지반 의 상태 에 계 측 값 을 가시 설 계 측 부와 인접 구 에 계 측 값 을 인접 구 계 측 부와 계 측 값 에 따르다 역 해석 하 여 얻다 미지 의 설계 변수 값 정해석 상태 변화 를 예측 함 은 물론 이고 인접 구 계 측 값 과 상관 성 계 측 값 에 따르다 인접 구 에 영향 을 주다 요인 을 선별 하고 선별 한 요인 에 따르다 인접 구 상태 의 미래 를 예측 안전성 을 평가 통합 감시 부르다', '은 휴대 용 유증기 모니터링 이르다 이용 한 공사 의 유증기 모니터링 에 관 한 것 으로서 바디 바디 의 내부 에 공기 가 유출 이다 도록 전후 동 축 축 방향 관통 공 유 입구 유출 구르다 관로 관로 의 유출 구 측 에 설치 유 입구 에서 유출 구로 의 공기 흐름 을 송풍기 관로 의 유 입구 와 유출 구 사이 에 하고 기 설정 파장 대역 의 자외선 을 이용 유증기 로부터 형광 현상 을 제 형광 를 검 출하 는 제 부 유출 구의 내 측 에 하고 제 부르다 통과 유출 구 에서 포집 유증기 에 대하 여 기 설정 파장 의 자외선 을 조사 한 후 유증기 에서 제 형광 를 검 출하 는 제 부 제 형광 제 형광 를 형광 를 전기 로 흡수 파장 대역 을 하고 흡수 파장 대역 을 통해 형광 검 추다 파장 대역 와 농도 를 산출 형광 검 추다 파장 대역 에 해당 적어도 하나 이상 의 휘발 성 물질 을 한 후 농도 가 휘발 성 물질 의 인화점 를 벗어나다 폭발 경고 를 제공 제 어부 를 휴대 용 유증기 모니터링 일 수', '명세서 에서 제시 일 실시 예 는 휴대 단말 을 이용 한 건설 기계 의 전도 경고 에 관 한 것 스마트폰 의 자다 와 연산 능력 을 이용 건설 기계 의 전도 위험성 을 모니터링 전도 위험성 이 기 설정 범위 에 속 경우 전도 을 표시 부 에 표시 하 거나 알람 을 통해 자 에게 통지 하고 차량 동작 을 특징 이', '은 석면 철거 에 영상 을 위 한 외부 기기 와 을 위 한 단말기 가 의 전송 을 위해 부 부 에 감리 자 의 단말기 에 석면 조사 보고서 를 제공 하고 감리 자 의 단말기 를 통해 석면 조사 보고서 에 확인 이 이루어지다 석면 조사 보고서 확인 부 부 에 감리 자 의 단말기 에 철거 계획 서 를 제공 하고 감리 자 의 단말기 를 통해 철거 계획 서다 확인 이 이루어지다 철거 계획 서 확인 부 부 에 자의 단말기 로부터 석면 철거 에 필요하다 교육 이수 자격 관련 를 제공 받다 자 가 석면 철거 에 자격 을 가지다 여부 를 확인 인적 확인 부 석면 조사 보고서 확인 부가 제공 석면 철거 각각 에 석면 조사 보고서 철거 계획 서 확인 부가 제공 석면 철거 각각 에 철거 계획 서 인적 확인 부가 제공 받다 자 각각 에 교육 이수 자격 관련 를 데이터베이스 부르다 적 이고 안전하다 석면 해체 공사 를 위 한 스마트 감리 건설 사업 에 관 한 것 이다 에 따르다 석면 철거 감리 에서 사진 동영상 등 의 과 가 용이하다 수 이로 인하다 석면 철거 감리 의 적 인 가 용이하다 수 석면 철거 감리 자 의 노동 강도 를 줄이다 를 가지다', '실시 예 에 따르다 기초 시설 자 를 위 한 인공 지능 기반 의 자 은 로부터 자 를 촬영 한 영상 를 자 인원 수 모 작용 여부 를 규정 준수 와 쓰러지다 등 이상 상태 를 감지 실시 예 에서는 공간 에 설치 자 단말 의 카메라 로 촬영 영상 를 하고 인공 신경망 을 통해 영상 을 자의 이상 상태 규정 준수 를 파악 또한 실시 예 에서는 영상 을 통해 자의 와 모션 을 차 파악 하고 파악 와 모션 에 따르다 줌 포커 싱 변화 등 촬영 조건 을 자동 변경 하고 변경 촬영 조건 촬영 영상 을 이후 영상 을 인공 신경망 로 자 상태 와 규정 준수 를 수', '의 일 실시 예 에 따르다 점유 율 예측 원 격 협업 는 산업 시설 물 에 대상 에 의하다 측정 에 의하다 측정 를 수신 수 신부 의 수치 가 변화 방향 을 기준 산업 시설 물의 이동성 상태 를 판별 이동성 상태 판별 부 대상 각각으로 부터 수신 누적 를 기초 로 누적 점유 율 를 생 성 하고 누적 점유 율 에 기초 생 성 은닉 마르코프 에 이동성 상태 를 산업 시설 물 에 점유 율 을 예측 점유 율 예측 부 복수 의 산업 시설 물 각각 에 대해 예측 점유 율 을 모니터링 예측 점유 율 이 기 설정 임계 값 을 초과 경우 관제 단말 관제 단말 에 산업 시설 물의 로 의 산업 에 점검 지시 를 제 어부 를 수', '은 화재 징후 를 미리 감지 예측 함 으로써 태양광 발전 의 반 화재 에 대하 여 사전 에 방지 수 화재 예방 차단 을 활용 한 지능 형 태양광 발전 에 관 한 것 이다 은 태양 의 빛 에너지 를 전기 에너지 로 태양 어 레이 와 태양 어 레이 에서 직류 를 교류 로 하고 전력 계통 전송 인버터 와 태양 어 레이 와 인버터 사이 에서 직류 전력 을 모으다 인버터 에 전송 반 과 태양 어 레이 의 음극 측 선로 를 차단 위 한 스위치 를 오다 발전 상태 반 상태 를 기초 로 전력 회로 차단 을 위 한 를 컨트롤 유닛 과 태양광 발전 의 감시 지원 을 위 발전 상태 반 상태 를 실시간 표시 모니터링 을 하고 늘다 태양 어 레이 선로 에 사고 인하다 역전 류 가 흐르다 경우 역전 류 를 방지 역류 방지 부 마 그네 틱 콘텍트 스위치 를 유닛 을 전력 회로 차단 은 인버터 의 측 입력 측 회로 차단 태양 어 레이 의 음극 측 회로 차단 사용 전력 공급 측 회로 차단 을 하고 역류 방지 불다 태양 어 레이 를 스트링 의 음극 측 과 단자 사이 에 이중화 역전 류 방지 다이오드 를 설치 어느 한쪽 스트링 의 일부 지점 과 다른 쪽 스트링 의 일부 지점 에서 단락 이 역 방향 전류 의 흐름 을 차단 스트링 상호 간 에 폐 회로 가 것 을 방지 것 을 반 에는 스마트 유닛 을 하고 전력 회로 차단 은 유닛 을 통해 그룹 별 병렬 회로 에서 어느 그룹 의 태양 어 레이 회로 에 문제 가 차단 경우 다른 건전하다 회로도 동시 에 차단 피해 를 원 천적 예방 을 것 을 특징 화재 예방 차단 을 활용 한 지능 형 태양광 발전 을 제공 한 다', '의 일 실시 예 에 따르다 혼합 현실 기반 의 산업 용 교육 훈련 은 사용자 가 가상 훈련 내용 을 점검 위 한 훈련 관리자 과 다중 사용자 서버 의 을 통해 서 한 사용자 단말 이 을 하고 공정 미션 을 공 정이 때 산 업체 에서 제시 공정 의 최종 기준 을 제공 공 정의 단위 공정 별 교육 훈련 이 가능하다 서비스 를 제공 하고 공정 별로 가상현실 과 증강현실 이 사용 각 상황 별 사용자 단말 에 를 통 직업 훈련 관련 한 혼합 현실 컨텐츠 를 제공 혼합 현실 컨텐츠 제공 을 위 한 데이터베이스 를 구축 관리자 가 관리자 단말 을 이용 특정하다 공정 에 가상 훈련 시 접근 사용자 를 제공 받다 파악 수 이르다 통해 사용자 모니터링 이 가능하다 훈련 평가 에 피드백 를 제공 서버 를 것 을 특징', '은 현 장인 력 의 를 위 한 모니터링 에 것 에 따르다 화재 등 의 재난사 고 건설 토목 등 의 산업 에 인원 들 의 현황 과 상태 를 파악 감독 이 가능하다 특이 사항 시 탈출 명령 등 을 신속하다 전파 수', '은 관제 에 관 한 것 안전모 와 결합 무선 을 자 단말 자 단말 과 무선 을 복수 의 이동형 폴 자 각각 의 상황 을 모니터링 관제 서버 를', '은 산업 에서 디지털 트윈 서비스 를 제공 에 관 한 것 에 따르다 디지털 트윈 서비스 제공 은 디지털 트윈 구축 서비스 플랫폼 을 통 디지털 트윈 를 생 성 하고 이르다 사용자 단말기 에 설치 디지털 트윈 애플리케이션 에 탑재 에서 오다 다양하다 와 연결하다 디지털 트윈 의 예측 성능 을 개선 가상 조건 에 예측 의 실시간 조건 를 활용 현재 상황 을 보여주다 의 이상 여부 를 미리 감지 경고 를 알다 모니터링 의 최적 조건 을 찾다 줄 수 등 을 제공 한 다', '의 일 실시 예 는 헤드레스트 에 장착 운전자 의 상태 를 감지 판단 헤드 서 포트 를 이용 한 헤드 서 포트 에 내부 에 공기 가 충진 에어 쿠션 에어 쿠션 내부 일면 에 소정 의 배열 설치 복수 개 의 마커 운전자 와 에어 쿠션 의 접촉 상태 와 움직임 에 대해 서 복수 개 의 마커 의 변화 를 촬영 한 마커 를 촬 상 마커 를 스마트 기기 로 무선 을 이루어지다 헤드 서 포트 마커 를 응용 로 가공 하고 무선통신 스마트 기기 스마트 기기 와 서버 를 이루어지다 운전자 의 상태 를 판단 경보 해주다 것 을 특징 헤드 서 포트 을 제공 한 다', '은 하천 제방 붕괴 방지 를 위 한 실시간 모니터링 에 관 한 것 상세 빈번 하고 자연재해 중 하천 제방 붕괴 저 감 을 위 한 전략 과제 인 유역 차원 의 홍수 방어 하천 제방 붕괴 로 인하다 인명 피해 재산 피해 를 최소 화하다 지역 적 이 강하다 하천 제방 붕괴 를 유역 단위 의 범 공간 적 검토 하고 첨단 을 활용 한 적극 적 인 하천 제방 을 통해 하천 제방 붕괴 를 시키다 뿐 만 아니다 시설 보수 기존 제방 설계 의 문제점 을 보완 안전하다 제방 설계 를 제공 수 하천 제방 의 를 데이터베이스 화 수 하천 제방 붕괴 방지 를 위 한 실시간 모니터링 에 관 한 것 이다 와 같다 목적 을 달성 위 에 따르다 하천 제방 붕괴 방지 를 위 한 실시간 모니터링 은 하천 제방 에 일정 간격 지 중 매설 기울기 를 계 측 수단 복수 개 의 계 측 수단 이 상호 근거리통신망 부 부와 무선 게이트웨이 게이트웨이 와 무선 하천 제방 의 를 실시간 모니터링 관제 부 를 이루어지다 게이트웨이 는 모든 하천 제방 마다 설치 관제 부 에 구비 하나 의 웹서버 로 통합 것 을 특징', '은 하이 앵글 식 노면 감지 와 디지털 도로 보도 융설 그리고 그 공법 에 관 한 것 구체 적 으로는 통행 차량 이나 인원 에 대하 여 사고 예방 을 위 적설량 눈 비 슬러시 등 전방 의 결빙 상태 를 사전 에 알리다 을 기반 기반 의 전광판 과 전방 의 상태 에 따르다 기 구부 를 설치 안내 를 제공 안전하다 도로 보도 를 제공 위 한 하이 앵글 식 노면 감지 와 디지털 도로 보도 융설 그리고 그 공법 에 관 한 것 이다', '명세서 는 본질 방폭 을 위 한 무선통신 에 관 한 것 이다 이러하다 명세서 는 무선 송수 신 을 무선 통 신부 외부 전원 과 무선 통 신부 사이 에 외부 전원 으로부터 전원 을 입력 받다 전하 를 충전 하고 무선 부로 무선 송수 신 에 필요하다 전압 을 슈퍼 커패시터 슈퍼 커패시터 의 전압 을 측정 측정 전압 이 미리 설정 기준 범위 내 에 경우 일정 시간 동안 슈퍼 커패시터 의 전압 을 무선 통 신부 에 이다 전압 측정 부르다 무선통신 를 제공 한 다', '은 시설 내 에 통합 이 장착 포스트 가드 를 설치 하고 포스트 가드 의 충돌 사고 시 관리자 혹은 근로자 에게 사 고사항 을 알리다 수 포스트 가드 통합 그 에 관 한 것 이다 의 포스트 가드 통합 은 랙 의 기둥 에 설치 를 부착 와 함께 기울기 변화 충돌 여부 를 실시간 전송 포스트 가드 전송 랙 포스트 가드 의 충돌 여부 와 상태 를 기반 물류 창고 에서의 랙 포스트 가드 의 충돌 여부 와 상태 를 모니터링 하고 검 추다 전체 포스트 가드 의 상태 를 다수 의 수신 단말기 로 제공 서버 를', '에 따르다 펄스 와전류 탐상 을 이용 한 금속 배관 감시 는 금속 배관 의 외주 에 소정 간격 복수 의 코일 복수 의 코일 에 순차 적 펄스 를 인 가하다 위 한 펄스 부 금속 배관 에 와전류 로부터 한 자계 에 의하다 복수 의 코일 에 를 수신 수 신부 수 신부 에 의하다 수신 로부터 소정 의 값 을 부 부 에 의하다 값 에 기초 배열 형 를 생 성 하고 금속 배관 의 결함 를 결함 부르다 수 에 따르다 펄스 와전류 탐상 을 이용 한 금속 배관 감시 은 결함 의 깊이 길이 를 비 파괴 적 검사 금속 배관 을 상 시로 모니터링 수 금속 배관 감시 을 제공 수 따라서 이 와 같이 주 기적 비 파괴 적 금속 배관 의 결함 을 탐지 함 으로써 금속 배관 을 상시 감시 수 금속 배관 의 결함 에 따르다 주변 인명 피해 를 미연 에 방지 을 확보 수 경제 적 손실 을 예방 수', '은 광학 표시 를 통해 을 경고 패턴 레이저 기반 의 에 관 한 것 대상 물 주변 의 사물 사람 을 감지 대상 물 에 설치 에 의하다 사물 사람 이 감지 을 경고 영역 패턴 을 표시 경고 의 감지 결과 에 따르다 대상 물 주변 의 지면 영역 패턴 을 표시 경 고 의 구동 을 을 패턴 레이저 기반 의 을 제공 한 다', '은 판토 그라프 의 가선 편위 측정 에 관 한 것 가선 에 의하다 판토 그라프 의 팬해드 에 가해 지는 압력 값 을 측정 위해 팬해드 의 좌측 우측 에 각각 설치 제 제 압력 감지 수단 과 제 제 압력 감지 수단 을 통해 감지 압력 값 을 입력 받다 전송 수단 과 전송 수단 에 입력 제 제 압력 감지 수단 의 압력 값 을 이용 편위량 을 연산 전 기 철도차량 내 컴퓨터 로 것 을 특징 에 따르다 가선 이 집 전판 의 범위 에서 급전 이 이루어지다 모니터링 전 기 철도차량 이 안정 적 급전 이 이루어지다 지르다 지속 적 확인 수 가선 의 상대 적 인 편위량 이 설정 한계 편위량 크다 경우 이상 이 한 것 판단 알람 등 과 같다 경 고음 을 운전자 가 대처 함 으로써 전 기 철도차량 의 에도 유익하다 가', '은 건물 에 부착 기반 의 통합 스마트 들 을 이용 다양하다 재난 상황 을 통합 적 모니터링 함 으로써 판단 의 정확성 신뢰 도르다 높이다 수 뿐 만 아니다 안전성 을 높이다 수 재난 상황 시 경보 를 이용 외부 로 표 출하 도록 재난 인하다 인명 사고 를 절감 시키다 수 일반 건축물 건축 시설 물 에 종합 적 선제 적 대응 의 기반 시설 물 통합 모니터링 체계 구축 이 가능하다 건축물 상태 감시 에 관 한 것 이다', '은 에서 자율 주행 을 하고 동력 인 추다 가다 농기 계 에 대하 여 잠재 적 사고 를 예측 하고 잠재 적 사고 를 회피 위 한 동작 을 위 한 에 관 한 것 이다 구체 적 은 자율 주행 을 하고 가다 농기 계 에서 사람 장애물 과의 시간 별 거리 변화 에 따르다 잠재 적 사고 의 확률 예측 중 증도 를 하고 확률 이 임계 확률 이상인 경우 예측 중 증도 에 따라서 사고 회피 를 위 한 선 조치 후 사용자 단말 에게 보고 를 하 거나 사용자 단말 에게 사고 회피 를 위 한 제안 동작 을 선 보고 한 후 사용자 단 말로 부터 수신 한 동작 사고 회피 의 후 조치 를 에 관 한 것 이다', '은 에서 건설 내 근로자 의 건강 를 지원 위 한 에 관 한 것 이다 구체 적 은 근로자 가 착용 한 특수 안전모 내 아이스팩 의 온도 근로자 의 두피 온도 건설 의 날씨 등 에 기반 근로자 에게 아이스팩 의 교체 권고 를 휴식 권고 메시지 를 전송 위 한 에 관 한 것 이다 의 다양하다 실시 예 들 은 에서 건설 내 근로자 의 건강 를 지원 위 한 를 제공 수 또한 의 다양하다 실시 예 들 은 근로자 가 착용 한 특수 안전모 내 아이스팩 의 온도 근로자 의 두피 온도 건설 의 날씨 등 에 기반 근로자 에게 아이스팩 의 교체 권고 를 휴식 권고 메시지 를 전송 위 한 를 제공 수 또한 의 다양하다 실시 예 들 은 건설 의 대기 온도 습도 에 기반 근로자 에게 지급 한 아이스팩 의 적정 교체 주기 를 적응 적 하고 근로자 가 가장 최근 아이스팩 을 교체 한 시각 으로부터 경과 시간 이 적정 교체 주기 를 초과 여부 에 기반 근로자 에 휴식 의 필요 여부 를 위 한 를 제공 수', '토공 은 지형 부 부 차원 지도 생 성부 지반 부 경 사각 산출 부 기준 값 산출 부 정적 도 평가 부르다 지형 불다 건설 의 지형 를 하고 불다 건설 의 를 하고 차원 지도 생 성부 는 지형 와 를 결 건설 의 차원 지도 를 생 성 하고 지반 불다 건설 의 지반 의 물성 를 하고 경 사각 산출 불다 차원 지도 로부터 건설 의 사면 의 경 사각 을 산출 하고 경사 기준 값 산출 불다 지반 의 물성 로부터 사면 의 경 사각 을 평가 위 한 경사 기준 값 을 산출 정적 도 평가 불다 경 사각 과 경사 기준 값 을 이용 사면 의 정적 도르다 평가', '은 시 공중 인 터널 굴착 면 의 차원 차원 점군 을 시공 부와 굴착 면 의 차원 메쉬 를 생 성 하고 시공 부르다 통해 굴착 면 의 차원 점군 을 차원 의 매트릭스 면 에 투영 특징 점 과 차원 의 특징 점 을 서로 연결하다 전 부와 차원 차원 점군 을 토대 로 절리 를 기반 키 블록 을 굴착 면 에 타 설 지보 재의 역할 을 숏크리트 의 부피 와 두께 를 부 부의 결과 를 공사 내부 외부 의 자 에게 낙반 이나 탈락 과 같다 상황 에 대처 가 신속하다 이루어지다 수 부르다 것 을 특징 터널 공사 을 개시 한 다', '은 터널 시공 에 관 한 것 상세 터널 시공 을 안전하다 신속하다 수 터널 시공 에 관 한 것 이다 이러하다 은 제 굳다 촬영 생 성 제 촬영 에 경계 선 암 종 암 질 절리 선 지하수 중 하나 이상 을 제 표시 를 맵핑하 여 제 맵핑 를 생 성하다 자 클라이언트 제 촬영 제 맵핑 를 수신 서버 제 촬영 제 맵핑 를 수신 관리자 클라이언트 를', '터널 공 사 의 자 에 을 서버 터널 공 사 에 일정하다 간격 설치 공유기 자 와 동반 자 단말 자 단 말로 부터 자 를 수신 하고 터널 공 사 의 를 서버 에 하나 이상 의 단말 을 하고 서버 는 자 를 이용 자의 를 판단 하고 터널 공 사 의 지도 를 복수 의 영역 들 로 분할 브라우저 에 표시 하고 복수 의 영역 들 중 자 가 한 영역 에 자 를 표시 하고 사전 에 입력 요인 에 기초 적어도 하나 의 영역 을 이 개시', '은 터널 경보 에 관 한 것 으로서 상세 터널 경보 은 터널 내 점검 자 를 보호 위해 열차 가 일정 구역 에 진입 시 열차 의 속도 를 검지 열차 가 터널 입구 에 도착 시간 을 터널 내 점검 자 가 대피 수 대피 시간 초을 확보 경보 이며 또한 터널 내 점검 자 가 승인 취급 버튼 점검 자 음 의 취급 없이 터널 내 진입 시 경보 을 갖다 터널 경보 이다', '은 탑승 자 보호 에 관 한 것 으로서 사람 의 움직임 을 감지 움직임 감지 를 생 성하다 움직임 감지 와 각 좌석 에 사람 의 착석 여부 를 감지 개체 감지 를 생 성하다 개체 감지 와 움직임 감지 와 개체 감지 를 조합 연산 를 생 성하다 부와 에 대응 차량 의 해당 을 구동 시키다 차량 구 동부 와 에 대응 경보 를 전송 부르다 제 어부 는 사람 의 움직임 여부 와 사람 의 착석 자세 상태 를 조합 차량 경보 전송 여부 를 판단 에 따르다 사람 의 움직임 감지 와 개체 감지 의 조합 연산 을 통해 탑승 자의 상태 를 정확하다 확인 수 탑승 자 를 안전하다 보호 수', '은 건설 주변 에 사고 를 미연 에 매우 적 방지 함 을 제공 지면 에 수직 기립 설치 상부 에 수평 방향 길다 연장 지브 가 구비 지브 에는 전후 상하 로 이동 물품 을 운반 가능하다 트롤리 가 구비 트롤리 로부터 운반 물품 의 하중 을 측정 토록 로드 셀 이 크레인 본체 와 크레인 본체 의 트롤리 를 향 지향 토록 지브 상 에 설치 트롤리 에 의하다 영역 을 촬영 물품 의 크기 를 자동 인식 하 며 영상 를 영상 부와 영상 부의 영상 를 수신 상 에 부와 영상 부의 영상 로드 셀 에 의하다 입력 물품 의 하중 으로부터 물품 이 낙하 경우 의 반경 을 자동 설정 하고 크레인 본체 의 지속 적 인 여부 를 판단 통제 수 부 에 감지 를 메인 부르다 하고 메인 불다 지면 으로부터 인양 물품 의 가변 높이 를 인식 연산 측정 높이 계측기 를 구비 하고 높이 계측기 와 영 상부 로드 셀 에 의하다 각각 측정 물품 의 높이 와 크기 무게 로부터 반 경의 범위 를 연산 설정 반 경 설정 기르다 타워 크레인 을 제공 한 다', '은 공 사 에 설치 키 오스 크다 비콘 을 활용 출입 자 인증 서비스 온도 측정 음주 측정 등 을 통한 출입 자 통제 서비스 를 제 공함 과 동시 에 자의 를 추적 모니터링 자의 근로 상태 를 적 수 고 군 영역 허가 않다 자의 진입 을 방지 사고 를 미연 에 적 방지 수 돌발 상황 시 신속하다 후속 대처 를 수 공 사 현 장용 자 에 관 한 것 이다', '은 수용 가다 설치 전기 상태 를 측정 전기 에 아크 후보 영역 에 설치 한 쌍 의 도체 판 사이 에서 변화 유전율 변화 를 감다 순간 전력 누적 전력 전압 전류 급격하다 온도 변화 를 한 전기 상태 를 감지 하고 감지 센싱값 을 제공 받다 디지털 정전 용량 를 제공 하고 정전용량 에서 기 설정 파장 대역 의 만 통과 시키다 노이즈 를 제거 노이즈 가 필터 링 정전용량 를 스칼라 그램 을 이용 아크 감지 영상 시각 화 하고 아크 감지 영상 을 사전 학습 인공 지능 기반 의 아크 검 추다 에 입력 아크 감지 영상 에 근거 정상 상태 와 아크 상태 로 분류 한 후 분류 결과 를 전기 전기 로 테스트 전압 테스트 전류 테스트 누설 전류 를 이다 전기 로 전압 전류 누설 전류 센싱값 을 수신 오차 를 연산 연산 오차 를 토대 로 센싱값 을 캘리 브레이 션 하 도록 전기 를 캘리 브레이 션 를 것 을 특징 전기 를 제공 한 다', '은 카메라 를 이용 한 감시 에 관 한 것 이다 에 따르다 감시 의 카메라 를 이용 한 감시 에 제 사용자 의 헬멧 에 장착 카메라 로부터 의 촬상 영상 을 무선 수신 단계 와 촬상 영상 내 에서 적어도 하나 의 제 사용자 의 머리 부위 를 검 출하 고 검 추다 머리 부위 에 대응 제 사용자 의 를 인식 단계 와 인식 에 대응 제 사용자 측 의 카메라 의 를 사용자 로부터 단계 제 사용자 의 카메라 로 촬상 영상 의 전송 을 중지 하 라는 명령 을 전송 단계 를 카메라 를 이용 한 감시 을 제공 수 카메라 를 이용 한 감시 에 따르다 내 존재 사용자 의 헬멧 에 장착 카메라 로부터 촬상 를 무선 수신 자 주변 자의 을 실시간 모니터링 수 자의 위급 상황 을 감지 하고 이르다 주변 에 인접 한 타 작 업자 들 에게 알리다 수 사고 의 시 에 신속하다 대처 가 가능하다', '은 자율 주행 모바일 로봇 을 활용 한 화재 감지 조 기 대응 에 관 한 것 적어도 하나 이상 의 모바일 로봇 소화기 공급 이 가능하다 충전 스테이션 화재 진단 공간 맵핑뿐 아니다 모바일 로봇 과 충전 스테이션 을 통합 관제 서버 를 화재 감지 조 기 대응 적어도 하나 이상 의 모바일 로봇 은 자율 주행 가능하다 복수 의 로봇 이 할당 임무 를 일정 기준 내 범위 의 속도 로 정해진 시간 내 에 감시 영역 을 자율 주행 각종 센싱 를 하고 복수 의 로봇 중 선행 로봇 에 의하다 에 대해 누락 여부 등 을 판단 필요 시 후행 로봇 을 통해 보완 촬영 재 촬영 정확하다 에 기반 화재 여부 를 판단 화재 진행 단계 에 따르다 모바일 로봇 을 통해 가깝다 충전 스테이션 을 통해 소화기 를 공급 받다 화재 초기진압 이 가능하다 설계 하므다 시간 무인 화재 감시 가 가능하다 뿐 아니다 특히 관리자 가 부족하다 취약 시간대 에 수 화재 에 대해 신속하다 대응 수 을 개시 한 다', '은 착용 여부 를 감지 헬멧 을 활용 한 자 별 헬멧 착용 모니터링 에 관 한 것 으로서 더욱 상세 형상 기억 소재 로 이루어지다 세다 서부 부재 에 의하다 온도 이 자의 체온 과 외부 대기 의 온도 의 사이 의 차이 값 을 활용 자 별 헬멧 착용 여부 를 판단 함 에 따르다 헬멧 의 착용 용이 성 이 향상 헬멧 착용 여부 판단 의 정확성 이 향상 착용 여부 를 감지 헬멧 을 활용 한 자 별 헬멧 착용 모니터링 에 관 한 것 이다', '은 근로자 가 직접 착용 밀폐 에서 질식사 고르다 유발 수 요인 을 전후 모두 감지 수 이르다 연동 근로자 의 단말기 로 측정 결과 를 근로자 가 의 상태 를 파악 수 작업중 에도 질식사 고르다 유발 요인 을 감지 상황 시 단말기 로 바로 안내 근로자 의 질식사 고 방지 를 위 한 웨어 러블 디바이스 에 관 한 것 이다', '지하 공 동구 고장 예방 를 개시 한 다 실시 예 는 지하 공 동구 내 에 설치 각종 케이블 에 복수 의 진동 온도 습도 영상 를 설치 을 구축 하고 복수 의 로부터 현재 상태 를 측정 한 후 를 이용 공 동구 내 외부 요소 사전 파악 을 통한 구 선제 적 방어 순찰 자 감시 시간 감시 가능하다 능동 적 인 사고 예방 구축 수 지하 공 동구 고장 예방 를 제공 한 다', '은 크레인 과 크레인 크레인 과 물의 충돌 을 방지 위 개별 크레인 의 현재 를 상호 공유 하고 크레인 조작 시 인접 크레인 의 충돌 상태 를 모니터링 알람 표현 상황 시 크레인 을 규제 시키다 수 지능 형 크레인 에 관 한 것 크레인 충돌 사고 방지 크레인 자 편의 성 제 고 적 인 크레인 유지 보수 크레인 가동 현황 을 적 모니터링 수 가', '지능 형 에 관 개시 한 다 은 자 상황 으로부터 객체 와 각종 센싱 들 을 클라우드 서버 로 전송 로부터 객체 센싱 들 을 비정 형 화 로 베이스 를 하고 객체 센싱 를 서버 를 통해 융합 판단 그 판단 결과 로부터 상황 전파 의 지시 와 대기 상황 전파 를 자 에게 전송 클라우드 서버 클라우드 서버 로부터 상황 전파 를 전송 받다 사용자 단말 을 수', '실시 예 에 따르다 차량 에 부착 자 인체 와 인접 여부 를 감지 복합 감지 부와 자의 신체 일부 에 부착 자 태그 부와 을 촬영 영상 촬영 부와 복합 감 지부 자 태그 부 영상 촬영 부의 를 서버 에 제공 무선 중계 부 를 바탕 유무 를 판단 사고 를 예방 서버 부르다 지게차 의 스마트 을 제공 한 다', '에 따르다 증강현실 기반 건설 의 안전교육 은 증강현실 영상 을 통해 건설 과 건설 에 안전교육 이 실시 수 입체 적 이고 가다 교육 이 이루어지다 수 이점 이 또한 증강현실 영상 에 계획 서다 계획 를 반영 계획 를 영상 직접 확인 수 건설 과 건설 에 따르다 계획 에 이해도 를 향상 시키다 수 안전하다 계획 을 세우다 재해 를 예방 수 또한 증강현실 영상 에 건설 의 점검 항목 을 표시 확인 수 입체 적 이고 가다 점검 교육 이 이루어지다 수', '관리자 단말 에 설치 카메라 를 통해 건축 구 을 촬영 하고 건축 구 장면 과 이 중첩 관리자 단말 에 관리자 단말 에 입력 명령 에 기반 담당자 단말 에 요소 에 관련 를 하고 담당자 단 말로 부터 요소 에 대응 응답 이 수신 요소 에 레이블 로서 응답 을 지원 을 제공 한 다', '은 중대 산업 에 원 격감 독 규정 의 이행 을 이르다 중대 산업 재해 예방 에 관 한 것 이다 상세 로는 중대 산업 재해 를 예방 산업 에 대하 여 을 이용 재난 예방 활동 에 준비 이행 실태 를 원격지 에서 감독 수 함 으로써 해당 산업 에서 규정 이 이행 이르다 통 산업 에서 중대 산업 재해 가 것 을 예방 과 이르다 에 관 한 것 이다 에 의하다 을 사용 감독 관 들 이 산업 에 일일이 방문 않다 산업 에서 보건 관련 규정 을 이행 하고 원격지 에서 적 감독 수 산업 의 유형 에 따르다 재난 예방 을 위 한 체크 포인트 와 점검 보고서 를 자동 생 성 하고 의 이행 상태 를 사진 이나 영상 스트리밍 을 통 실시간 확인 수 때문 에 감독 관 들 이 여러 을 동시 에 감독 것 이 가능하다 또한 산업 에 근무 산업 재해 예방 을 위 한 활동 을 관리자 가 업무 를 충실하다 이행 하고 자동 점검 감독 관 에게 알다 수', '은 각종 산업 에서 사용자 의 몸 에 착용 한 채 재난 요소 를 자 에게 실시간 안내 재난 초기 상황 에 선제 적 이면 서 적 대응 내 재난 상황 을 실시간 모니터링 재난 상황 에서의 을 적 함 을 제공 사용자 의 특정 신체 부위 에 착용 가능하다 기 기 본체 와 기기 본체 상 에 탈 부착 가능하다 설치 하고 주변 유해 가스 를 감다 산소 이산화탄소 일산화탄소 황화수소 암모니아 중 적어도 하나 이상 의 유해 가스 를 감지 가스검출량 을 측정 종 의 감지 를 감지 를 선택 적 가능하다 과 로부터 감지 를 하 거나 외부 기기 로부터 를 수신 가능하다 과 을 각각 연결하다 구동 가능하다 하고 로부터 입력 감지 를 기초 로 상황 여부 를 메인 을 하고 메인 에는 의 서로 다른 종 의 감지 중 교체 감지 를 자체 적 가능하다 자동 인식 스마트 펌웨어 를 재난 를 위 한 웨어 러블 디바이스 를 제공 한 다', '은 도 에 관 한 것 구체 적 다수 개 의 가 구비 스마트 플러그 로부터 스마트 플러그 가 설치 주변 이 실시간 감지 를 전송 받다 의 종류 별로 구분 의 종류 에 따르다 도 예측 을 생 성하다 도 예측 생 성 사용자 에 의하다 정상 패턴 생 성 명령 이 입력 정상 패턴 생 성 명령 이 입력 시점 부터 기 설정 시간 동안 전송 받다 를 도 예측 에 대입 정상 패턴 을 생 성하다 정상 패턴 생 성 사용자 에 의하다 실시간 패턴 생 성 명령 이 입력 실시간 패턴 생 성 명령 이 입력 시점 부터 기 설정 시간 동안 전송 받다 를 도 예측 에 대입 실시간 패턴 을 생 성하다 실시간 패턴 생 성 실시간 변 이 도 측정 함수 를 이용 정상 패턴 과 실시간 패턴 의 변 이도 를 연산 하고 변 이도 에 따르다 도 레벨 을 도 레벨 을 도 에 관 한 것 이다', '석유화학 공장 등 이 수반 작업장 의 을 실시간 모니터링 을 통해 원격 수 진행 을 위 한 허가 서 를 유 무선 을 통해 원격 요청 허가 받다 수 작업장 통합 에 관 한 것 이다', '은 건설 에서 자 가 늘 신다 화 에 를 설치 자의 상태 를 지속 적 무선 모니터링 수 화 와 이르다 이용 한 자 상태 모니터링 에 관 한 것 이다 화 는 자의 발 을 감싸다 신발 부와 신 발부 에 들어오다 자 발의 뒤꿈치 를 받치다 위해 신발 부의 저면 후방 에 뒷 굽 을 하고 뒷 굽 은 자의 발 뒤꿈치 를 통해 뒷 굽 에 가해 지는 하중 을 측정 무게 와 뒷 굽 의 축 방향 의 가속도 를 측정 축 가속도 를 감 지부 감 지부 에서 를 수신 하고 를 무선 무선 송수 신 을 제 어부 감지 부와 제 어부 에 전원 을 공급 전 원부 를 화의 감 지부 를 수신 수 신부 는 수신 를 바탕 자의 여부 를 확인', '은 자 에 관 한 것 더욱 상세 자의 신체 에 생체 자 주변 의 장소 의 요소 에 를 지속 적 모니터링 하고 생체 에 의하다 자의 신체 적 인 이상 여부 를 판단 하고 에 의하다 요소 에 의하다 가능성 을 판단 자의 신체 적 인 이상 여부 자 장소 의 가능성 여부 에 따르다 해당 자 주변 자 에게 통지 자의 를 자 에 관 한 것 이다', '의 실시 예 에 따르다 스케줄 스마트 헬멧 을 이용 한 상황 모니터링 은 상황 으로부터 자의 머리 를 보호 헬멧 자 가 소지 헬멧 과 에 의하다 자 에게 상황 이 스마트 디바이스 스마트 디바이스 로부터 감지 상황 을 취합 관제 서버 를 헬멧 은 무선통신 이 가능하다 제 통 신부 자의 움직임 을 감지 위 한 움직임 감지 상황 질문 을 자 에게 들려주다 위 한 스피커 자의 음성 을 인식 음성인식 를 하고 스마트 디바이스 는 제 부와 무선 이 가능하다 제 통 신부 의 각 자 별 자의 스케쥴 를 위 한 스케줄 헬멧 의 움직임 감지 에서 감지 움직임 감지 를 수신 위 한 움직임 감지 수 신부 움직임 감지 수 신부 에서 수신 움직임 감지 를 이용 하고 자 에게 상황 이 여부 를 판단 상황 판단 부르다 하고 상황 판단 불다 스케줄 에서 의 각 자 별 자의 스케쥴 를 확인 각 자의 작업시간 를 생 성하다 작업시간 생 성 작업시간 생 성 에서 생 성 각 자의 작업시간 동안 해당 자의 움직임 감지 로부터 움직임 감지 가 소정 시간 이상 감지 않다 경우 해당 자 에게 단계 상황 이 판단 단계 상황 판단 단계 상황 판단 로부터 자 에게 단계 상황 이 판단 자 에게 상황 이 실제 로 여부 를 질문 위 한 상황 질문 을 생 성하다 상황 질문 음성 생 성 헬멧 의 스피커 를 통해 자 에게 상황 질문 을 들려주다 위해 자 에게 상황 질문 을 헬멧 위 한 상황 질문 상황 질문 이 헬멧 에 상황 질문 을 한 이후 소정 시간 이내 에 음성인식 를 통해 자로 부터 답변 이 인식 않다 경우 자 에게 단계 상황 이 판단 단계 상황 판단 을 점 에 그 특징 이 에 따르다 자 에게 위험하다 상황 이 때 이르다 정확하다 확인 하고 또한 신속하다 이르다 감지 알다 줌 으로써 상황 에 즉각 적 인 대처 가 가능하다 장점 이', '은 다양하다 에 투입 사용자 들 을 일괄 적 수 의 스마트 에 관 한 것 이다 의 의 스마트 은 의 사용자 의 종류 를 사용자 인증 수단 을 하나 이상 의 와 사용자 인증 수단 을 인식 사용자 의 인증 를 사용자 인식 부와 인증 를 하고 사용자 인증 의 통과 여부 를 수신 제 부르다 출입 게이트 와 그리고 사용자 의 인증 를 수신 사용자 인증 을 하고 사용자 인증 의 결과 로서 사용자 인증 의 통과 여부 를 서버 를', '의 다양하다 실시 예 는 에 관 한 것 이다 의 다양하다 실시 예 에 따르다 은 에서 활선 을 감지 활선 감 지부 에 설치 배전 반의 상태 를 감지 제 부 에 설치 전기 선로 의 누설 전류 를 감지 제 부 활선 감 지부 제 부 제 부로 부터 수신 한 에 기반 의 감전 도르다 수학 식 에 따르다 산출 제 어부 를 수 다른 실시 예 들 도 가능하다 수', '발판 의 응력 검 추다 이르다 이용 한 발판 이 개시 개시 발판 의 응력 검 추다 은 발판 의 서로 다른 제 제 에 제 제 스 트레인 게이지 를 이용 제 제 에서의 제 제 변형률 를 각각 단계 와 제 제 변형률 로부터 발판 의 다수 개소 에서의 응력 를 단계 를 제 제 변형률 는 각각 발판 의 제 제 에서의 축 방향 의 변형률 이다', '자율 이동 로봇 기반 의 안면 동작 인식 을 이용 한 공 사장 이 개시 개시 자율 이동 로봇 기반 의 안면 동작 인식 을 이용 한 공 사장 은 알고리즘 을 용이하다 산업 을 자율 이동 산업 의 자 안면 동작 인식 을 자 상태 를 하고 장구 착용 에 점검 을 다중 카메라 를 구비 한 자율 이동 로봇 자율 이동 로봇 이 산업 의 자 안면 동작 인식 을 자 상태 를 하고 장구 착용 에 점검 을 원격 로봇 서버 를 것 을 특징', '은 에 설치 복수 의 형 카메라 와 하나 이상 의 회전 형 카메라 를 감시 카메라 들 과 비상 벨 스피커 경 광등 을 별도 의 아 답타 없이 개별 적 연결하다 전원 공급 자동 전원 복구 을 형 카메라 회전 형 카메라 의 수 에 대응 포트 들 을 갖추다 를 통해 포트 들 에 각각 의 카메라 들 을 연결하다 각 당 채널 포트 를 설정 하고 그 설정 값 들 의 을 관제 센터 컴퓨터 를 통해 것 으로서 감시 카메라 들 중 적어도 어느 하나 에 에러 가 경우 에러 를 리셋 시키다 수 각 별 리셋 버튼 들 을 구비 하고 또한 이 들 전체 리셋 버튼 들 을 하나 의 버튼 에 연결하다 작동시키다 수 온 오프 스위치 를 구비 망 을 통해 관제 센터 컴퓨터 와 로 을 방문 않다 관제 센터 에서 직접 의 에러 들 온 오프 하 여 리셋 복구 시키다 또한 이 내장 무선망 을 통해 관제 센터 컴퓨터 와 수 전원 이상 이상 인하다 망 을 사용 수 없다 상황 이 경우 이 무선망 을 통해 장애 를 관제 센터 로 즉각 적 인 대응 을 수 스마트 파워 을 제공 한 다', '은 의 마커 추적 을 이용 건설 용 가시 설 물의 안전성 을 지속 적 실시간 모니터링 수 나아가다 건설 용 가시 설 물의 평면 상의 변위 뿐 만 아니다 전방 후방 으로의 변위 도 민감하다 감지 수 건설 용 가시 설 구 안전성 모니터링 에 관 한 것 이다 특히 은 별도 의 인력 투입 이나 과 다한 없이 건설 용 가시 설 물의 안정 성 을 모니터링 수', '은 건설 의 구역 에 독립 설치 수 구역 접근 자의 영상 을 적절하다 내용 의 경고 를 안 내 수 인공 지능 형 영상 을 이용 한 건설 의 재난 사고 예방 에 관 한 것 이다 의 과제 를 해결 위 한 에 따르다 인공 지능 형 영상 을 이용 한 건설 의 재난 사고 예방 는 내부 에 수 용공 간 이 구비 하우 징 하우 징 의 외측 에 설치 소정 각도 범위 의 영상 을 촬영 카메라 수 용공 간 에 구비 카메라 를 통해 촬영 영상 을 실시간 제 어부 제 어부 의 에 의하다 선택 적 경 고 방송 이 스피커 를 하고 제 어부 는 카메라 를 통해 촬영 영상 을 반복 학습 자의 행동 패턴 으로부터 행동 을 인지 하고 객체 인식 을 통해 보호 의 작용 여부 를 판별 것 을 특징', '에 따르다 인공 지능 형 상업 용 주방 소화 은 부 서버 부 개별 단말 부르다 상업 용 주방 시설 에서 가스 누 추다 화재 에 정확하다 진단 이 가능하다 연료 가스 의 공급 와 화재 를 진압하 는 소화 의 동작 을 수 사고 에 즉각 적 인 대응 과 예방 이 또한 표지 가스 를 공급 수단 과 검 출하 는 수단 이 추가 로 구비 연료 가스 감지 의 오 인하다 오류 를 보정 수 연료 가스 의 누 추다 여부 를 정확하다 평가 수 또한 에 따르다 인공 지능 형 상업 용 주방 소화 은 가스 누 추다 화재 이외 에도 지진 등 의 요소 에 상황 를 실시간 모니터링 수 뿐 만 아니다 가스 공급 의 교체 시기 보수 시기 를 파악 수 상업 용 주방 시설 을 통합 수', '의 실시 예 에 따르다 인공 지능 을 활용 한 통합 스마트 플랫폼 은 스마트 안전모 를 제 패킷 을 브로드캐스트 제 비콘 태그 를 부착 한 스마트 안전모 과 이동형 스피커 를 제 패킷 을 브로드캐스트 제 비콘 태그 를 부착 한 이동형 스피커 와 의 기 설정 마다 인접 한 스마트 안전모 과 이동형 스피커 로부터 제 제 패킷 들 을 수신 비콘 오다 비콘 로부터 수신 제 제 패킷 들 을 비콘 오다 인접 한 스마트 안전모 과 이동형 스피커 를 특정하다 특정 스마트 안전모 의 착용 자 에게 비콘 가다 한 에서의 을 설명 위해 를 생 성하다 를 비콘 에 전송 중앙 제어장치 를 하고 이동형 스피커 는 인접 한 비콘 를 통해 중앙 제어장치 로부터 수신 에 응답 명령 을', '은 이동형 그 의 구 동 에 관 한 것 으로서 의 실시 예 에 따르다 이동형 는 공 사 의 작 업자 들 에 순서 에 관련 스케줄링 를 저 장부 공 사 의 을 센싱 한 센싱정보 를 근거 로 지정 에 따르다 기 한 스케줄링 를 변경 변경 한 스케줄링 에 따르다 공 사 의 이 이루어지다 작 업자 들 에 통지 제 어부 를 수', '인공 지능 을 이용 한 위험성 판단 가이드 제공 이 제공 의 다양하다 실시 예 에 따르다 인공 지능 을 이용 한 위험성 판단 가이드 제공 은 자 단말 에 하나 이상 의 카메라 기 학습 인공 지능 을 통해 하나 이상 의 카메라 로부터 영상 을 영상 에 하나 이상 의 객체 에 상태 를 판단 하고 판단 상태 에 기초 하나 이상 의 객체 에 가이드 를 자 단말 로 제공 서버 를', '실시 예 들 은 건설 산업 을 제공 한 다 의 실시 예 에 따르다 건설 산업 은 특정 에 난이도 도 소 요 기간 을 산출 부 난이도 도 소 요 기간 을 기초 로 특정 에 기 준인 원 을 기준 인원 결 정부 복수 의 근로자 단말 각각으로 부터 근로자 의 하나 이상 의 바 이탈 근로자 의 교육 이수 근로자 의 근로 스케줄 를 수신 하고 근로자 부 바 이탈 를 기초 로 건강 상태 점수 를 산출 하고 건강 상태 점수 교육 이수 근로 스케줄 를 기초 로 근로자 의 특정 진행 가부 를 판단 하고 특정 에 제 가용 인원 을 산출 가용 인원 산출 부 하나 이상 의 바 이탈 각각 을 기초 로 바 이탈 값 들 을 생 성 하고 하나 이상 의 바 이탈 각각 에 대응 하나 이상 의 임계 값 과 바 이탈 값 을 각각 비교 근로자 의 하나 이상 의 바 이탈 가 각각 정상 범위 에 속 판단 바 이탈 모니터링 부르다 수', '인공 지능 기반 의 영상 을 통한 이 제공 의 다양하다 실시 예 에 따르다 인공 지능 기반 의 영상 을 통한 은 에 내 에 자의 신체 적어도 일부분 에 부착 카메라 자 에게 솔루션 을 제공 서버 를 서버 는 로부터 카메라 로부터 영상 중 적어도 하나 를 자의 을 예측 하고 솔루션 으로써 자 에게 예측 에 알림 을 제공 한 다', '은 인공 지능 기반 영 상인 식 플랫폼 을 이동식 지능 형 에 관 한 것 상세 건설 산업 에서 사용 이동식 으로서 사람 개인 보호 미착 용 화재 불꽃 연기 를 영상 촬영 을 위 한 카메라 과 온도 습도 가스 농도 를 를 감지 측정 위 한 과 외부 서버 관리자 단말기 를 외부 와의 을 위 한 부르다 이동식 과 이동식 오다 연동 카메라 로부터 영상 촬영 를 수신 영상 수 신부 와 로부터 를 수신 수 신부 와 영상 수 신 부로 부터 수신 영상 촬영 에서 사람 개인 보호 미착 용 화재 불꽃 연기 를 인식 하고 인식 각각 의 객체 에 대응 해당 인식 각각 의 객체 를 박스 화하다 탐지 기반 객체 인식 부와 기반 객체 인식 부로 부터 탐지 사람 객체 가 중장비 주변 을 미리 설정 반경 상황 에 노출 경우 개인 보호 미착 용 화재 불꽃 연기 객체 가 인식 경우 수 신 부로 부터 고온 달다 가스 농도 가 탐지 경우 를 이벤트 를 수신 경 광등 경 고 알람 을 이벤트 부르다 영 상인 식 과 영 상인 식 과 연동 기반 객체 인식 부로 부터 이벤트 를 수신 정탐 오 타다 미탐 분류 오 탐미 타다 분류 부와 오 탐미 타다 분류 부로 부터 수신 오 타다 미탐 분류 를 딥 러닝 기반 의 객체 인식 학습 알고리즘 인 를 통해 실시간 재 학습 시키다 재 학습 부와 재 학습 부로 부터 생 성 재 학습 셋 을 온라인 실시간 기반 객체 인식 부로 업로드 시키다 학습 업데이트 부르다 하영 영 상인 식 플랫폼 을 인공 지능 기반 영 상인 식 플랫폼 을 이동식 지능 형 에 관 한 것 이다', '은 인공 지능 기반 영상 인식 을 임베디드 영상 인식 통합 관제 플랫폼 에 관 한 것 상세 카메라 로부터 건설 산업 주변 영상 촬영 를 수신 영상 수 신부 와 영상 수 신 부로 부터 수신 영상 촬영 에서 사람 객체 를 인식 하고 인식 사람 객체 의 에 대응 해당 인식 사람 의 객체 를 박스 화하다 탐지 기반 객체 인식 부 기반 객체 인식 부로 부터 탐지 사람 객체 가 중장비 주변 을 미리 설정 반경 상황 에 노출 경우 경 광등 경 고 알람 을 이벤트 부르다 영 상인 식 과 기반 객체 인식 부로 부터 탐지 이벤트 를 수신 정탐 오 타다 미탐 분류 오 탐미 타다 분류 부 오 탐미 타다 분류 부로 부터 수신 오 타다 미탐 분류 를 딥 러닝 기반 의 객체 인식 학습 알고리즘 인 를 통해 실시간 재 학습 시키다 재 학습 부 재 학습 부로 부터 생 성 재 학습 셋 을 온라인 실시간 기반 객체 인식 부로 업로드 시키다 학습 업데이트 부 영 상인 식 과 외부 서버 관리자 단말기 를 외부 와의 을 위 한 부르다 영 상인 식 플랫폼 인공 지능 기반 영상 인식 을 임베디드 영상 인식 통합 관제 플랫폼 에 관 한 것 이다', '은 이동형 시공 에 관 한 것 구체 적 으로는 시공 에 출입 근로자 의 기 설정 식별 영역 을 촬영 하고 이동형 시공 가 설치 주변 영역 을 촬영 함 으로써 시공 에 실시간 영상 를 생 성하다 카메라 시공 에 구비 들 중 이동형 시공 가 설치 영역 과 기 설정 반경 내 에 한 적어도 하나 의 와 주변 영역 의 요소 에 센싱 를 센싱 영상 센싱 중 적어도 어느 하나 를 를 원 격의 클라우드 서버 로 송출하 는 영상 센싱 중 적어도 어느 하나 를 로부터 시공 에 도르다 이동형 시공 의 내부 외부 에 구비 경고 송출 수단 에 경고 콘텐츠 를 경고 을 것 을 특징', '은 이동식 크레인 지상 작업장 자 사고 원인 빅데이터 를 이용 한 기반 이동식 크레인 지상 작업장 자 탐지 에 관 한 것 이동식 크레인 종류 특징 과 이동식 크레인 과 이동식 크레인 과 관련 한 추락 낙하 전도 협착 도괴 붕괴 감전 충돌 을 재해 별 재해 사례 와 인양 물 부다 차체 탑승 후크 결함 을 사 고유 발원 인 과 크레인 운전자 인근 자 관리자 를 피해자 분류 와 수 칙 밉다 준수 줄 걸이 불량 크레인 불량 크레인 전도 탑승 불량 버켓 불량 미숙 을 사 고원 인 을 이동식 크레인 종류 특징 이동식 크레인 재해 별 재해 사례 사고 유발 원인 피해자 분류 사고 원인 별로 분류 별 빅데이터 화 하고 분류 별 빅데이터 에 상응 사고 대응 시나리오 를 작성 맵핑하 여 구축 한 인공 지능 과 이동식 크레인 자 사물 에 부착 을 인공 지능 에 의하다 이동식 크레인 지상 작업장 자의 을 탐지 위 한 에 관 한 것 이다', '세이프 존 에 설치 소방 상태 판단 을 위 한 를 하나 이상 의 가 구비 세이프 박스 세이프 박스 로부터 수신 에 기초 세이프 존 에 소방 을 서버 를 하고 서버 는 세이프 박스 로부터 수신 에 기초 세이프 존 의 소 방안 전 상태 를 판단 하고 세이프 존 의 소 방안 전 상태 에 이상 이 경우 대상 등록 하나 이상 의 사용자 단말 에 메시지 를 전송 하고 세이프 박스 는 소 방안 전용 물품 이 보관 수납 공간 을 유비 무 화 소방 이 개시', '은 유 무선 통합 형 산업 에 관 한 것 더욱 상세 내 자 에 부착 무선 를 시키다 적어도 하나 이상 의 와 을 촬영 카메라 로부터 전송 를 무선 전송 적어도 하나 이상 의 로부터 에 관 한 를 수신 모니터링 수 관제 서버 를 하 는 기 설정 소정 영역 내 에 로부터 를 전송 받다 영역 내의 자의 상태 를 관제 서버 로 전송 로부터 상황 에 와 카메라 를 통해 촬영 영상 를 무선 전송 함 으로써 내 상황 을 통합 적 수 넓다 산업 내 에서 자 에게 사고 등 의 긴급 상황 이 하 거나 상황 에 따르다 인력 통제 가 필요하다 경우 내 자의 를 용이하다 탐색 수 유 무선 통합 형 산업 에 관 한 것 이다', '은 건설 을 출입 근로자 의 신체 장구 류 에 장착 근로자 의 활동 영역 을 촬영 하고 그 영상 이 원격지 의 관제 센터 에서 모니터링 함 으로써 관리자 의 육안 확인 없다 내의 상황 을 실시간 파악 수 웨어 러블 카메라 를 이용 한 건설 모니터링 에 관 한 것 상세 고유 의 식별 를 가지 고 선택 근로자 의 신체 장구 류 에 장착 근로자 의 활동 영역 을 촬영 하고 제 영상 를 하나 이상 의 이동식 카메라 이동식 카메라 에 이동식 카메라 로부터 제 영상 를 수신 에 영상 을 모니터링 모니터링 영상 을 에서의 요소 사고 유무 를 판단 서버 를 것 이 특징 이다', '은 웨어 러블 디바이스 와 인체 감지 을 결합 한 에 관 한 것 이다 에 따르다 은 적어도 하나 의 감지 로부터 자 에 감지 를 하고 적어도 하나 의 감지 에 따르다 대상 내 에 자 를 확인 자 확인 대상 의 로부터 입력 혹은 자 확인 로부터 입력 자 감지 중 적어도 하나 에 따르다 대상 로 잠그다 를 잠그다 을 것 을 특징', '은 웨어 러블 디바이스 를 기반 건설 내 그 에 관 한 것 건설 내 은 근로자 의 신체 에 장착 복수 의 를 통해 근로자 의 체온 심박수 혈압 산소 포화 도 양 발의 압력 도르다 건강 를 측정 하고 실시간 근로자 의 고도 를 웨어 러블 기기 측정 건강 를 항 목별 로 설정 기준 값 과 비교 도 점수 로 산정 하고 고도 를 이용 근로자 의 추락 도 점수 를 산정 서버 그리고 건강 항 목별 로 각 근로자 의 날씨 건설 에 따르다 설정 가중 치르다 하고 가중 치가 도 점수 를 합산 총 점 을 산출 산출 총 점 에 대응 단계 에 따르다 연 계 스마트 기기 외부 기관 에 알림 를 전송 서버 를 에 따르다 관리자 가 근로자 들 의 건강 상태 의 도르다 도 지수 를 통해 쉬다 인지 수 때문 에 각 근로자 의 가능 여부 를 판단 에 함 으로써 적 건설 을 수', '은 웨어 러블 기기 를 이용 한 건설 의 평가 표시 그 에 관 한 것 건설 의 영상 자 시점 의 영상 하고 이르다 바탕 실시간 빠르다 정확하다 웨어 러블 기기 를 통해 자 에게 안전성 평가 를 제 공함 으로써 건설 의 예측 수 사고 뿐 만 아니다 예측 못 한 돌발 적 인 사고 에 대해 서도 확률 을 저 감 수 을 제공 한 다', '와이파이 기반 자 추정 을 통한 모니터링 을 통해 재고 나 물류 창고 등 과 같다 시설 물 내 에서 자율 주행 복수 의 모바일 구동 유닛 들 의 주행 를 을 제공 한 다', '에 의하다 영상 을 통한 은 에 설치 의 영상 을 영상 수신 영상 수 신 로부터 영상 을 영상 을 상황 에 해당 특정 패턴 와 비교 영상 서버 을 관제 관제 실 에 구비 모니터링 부가 통신망 구축 영상 을 통한 으로서 영상 수 신 는 을 촬영 에 의하다 촬영 영상 을 영상 서버 에 실시간 전송 영상 서버 를 하고 영상 서버 는 영상 서버 로부터 영상 을 영상 부 영상 을 매 프레임 별로 실시간 하고 각각 의 상황 에 따르다 설정 상황 에 해당 특정 패턴 를 이벤트 로 베이스 베이스 에 영상 과 특정 패턴 를 을 통해 서 매 프레임 별로 비교 실시간 영상 부 영상 부 에서의 비교 에 의하다 상황 을 확인 상황 에 등급 을 판독 하고 그 이력 을 상황 판독 부르다 하고 모니터링 불다 영상 서버 로부터 영상 을 제공 받다 관리자 가 모니터링 영상 을 하고 상황 판독 부로 부터 판독 등급 에 따르다 알람 을 시키다 모니터링 단말기 를', '의 실시 예 에 따르다 서버 가 영상 에 기반 건설 의 을 판단 으로서 영상 촬영 로부터 건설 내 에서 촬영 영상 을 단계 영상 내 에서 자 를 식별 하고 각 자 가 구비 하고 식별자 를 기반 자 를 그룹 화하다 단계 영상 을 자 그룹 별로 착용 보호 를 올바르다 착용 하고 여부 를 판단 단계 를 건설 의 판단 이 제공', '의 일 실시 예 에 따르다 산업 을 촬영 열 화상 을 생 성하다 카메라 카메라 로부터 수신 한 열 화상 을 에 이상 온도 가 존재 판단 서버 를 열 화상 카메라 로 산업 의 이상 온도 를 감지 표현 하고 경보 를 시키다 알리다 이의 동 작 을 제공 이상 온도 가 열 화상 에 나타나다 경우 이상 이벤트 를 관리자 에게 알다 사고 를 미연 에 방지 하 거나 한 사고 를 빠르다 대처 수', '은 점검 요청 자 가 자신 이 보유 한 점검 대상 시설 에 점검 을 점검 회사 에 요청 점검 회사 에 소속 점검 자 가 점검 대상 시설 을 방문 에서 점검 을 한 후 점검 결과 를 앱 웹 중앙 플랫폼 서버 로 제공 하고 중앙 플랫폼 서버 는 점검 결과 를 이용 전자 서류 형식 의 점검 서 를 생 성하다 점검 요청 자 에게 제공 하고 점검 서다 점검 요청 자의 확인 이 경우 점검 확인 서 를 점검 대상 시설 을 점검 한 점검 회사 로 제공 점검 대상 시설 에 종합 적 이고 체계 적 인 점검 를 수 점검 플랫폼 에 관 한 것 점검 자 단말기 점검 회사 단말기 점검 요청 자 단말기 중앙 플랫폼 서버 를 것 을 특징', '은 사고 가상 체험 을 제안 은 체험 자의 손 에 착용 내장 를 통해 손 의 움직임 을 추적 위 한 핸드 트래킹 를 생 성하다 체험 장갑 체험 자의 머리 에 착용 내장 를 통해 머리 의 움직임 을 추적 위 한 헤드 트래킹 를 생 성 하고 헤드 트래킹 핸드 트래킹 에 대응 영상 음향 를 체험 헬멧 체험 장갑 체험 헬멧 으로부터 핸드 트래킹 헤드 트래킹 를 수신 하고 수신 헤드 트래킹 핸드 트래킹 를 기초 로 기 설정 사고 체험 시나리오 에 대응 영상 음향 를 식별 하고 식별 영상 음향 를 체험 헬멧 에 전송 체험 서버 를 수', '은 상호 무선통신 이루어지다 근로자 의 주변 상태 를 송수 신 수 안전모 와 안전모 와 무선통신 을 이용 근로자 의 출퇴근시간 이나 근로자 의 상태 등 의 를 수신 통합 서버 와 통합 서버 를 통해 무섭다 를 통해 상황 을 관리자 로 하여금 체크 수 관리자 단말기 를 것 으로서 지역 건설 근로자 의 을 위 한 실시간 모니터링 을 통한 사전 사고 방지 을 구축함 에 근로자 의 상세 한 상태 체온 상태 음주 유무 지역 접근 등 를 실시간 측정 모니터링 수 안전모 에 친환경 에너지 태양광 를 적 축적 공급 하고 안전모 에 내장 마이크로 컨트롤러 가 단전 인하다 작 동 오류 를 방지 위 한 안전모 그 를 이용 한 이다', '은 지하철 에서 현황 을 파악 하고 통제 수 자 통합 에 온도 조도 습도 분진 유해 가스 진동 의 변화 를 감지 하고 변화량 을 검 추다 위 에 일정 간격 설치 부 자의 호흡 을 통 자 상태 를 파악 하고 위급 상황 시 자 에게 산소 를 공급 마스크 자의 인적 생체 진행 상황 가 내장 카드 를 장 착하다 부의 검 추다 에 따르다 마스크 를 무선 단말기 부 무선 단말기 로부터 를 수신 하고 작업장 자 주변 의 상황 에 따르다 경고 업무 분장 에 를 무선 단말기 측 에 관제 센터 부 마스크 무선 단말기 관제 센터 간의 무선통신 을 중계 중계기 를 것 을 특징 통합 을 제공 한 다', '은 을 갖다 스마트 다지 점 구 인상 통합 에 관 한 것 으로서 더욱 상세 유압잭 로드 쉘 수직 변위 수평 변위 변위 제어장치 유압 분 배기 파워 팩 과 연동 시키다 구 을 인상 컴퓨터 인상 다지 점 구 인상 과 영상 카메라 음성 송수신기 비상 버튼 램프 와 연동 시키다 모니터링 컴퓨터 스마트 을 통합 함 으로써 실시간 연동 을 통 을 모니터링 하고 의 비상 상황 시 에 관제 센터 관리자 단말기 로 전송 대응조치 를 수 내 에 근거리 원거리 통신망 을 구축 하고 이르다 통해 다지 점 구 인상 과 스마트 을 통합 연 동 시킴 으로써 물의 인상 중 변위 유 압제 어 를 구 인상 을 실시간 와 통제 모니터링 을 수 음 은 물론 물의 정밀 한 인상 중 예 기 치 않다 의 문제점 을 사전 에 단계 별로 인지 하고 확인 해결 하므다 절대 적 인 구 인상 의 안전성 과 정밀 한 시 공성 자의 안전성 을 확보 수 비상 버튼 카메라 음성 송수신기 램프 를 단말기 를 자의 안전모 와 작업복 에 부착 함 으로써 자의 신체 적 이 시 와 의 예 기 치 않다 요소 로 인하다 진행 이 불가하다 상황 시 에 자 와 관리자 관리자 가 실시간 요소 긴급 상황 에 빠르다 대응 해결 수 구 인상 에 일정 간격 무선 확장 공유기 를 설치 줌 으로써 근거리 원거리통신망 의 전송 거리 를 더 길다 확보 수 가', '은 태양광 의 지 지구 에 설치 지 지구조 물의 움직임 을 감지 모니터링 함 으로써 태양광 에 물리 적 안전성 을 판단 수 감지 모니터링 장 치가 구비 태양광 발전 에 관 한 것 상세 지 지구 을 구비 한 하나 이상 의 태양광 태양광 에 구비 지 지구조 물의 움직임 을 감지 하고 감지 를 생 성 움직임 감 지부 태양광 에서 발전 와 움직임 감 지부 에서 감지 를 반 반 과 반 에서 한 태양광 의 발전 와 움직임 감지 부의 감지 를 수신 하고 감지 를 기반 태양광 의 움직임 와 그 변화량 을 서버 서버 와 서버 의 와 를 모 티터링 모니터링 서버 를 것 이 특징 이다', '의 일 실시 예 에 따르다 진단 이 태양광 발전 은 태양광 스트링 의 전압 전류 일사량 온도 습도 대기 구 에 설치 와이어 보강 재 에 장력 구 기둥 의 변위 상태 를 체크 위 한 구 거리 를 한 센싱정보 를 위 한 복수 의 복수 의 로부터 센싱정보 를 제공 받다 서버 에 제공 태양광 발전 물의 상태 를 파악 위해 장력 구 거리 를 이용 구 진단 에 구 진단 결과 를 제공 받다 반 태양광 발전 상태 를 파악 위해 로부터 를 토대 로 기간 별 발 전량 누적 발 전량 장소 별 발 전량 을 산출 모니터링 을 통 확인 반 을 통 장력 구 거리 를 이용 태양광 발전 물의 진단 을 서버 를', '은 진단 을 구비 한 기반 태양광 발전 구 에 관 한 것 진단 을 구비 한 기반 태양광 발전 구 은 태양광 의 빛 에너지 를 전 기 에너지 로 전력 을 생 성 하고 생 성 발전 전력 을 요구 발 전량 에 따르다 복수 로 경우 병렬 직렬 로 하나 의 단위 태양광 스트링 을 태양광 태양광 을 지면 으로부터 지지 경사 각도 가 선택 적 조정 수 설치 지지 구조대 태양광 의 경 사각 이 변경 기울어지다 설치 경우 외부 에 따르다 태양광 의 경 사각 이 변경 태양광 각도 지지 구조대 에 지지 구조대 의 진동 값 을 세다 싱하 는 진동 태양광 사이 에 태양광 의 경 사각 을 측정 기울기 기울기 로부터 수신 경 사각 태양광 각도 에 의하다 경 사각 을 비교 태양광 의 경사 각의 이상 여부 를 임시 적 확인 하고 확인 결과 에 따르다 지지 구조대 의 진동 값 에 따르다 태양광 의 경사 각의 이상 여부 를 최종 확인 외부 서버 에 제공 진단 를', '은 산업 에서 기계 등 의 점검 보수 시 불시 가동 으로부터 자 를 보호 잠그다 그 의 동작 에 관 한 것 이다 실시 예 에 따르다 잠그다 은 공간 내 에서 에너지 원 을 차단 수 주변 에 설치 잠 금식 원격 스위치 박스 잠 금식 원격 스위치 박스 와 전 기적 차단 를 하고 차단 는 프로세서 프로세서 와 동작 가능하다 프로세서 에서 적어도 하나 의 코드 를 메모리 를 하고 메모리 는 프로세서 를 통해 때 프로세서 가 잠 금식 원격 스위치 박스 로부터 에너지 원 에 차단 요청 를 수신 하고 차단 요청 의 수신 에 대응 에너지 원 을 차단시키다 에너지 원 의 차단 완료 여부 를 검증 하고 검증 에 의하다 에너지 원 이 차단 완료 따르다 잠 금식 원격 스위치 박스 로 검증 완료 를 야기 코드 를 수', '실시 예 에 따르다 보호 구 착용 상태 모니터링 은 조업 에 설치 감시 로부터 영상 을 수신 단계 영상 을 목표 자 목표 자 주변 에 한 복수 의 객체 를 검 출하 는 단계 목표 자 복수 의 객체 에 기초 목표 자 가 하고 유형 을 판단 단계 그리고 유형 복수 의 객체 에 기초 목표 자 에게 요구 보호 구 종류 를 판단 단계 를', '명세서 는 밀폐 공간 에서 유해 가스 등 에 알림 을 통해 자의 생명 을 보호 세트 을 개시 한 다 명세서 에 따르다 세트 는 모자 에 결 홈 이 하우 징 하우 징 내 에 설치 근거리 하우 징 의 하단 부 에 설치 하우 징 외부 로 발광하다 수 광원 부 하우 징 내 에 설치 근거리 광원 부 에 전력 을 공급 배터리 를 헤드 공 기 구멍 이 하우 징 하우 징 내 에 공 기 구멍 을 통해 공기 중 산소 농도 를 측정 산소 하우 징 내 에 설치 근거리 하우 징 내 에 설치 근거리 산소 에 전력 을 공급 배터리 를 버클 를 수', '운용 을 위 한 이기 종 기기 간 통합 서버 가 개시 통합 서버 는 통 신부 메모리 하나 이상 의 프로세서 를 프로세서 는 작업장 에 의 이상 동작 을 모니터링 위 한 자의 이상 행동 을 모니터링 위 한 자 를 부르다 통해 한 후 자 를 전 하고 전 자 를 이용 수 통합 서버 가 제공 이용 에 통합 적 인 기준 이 제공 수', '고리 의 가설 구 체결 여부 인식 가 개시 다양하다 실시 예 들 에 따르다 고리 의 가설 구 에 체결 여부 를 인식 은 사용자 의 몸체 에 가다 사용자 의 움직임 을 세다 싱하 여 생 성 한 사용자 센싱 를 사용자 의 몸체 에 로부터 동작 고리 에 가다 고리 의 움직임 을 세다 싱하 여 생 성 한 고리 센싱 를 고리 에 로부터 동작 사용자 센싱 고리 센싱 의 물리량 의 경향 성 에 기초 고리 와 가설 물의 체결 상태 를 인식 동작 을 수 그 외 에도 다양하다 실시 예 들 이 가능하다 수', '은 추락 방지 용 로프 에서 로프 양단 에 결합 개 의 고리 중 적어도 하나 의 고리 에 결합 고리 체결 감지 에 고리 를 사이 에 두다 양 측면 을 감싸다 결합 하우 징 하우 징 의 기 지정 에 삽입 적어도 하나 의 거리 측정 를 고리 내 에 삽입 수단 까지의 거리 를 측정 부 세다 서부 에서 측정 거리 를 기반 수단 의 삽입 여부 와 수단 의 굵다 판별 감지 제 어부 를 고리 가 충분하다 굵다 수단 에 정상 체결 여부 와 수단 이 충분하다 길이 를 갖다 안전하다 수단 인지 판별 수 뿐 만 아니다 자 가 시 에 실제 로 로프 를 수단 에 체결 을 여부 를 판별 추락 사고 를 방지 수 고리 체결 감지 를 제공 수', '에서는 종래 스마트 안전모 의 경우 에 사막 이나 바다 오지 에서는 하나 의 하나 의 무선통신 인 단일 만으로 범위 환경상 의 잡음 방해 전파 로 인하다 가 자주 끊기다 오류 가 자주 문제점 과 원격지 의 중앙 서버 관리자 의 스마트 디바이스 쪽 자동 사전 에 알리 고 통보 해주다 가 없다 문제점 과 폭염 때 안전모 를 착용 경우 에 땀 이 많이 나 고 덥다 자주 벗다 착용 않다 때문 에 물체 의 낙하 비 래 에 의하다 사고 율 이 높다 능률 또한 떨어지다 문제점 을 개선 안전모 본체 쓰리다 실렉션 캡 형 라이브 스피커 부 에어 플로우 생 성 스마트 배터리 엣지 기반 형 안전모 플랫폼 로 의 근거리 의 중거리 의 원거리통신 이루어지다 쓰리다 실렉션 을 통해 사막 이나 바다 오지 에서도 기존 에 비다 배배 향상 감다 향상 속도 를 제공 수 안전모 사용자 를 기준 식별 설정 과 함께 현 장존 중심 그룹 핑 연 결제 어 로 상호 간 에 양 방향 을 수가 혹 한 이나 폭염 의 날씨 산업 재해 유해 가스 시 빠르다 통보 와 정확하다 파악 그리고 원활하다 의사소통 을 통해 안전모 사용자 를 신속하다 피난 수 클립 형 냉온 송 풍부 를 통해 안전모 본 체내 에 냉온 의 바람 을 보내다 에어 플로우 공기 흐르다 시키다 안전모 본 체내 를 환기 시키다 사용자 의 땀 을 증발 시키다 수 안전모 착용 률 을 높이다 물체 의 낙하 비 래 에 의하다 으로부터 사용자 를 보호 수 이로 인하다 안전모 를 착용 한 상태 에서도 능률 을 기존 에 비다 배배 로 올리다 수 클립 형 냉온 송 풍부 를 통해 안전모 본 체내 에 냉온 의 바람 을 보내다 에어 플로우 공기 흐르다 시키다 안전모 본 체내 를 환기 시키다 사용자 의 땀 을 증발 시키다 수 마스크 형 자동 페이스 쉴드 을 착용 한 상태 에서도 능률 을 기존 에 비다 배배 로 올리다 수 엣지 기반 형 안전모 플랫폼 을 통해 사용자 의 신체 온도 혈압 유해 가스 산업 주위 영상 에 관 한 산업 용 를 생 성 시키다 사용자 에게 맞춤 형 산업 도우미 모드 를 제공 수 기존 에 비다 산업 사고 에 따르다 사망 율 을 이하 로 낮추다 수 쓰리다 이 펙트 형 산업 지능 식 안전모 화 를 제공 그 목적 이', '은 실시간 추적 를 이용 한 인공 지능 기반 산업 산업 에 관 한 것 구체 적 으로는 산업 내 에 분산 보건 분야 의 를 전산 통합 위 한 종합 적 업무 자동화 를 통해 자율 적 보건 경영 을 정착 시키다 이르다 통한 진보 한 경 영 체계 를 구축 위 한 실시간 추적 를 이용 한 인공 지능 기반 산업 산업 에 관 한 것 이다 이 에 의하다 의 통합 로 사고 체계 를 정립 사고 사례 의 공유 가 표준화 일괄 적 인 안전교육 이 가능하다 를 제공 한 다 또한 안전교육 이력 를 활용 협력 업체 와 외부 출입 자의 에 도 가 향상 인 허가 보호 구 재고 개인 별 지급 이력 등 의 이력 를 통해 점검 에 계획 수립 를 공유 체계 적 가능하다 를 제공 한 다', '의 실시 예 에 따르다 스마트 헬멧 을 이용 한 상황 모니터링 은 상황 으로부터 자의 머리 를 보호 헬멧 자 가 소지 헬멧 과 에 의하다 자 에게 상황 이 스마트 디바이스 스마트 디바이스 로부터 감지 상황 을 취합 관제 서버 를 헬멧 은 무선통신 이 가능하다 제 통 신부 자의 쓰러지다 유무 를 감지 위 한 쓰러지다 감지 자의 머리 에 충격 이 가해 지는 상황 의 여부 를 감지 위 한 충격 감지 상황 질문 을 자 에게 들려주다 위 한 스피커 자의 음성 을 인식 음성인식 를 하고 스마트 디바이스 는 제 부와 무선 이 가능하다 제 통 신부 제 통 신부 제 부르다 통해 헬멧 의 쓰러지다 감지 충격 감지 에서 감지 들 을 수신 위 한 수 신부 수 신부 에서 수신 를 이용 자 에게 상황 이 여부 를 판단 상황 판단 부르다 하고 상황 판단 불다 쓰러지다 감지 를 통해 자의 쓰러지다 감지 충격 감지 에서 자 헬멧 의 충격 이 함께 감지 경우 에 자 에게 단계 상황 이 판단 단계 상황 판단 단계 상황 판단 로부터 자 에게 단계 상황 이 판단 자 에게 상황 이 실제 로 여부 를 판단 위해 상황 질문 을 생 성하다 위 한 상황 질문 음성 생 성 헬멧 의 스피커 를 통해 자 에게 상황 질문 을 들려주다 위해 자 에게 상황 질문 을 헬멧 위 한 상황 질문 상황 질문 이 헬멧 에 상황 질문 을 한 이후 소정 시간 이내 에 음성인식 를 통해 자로 부터 답변 이 않다 경우 자 에게 단계 상황 이 판단 단계 상황 판단 을 점 에 그 특징 이 에 따르다 자 에게 위험하다 상황 이 때 이르다 정확하다 확인 하고 또한 신속하다 이르다 감지 알다 줌 으로써 상황 에 즉각 적 인 대처 가 가능하다 장점 이', '에 따르다 스마트 단말기 를 이용 한 현 장전 력 의 이상 진단 은 스마트 단말기 의 무선통신 과 정보처리 과 같다 컴퓨터 을 이용 현 장전 력 의 에러 시 실시간 에러 를 수신 수 스마트 단말기 에 설치 애플리케이션 소프트웨어 로 수신 진단 상태 를 함 으로써 현 장전 력 의 작 동 상태 를 실시간 진단 수 따르다 시간 공간 적 감시 과 진단 가능성 을 개선 에러 의 원인 을 신속하다 함 으로써 이 에 상응 보전 조치 도 적기 에 취하 게 따르다 현 장전 력 에 안전성 과 신뢰 도르다 제 고하 는 것 이 가능하다 지다 가', '의 일 실시 예 는 스마트 크레인 에 관 한 것 해결 적 과제 는 다수 의 로부터 측정 빅 를 이용 적 크레인 를 하고 을 확인 수 이르다 위해 의 일 실시 예 는 크레인 의 복수 개 의 에 각각 에 구비 로드 셀 소음 측정 진동 변위 전류 전압 를 구비 각각 의 에서의 권 상 하중 소음 진동 변위 전류 전압 값 을 크레인 를 감지 감지 감지 로부터 감지 크레인 를 실시간 수신 하고 크레인 를 한 후 웹 페이지 상 에 제공 중앙 감시 크레인 용 어플리케이션 이 설치 크레인 용 어플리케이션 의 에 의하다 중앙 감시 의 웹 페이지 상 에 원하다 크레인 를 열람 스마트 단말 을 스마트 크레인 을 개시 한 다', '은 스마트 원격 조정 용 열 풍기 에 관 한 것 구체 적 으로는 자동 원격 조정 이 연료 급유 상태 가 인식 이 스마트 원격 조정 용 열 풍기 의 구동 상태 를 확인 수 뿐 만 아니다 근로자 의 출입 최소 화 하고 일산화탄소 중독 등 인하다 사망 사고 예방 를 제공 위 한 스마트 원격 조정 용 열 풍기 에 관 한 것 이다', '의 실시 는 분전 반의 누설 전류 과 전류 역률 을 한 전기 상태 를 측정 측정 한 전기 상태 가 미리 설정 임계 치르다 초과 않다 경우 측정 한 전기 상태 를 분전 반 아이디 와 함께 외부 의 원격 전기 점검 서버 로 전송 점검 결과 통보 모드 로 동작 측정 한 전기 상태 가 미리 설정 임계 치르다 초과 경우 수 에 의하다 전기 점검 을 요청 재 점검 요청 모드 로서 동작 전기 점검 스마트 기기 전기 점검 스마트 기기 로부터 수신 한 전기 상태 를 분전 반 아이디 별로 관리자 로부터 선택 분전 반 아이디 의 전기 상태 를 원격 전기 점검 서버 전기 점검 스마트 기기 와 원격 전기 점검 서버 간 에 유선 무선 을 제공 유 무선 통신망 을 수', '스마트 를 활용 한 건설 비대 면 이 개시 건설 비대 면 은 자 가 착용 가능하다 자 와 관련 를 위 한 복합 가 장착 안전모 자 가 소지 가능하다 단 말로 서 안전모 로부터 복합 를 통해 감지 를 수신 와의 을 통해 로부터 를 수신 하고 에 기초 자의 안전모 착용 여부 행동 패턴 을 모니터링 한 후 모니터링 결과 에 따르다 로 알림 을 제공 관제 서버 를', '은 스마트 안전모 에 관 한 것 사고 를 방지 위해 에서 수 요소 인 화재 정전 일산화탄소 를 감지 부르다 안전모 에 사용자 의 두부 를 보호 동시 에 요소 에 를 경 고음 나타내다 수 스마트 안전모 를 제공 수', '스마트 안전모 스마트 안전모 이 제시 머리 에 착용 외부 충격 으로부터 착용 자의 머리 를 보호 본체 본체 에 외부 와 무선 무선 무선 에 전원 을 공급 전원 공 급부 본체 가 착용 자의 머리 에 본체 의 양 측 에서 턱 을 감싸다 지지 끈 이루어지다 무선 과 외부 와 무선 에 의하다 음성 를 송수 신하 는 마이크로폰 과 이어폰 이 각각 착용 끈 을 수', '은 스마트 에 관 한 것 이다 이르다 위 은 복수 의 사용자 단말 과 로 를 송수 신하 는 처리장치 와 사용자 단말 처리장치 와 를 송수 신하 여 저장장치 를 건설 의 에 처리장치 는 별 허가 서 를 생 성하다 제공 허가 부 생 성 허가 서 를 바탕 별 등급 을 평가 제공 위험성 평가 부 인 에 안전교육 이력 와 생 성 허가 서 를 바탕 인 별 요구 안전교육 를 제공 안전교육 부 생 성 허가 서 를 바탕 인 의 입문 을 승인 하고 입출 문 를 제공 입출 문 부 생 성 허가 서 를 바탕 별 점검 사항 을 제공 지 원부 를 이로써 의 스마트 에 의하다 서 지 기반 의 에서 벗어나다 사용자 단말 과 를 활용 의 대부분 의 활동 을 데이타 화하다 자동화 가 가능하다 건설 의 모든 활동 이 처리장치 의 허가 부의 액 티비 티 를 중심 데이타 화 에 향후 위험관리 를 위 한 로 활용 수', '은 산업 이나 재해 에서 자 가 착용 장구 에 장착 스마트 웨어 스마트 운용 에 관리자 가 순찰 시 공정 에 관련 사항 을 실시간 입력 단말기 관리자 의 주변 상황 을 촬영 하 거나 소정 의 들 로 감지 촬영 감지 상황 들 과 단말기 에 입력 사항 을 무선 전송 제 스마트 웨어 자의 주변 상황 을 촬영 하 거나 소정 의 들 로 감지 감지 상황 들 을 무선 전송 제 스마트 웨어 스마트 웨어 와 중앙 통제 센터 간의 무선통신 을 중계 을 통해 제 스마트 웨어 제 스마트 웨어 의 를 수신 하고 수신 에 기초 산업 의 사 황 과 자의 주변 상황 을 추론 하고 추론 결과 에 따르다 를 해당 스마트 웨어 에 지령 하 거나 응용 서비스 를 제공 중앙 통제 센터 를 것 을 특징 스마트 운용 을 제공 한 다', '실시 예 에 따르다 스마트 고리 체결 판단 은 제 에서 고리 의 체결 클러치 에 설치 좌우 대각 방향 빛 을 발산 하고 반사 되돌아오다 빛 을 수신 단계 제 에서 고리 체결 이후 고리 체결 완료 를 스틸컷 단계 생 성부 에서 제 로부터 한 빛 의 수신 시점 발신 시점 빛 발산 량 빛 수 신 량 을 제 체결 판단 를 생 성 하고 제 로부터 한 스틸컷 을 제 체결 판단 로 생 성하다 단계 부 에서 생 성부 에서 생 성 제 체결 판단 제 체결 판단 중 적어도 하나 를 단계 판단 부 에서 제 체결 판단 제 체결 판단 중 적어도 하나 의 결과 에 따르다 고리 체결 여부 를 판단 단계 감시 부 에서 제 체결 판단 와 판단 부 에서 내리다 체결 여부 를 지속 적 대조 단계 를', '은 스마트 헬멧 이르다 에 관 한 것 이다 의 일 실시 예 에 따르다 스마트 헬멧 은 자 가 공간 내부 의 미세먼지 농도 자의 건강 에 영향 을 미치다 정도 를 판단 위 한 적어도 하나 의 파라미터 를 측정 측정 측정 미세먼지 농도 파라미터 를 기저대역 로 변조 컨트롤러 기저대역 를 로 미세먼지 농도 파라미터 에 를 모니터링 로 전송 무선 을 수', '은 스마트 진단 보고 그 에 관 한 것 계약 을 체결 한 업체 의 업체 를 업체 저 장부 업체 의 업체 와 에 한 진단 기술자 의 단말기 로부터 입력 진단 를 토대 로 진단 보고서 사고 시 에 한 진단 기술자 의 단말기 로부터 입력 사고 를 토대 로 사고 보고서 를 작성 보고서 작 성부 작성 진단 보고서 사고 보고서 를 업체 기관 에 전송 보고서 전송 부 진단 기술자 업체 관리자 의 단 말로 부터 사고 를 입력 받다 기관 에 사고 를 전송 사고 전송 부 진단 기술자 업체 관리자 의 단 말로 부터 사고 를 입력 받다 인사 사고 이 예측 의료 기관 서버 에 사고 를 전송 의료 서비스 제공 요청 부르다', '은 건설 공사 산업 등 과 같다 에 설치 모니터링 등 과 같다 수동 적 인 수단 이 아니다 자 가 작업장 에서 반드시 착용 의복 자체 를 이용 의 감지 등 을 수 화하다 자 가 시각 적 확인 수 전방 에 존재 요소 는 물론 자 가 볼 수 없다 후방 에 존재 요소 까지 동시 에 감지 를 수 요소 에 신속하다 대처 가 가능하다 스마트 의복 그 을 제공 위 한 것 이다', '은 새롭다 업체 가 데이터베이스 에 최초 등록 업체 관련 사고 관련 항목 들 을 입력 받다 사고 에 에 필요하다 항목 들 을 반 영 함 으로써 사고 을 예상 의 스마트 사고 예측 에 관 한 것 이다 잠재 적 화재 을 감지 하고 기계 의 이상 동작 가능성 을 감 하고 화재 이 감지 기계 의 이상 동작 가능성 이 감지 미리 설정 구역 의 도르다 재 설정 하고 관리자 에게 이상 사고 상황 을 보고 에 따르다 산업 의 도르다 평가 하고 단말 이 한 를 피드백 함 으로써 능동 적 이고 적극 적 스마트 한 예측 이 가능하다 이로써 재해 예측 의 인력 부족 에 따르다 문제점 이 해결 사회 전반 적 인 산업 재해 이 경제 적 인 손실 을 방지 수 산업 재해 예방 을 위해 요구 예산 이 재해 예방 을 위 한 인프라 가 널리 보급 수 사회 전반 적 건전하다 산업 발전 이 도모 수', '은 스마트 산업 에 관 한 것 이다 자세하다 웨어 러블 디바이스 를 이용 산업 의 사고 을 방지 하고 자 에게 안전교육 을 실시 수 스마트 산업 에 관 한 것 사고 방지 를 위 한 생체 측정 콘텐츠 를 제공 스마트 산업 에 웨어 러블 디바이스 로 마련 자의 심박수 를 생체 를 측정 생체 를 생 성하다 스마트워치 와 웨어 러블 디바이스 로 마련 자 가 신발 하방 가하다 압력 분포 를 감지 압력 를 생 성 하고 자의 를 생 성하다 스마트 신발 과 작업장 에 복수 개 마련 무선통신 로 스마트 신발 과 무선통신 포인트 를 생 성하다 웨이 포인트 부와 생체 압력 포인트 를 실시간 전송 받다 하고 기 설정 기준 에 따르다 피로 도르다 산출 하고 지속 도르다 판단 통합 관제 부 자의 교육 을 위 한 콘텐츠 를 제공 교육 콘텐츠 부르다 하고 통합 관제 불다 교육 콘텐츠 부와 연 계 하 여 교육 이수 여부 를 확인 것 을 특징', '건설 가 미리 건설 데이터베이스 건설 의 사용자 의 착용 상태 테스트 결과 가 실시간 누적 사용자 건설 착용 테스트 데이터베이스 건설 테스트 결과 를 표시 패널 과 패널 의 전면 에 부착 사용자 의 터치 를 입력 받다 터치 패널 과 터치 패널 의 전면 에 부착 사용자 가 자신 의 건설 의 착용 상태 를 육안 볼 수 위 한 하프 미러 가다 구비 스마트 미러 엔진 을 이용 건설 데이터베이스 에 미리 건설 를 기반 사용자 의 착용 상태 상태 를 테스트 착용 테스트 을 한 다', '에 따르다 스마트 모니터링 은 자 주변 상황 을 촬영 하 거나 소정 의 들 로서 감지 제 스마트 웨어 스마트 헬멧 와 감지 상황 들 을 무선 전송 제 스마트 웨어 스마트 벨트 와 스마트 웨어 와 통제 센터 간 의 무선통신 을 중계 액세스 포인트 와 액세스 포인트 를 통해 제 스마트 웨어 의 를 수신 하고 수신 에 기초 산업 의 상황 과 자 주변 의 상황 을 추론 하고 추론 결과 에 따르다 를 해당 스마트 웨어 에 지령 통제 센터 를 에 따르다 스마트 모니터링 은 화재 진압 지진 건물붕괴 수해 복구 등 의 각종 재난 이나 산업 에서 스마트 웨어 를 이용 상황 에 관 한 각종 를 실시간 원격지 의 중앙 통제 센터 로 하고 센터 의 지시 에 따르다 의 을 통제 하고 의 긴급 상황 에 신속하다 대처 수 에 따르다 스마트 웨어 는 헬멧 벨트 장갑 과 같다 자의 보호 장구 에 원격 지 작 업자 들 중앙 통제 센터 과의 을 위 한 무전기 이동 단말기 그리고 카메라 배터리 헤드셋 각종 등 을 실장 한 것 산업 재해 의 위험하다 으로부터 자 를 보호 하고 능률 과 성 을 높이다 수', '의 일 실시 예 에 따르다 기반 진단 을 한 태양광 발전 은 태양광 발전 상태 발전 구 상태 를 파악 위 한 전압 전류 일사량 온도 습도 대기 경사 풍속 풍향 를 한 센싱정보 를 위 한 복수 의 복수 의 들 로부터 센싱정보 를 제공 받다 서버 에 제공 태양광 발전 물의 경 사각 에 경 사 를 이용 구 진단 을 하고 서버 의 구 진단 결과 를 제공 받다 제어기 를 이용 태양광 발전 물의 경 사각 를 반 반 을 통 경 사 를 이용 태양광 발전 물의 진단 을 서버 를', '블록 체인 기반 의 변전소 원격 은 변전소 원격 서버 가 변전소 관련 기초 를 변전소 별 변전소 의 배전 선로 별 변압기 별로 매칭 관련 과 근무 자 스마트 폰 에 분산 등록 하고 변전소 에서 사고 의 주 원인 이 지락 단락 사고 와 변압기 사고 를 중심 사고 시 의 계전기 동작 부터 사고 를 수습 하고 복구 까지의 생 성 주요 상태 조작 감시 들 을 상호 관련 과 근무 자의 스마트 폰 을 통 전송 공유 기준 대로 사고 복구 것 변전소 사고 배전 선로 사고 시 사고 수습 을 사람 중심 이 아니다 중심 사고 를 적 수습 함 으로써 특히 의 오 조작 인하다 사고 전원 파급 사고 를 방지 것 이다', '의 실시 예 는 밀폐 공간 에서 자 가 휴대 용 가스 감지기 를 휴대 여부 를 감시 휴대 용 가스 감지기 의 미소 지로 인하다 가스 관련 인적 사고 을 방지 위 한 밀폐 공간 자의 에 관 한 것 의 일 측면 에 따르다 밀폐 공간 자 은 사용자 단말 에서 밀폐 공간 자 으로서 휴대 용 가스 감지기 로부터 비콘 를 수신 위 한 단계 사용자 단말 에 탑재 앱 의 시 밀폐 공간 의 을 선택 위 한 버튼 과 종료 를 선택 위 한 종료 버튼 을 표시 위 한 단계 버튼 의 선택 시 수 신부 를 통한 비콘 의 수신 여부 에 따르다 알람 불가 알람 을 표시 위 한 단계 를 수', '에 따르다 를 통해 기반 의 차량 이상 상태 감지 은 서버 사용자 단말 을 사용자 단말 은 각각 의 차량 등록 각각 의 차량 에 탑재 를 통 각각 의 사용자 단말 의 를 차량 를 하고 차량 중 비정상 값 을 제거 하고 정상 값 이 남다 필터 링 하 며 서버 는 복수 의 사용자 단 말로 부터 정상 값 과 비정상 값 을 수신 하고 필터 링 정상 값 을 기초 로 차량 의 화물 운반 안전성 차량 이력 차량 의 감가상각 비용 차량 별 이상 상태 유무 를 판단 사용자 단말 다른 서버 로 제공 비정상 값 들 을 이용 의 오 동작 유무 상태 불량 유무 차량 결함 유무 조작 오류 유무 를 판단 사용자 단말 다른 서버 로 제공 수', '은 건축 주 단말기 감리 자 단말기 의 을 위 한 웹페이지 를 제공 웹서버 건축 공사 의 에 영상 을 설치 적어도 하나 이상 의 카메라 카메라 로부터 영상 을 웹서버 에 건축 주 단말기 감리 자 단말기 가 제공 받다 수 모니터링 부 카메라 로부터 영상 을 건축 공사 의 별로 각각 데이터베이스 부 카메라 로부터 영상 을 자 와 안전모 에 를 영 상처리 부 영 상처리 부 에 의하다 를 통해 서 자 별 안전모 착용 여부 에 빈 도수 를 통해 도르다 제공 안전판 단부 를 스마트 감리 에 관 한 것 이다 에 따르다 건축 공사 의 에 영상 의 제공 을 통해 감리 자 와 건축 주 에게 건축 에 를 편리하다 제공 수 감리 의 업무 와 건축 주의 확인 에 부담 을 경감시키다 수 건축 공사 에 관련 보고서 감리 일지 를 제 공함 으로써 이의 작성 에 수고 를 줄이다 수 공사 에서 안전모 착용 등 의 감시 를 통해 안전하다 시공 에 기여 수 방범 활동 을 통한 건축 공사 의 에 안전성 을 담보 수 건축물 에 내부 에 영상 을 시간 순 제 공함 으로써 공사 에 하자 원인 공사 의 히스토리 확인 이 가능하다', '모바일 위급 상황 알림 이 제공 신체 에 착용 부착 생체 를 감지 하고 외부 의 소리 를 를 측정 웨어 러블 와 무선 모바일 는 웨어 러블 가 측정 한 생체 를 주 기적 받다 수 신부 웨어 러블 에서 인접 의 세기 를 측정 웨어 러블 와의 거리 를 판단 인접 수 신부 생체 를 주 기적 서버 에 통 신부 인접 의 세기 가 미리 설정 값 이하 로 내려가다 서버 로부터 위급 상황 를 받다 경우 생체 를 웨어 러블 에 요청 하고 수신 생체 를 서버 로 전송 시키다 제 어부 를', '공사 감시 이 개시 일 실시 예 에 따르다 공사 감시 에 가 공사 유형 공사 유형 은 빌딩 첨단 아파트 공사 를 함 을 분류 하고 분류 공사 유형 별 공정 를 하고 가 한 공사 유형 별 공정 에 따르다 감시 단위 들 을 재다 성하다 감시자 들 을 가이드 위 한 감시 지침 를 생 성하다 가 감시 지침 의 규모 에 따르다 감시자 들 의 규모 를 판단 하고 각 감시자 들 별로 재 감시 단위 에 따르다 감시 지침 을 분배 교육 을 감시 앱 을 통해 실시 공사 에 하고 가 공사 에 각 감시자 들 의 단말 에 설치 감시 앱 을 통해 입력 전송 체크 리스트 감시 결과 를 공정 별 감시 률 을 갱신 하고 공사 감시 완료 여부 를 판단 수', '은 프로세서 에 의하다 동작 서버 를 통해 건설 을 에 관 한 것 으로서 관리자 의 제 단 말로 부터 건설 을 감독 일일 책임자 일일 책임자 의 중점 항목 에 선택 를 수신 하고 선택 일일 책임자 의 제 단말 로 중점 항목 을 단계 제 단 말로 부터 중점 항목 에 점검 결과 를 수신 하고 점검 결과 를 제 단말 담당자 의 제 단말 로 제 단계 제 단 말로 부터 조치 가 필요하다 것 분류 항목 에 조치 결과 를 수신 하고 조치 결과 를 제 단말 제 단말 로 제 단계 를', '은 전산 화 그 의 을 개시 한 다 즉 은 을 전산 화하다 자 의 요소 를 하고 전산 화 을 통해 자의 확인 검증 를 함 으로써 작성 대 기 시간 을 단축 하고 손실 을 줄이다 시간 을 증가 시키다 안전하다 을 극 대화 하고 조업 정비 를 담당 담당자 의 적 인 시간 활용 을 제공 수', '에 따르다 자 가 시 을 위해 착용 의 착용 동 작 여부 를 체크 스마트 웨어 러블 은 장 치가 부착 자 가 착용 수 멜빵 에 부착 의 착용 동 작 여부 를 체크 고리 디바이스 멜빵 에 부착 전원 을 공급 배터리 고리 디바이스 의 착용 동작 여부 상태 를 전송 받다 부르다 벨트 디바이스 부와 고리 디바이스 의 상태 를 전송 받다 또 다른 로 게이트웨이 게이트웨이 로부터 고리 디바이스 의 상태 를 전송 받다 모니터링 서버 모니터링 서버 로부터 고리 디바이스 의 상태 를 확인 수 사용자 단말기 를 것 을 특징', '은 공사 그 의 구 동 에 관 한 것 으로서 의 실시 예 에 따르다 공사 는 공 사 의 자 가 착용 착용 용품 에서 가 레이저 빔 제공 위 한 복수 의 를 저 장부 한 복수 의 중 에서 공 사 에서의 자의 를 근거 로 선택 가 착용 용품 에서 레이저 빔 인터페이스 부르다 제 어부 를 수', '은 로고 라이트 를 이용 공사 그 의 구 동 에 관 한 것 으로서 의 실시 예 에 따르다 로고 라이트 를 이용 공사 는 공 사 의 자 가 착용 착용 용품 에 부착 를 로고 라이트 제공 영 사 와 을 인터페이스 부 영 사 에 기 등록 복수 의 중 에서 자의 에 근거 선택 가 로고 라이트 영 사 에서 제공 인터페이스 부르다 제 어부 를 수', '은 차원 지형 를 바탕 건설 내 다수 의 건설 자 를 실시간 통합 공사 품질 을 적 함 을 제공 건설 주변 를 비행 영상 을 촬영 영상 를 하고 영상 로부터 차원 지형 를 도출 시 공 현 장지 형 의 디지털 정사영 상 과 함께 차원 지형 를 생 성 시키다 스마트 공사 부와 건설 내 중장비 에 탑재 하고 건설 의 자세 범위 에 를 시공 를 운전자 에게 실시간 안내 스마트 품질 부와 건설 내 지역 건설 에 탑재 하고 주변 에 접근 보행자 자 를 인지 경보 알람 중장비 스마트 부와 스마트 공사 부 스마트 품질 부 스마트 부로 부터 를 하고 차원 지형 를 바탕 내 중장비 자 를 실시간 통합 스마트 통합 부르다 기반 스마트 건설 을 위 한 차원 공간 플랫폼 을 제공 한 다', '에 따르다 건설 의 개구 부 에 모니터링 은 건설 의 구 에 개구 부르다 차 폐하 기 위 한 개구 부 덮개 의 일 측 에 구비 개구 부 덮개 의 동작 을 감지 개구 부의 차폐 여부 에 모니터링 를 생 성 하고 생 성 모니터링 를 무선 전송 개구 부 모니터링 개구 부 모니터링 에서 무선 전송 모니터링 를 수신 하고 수신 모니터링 를 무선 중계기 무선 중계기 로부터 받다 모니터링 에 대응 개구 부 덮개 가 개구 부로 부터 개방 을 나타내다 경보 음 을 경보 음 출력장치 를 하고 개구 부 모니터링 는 개구 부 덮개 의 움직임 을 감지 움직임 물의 근접 여부 를 감지 근접 움직임 근접 의 감지 결과 에 따르다 개구 부의 차폐 여부 에 대응 모니터링 를 생 성 하고 생 성 모니터링 의 전송 을 모니터링 제 어부 모니터링 제 어부 의 동작 을 위 한 전원 을 공급 전 원부 모니터링 제 어부 의 에 따르다 모니터링 를 무선 전송 무선 부르다 것 을 특징', '의 일 태양 에 따르다 산업 의 도 에 관 한 를 제공 위 한 으로서 자 단말 로부터 산업 에서 예정 인 적어도 하나 의 단위 의 도 코드 에 관 한 를 단계 적어도 하나 의 단위 의 도 코드 에 관 한 를 참조 로 산업 의 도 에 관 한 를 제공 단계 를 이 제공', '벙커 링 시 에 사전 에 을 감지 하고 에 원인 을 파악 함 과 동시 에 대책 을 마련 수 벙커 링 모니터링 이 개시 벙커 링 모니터링 은 연료 를 공급 받다 선박 이나 탱크 와 같이 벙커 링 시 자 가 투입 자 주변 의 온도 습도 풍향 풍속 영상 를 감지 수 과 연료 를 공급 받다 선박 탱크 공급 탱크 파이프 에 설치 유량 압력 전기 저항 을 감지 검 추다 과 검 추다 과 검 추다 로부터 감지 자 주변 와 검 추다 테이 터 를 전송 받다 저 장함 과 동시 에 기 기준 와 비교 세팅된 기준 값 미만 이 거나 세팅된 기준 값 을 초과 검 추다 의 를 산출 서버 부 서버 부로 부터 세팅된 기준 값 미만 이 거나 세팅된 기준 값 을 초과 검 추다 의 를 전송 받다 세팅된 기준 값 미만 이 거나 세팅된 기준 값 을 초과 검 추다 이 한 파이프 의 을 중지 시킴 과 동시 에 를 시키다 제 어부 를 수', '은 자의 주변 요소 를 측정 수 다양하다 저 전력 광역 를 사용 상황 의 이나 가능성 이 크다 판단 시 자 에게 이르다 인지 시키다 동시 에 을 통해 관제 서버 에 구호 를 대응 이 이루어지다 발신 수 필요시 관제 서버 에 요청 를 보내다 사고 의 예방 이나 신속하다 조치 가 이루어지다 지원 기반 자 감지 에 관 한 것 이다', '은 건설 의 자 용 웨어 러블 에 관 한 것 작업복 에 부착 하 거나 손목 에 착용 수 웨어 러블 로 자의 상황 을 모니터링 하고 저 주파 자극 에 의하다 상황 을 자 에게 인지 시키다 아우르다 건물 의 붕괴 에 따르다 자의 매몰 시 에 자 가 착용 한 연막 용기 로부터 색상 을 갖다 연막 이 누 추다 도록 함 으로써 자의 를 신속하다 확인 가능하다 또한 각종 공구 가 올바르다 사용 또한 회수 관리자 에게 통보 수', '제철소 등 에 설치 부생 가스 누 추다 감지 감시 에 이 개시 일 실시 예 에 따르다 부생 가스 배관 가스 누 추다 감시 은 수위 단말 과 가스 단말 과 제 무선통신 액세스 포인트 와 알람 단말 과 서버 를 수위 단말 은 수 봉변 에 설치 센싱된 수 봉변 의 수위 를 가스 단말 에 전송 하고 가스 단말 은 수 봉변 주위 에 적어도 둘 이상 설치 누 추다 가스 를 설정 주기 로 감지 하고 가스 누 추다 감지 시 주변 에 를 브로드캐스팅 알람 단말 은 가스 누 추다 시 를 부저 와 알람 등 표시 하고 제 무선통신 액세스 포인트 는 감시 지역 에 적어도 하나 이상 설치 가스 단말 에서 수신 가스 센싱 와 수위 센싱 를 서버 로 하고 서버 는 수신 가스 센싱 와 수위 센싱 를 수 봉변 별로 가스 누 추다 여부 수 봉변 수 봉 여부 를 표시 하고 모니터링 가스 센싱 로부터 누 추다 수 봉변 과 누 추다 구간 을 추정', '은 의 을 경고 위 한 이르다 위 한 이 을 이 컴퓨터 판독 가능하다 매체 에 관 한 것 이다 이러하다 은 의 서로 다른 에 복수 의 작 업자 들 이 각각 착용 한 복수 의 자 로부터 에 존재 객체 의 를 나타내다 레이어 객체 의 재질 을 나타내다 재질 레이어 객체 의 를 나타내다 레이어 를 영상 을 수신 과 영상 에 대해 인공 신경망 의 가중 치가 복수 의 연산 을 사고 가능성 이 높다 객체 를 나타내다 경고 태그 가 태그 레이어 를 부가 한 경고 영상 을 생 성하다 경 고 영 상생 성 을 것 을 특징 의 을 경고 위 한 서버 와 이 에 대응 자 이 에 따르다 이 이 컴퓨터 판독 가능하다 매체 를 제공 한 다', '은 모바일 스마트폰 등 의 이동통신 단말기 기반 의 화재 감시 화재 경보 전송 그 에 관 한 것 상세 의 이 설치 장소 의 화재 를 가다 이상 징후 가 설정 모바일 로 문자 음성 메시지 가 전송 신속하다 대처 수 함 으로써 귀중하다 인명 과 재산 을 화재 로부터 보호 수 모바일 의 충전 과 전송 이 자동 되게 함 으로써 충전 전원 공급 이 원활하다 않다 모바일 의 약점 을 보완 함 으로써 모바일 이 항상 동작 수 것 제 어부 의 입력 에 열 화상 감지 부와 전류 감지 부와 주변 온도 를 감지 온 도감 지부 설 정부 제 어부 의 에 현재 설정 동작 상태 등 이 표시 표시 부와 화재 나 이상 동 작시 경보 를 발령 경보 부와 전원 부의 마 그 네트 스위치 를 온 오프 시키다 스위치 부와 케이블 로 모바일 과 를 주다 받다 을 수', '의 기반 의 전기 수용 가 별 실시간 원격 경보 출동 에 따르다 빌딩 의 층별 분전 반 전기 실 배 전반 등 에 설치 를 통 전기 사고 의 주요 원인 이 저항 성 누설 전류 과 전류 과전압 등 을 실시간 모니터링 전 기적 요소 를 통합 센터 로 전송 하고 통합 센터 는 전송 전 기적 요소 를 빅 화 센터 와 공유 빅 화 전 기적 요소 의 변화 추이 를 전 기적 이상 징후 가 센터 는 전기 관리자 의 단말기 로 전 기적 이상 징후 가 장소 로 출동 지시 전기 관리자 를 통 전 기적 이상 에 진단 복구 조치 를 신속하다 취할 수 함 으로써 전기 사고 를 미리 예방 수 가', '실시 예 는 건설 에 설치 복수 의 로부터 를 수득 하고 로부터 를 수득 하고 와 를 건설 에 원인 을 파악 하고 대책 을 생 성하다 계 측 모니터링 서버 그리고 계 측 모니터링 서버 로부터 건설 에 에 경고 를 수득 하고 원인 대책 을 표시 적어도 하나 의 관리자 단말 을 건설 을 제공 한 다 따라서 를 건설 의 와 함께 연동 의 원인 을 파악 수 의 로부터 임계 값 이상 의 이상 를 수득 시 원인 파악 대책 수립 을 위 한 시간 노력 을 줄이다 수 따라서 적합하다 대책 을 신속하다 수 수 크다 을 미리 방지 수 한 을 빨리 제거 수', '의 실시 예 는 기반 실시간 측위 를 이용 한 사고 관제 에 관 한 것 해결 적 과제 는 실시간 측위 을 활용 작업장 내 에 자의 현재 를 실시간 파악 하고 자 가 미리 지도 내 구역 접근 구역 에 접근 시 자의 을 위해 연 계 구역 내 자동화 가 을 멈추다 알림 을 제공 수 을 제공 이르다 위해 은 자 에 의하다 착용 태그 산업 용 로봇 컨베어 벨트 모터 가 설치 공정 라인 의 둘레 를 따르다 설치 태그 로부터 자의 를 수신 동시 에 공정 라인 의 온도 습도 조도 진동수 를 세다 싱하 는 다수 의 앵커 다수 의 앵커 로부터 자의 와 공정 라인 의 온도 습도 조도 진동수 를 수신 액세스 포인트 액세스 포인트 로부터 자의 공정 라인 의 온도 습도 조도 진동수 를 수신 동시 에 자의 가 미리 설정 접근 구역 내 에 여부 를 판단 서버 서버 로부터 액세스 포인트 를 통 자의 가 접근 구역 내 에 근접 를 수신 공정 라인 내의 산업 용 로봇 컨베어 벨트 모터 의 동작 을 정지 박스 를 기반 실시간 측위 를 이용 한 사고 관제 을 제공 한 다', '건축물 진단 서비스 제공 이 제공 진단 단말 협업 자 단 말로 부터 진단 을 받다 객체 인 건축물 의 도면 의 도면 번호 툴바 에서 추가 버튼 이 선택 도면 에 기 지정 도면 번호 가 단계 도면 번호 중 어느 번호 가 선택 도면 의 어느 지점 이 선택 드 래그 경우 선택 점 에 대응 도면 에 선택 번호 가 표시 드래그 가 끝나다 방향 의 지점 에 번호 와 동일하다 번호 가 생 성 표시 입력 받다 단계 표시 번호 의 진단 속성 를 선택 번호 의 진단 속성 와 동일하다 도면 에 매핑 단계 도면 을 기준 진단 단말 협업 자 단 말로 부터 수신 지점 진단 속성 를 도면 에 통합 단계 통합 결과 도면 을 보고서 생 성 단말 로 전송 단계 를', '은 다양하다 항해 영향 인자 에 근거 선박 의 요동 을 정확하다 신뢰 성 하고 예측 판단 고지 수 함 과 동시 에 하나 이상 의 을 통해 선박 의 롤링횡 요 등 흔들리다 안정 적 신속하다 보정 수 선박 의 안전하다 항해 를 도모 수 원격지 의 관리자 나 모니터링 센터 에서 항해 상황 을 실시간 공유 수 항해 중 를 빅데이터 화 하고 후행 선박 이나 다음 번의 항해 에서 항해 의 기준 로 활용 수 선박 항해 선박 항해 에 관 한 것 이다 에 따르다 운항 중인 선박 의 운항 를 선박 운항 단계 운항 와 선박 의 무게 중심 간 에 상관 관계 를 산출 모니터링 인자 를 도출 모니터링 인자 도출 단계 도출 모니터링 인자 에 근거 선박 의 운항 여부 를 판단 선박 운항 판단 단계 선박 운행 판단 단계 의 를 표시 선박 내 단계 상가 선박 운행 판단 단계 의 를 육상 관 제국 전송 단계 를 것 을 특징 선박 항해 이 제공', '은 건설 의 지역 의 구 부근 건설 에 탈착 가능하다 설치 설치 를 변경 수 방향 조정 이 가능하다 하우 징 과 기 설정 거리 와 방향 건설 의 자 에게 직접 적 를 를 수신 한 자 이하 해당 자 와 해당 자 멀리 다른 작 업자 들 에게 의 전파 가 가능하다 제 컨트롤러 를 경고 유닛 해당 자 다른 작 업자 들 각각 의 안전모 엑스 밴드 손목 밴드 작업복 에 탈 부착 가능하다 케이싱 과 경고 유닛 으로부터 를 한 를 수신 단계 별 상황 별로 기 설정 소리 나 진동 다른 의 로 해당 자 다른 작 업자 들 에게 을 알리다 제 컨트롤러 를 개인 단말 유닛 을 것 을 특징 건설 의 가능성 이 장소 와 자의 장구 와 안전모 의복 에 장 착하다 사고 를 미연 에 방지 하고 예측 까지 가능하다 건설 알림 에 관 한 것 이다', '지 중 시설 등 의 사고 예방 을 위 시간 실시간 모니터링 가령 기반 을 통한 사고 예측 사고 시 상황 의 원거리 통제 등 이 필요하다 은 영상 을 통해 자 에게 조 치가 필요하다 의 로 쉬다 접근 수 자의 을 확보 그리고 의 를 실시간 자동 진단 보고 수 을 제공 한 다 이 은 의 영상 을 촬영 촬영 영상 을 영상 모델링 영상 으로부터 관심 객체 식별 와 식별 를 기반 영상 과 매핑 생 성 자 방문 시 영상 수신 자 식별 자 모바일 단말기 로 영상 점검 대상 자 주변 긴급 상 황시 자 에게 상황 을 알다 즉시 철수 수 알람 제공 등 의 을', '은 변전 의 설치 나 대체 에서 의 시공 상황 을 시공사 발주 처 에 동시 에 전송 감독 함 으로써 이상 징후 에 신속하다 대처 수 변전 시공 의 실시간 에 관 한 것 의 변전 시공 의 실시간 은 시공 에 설치 오디오 를 마이크로 폰 과 비디오 를 카메라 과 대응 를 스피커 과 마이크로 폰 의 오디오 와 카메라 의 비디오 를 하고 스피커 로 대응 를 수신 제 과 에 설치 해당 의 구동 를 측정 과 의 측정 를 제 을 감지 유닛 감지 유닛 의 제 제 과 를 송수 신하 는 제 과 원격지 에 설치 다수 의 단말기 와 를 송수 신하 는 제 과 로부터 전송 측정 를 이용 해당 의 이상 동작 여부 를 판단 판단 과 의 정상 적 인 동작 에 기준 와 측정 를 누적 적 데이터베이스 와 제 제 판단 데이터베이스 의 동작 을 메인 컨트롤 유닛 을 서버 의 자 가 소지 를 하고 대응 를 수신 받다 자 단말기 와 원격지 에 설치 를 수신 받다 대응 를 관리자 단말기 와 원격지 에 설치 를 수신 받다 대응 를 감독 관 단말기 를 하고 유 무선 수단 서버 와 를 사용자 단말기 유닛 을', '은 공사 모니터링 에 관 한 것 공사 에서 근무 자 에 만전 을 기 위해 장소 와 시간 에 상관 없이 공사 모니터링 을 구축 스마트폰 과 를 통 실시간 출입 생체인식 기 지문 인식 손 혈관 지 정맥 얼굴 인식 심박수 측정 등 에 의하다 자 방문자 의 생체인식 출입 와 심박수 측정 에 의하다 건강 상태 모니터링 출입 증 에 부착 비콘 태그 추적 비상 연락망 과 공사 주의 사항 전기 주의 사항 굴착 시 주의 사항 등 공지 건설 자재 물질 지역 의 유해 가스 모니터링 굳다 상황 모니터링 실시간 상황 모니터링 기상 제공 날씨 기온 강수량 풍향 풍속 등 지역 재난사 고 대응 을 위해 웹 카메라 모니터링 과 스마트폰 모니터링 전광판 연동 을 제공 출입 인원 의 확인 을 제공 한 다', '은 건설 의 단위 영역 에 설치 비콘 송신기 에서 비콘 를 이용 근로자 의 를 파악 하고 근로자 에서 예측 시 알림 을 제공 기반 의 에 관 한 것 이다 구체 적 건설 의 단위 영역 에 설치 기 설정 주기 로 비콘 를 비콘 송신기 이동 에 대응 해당 단위 영역 의 비콘 를 수 신시 건설 에 구축 로컬망 을 통해 실시간 전송 근로자 단말기 건설 에 설치 로컬망 을 통해 건설 내의 근로자 단말기 로부터 비콘 를 수 신시 외부 망 을 통해 전송 외부 망 을 통해 수신 근로자 단말 기별 비콘 를 통해 근로자 의 실시간 를 파악 하고 근로자 에 따르다 요소 시 을 통해 해당 근로자 단말기 로 알림 서버 를 것 을 특징 기반 의 에 관 한 것 이다', '일 실시 예 에 따르다 건설 은 대상 이 대상 건설 프로젝트 에 복수 의 기존 건설 프로젝트 에 가 입력 입력 부 복수 의 기존 건설 프로젝트 중 에서 대상 건설 프로젝트 와 유사하다 건설 프로젝트 를 유사 건설 프로젝트 부 유사 건설 프로젝트 부 에서 유사 건설 프로젝트 에서 시공 중 사고 를 공정 별로 분류 사고 분류 부 사고 분류 부 에서 분류 사고 를 대상 건설 프로젝트 의 일정 와 동기화 시키다 대상 건설 프로젝트 에서 예상 사고 를 예상 사고 부 예상 사고 부 에서 사고 를 바탕 외부 전문가 에게 사고 에 대하 여 질의 질의 부 외부 전문가 로부터 받다 답변 을 기반 예상 사고 의 확률 심각 도르다 도출 관리자 자 에게 항목 사고 예방 지침 에 를 제공 제 공부 를 수', '은 와이파이 을 이용 한 를 제공 소형 선박 용 무선 중계 에 관 한 것 으로서 소형 선박 에 의무 설치 가 확대 선박 자동식 별 를 활용 한 서비스 로 를 선박 의 사용자 가 휴대 단말기 를 이용 를 수신 선박 의 경 위도 대 지침 로 대지 속력 선수 방위 회 두 율 항해 상황 등 의 를 더 정확하다 파악 위 별도 의 개 의 를 구비 선박 의 동 적 를 제공 수 와이파이 을 이용 한 를 제공 사용자 가 로부터 전송 를 통해 주변 선박 들 의 를 모니터링 수 에서 수신 선박 의 와 별도 로 정확하다 자신 의 선박 의 를 확인 수 연근 선박 간 의 사고 나 선박 의 사고 에 미리 예방 하 거나 대처 수 적 특징 을 갖다', '은 생체모방 센싱 을 한 진단 에 관 한 것 으로서 더욱 상세 건설 구 에 건설 물의 상태 평가 를 위 한 다 종 의 응답 들 을 다수 의 생체모방 노드 생체모방 노드 로부터 받다 다 종 의 응답 들 을 이용 건설 물의 건전 도 모니터링 을 부 부의 건전 도 모니터링 결과 값 을 이용 실시간 피드백 진동 실시간 구 조 규명 을 진단 부르다 것 을 특징 생체모방 센싱 을 한 진단 에 관 한 것 이다', '에 따르다 기반 통합 형 수배 전반 은 수 전반 배전 반 고압 배 전반 저압 배 전반 수배 전반 분전 반 전동기 반 과 같다 전력 배전 기기 의 전력 상태 기기 상태 가 통합 적 검 추다 면서 전력 이상 과 기기 이상 이 통합 적 간편하다 원활하다 감시 에 의하다 송수 신 이 가능하다 취약 조건 낮다 접근 용이 성 등 을 갖다 에 한 관리자 나 전력 배전 기기 의 문 을 개방 않다 관리자 도 전력 배전 기기 의 전력 상태 기기 상태 를 블루투스 신속하다 용이하다 받다 수 전력 배전 기기 의 상태 모니터링 기기 이상 감시 등 이 의 기기 나 원격 지 단말기 관리자 휴대 단말기 를 통해 문자 음성 메시지 경보 용 문자 사운드 등 의 다양하다 로 신속하다 원활하다 특히 축 가속도 에 의하다 검 추다 전력 배전 기기 움직임 에 주파수 을 통해 도출 흔들리다 로부터 중요 개 소의 볼트 풀림 여부 판단 와 같다 기기 상태 판단 가 산출 지진 등 에 의하다 흔들리다 그 에 따르다 기기 이상 피해 가 정확하다 정밀 파악 수 이르다 통해 관리자 가 기기 이상 피해 의 원인 을 신속하다 파악 이 에 대응 수 사고 을 최소 화 시키다 수 적 특징 을 갖다', '은 무인 송배전 에 대하 여 인 가 자 만이 출입 수 출입 을 통제 등 보안 를 함 과 아우르다 송배전 안 에서 작 업자 들 에 를 파악 하고 상태 에 놓이다 경우 경보 를 발 등 작 업자 들 의 을 적 주다 에 관 한 이다 은 저렴하다 비용 과 간편하다 무인 송배전 에 설치 송배전 의 출입구 에 시 건장 치르다 비 인가 자의 출입 을 통제 출입 을 인 가 받다 작 업자 들 의 는 물론 이동 방향 이동속도 를 정확하다 파악 뿐 만 아니다 자의 현재 를 각각 의 작 업자 들 이 소지 자 단말기 상 에 표시 작 업자 들 이 스스로 송배전 내 에서 자신 의 를 정확하다 파악 수 이르다 통 자신 들 의 을 확보 수 관리자 입장 에서는 작 업자 들 의 현재 를 정확하다 파악 통제 수 송배전 의 보안 을 제공 것 을 목적 또한 자 가 송 변전 내 구역 에 접근 접근 오다 경우 경 고 를 자 에게 보내다 수 다인 조로 을 시 모든 작 업자 들 이 도착 않다 출입문 이 개방 않다 뿐 만 아니다 작 업도 중 에 자 중 일부 가 일 탈 경우 에 경보 를 발 등 의 규정 을 준수 토록 강제 규정 밉다 준수 로 인하다 사고 을 예방 수 송배전 의 보안 을 제공 것 을 목적', '물의 이 상거동 검 추다 안전성 평가 에 활용 수 로 비 주기 를 가공 하고 비 주기 에 연속성 을 부여 를 병합 함 으로써 가능하다 잡음 을 최소 화하다 수 또한 비 주기 가속도 를 이용 최소 조건 에 부합 셋 을 생 성함 으로써 물의 이 상거동 검 추다 안전성 평가 를 간편하다 수 비 주기 가속도 를 병합 함 으로써 저 비용 의 하드웨어 를 수 이 에 따르다 물의 이 상거동 검 추다 안전성 평가 를 위 한 비 를 절감 시키다 수 비 주기 가속도 를 병합 한 구 이 상거동 검 추다 안전성 평가 그 이 제공', '은 다수 의 레이저 빔 과 지피다 에스 를 이용 한 교량 구 처지다 진단 에 관 한 것 상세 지피다 에스 오다 다수 의 레이저 빔 을 활용 교량 물의 처지다 여부 를 검 출하 고 이르다 통해 안전성 여부 를 확인 수 다수 의 레이저 빔 과 지피다 에스 를 이용 한 교량 구 처지다 진단 에 관 한 것 이다', '사물 사물인터넷 기반 주변 감지 이 개시 주변 감지 은 다수 의 객체 에 부착 로부터 객체 의 를 단계 다수 의 객체 에 구비 사물인터넷 을 이용 다수 의 주변 을 모니터링 단계 가능성 이 기 설정 확률 이상 감지 경우 상황 의 회피 안 을 제시 단계 를', '에서는 기존 의 수배 전반 용 부분 방전 검 출장 치가 이 아니다 원격지 의 서버 로 의 전자파 를 시키다 원격지 에서 수배 전반 의 상태 를 진단 때문 에 수배 전반 의 진단 시간 이 오래 걸리다 즉각 적 인 조 치가 늦어지다 수배 전반 화재 폭발 의 문제점 과 의 만을 기반 수배 전반 의 부분 방전 횟수 만으로 에 한 수배 전반 의 상태 를 진단 때문 에 별도 의 를 추가 진단 하므다 진단 비용 이 많이 무엇 양질 의 수배 전반 의 열 화 상태 고장 유무 를 진단 어렵다 문제점 을 개선 본체 전 원부 스마트 유 무선 부 스마트 부로 각각 의 공진 주파수 에 초음파 대역 의 부분 방전 와 가다 청 영역 의 를 기반 관리자 가 에서 수배 전반 의 부분 방전 와 정상 상태 의 배경 잡음 소리 를 구 분할 수 부분 방전 이 현상 과 를 에서 파악 수 스마트 로부터 부분 방전 를 검 출하 고 또한 가다 청 영역 의 를 기반 방사 형 기 저 함수 신경회로망 을 고장 유무 를 에서 바로 진단 시키다 수 양질 의 수배 전반 의 현재 상태 고장 유무 를 실시간 진단 수 기존 에 비다 진단 시간 을 획기 적 단축 시키다 수 박스 형상 슬림 하고 자석 보조 프레임 을 통해 수배 전반 내부 도어 일 측 수배 전반 내부 공간 일 측 외부 공간 일 측 에 자석 이나 보조 프레임 을 통해 손쉽다 설치 수 설치 성과 호환성 이 우수하다 스마트 제 어부 의 고장 진단 결과 값 에 따르다 수배 전반 의 전 원 구동 을 강제 로 자동 오프 시키다 수 수배 전반 의 부분 방전 인하다 화재 폭발위험 을 현저 낮추다 수 스마트 제 어부 의 에 따르다 유 무선 을 통해 원격지 에 한 서버 쪽 실시간 고장 진단 를 시키다 이 에 따르다 응답 로서 명령 를 수신 받다 스마트 부로 시키다 수 형 진단 구축 뿐 만 아니다 수배 전반 내부 전력 의 수명연장 유지 보수 비용 을 추가 절감 시키다 수 수배 전반 의 검 추다 의하다 부분 방전 열 화 감시 진단 를 제공 그 목적 이', '은 의 보호 그 에 의하다 보호 에 관 한 것 이고 구체 적 전력 소 모 량 이 많다 복잡하다 로 인하다 특정 지점 에서 과열 상황 을 미리 탐지 요구 조치 가 취 수 의 보호 그 에 의하다 의 보호 에 관 한 것 이다 의 보호 는 서로 다른 에서 서로 다른 조건 에 각각 의 지점 의 온도 를 탐지 온도 탐지 유닛 내지 미리 영역 의 상황 을 탐지 다수 개 의 상황 탐지 유닛 온도 탐지 유닛 내지 상황 탐지 유닛 으로부터 전송 로부터 여부 를 유닛 유닛 의 에 따르다 결과 를 유닛 을 하고 유닛 의 의 적어도 하나 는 패널 에 표시', '의 일 실시 예 는 자의 고도 검 추다 통한 건설 에 관 한 것 해결 적 과제 는 건설 의 자의 헬멧 에 태그 단말 을 부착 자 가 한 건물 의 층 수 를 파악 수 이르다 위해 의 일 실시 예 는 작 업자 들 이 한 건물 의 층 수 를 감지 작 업자 들 의 현재 와 를 파악 자의 고도 검 추다 통한 건설 에 자의 고유 코드 와 를 태그 를 전송 자의 안전모 에 부착 태그 단말 대기압 를 내장 에 다수 개 설치 태그 단 말로 부터 태그 를 수신 한 후 태그 와 대기압 에 의하다 감지 대기압 단말 코드 를 수신 코드 를 생 성하다 수신 단말 건물 의 층 수 별 대기압 가 미리 수신 단 말로 부터 수신 코드 를 수신 한 후 수신 코드 의 대기압 와 층 수 별 대기압 를 매칭 자 가 한 건물 의 층 수 를 산출 하고 산출 건물 의 층 수 와 자의 를 이용 별 관제 를 생 성하다 서버 를 자의 고도 검 추다 통한 건설 을 개시 한 다', '은 를 이용 한 무인 지게차 에 관 한 것 으로서 더욱 상세 공 사장 이나 물류 업체 에서 지게차 가 물체 를 들어오다 린 상태 에서 운반 경우 에 시야 를 가다 인명 사고 가 이르다 개선 블루투스 을 이용 스마트폰 조종 수 를 이용 한 무인 지게차 에 관 한 것 이다 인 를 이용 한 무인 지게차 는 전 동 지게차 의 포크 에 승강 구 동력 을 제공 스텝 모터 를 상 여자 위 한 스텝 모터 제어기 전 동 지게차 의 바퀴 에 주행 구 동력 을 제공 디씨 모터 를 전진 후진 을 위 한 디씨 모터 제어기 기울이다 업 과 다운 을 제공 디지털 서보모터 를 위 한 서보모터 제어기 스텝 모터 제어기 와 디씨 모터 제어기 서보모터 제어기 에 를 제공 동작 정지 를 수 위 한 수단 을 것 을 특징 을 통해 항상 휴대 하고 스마트폰 을 이용 블루투스 에 의하다 원격 무선 조정 을 수 함 으로써 공 사장 이나 물류 업체 의 인명 피해 를 줄이다 를 제공', '물의 이 상거동 을 평가 경우 에 이 상거동 시점 을 기준 손상 이전 손상 이후 의 비교 만으로 물의 손상 유무 를 판단 함 으로써 물의 손상 을 정확하다 판단 수 또한 추정 이 상거동 시점 을 기준 손상 이전 과 손상 이후 의 를 각각 고 속 퓨리 에 통계 적 인 기법 을 함 으로써 정확하다 물의 안전성 평가 결과 를 수 물의 안전성 평가 를 위 한 그 이 제공', '고안 은 스마트폰 태블릿 피씨 와 같다 모바일 기기 를 살균 보 관할 수 살균 을 갖다 모바일 기기 보관 에 관 한 것 상세 학교 교실 시험 장 종교 시설 경찰서 의 증거 보관 실 군대 위병 소나 휴게소 사무실 공장 등 의 기타 공중 시설 물 에 설치 다수 개 의 모바일 기기 를 일괄 적 보관 함 과 동시 에 모바일 기기 를 각각 개별 적 분리 보관 모바일 기기 의 회수 식별 을 용이하다 보관 시 모바일 기기 를 살균 수 모바일 기기 보관 에 관 한 것 이다', '은 시설 원격 감시 에 관 한 것 원거리 에 마련 와 의 동작 을 반 과 를 감지 감시 부와 외부 와 감지 에 따르다 반 과 감시 부르다 하고 반 과 감시 부의 결과 를 송출하 는 무선 중계기 와 인터넷 망 망 을 통해 무선 중계기 와 관제 서버 인터넷 망 망 을 통해 관제 서버 무선 중계기 와 스마트 단말기 를 것 을 특징 시설 원격 감시 을 제공 한 다', '대형 사회 기반시설 물 인 물의 고 주파 진동 응답 신 호로 부터 시간 영역 주파수 영역 을 조합 하고 자가 학습 패턴인식 기반 의 알고리즘 에 따르다 물의 비정상 거동 평가 를 함 으로써 물의 연속 적 이 상거동 시점 을 용이하다 추정 수 또한 물의 이 상거동 이 감지 때 마다 감지 이 상거동 의 진위 를 판별 수 노드 를 중심 손상 영역 을 용이하다 추정 수 물의 이 상거동 검 추다 안전성 평가 과 그 이 제공', '은 스마트 구 을 위 한 멀티 센싱 을 이용 한 분산 형 적 상태 평가 에 관 한 것 상세 최적 알고리즘 과 유한 요소 개선 알고리즘 을 통해 서 실시간 스마트 물의 적 상태 를 평가 적 상태 평가 에 기 설정 최적 알고리즘 을 통해 스마트 구 로부터 적 상태 평가 를 위 한 를 검 추다 위 한 다수 개 의 의 최적 계 측 를 하고 기 설정 개선 알고리즘 을 통해 연산 횟수 를 최소 화하다 스마트 물의 수치 을 도출 계 측 부 계 측 부와 무선 를 통해 계 측 부 에서 한 최적 계 측 에 스마트 구 로부터 적 상태 평가 를 위 한 를 검 출하 는 다수 개 의 로 멀티 센싱부 를 계 측 불다 멀티 센싱부 의 다수 개 의 에 의하다 계 측 값 들 을 실시간 받다 스마트 구 에 적 상태 를 진단 평가 것 을 특징 스마트 구 을 위 한 멀티 센싱 을 이용 한 분산 형 적 상태 평가 에 관 한 것 이다', '은 기준 국 의 일정하다 고도 값 과 기압 의 편차 를 고려 현재 의 기압 값 이 가리키다 기준 고도 값 을 구함 으로써 절대 고도 값 을 확보 수 건설 자의 절대 고도 검 추다 절대 고도 검 추다 을 제공 그 목적 이 목적 을 달성 위 한 은 건설 자 인 이동국 의 자세 건설 현재 의 기압 를 검 출하 는 기반 부 기반 부로 부터의 자세 를 하고 동기화 자세 동기화 부 자세 동기화 부로 부터의 에 대하 여 온도 변화 에 따르다 바이어스 변화 를 추정 하고 보정 바이어스 변화 보 정부 바이어스 변화 보정 부의 보정 에 근거 자의 이 동 거리 와 방향 을 산출 거리 산출 부 기반 부로 부터의 기압 건설 측량 원점 인 기준 국 의 기상 를 하고 동기화 기압 동기화 부 기압 동기화 부로 부터의 에 근거 자의 절대 고도 를 절대 고도 산출 부 거리 산출 부의 산출 값 과 절대 고도 산출 부로 부터 산출 값 에 근거 자의 를 추측 부르다 기반 건설 자의 을 제공 한 다', '의 일 실시 예 에 따르다 보행 보조 은 보조 보행기 를 이용 사용자 의 보행 을 위 한 보행 보조 에서 보행 보조 은 보조 보행기 의 핸들 부르다 파지 한 사용자 의 생체 에 대응 사용자 의 생체 지수 를 이용 사용자 의 보행 등급 을 단계 사용자 의 보행 등급 에 따르다 보조 보행기 의 이동 을 단계 를 따라서 은 보조 보행기 를 이용 사용자 의 생체 에 대응 사용자 의 생체 지수 를 이용 사용자 의 보행 등급 에 따르다 보조 보행기 의 이동 을 함 으로써 보조 보행기 사용자 가 편리하다 안전하다 이동 수', '은 스마트 폰 이나 디지털 카메라 를 이용 콘크리트 표면 의 균열 을 촬영 하고 스마트 폰 이나 컴퓨터 에 설치 애플리케이션 에 의하다 촬영 영상 으로부터 균열 폭 을 때문 에 측정 자 가 언제 어디 서나 쉬다 정확하다 균열 폭 을 측정 수 이점 이 또한 검사 대상 에 척도 부재 를 부착 하고 촬영 척도 부재 를 통해 촬영 영상 과 실제 크기 비율 의 확인 이 가능하다 때문 에 쉬다 정확하다 균열 폭 의 실제 크기 를 확인 수 또한 검사 대상 에 균열 의 이 가능하다 동일 검사 대상 에 추후 검사 시 균열 와 비교 것 이 가능하다 이전 검사 시 선택 측정 영역 과 동일하다 영역 의 선택 이 가능하다 동일 영역 의 균열 진전 을 모니터링 수 이점 이', '은 모바일 단말 을 이용 구 을 점검 에서 구 에 다양하다 를 조회 하고 실시간 점검 결과 에 를 등록 수 을 제 함 으로써 구 점검 의 을 증대 시키다 수 구 점검 구 점검 을 제공 한 다', '은 공장 빌딩 아파트 등 과 같다 대형 건물 에 설치 전력 조명 공 조 위생 방재 등 의 각종 건물 를 에너지 절감 쾌적하다 재해 예방 신속하다 유지 보수 등 이 가능하다 건물 자동화 에 관 한 것 이다 에 따르다 건물 자동화 은 수배 전반 분전 반 전력량 계 를 건물 로 공급 전력 을 각 전 기 사용 로 분배 전력 히터 에어컨 과 온도 제 가습기 와 습도 환풍기 와 분진 를 건물 내의 온도 습도 환기 를 공 조 등기 구 조도 출입 감지 를 건물 내의 조명 을 조명 화재 감지기 소화전 지진 감지 를 건물 내의 재해 를 방지 방재 촬영 각도 조 절기 침입 자 감지 를 건물 내부 주변 을 촬영 방범 보일러 순환 펌프 저수조 를 건물 을 난방 난방 를 건물 전력 공 조 조명 방재 방범 난방 각각 에 구비 이 들 을 기기 들 을 원 격 반 컴퓨터 모니터 데이터베이스 를 원 격 반 과 건물 들 의 상황 을 모니터링 하고 관리제 어 중앙 관제 를 이루어지다', '에서 부재 수용 가의 를 전기 점검 에 체계 를 확보 수 전기 점검 을 개시 한 다 에 따르다 전기 점검 은 지역별 로 구획 다수 수용 가다 피 점검 자 의 수용 가 단말기 로 법규 화 전기 점검 통지 를 위 한 점검 안내 메시지 를 제공 하고 점검 안내 메시지 에 근거 해당 지역 의 점검 자 로부터 측정 점검 자 측정 를 수용 가 별 점검 자 측정 를 토대 로 부재 수용 가의 색출 색출 부재 수용 가다 재 점검 을 위 한 방문 스케줄 를 생 성 하고 방문 스케줄 에 대응 수용 가 를 점검 자 로 전송 전기 점검 결과 에 대응 행정 결과 를 생 성 하고 이르다 근거 로 부재 수용 가다 부재 종결 해당 관청 으로의 통지 를 서버 를 따라서 은 부재 수용 가의 를 전기 점검 에 체계 를 확보 함 으로써 전기 인력 의 불필요하다 낭비 를 줄이다 수 전기 사고 를 미연 에 방지 수 를 갖다 전기 점검 전폐 거부 부재 방문 점검', '은 무인 를 이용 한 시설 물 에 관 한 것 이다 저수지 담수호 상하 수도 장 하천 보 사방댐 다목적댐 등 의 물 시설 물 장내 에 하나 이상 의 무인 를 설치 각종 들 을 수 시설 물 에 시설 물 장내 의 각종 들 에 대해 감시 용 카메라 를 통해 기준영 상 과 현재영 상 을 비교 움직임 이 포착 들 에 부착 로부터 이상 음성 이 감지 혹은 를 통해 동영상 을 촬영 동영상 과 연동 하고 원 격 명령 이나 사전 에 설정 에 따르다 침입 자 나 사 고발 생시 사고 부위 를 추적 다양하다 각도 로 사진 정밀 촬영 하고 로부터 감지 기계 진동 음 과 같다 이상 음성 을 기반 의 유 니트 를 통해 하 시설 물 장내 의 각종 전기 들 의 전압 전류 온도 압력 사운드 와 같다 전기 물리 적 인 현상 에 사고 원인 을 추정 하고 위 한 그래픽 챠트 보고서 등 의 감시 용 모니터링 에 필요하다 각종 이벤트 들 이 사전 에 설정 사용자 입력 용 응용프로그램 에 의하다 하 여 디지털 로 한 후 합성 압축 파일 로 하고 또한 시설 물 장내 의 사고 신고 나 사고 영상 자막 를 수신 하고 침입 자 에 경고 나 상황 의 알림 과 수리 를 안내 하나 이상 의 영상 음성 를 하 도록 제 단계 를 하 하나 이상 의 영상 음성 를 다양하다 편리하다 사용자 지원 모니터링 과 양 방향 을 지원 지역 관제 센터 의 서버 로 유 무선 통신망 을 통해 전송 제 단계 와 서버 로부터 실시간 제공 동영상 과 음성 를 멀티 분할 을 통해 표시 하고 시설 물 장내 의 침입 자 나 사 고발 생시 자동 적 아이콘 의 알람 램프 점등 표시 가 동시 에 표시 전자 지도 에 의하다 모니터링 제 단계 와 제 단계 에서 사고 여부 에 따르다 동영상 과 음성 를 하고 계속 모니터링 제 단계 와 제 단계 에서 동영상 과 음성 를 하 근무 자 와 수시로 교환 하고 각종 시설 물 들 에 사고 는 사전 에 준비 실제 사진 과 설계 도면 의 관측 지점 매핑 사고 부위 를 정밀 제 단계 와 는 데이터베이스 화하다 지역 관제 센터 상황 실로 전송 근무 자 전용 송수신기 나 책임자 에게 제공 중앙 센터 에 보고 제 단계 를 것 을 특징 무인 를 이용 한 시설 물 을 제공 한 다', '청구 범위 에 기재 이 속 한 분야 은 레이저 스캐닝 를 이용 한 시설 물 검 측 그 과 그 를 이용 한 터널 그 에 관 한 것임 이 해결 적 과제 은 차원 레이저 스캐너 를 활용 특히 터널 내부 등 을 스캐닝 한 후 스캐닝 로부터 터널 내 콘크리트 라이닝 부분 과 터널 내 부착 시설 물 전차 선로 레일 파이프라인 등 을 분리 하고 이렇게 분리 를 이용 터널 내 시설 물의 상태변화 유지 보수 여부 를 수 시설 물 검 측 그 과 그 를 이용 한 터널 그 을 제공 그 목적 이 의 해결 의 요지 은 시설 물 검 측 에 레이저 스캐너 에 의하다 프로파일 기 촬영 스캐닝 를 반 사 강도 의 분포 에 따르다 각 프로파일 내 에서 라이닝 부분 과 시설 물 부분 분리 위 한 제 분리 수단 제 분리 수단 에 의하다 분리 시설 물이 존재 스캐닝 에서 반 사 강도 의 광학 적 과 시설 물의 에 따르다 기하학 적 을 이용 시설 물 을 분리 제거 위 한 제 분리 수단 제 분리 수단 에 의하다 시설 물이 분리 스캐닝 라이닝 전체 프로파일 을 세그먼트 별로 기준 이 면 을 이 면 을 기준 남아 시설 물 손상 부위 를 분리 위 한 제 분리 수단 을 의 중요하다 용도 은 터널 내 시설 물의 상태변화 유지 보수 여부 를 등 에 이용']\n"
     ]
    }
   ],
   "source": [
    "# 특허 데이터 적용 (형태소 분석 & 불용어 제거)\n",
    "\n",
    "import re\n",
    "\n",
    "def preprocess_patent_summaries(summaries):\n",
    "\n",
    "    preprocessed_summaries = []\n",
    "    for summary in summaries:\n",
    "\n",
    "        summary = re.sub(r'[^가-힣\\s]', '', summary)  # 한글과 공백을 제외하고 모두 제거\n",
    "        summary = re.sub(r'\\s+', ' ', summary)  # 중복 공백 제거\n",
    "        summary = summary.strip()\n",
    "\n",
    "        # 형태소 분석 및 불용어 제거\n",
    "        tokens = okt.morphs(summary, stem=True)  # 형태소 분석 및 어간 추출\n",
    "        tokens = [token for token in tokens if token not in stopword]  # 불용어 제거\n",
    "\n",
    "        # 전처리된 문서를 리스트에 추가\n",
    "        preprocessed_summaries.append(\" \".join(tokens))\n",
    "\n",
    "    return preprocessed_summaries\n",
    "\n",
    "# 특허 요약문 전처리\n",
    "patent_prep = preprocess_patent_summaries(summ)\n",
    "print(patent_prep)"
   ]
  },
  {
   "cell_type": "markdown",
   "metadata": {},
   "source": [
    "-----"
   ]
  },
  {
   "cell_type": "code",
   "execution_count": 27,
   "metadata": {},
   "outputs": [],
   "source": [
    "# 표제어 추출기 설정\n",
    "\n",
    "lemmatizer = WordNetLemmatizer()"
   ]
  },
  {
   "cell_type": "code",
   "execution_count": 28,
   "metadata": {},
   "outputs": [],
   "source": [
    "# 트리뱅크 형식의 품사 태그를 WordNet 형식에 맞게 변환\n",
    "\n",
    "def wordnet_pos_tags_kor(treebank_tag):\n",
    "    \"\"\"Converts POS tags from Korean treebank format to WordNet format.\"\"\"\n",
    "    if treebank_tag.startswith('VA') or treebank_tag.startswith('VV'):\n",
    "        return 'v'  # verb\n",
    "    elif treebank_tag.startswith('N'):\n",
    "        return 'n'  # noun\n",
    "    elif treebank_tag.startswith('M'):\n",
    "        return 'r'  # adverb (관형사, 부사)\n",
    "    elif treebank_tag.startswith('XR') or treebank_tag.startswith('MM'):\n",
    "        return 'a'  # adjective (어근, 관형사)\n",
    "    else:\n",
    "        return 'n'  # default to noun\n"
   ]
  },
  {
   "cell_type": "code",
   "execution_count": 29,
   "metadata": {},
   "outputs": [],
   "source": [
    "def extract_lemmatized_tokens(preprocessed_docs):\n",
    "    lemmatized_docs = []\n",
    "    for document in preprocessed_docs:\n",
    "        tokens_with_pos = okt.pos(document, stem=True)  # 품사 태깅\n",
    "        lemmatized_tokens = [token for token, tag in tokens_with_pos if wordnet_pos_tags_kor(tag)]\n",
    "        lemmatized_docs.append(\" \".join(lemmatized_tokens))\n",
    "\n",
    "    return lemmatized_docs"
   ]
  },
  {
   "cell_type": "code",
   "execution_count": 30,
   "metadata": {},
   "outputs": [
    {
     "name": "stdout",
     "output_type": "stream",
     "text": [
      "['은 흙막이 가시 설 의 요인 중 에 인접 구 에 유의 의 영향 을 미치다 요인 을 선별 하다 선별 하다 요인 의 계 측 값 에 따르다 인접 물의 영향 을 정량 적 을 예측 인접 물의 안전성 을 평가 흙막이 가시 설 인접 구 통합 안정 성 평가 에 관 하다 것 으로서 흙막이 가시 설 지반 의 상태 에 계 측 값 을 가시 설 계 측 부와 인접 구 에 계 측 값 을 인접 구 계 측 부와 계 측 값 에 따르다 역 해석 하 여 얻다 미지 의 설계 변수 값 정해석 상태 변화 를 예측 함 은 물론 이고 인접 구 계 측 값 과 상관 성 계 측 값 에 따르다 인접 구 에 영향 을 주다 요인 을 선별 하다 선별 하다 요인 에 따르다 인접 구 상태 의 미래 를 예측 안전성 을 평가 통합 감시 부르다', '은 휴대 용 유증기 모니터링 이르다 이용 하다 공사 의 유증기 모니터링 에 관 하다 것 으로서 바디 바디 의 내부 에 공기 가다 유출 이다 도록 전후 동 축 축 방향 관통 공 유 입구 유출 구르다 관로 관로 의 유출 구 측 에 설치 유 입구 에서 유출 구로 의 공기 흐름 을 송풍기 관로 의 유 입구 오다 유출 구 사이 에 하다 기 설정 파장 대역 의 자외선 을 이용 유증기 로부터 형광 현상 을 제 형광 를 검 출하 늘다 제 부 유출 구의 내 측 에 하다 제 부르다 통과 유출 구 에서 포집 유증기 에 대하 여 기 설정 파장 의 자외선 을 조사 하다 후 유증기 에서 제 형광 를 검 출하 늘다 제 부 제 형광 제 형광 를 형광 를 전기 로 흡수 파장 대역 을 하다 흡수 파장 대역 을 통해 형광 검 추다 파장 대역 오다 농도 를 산출 형광 검 추다 파장 대역 에 해당 적어도 하나 이상 의 휘발 성 물질 을 하다 후 농도 가다 휘발 성 물질 의 인화점 를 벗어나다 폭발 경고 를 제공 제 어부 를 휴대 용 유증기 모니터링 일 수', '명세서 에서 제시 일 실시 예 늘다 휴대 단말 을 이용 하다 건설 기계 의 전도 경고 에 관 하다 것 스마트폰 의 자다 오다 연산 능력 을 이용 건설 기계 의 전도 위험성 을 모니터링 전도 위험성 이 기 설정 범위 에 속 경우 전도 을 표시 부 에 표시 하 거나 알람 을 통해 자 에게 통지 하다 차량 동작 을 특징 이', '은 석면 철거 에 영상 을 위 하다 외부 기기 오다 을 위 하다 단말기 가다 의 전송 을 위해 부 부 에 감리 자 의 단말기 에 석면 조사 보고서 를 제공 하다 감리 자 의 단말기 를 통해 석면 조사 보고서 에 확인 이 이루어지다 석면 조사 보고서 확인 부 부 에 감리 자 의 단말기 에 철거 계획 서다 를 제공 하다 감리 자 의 단말기 를 통해 철거 계획 서다 확인 이 이루어지다 철거 계획 서다 확인 부 부 에 자의 단말기 로부터 석면 철거 에 필요하다 교육 이수 자격 관련 를 제공 받다 자 가다 석면 철거 에 자격 을 가지 다 여부 를 확인 인적 확인 부 석면 조사 보고서 확인 부가 제공 석면 철거 각각 에 석면 조사 보고서 철거 계획 서다 확인 부가 제공 석면 철거 각각 에 철거 계획 서다 인적 확인 부가 제공 받다 자 각각 에 교육 이수 자격 관련 를 데이터베이스 부르다 적 이고 안전하다 석면 해체 공사 를 위 하다 스마트 감리 건설 사업 에 관 하다 것 이다 에 따르다 석면 철거 감리 에서 사진 동영상 등 의 과 가다 용이하다 수 이로 인하다 석면 철거 감리 의 적 인 가다 용이하다 수 석면 철거 감리 자 의 노동 강도 를 줄 이다 를 가지 다', '실시 예 에 따르다 기초 시설 자 를 위 하다 인공 지능 기반 의 자 은 로부터 자 를 촬영 하다 영상 를 자 인원 수 모 작용 여부 를 규정 준수 오다 쓰러지다 등 이상 상태 를 감지 실시 예 에서는 공간 에 설치 자 단말 의 카메라 로 촬영 영상 를 하다 인공 신경망 을 통해 영상 을 자의 이상 상태 규정 준수 를 파악 또한 실시 예 에서는 영상 을 통해 자의 오다 모션 을 차 파악 하다 파악 오다 모션 에 따르다 줌 포커 싱 변화 등 촬영 조건 을 자동 변경 하다 변경 촬영 조건 촬영 영상 을 이후 영상 을 인공 신경망 로 자 상태 오다 규정 준수 를 수', '의 일 실시 예 에 따르다 점유 율 예측 원 격 협업 늘다 산업 시설 물 에 대상 에 의하다 측정 에 의하다 측정 를 수신 수 신부 의 수치 가다 변화 방향 을 기준 산업 시설 물의 이동성 상태 를 판별 이동성 상태 판별 부 대상 각각으로 부터 수신 누적 를 기초 로 누적 점유 율 를 생 성 하다 누적 점유 율 에 기초 생 성 은닉 마르코프 에 이동성 상태 를 산업 시설 물 에 점유 율 을 예측 점유 율 예측 부 복수 의 산업 시설 물 각각 에 대해 예측 점유 율 을 모니터링 예측 점유 율 이 기 설정 임계 값 을 초과 경우 관제 단말 관제 단말 에 산업 시설 물의 로 의 산업 에 점검 지시 를 제 어부 를 수', '은 화재 징후 를 미리 감지 예측 함 으로써 태양광 발전 의 반 화재 에 대하 여 사전 에 방지 수 화재 예방 차단 을 활용 하다 지능 형 태양광 발전 에 관 하다 것 이다 은 태양 의 빛 에너지 를 전기 에너지 로 태양 어 레이 오다 태양 어 레이 에서 직류 를 교류 로 하다 전력 계통 전송 인버터 오다 태양 어 레이 오다 인버터 사이 에서 직류 전력 을 모으다 인버터 에 전송 반 과 태양 어 레이 의 음극 측 선로 를 차단 위 하다 스위치 를 오다 발전 상태 반 상태 를 기초 로 전력 회로 차단 을 위 하다 를 컨트롤 유닛 과 태양광 발전 의 감시 지원 을 위 발전 상태 반 상태 를 실시간 표시 모니터링 을 하다 늘다 태양 어 레이 선로 에 사고 인하다 역전 류 가다 흐르다 경우 역전 류 를 방지 역류 방지 부 마 그네 틱 콘텍트 스위치 를 유닛 을 전력 회로 차단 은 인버터 의 측 입력 측 회로 차단 태양 어 레이 의 음극 측 회로 차단 사용 전력 공급 측 회로 차단 을 하다 역류 방지 불다 태양 어 레이 를 스트링 의 음극 측 과 단자 사이 에 이중화 역전 류 방지 다이오드 를 설치 어느 한쪽 스트링 의 일부 지점 과 다른 쪽 스트링 의 일부 지점 에서 단락 이 역 방향 전류 의 흐름 을 차단 스트링 상호 간 에 폐 회로 가다 것 을 방지 것 을 반 에는 스마트 유닛 을 하다 전력 회로 차단 은 유닛 을 통해 그룹 별 병렬 회로 에서 어느 그룹 의 태양 어 레이 회로 에 문제 가다 차단 경우 다른 건전하다 회로도 동시 에 차단 피해 를 원 천적 예방 을 것 을 특징 화재 예방 차단 을 활용 하다 지능 형 태양광 발전 을 제공 하다 다', '의 일 실시 예 에 따르다 혼합 현실 기반 의 산업 용 교육 훈련 은 사용자 가다 가상 훈련 내용 을 점검 위 하다 훈련 관리자 과 다중 사용자 서버 의 을 통해 서다 하다 사용자 단말 이 을 하다 공정 미션 을 공 정이 때 산 업체 에서 제시 공정 의 최종 기준 을 제공 공 정의 단위 공정 별 교육 훈련 이 가능하다 서비스 를 제공 하다 공정 별로 가상현실 과 증강현실 이 사용 각 상황 별 사용자 단말 에 를 통 직업 훈련 관련 하다 혼합 현실 컨텐츠 를 제공 혼합 현실 컨텐츠 제공 을 위 하다 데이터베이스 를 구축 관리자 가다 관리자 단말 을 이용 특정하다 공정 에 가상 훈련 시 접근 사용자 를 제공 받다 파악 수 이르다 통해 사용자 모니터링 이 가능하다 훈련 평가 에 피드백 를 제공 서버 를 것 을 특징', '은 현 장인 력 의 를 위 하다 모니터링 에 것 에 따르다 화재 등 의 재난사 고 건설 토목 등 의 산업 에 인원 들다 의 현황 과 상태 를 파악 감독 이 가능하다 특이 사항 시 탈출 명령 등 을 신속하다 전파 수', '은 관제 에 관 하다 것 안전모 오다 결합 무선 을 자 단말 자 단말 과 무선 을 복수 의 이동형 폴 자 각각 의 상황 을 모니터링 관제 서버 를', '은 산업 에서 디지털 트윈 서비스 를 제공 에 관 하다 것 에 따르다 디지털 트윈 서비스 제공 은 디지털 트윈 구축 서비스 플랫폼 을 통 디지털 트윈 를 생 성 하다 이르다 사용자 단말기 에 설치 디지털 트윈 애플리케이션 에 탑재 에서 오다 다양하다 오다 연결하다 디지털 트윈 의 예측 성능 을 개선 가상 조건 에 예측 의 실시간 조건 를 활용 현재 상황 을 보여주다 의 이상 여부 를 미리 감지 경고 를 알다 모니터링 의 최적 조건 을 찾다 줄 수 등 을 제공 하다 다', '의 일 실시 예 늘다 헤드 레스트 에 장착 운전자 의 상태 를 감지 판단 헤드 서다 포트 를 이용 하다 헤드 서다 포트 에 내부 에 공기 가다 충진 에어 쿠션 에어 쿠션 내부 일면 에 소정 의 배열 설치 복수 개 의 마커 운전자 오다 에어 쿠션 의 접촉 상태 오다 움직임 에 대해 서다 복수 개 의 마커 의 변화 를 촬영 하다 마커 를 촬 상 마커 를 스마트 기기 로 무선 을 이루어지다 헤드 서다 포트 마커 를 응용 로 가공 하다 무선통신 스마트 기기 스마트 기기 오다 서버 를 이루어지다 운전자 의 상태 를 판단 경보 해주다 것 을 특징 헤드 서다 포트 을 제공 하다 다', '은 하천 제방 붕괴 방지 를 위 하다 실시간 모니터링 에 관 하다 것 상세 빈번 하다 자연재해 중 하천 제방 붕괴 저 감 을 위 하다 전략 과제 인 유역 차원 의 홍수 방어 하천 제방 붕괴 로 인하다 인명 피해 재산 피해 를 최소 화하다 지역 적 이 강하다 하천 제방 붕괴 를 유역 단위 의 범 공간 적 검토 하다 첨단 을 활용 하다 적극 적 인 하천 제방 을 통해 하천 제방 붕괴 를 시키다 뿐 만 아니다 시설 보수 기존 제방 설계 의 문제점 을 보완 안전하다 제방 설계 를 제공 수 하천 제방 의 를 데이터베이스 화 수 하천 제방 붕괴 방지 를 위 하다 실시간 모니터링 에 관 하다 것 이다 오다 같다 목적 을 달성 위 에 따르다 하천 제방 붕괴 방지 를 위 하다 실시간 모니터링 은 하천 제방 에 일정 간격 지다 중 매설 기울기 를 계 측 수단 복수 개 의 계 측 수단 이 상호 근거리통신망 부 부와 무선 게이트웨이 게이트웨이 오다 무선 하천 제방 의 를 실시간 모니터링 관제 부 를 이루어지다 게이트웨이 늘다 모든 하천 제방 마다 설치 관제 부 에 구비 하나 의 웹서버 로 통합 것 을 특징', '은 하이 앵글 식 노면 감지 오다 디지털 도로 보도 융설 그리고 그 공법 에 관 하다 것 구체 적 으로는 통행 차량 이나 인원 에 대하 여 사고 예방 을 위 적설량 눈 비 슬러시 등 전방 의 결빙 상태 를 사전 에 알리 다 을 기반 기반 의 전광판 과 전방 의 상태 에 따르다 기 구부 를 설치 안내 를 제공 안전하다 도로 보도 를 제공 위 하다 하이 앵글 식 노면 감지 오다 디지털 도로 보도 융설 그리고 그 공법 에 관 하다 것 이다', '명세서 늘다 본질 방폭 을 위 하다 무선통신 에 관 하다 것 이다 이러하다 명세서 늘다 무선 송수 신 을 무선 통 신부 외부 전원 과 무선 통 신부 사이 에 외부 전원 으로부터 전원 을 입력 받다 전하 를 충전 하다 무선 부로 무선 송수 신 에 필요하다 전압 을 슈퍼 커패시터 슈퍼 커패시터 의 전압 을 측정 측정 전압 이 미리 설정 기준 범위 내 에 경우 일정 시간 동안 슈퍼 커패시터 의 전압 을 무선 통 신부 에 이다 전압 측정 부르다 무선통신 를 제공 하다 다', '은 시설 내 에 통합 이 장착 포스트 가드 를 설치 하다 포스트 가드 의 충돌 사고 시 관리자 혹은 근로자 에게 사 고사항 을 알리 다 수 포스트 가드 통합 그 에 관 하다 것 이다 의 포스트 가드 통합 은 랙 의 기둥 에 설치 를 부착 오다 함께 기울기 변화 충돌 여부 를 실시간 전송 포스트 가드 전송 랙 포스트 가드 의 충돌 여부 오다 상태 를 기반 물류 창고 에서의 랙 포스트 가드 의 충돌 여부 오다 상태 를 모니터링 하다 검 추다 전체 포스트 가드 의 상태 를 다수 의 수신 단말기 로 제공 서버 를', '에 따르다 펄스 와전류 탐상 을 이용 하다 금속 배관 감시 늘다 금속 배관 의 외주 에 소정 간격 복수 의 코일 복수 의 코일 에 순차 적 펄스 를 인 가하다 위 하다 펄스 부 금속 배관 에 와전류 로부터 하다 자계 에 의하다 복수 의 코일 에 를 수신 수 신부 수 신부 에 의하다 수신 로부터 소정 의 값 을 부 부 에 의하다 값 에 기초 배열 형 를 생 성 하다 금속 배관 의 결함 를 결함 부르다 수 에 따르다 펄스 와전류 탐상 을 이용 하다 금속 배관 감시 은 결함 의 깊이 길이 를 비 파괴 적 검사 금속 배관 을 상 시로 모니터링 수 금속 배관 감시 을 제공 수 따라서 이 오다 같이 주 기적 비 파괴 적 금속 배관 의 결함 을 탐지 함 으로써 금속 배관 을 상시 감시 수 금속 배관 의 결함 에 따르다 주변 인명 피해 를 미연 에 방지 을 확보 수 경제 적 손실 을 예방 수', '은 광학 표시 를 통해 을 경고 패턴 레이저 기반 의 에 관 하다 것 대상 물 주변 의 사물 사람 을 감지 대상 물 에 설치 에 의하다 사물 사람 이 감지 을 경고 영역 패턴 을 표시 경고 의 감지 결과 에 따르다 대상 물 주변 의 지면 영역 패턴 을 표시 경 고 의 구동 을 을 패턴 레이저 기반 의 을 제공 하다 다', '은 판토 그라프 의 가선 편위 측정 에 관 하다 것 가선 에 의하다 판토 그라프 의 팬해드 에 가해 지다 압력 값 을 측정 위해 팬해드 의 좌측 우측 에 각각 설치 제 제 압력 감지 수단 과 제 제 압력 감지 수단 을 통해 감지 압력 값 을 입력 받다 전송 수단 과 전송 수단 에 입력 제 제 압력 감지 수단 의 압력 값 을 이용 편위량 을 연산 전 기 철도차량 내 컴퓨터 로 것 을 특징 에 따르다 가선 이 집 전판 의 범위 에서 급전 이 이루어지다 모니터링 전 기 철도차량 이 안정 적 급전 이 이루어지다 지르다 지속 적 확인 수 가선 의 상대 적 인 편위량 이 설정 한계 편위량 크다 경우 이상 이 하다 것 판단 알람 등 과 같다 경 고음 을 운전자 가다 대처 함 으로써 전 기 철도차량 의 에도 유익하다 가다', '은 건물 에 부착 기반 의 통합 스마트 들다 을 이용 다양하다 재난 상황 을 통합 적 모니터링 함 으로써 판단 의 정확성 신뢰 도르다 높이 다 수 뿐 만 아니다 안전성 을 높이 다 수 재난 상황 시 경보 를 이용 외부 로 표 출하 도록 재난 인하다 인명 사고 를 절감 시키다 수 일반 건축물 건축 시설 물 에 종합 적 선제 적 대응 의 기반 시설 물 통합 모니터링 체계 구축 이 가능하다 건축물 상태 감시 에 관 하다 것 이다', '은 에서 자율 주행 을 하다 동력 인 추다 가다 농기 계 에 대하 여 잠재 적 사고 를 예측 하다 잠재 적 사고 를 회피 위 하다 동작 을 위 하다 에 관 하다 것 이다 구체 적 은 자율 주행 을 하다 가다 농기 계 에서 사람 장애물 과의 시간 별 거리 변화 에 따르다 잠재 적 사고 의 확률 예측 중 증도 를 하다 확률 이 임계 확률 이상인 경우 예측 중 증도 에 따라서 사고 회피 를 위 하다 선 조치 후 사용자 단말 에게 보고 를 하 거나 사용자 단말 에게 사고 회피 를 위 하다 제안 동작 을 선 보고 하다 후 사용자 단 말로 부터 수신 하다 동작 사고 회피 의 후 조치 를 에 관 하다 것 이다', '은 에서 건설 내 근로자 의 건강 를 지원 위 하다 에 관 하다 것 이다 구체 적 은 근로자 가다 착용 하다 특수 안전모 내 아이스팩 의 온도 근로자 의 두피 온도 건설 의 날씨 등 에 기반 근로자 에게 아이스팩 의 교체 권고 를 휴식 권고 메시지 를 전송 위 하다 에 관 하다 것 이다 의 다양하다 실시 예 들다 은 에서 건설 내 근로자 의 건강 를 지원 위 하다 를 제공 수 또한 의 다양하다 실시 예 들다 은 근로자 가다 착용 하다 특수 안전모 내 아이스팩 의 온도 근로자 의 두피 온도 건설 의 날씨 등 에 기반 근로자 에게 아이스팩 의 교체 권고 를 휴식 권고 메시지 를 전송 위 하다 를 제공 수 또한 의 다양하다 실시 예 들다 은 건설 의 대기 온도 습도 에 기반 근로자 에게 지급 하다 아이스팩 의 적정 교체 주기 를 적응 적 하다 근로자 가다 가장 최근 아이스팩 을 교체 하다 시각 으로부터 경과 시간 이 적정 교체 주기 를 초과 여부 에 기반 근로자 에 휴식 의 필요 여부 를 위 하다 를 제공 수', '토공 은 지형 부 부 차원 지도 생 성부 지반 부 경 사각 산출 부 기준 값 산출 부 정적 도 평가 부르다 지형 불다 건설 의 지형 를 하다 불다 건설 의 를 하다 차원 지도 생 성부 늘다 지형 오다 를 결 건설 의 차원 지도 를 생 성 하다 지반 불다 건설 의 지반 의 물성 를 하다 경 사각 산출 불다 차원 지도 로부터 건설 의 사면 의 경 사각 을 산출 하다 경사 기준 값 산출 불다 지반 의 물성 로부터 사면 의 경 사각 을 평가 위 하다 경사 기준 값 을 산출 정적 도 평가 불다 경 사각 과 경사 기준 값 을 이용 사면 의 정적 도르다 평가', '은 시 공중 인 터널 굴착 면 의 차원 차원 점군 을 시공 부와 굴착 면 의 차원 메쉬 를 생 성 하다 시공 부르다 통해 굴착 면 의 차원 점군 을 차원 의 매트릭스 면 에 투영 특징 점 과 차원 의 특징 점 을 서로 연결하다 전 부와 차원 차원 점군 을 토대 로 절리 를 기반 키 블록 을 굴착 면 에 타 설 지보 재의 역할 을 숏크 리트 의 부피 오다 두께 를 부 부의 결과 를 공사 내부 외부 의 자 에게 낙반 이나 탈락 과 같다 상황 에 대처 가다 신속하다 이루어지다 수 부르다 것 을 특징 터널 공사 을 개시 하다 다', '은 터널 시공 에 관 하다 것 상세 터널 시공 을 안전하다 신속하다 수 터널 시공 에 관 하다 것 이다 이러하다 은 제 굳다 촬영 생 성 제 촬영 에 경계 선 암 종 암 질 절리 선 지하수 중 하나 이상 을 제 표시 를 맵핑하 여 제 맵핑 를 생 성하다 자 클라이언트 제 촬영 제 맵핑 를 수신 서버 제 촬영 제 맵핑 를 수신 관리자 클라이언트 를', '터널 공 사 의 자 에 을 서버 터널 공 사 에 일정하다 간격 설치 공유기 자 오다 동반 자 단말 자 단 말로 부터 자 를 수신 하다 터널 공 사 의 를 서버 에 하나 이상 의 단말 을 하다 서버 늘다 자 를 이용 자의 를 판단 하다 터널 공 사 의 지도 를 복수 의 영역 들다 로 분할 브라우저 에 표시 하다 복수 의 영역 들다 중 자 가다 하다 영역 에 자 를 표시 하다 사전 에 입력 요인 에 기초 적어도 하나 의 영역 을 이 개시', '은 터널 경보 에 관 하다 것 으로서 상세 터널 경보 은 터널 내 점검 자 를 보호 위해 열차 가다 일정 구역 에 진입 시 열차 의 속도 를 검지 열차 가다 터널 입구 에 도착 시간 을 터널 내 점검 자 가다 대피 수 대피 시간 초을 확보 경보 이며 또한 터널 내 점검 자 가다 승인 취급 버튼 점검 자 음 의 취급 없이 터널 내 진입 시 경보 을 갖다 터널 경보 이다', '은 탑승 자 보호 에 관 하다 것 으로서 사람 의 움직임 을 감지 움직임 감지 를 생 성하다 움직임 감지 오다 각 좌석 에 사람 의 착석 여부 를 감지 개체 감지 를 생 성하다 개체 감지 오다 움직임 감지 오다 개체 감지 를 조합 연산 를 생 성하다 부와 에 대응 차량 의 해당 을 구동 시키다 차량 구 동부 오다 에 대응 경보 를 전송 부르다 제 어부 늘다 사람 의 움직임 여부 오다 사람 의 착석 자세 상태 를 조합 차량 경보 전송 여부 를 판단 에 따르다 사람 의 움직임 감지 오다 개체 감지 의 조합 연산 을 통해 탑승 자의 상태 를 정확하다 확인 수 탑승 자 를 안전하다 보호 수', '은 건설 주변 에 사고 를 미연 에 매우 적 방지 함 을 제공 지면 에 수직 기립 설치 상부 에 수평 방향 길다 연장 지브 가다 구비 지브 에는 전후 상하 로 이동 물품 을 운반 가능하다 트롤리 가다 구비 트롤리 로부터 운반 물품 의 하중 을 측정 토록 로드 셀 이 크레인 본체 오다 크레인 본체 의 트롤리 를 향 지향 토록 지브 상 에 설치 트롤리 에 의하다 영역 을 촬영 물품 의 크기 를 자동 인식 하 며 영상 를 영상 부와 영상 부의 영상 를 수신 상 에 부와 영상 부의 영상 로드 셀 에 의하다 입력 물품 의 하중 으로부터 물품 이 낙하 경우 의 반경 을 자동 설정 하다 크레인 본체 의 지속 적 인 여부 를 판단 통제 수 부 에 감지 를 메인 부르다 하다 메인 불다 지면 으로부터 인양 물품 의 가변 높이 를 인식 연산 측정 높이 계측기 를 구비 하다 높이 계측기 오다 영 상부 로드 셀 에 의하다 각각 측정 물품 의 높이 오다 크기 무게 로부터 반 경의 범위 를 연산 설정 반 경 설정 기르다 타워 크레인 을 제공 하다 다', '은 공 사 에 설치 키 오스 크다 비콘 을 활용 출입 자 인증 서비스 온도 측정 음주 측정 등 을 통한 출입 자 통제 서비스 를 제 공함 과 동시 에 자의 를 추적 모니터링 자의 근로 상태 를 적 수 고 군 영역 허가 않다 자의 진입 을 방지 사고 를 미연 에 적 방지 수 돌발 상황 시 신속하다 후속 대처 를 수 공 사 현 장용 자 에 관 하다 것 이다', '은 수용 가다 설치 전기 상태 를 측정 전기 에 아크 후보 영역 에 설치 하다 쌍 의 도체 판 사이 에서 변화 유전율 변화 를 감다 순간 전력 누적 전력 전압 전류 급격하다 온도 변화 를 하다 전기 상태 를 감지 하다 감지 센싱값 을 제공 받다 디지털 정전 용량 를 제공 하다 정전용량 에서 기 설정 파장 대역 의 만 통과 시키다 노이즈 를 제거 노이즈 가다 필터 링 정전용량 를 스칼라 그램 을 이용 아크 감지 영상 시각 화 하다 아크 감지 영상 을 사전 학습 인공 지능 기반 의 아크 검 추다 에 입력 아크 감지 영상 에 근거 정상 상태 오다 아크 상태 로 분류 하다 후 분류 결과 를 전기 전기 로 테스트 전압 테스트 전류 테스트 누설 전류 를 이다 전기 로 전압 전류 누설 전류 센싱값 을 수신 오차 를 연산 연산 오차 를 토대 로 센싱값 을 캘리 브레이 션 하 도록 전기 를 캘리 브레이 션 를 것 을 특징 전기 를 제공 하다 다', '은 카메라 를 이용 하다 감시 에 관 하다 것 이다 에 따르다 감시 의 카메라 를 이용 하다 감시 에 제 사용자 의 헬멧 에 장착 카메라 로부터 의 촬상 영상 을 무선 수신 단계 오다 촬상 영상 내 에서 적어도 하나 의 제 사용자 의 머리 부위 를 검 출하 고 검 추다 머리 부위 에 대응 제 사용자 의 를 인식 단계 오다 인식 에 대응 제 사용자 측 의 카메라 의 를 사용자 로부터 단계 제 사용자 의 카메라 로 촬상 영상 의 전송 을 중지 하 라는 명령 을 전송 단계 를 카메라 를 이용 하다 감시 을 제공 수 카메라 를 이용 하다 감시 에 따르다 내 존재 사용자 의 헬멧 에 장착 카메라 로부터 촬상 를 무선 수신 자 주변 자의 을 실시간 모니터링 수 자의 위급 상황 을 감지 하다 이르다 주변 에 인접 하다 타 작 업자 들다 에게 알리 다 수 사고 의 시 에 신속하다 대처 가다 가능하다', '은 자율 주행 모바일 로봇 을 활용 하다 화재 감지 조 기 대응 에 관 하다 것 적어도 하나 이상 의 모바일 로봇 소화기 공급 이 가능하다 충전 스테이션 화재 진단 공간 맵핑뿐 아니다 모바일 로봇 과 충전 스테이션 을 통합 관제 서버 를 화재 감지 조 기 대응 적어도 하나 이상 의 모바일 로봇 은 자율 주행 가능하다 복수 의 로봇 이 할당 임무 를 일정 기준 내 범위 의 속도 로 정해진 시간 내 에 감시 영역 을 자율 주행 각종 센싱 를 하다 복수 의 로봇 중 선행 로봇 에 의하다 에 대해 누락 여부 등 을 판단 필요 시 후행 로봇 을 통해 보완 촬영 재 촬영 정확하다 에 기반 화재 여부 를 판단 화재 진행 단계 에 따르다 모바일 로봇 을 통해 가깝다 충전 스테이션 을 통해 소화기 를 공급 받다 화재 초기 진압 이 가능하다 설계 하므다 시간 무인 화재 감시 가다 가능하다 뿐 아니다 특히 관리자 가다 부족하다 취약 시간대 에 수 화재 에 대해 신속하다 대응 수 을 개시 하다 다', '은 착용 여부 를 감지 헬멧 을 활용 하다 자 별 헬멧 착용 모니터링 에 관 하다 것 으로서 더욱 상세 형상 기억 소재 로 이루어지다 세다 서부 부재 에 의하다 온도 이 자의 체온 과 외부 대기 의 온도 의 사이 의 차이 값 을 활용 자 별 헬멧 착용 여부 를 판단 함 에 따르다 헬멧 의 착용 용이 성 이 향상 헬멧 착용 여부 판단 의 정확성 이 향상 착용 여부 를 감지 헬멧 을 활용 하다 자 별 헬멧 착용 모니터링 에 관 하다 것 이다', '은 근로자 가다 직접 착용 밀폐 에서 질식사 고르다 유발 수 요인 을 전후 모두 감지 수 이르다 연동 근로자 의 단말기 로 측정 결과 를 근로자 가다 의 상태 를 파악 수 작업중 에도 질식사 고르다 유발 요인 을 감지 상황 시 단말기 로 바로 안내 근로자 의 질식사 고 방지 를 위 하다 웨어 러블 디바이스 에 관 하다 것 이다', '지하 공 동구 고장 예방 를 개시 하다 다 실시 예 늘다 지하 공 동구 내 에 설치 각종 케이블 에 복수 의 진동 온도 습도 영상 를 설치 을 구축 하다 복수 의 로부터 현재 상태 를 측정 하다 후 를 이용 공 동구 내 외부 요소 사전 파악 을 통한 구 선제 적 방어 순찰 자 감시 시간 감시 가능하다 능동 적 인 사고 예방 구축 수 지하 공 동구 고장 예방 를 제공 하다 다', '은 크레인 과 크레인 크레인 과 물의 충돌 을 방지 위 개별 크레인 의 현재 를 상호 공유 하다 크레인 조작 시 인접 크레인 의 충돌 상태 를 모니터링 알람 표현 상황 시 크레인 을 규제 시키다 수 지능 형 크레인 에 관 하다 것 크레인 충돌 사고 방지 크레인 자 편의 성 제 고 적 인 크레인 유지 보수 크레인 가동 현황 을 적 모니터링 수 가다', '지능 형 에 관 개시 하다 다 은 자 상황 으로부터 객체 오다 각종 센싱 들다 을 클라우드 서버 로 전송 로부터 객체 센싱 들다 을 비정 형 화 로 베이스 를 하다 객체 센싱 를 서버 를 통해 융합 판단 그 판단 결과 로부터 상황 전파 의 지시 오다 대기 상황 전파 를 자 에게 전송 클라우드 서버 클라우드 서버 로부터 상황 전파 를 전송 받다 사용자 단말 을 수', '실시 예 에 따르다 차량 에 부착 자 인체 오다 인접 여부 를 감지 복합 감지 부와 자의 신체 일부 에 부착 자 태그 부와 을 촬영 영상 촬영 부와 복합 감 지부 자 태그 부 영상 촬영 부의 를 서버 에 제공 무선 중계 부 를 바탕 유무 를 판단 사고 를 예방 서버 부르다 지게차 의 스마트 을 제공 하다 다', '에 따르다 증강현실 기반 건설 의 안전교육 은 증강현실 영상 을 통해 건설 과 건설 에 안전교육 이 실시 수 입체 적 이고 가다 교육 이 이루어지다 수 이점 이 또한 증강현실 영상 에 계획 서다 계획 를 반영 계획 를 영상 직접 확인 수 건설 과 건설 에 따르다 계획 에 이해도 를 향상 시키다 수 안전하다 계획 을 세우다 재해 를 예방 수 또한 증강현실 영상 에 건설 의 점검 항목 을 표시 확인 수 입체 적 이고 가다 점검 교육 이 이루어지다 수', '관리자 단말 에 설치 카메라 를 통해 건축 구 을 촬영 하다 건축 구 장면 과 이 중첩 관리자 단말 에 관리자 단말 에 입력 명령 에 기반 담당자 단말 에 요소 에 관련 를 하다 담당자 단 말로 부터 요소 에 대응 응답 이 수신 요소 에 레이블 로서 응답 을 지원 을 제공 하다 다', '은 중대 산업 에 원 격감 독 규정 의 이행 을 이르다 중대 산업 재해 예방 에 관 하다 것 이다 상세 로는 중대 산업 재해 를 예방 산업 에 대하 여 을 이용 재난 예방 활동 에 준비 이행 실태 를 원격 지 에서 감독 수 함 으로써 해당 산업 에서 규정 이 이행 이르다 통 산업 에서 중대 산업 재해 가다 것 을 예방 과 이르다 에 관 하다 것 이다 에 의하다 을 사용 감독 관 들다 이 산업 에 일일이 방문 않다 산업 에서 보건 관련 규정 을 이행 하다 원격 지 에서 적 감독 수 산업 의 유형 에 따르다 재난 예방 을 위 하다 체크 포인트 오다 점검 보고서 를 자동 생 성 하다 의 이행 상태 를 사진 이나 영상 스트리밍 을 통 실시간 확인 수 때문 에 감독 관 들다 이 여러 을 동시 에 감독 것 이 가능하다 또한 산업 에 근무 산업 재해 예방 을 위 하다 활동 을 관리자 가다 업무 를 충실하다 이행 하다 자동 점검 감독 관 에게 알다 수', '은 각종 산업 에서 사용자 의 몸 에 착용 하다 채 재난 요소 를 자 에게 실시간 안내 재난 초기 상황 에 선제 적 이면 서다 적 대응 내 재난 상황 을 실시간 모니터링 재난 상황 에서의 을 적 함 을 제공 사용자 의 특정 신체 부위 에 착용 가능하다 기 기 본체 오다 기기 본체 상 에 탈 부착 가능하다 설치 하다 주변 유해 가스 를 감다 산소 이산화탄소 일산화탄소 황화수소 암모니아 중 적어도 하나 이상 의 유해 가스 를 감지 가스 검 출량 을 측정 종 의 감지 를 감지 를 선택 적 가능하다 과 로부터 감지 를 하 거나 외부 기기 로부터 를 수신 가능하다 과 을 각각 연결하다 구동 가능하다 하다 로부터 입력 감지 를 기초 로 상황 여부 를 메인 을 하다 메인 에는 의 서로 다른 종 의 감지 중 교체 감지 를 자체 적 가능하다 자동 인식 스마트 펌웨어 를 재난 를 위 하다 웨어 러블 디바이스 를 제공 하다 다', '은 도 에 관 하다 것 구체 적 다수 개 의 가다 구비 스마트 플러그 로부터 스마트 플러그 가다 설치 주변 이 실시간 감지 를 전송 받다 의 종류 별로 구분 의 종류 에 따르다 도 예측 을 생 성하다 도 예측 생 성 사용자 에 의하다 정상 패턴 생 성 명령 이 입력 정상 패턴 생 성 명령 이 입력 시점 부터 기 설정 시간 동안 전송 받다 를 도 예측 에 대입 정상 패턴 을 생 성하다 정상 패턴 생 성 사용자 에 의하다 실시간 패턴 생 성 명령 이 입력 실시간 패턴 생 성 명령 이 입력 시점 부터 기 설정 시간 동안 전송 받다 를 도 예측 에 대입 실시간 패턴 을 생 성하다 실시간 패턴 생 성 실시간 변 이 도 측정 함수 를 이용 정상 패턴 과 실시간 패턴 의 변 이도 를 연산 하다 변 이도 에 따르다 도 레벨 을 도 레벨 을 도 에 관 하다 것 이다', '석유화학 공장 등 이 수반 작업장 의 을 실시간 모니터링 을 통해 원격 수 진행 을 위 하다 허가 서다 를 유 무선 을 통해 원격 요청 허가 받다 수 작업장 통합 에 관 하다 것 이다', '은 건설 에서 자 가다 늘 신다 화 에 를 설치 자의 상태 를 지속 적 무선 모니터링 수 화 오다 이르다 이용 하다 자 상태 모니터링 에 관 하다 것 이다 화 늘다 자의 발 을 감싸다 신발 부와 신 발부 에 들어오다 자 발의 뒤꿈치 를 받치다 위해 신발 부의 저면 후방 에 뒷 굽 을 하다 뒷 굽 은 자의 발 뒤꿈치 를 통해 뒷 굽 에 가해 지다 하중 을 측정 무게 오다 뒷 굽 의 축 방향 의 가속도 를 측정 축 가속도 를 감 지부 감 지부 에서 를 수신 하다 를 무선 무선 송수 신 을 제 어부 감지 부와 제 어부 에 전원 을 공급 전 원부 를 화의 감 지부 를 수신 수 신부 늘다 수신 를 바탕 자의 여부 를 확인', '은 자 에 관 하다 것 더욱 상세 자의 신체 에 생체 자 주변 의 장소 의 요소 에 를 지속 적 모니터링 하다 생체 에 의하다 자의 신체 적 인 이상 여부 를 판단 하다 에 의하다 요소 에 의하다 가능성 을 판단 자의 신체 적 인 이상 여부 자 장소 의 가능성 여부 에 따르다 해당 자 주변 자 에게 통지 자의 를 자 에 관 하다 것 이다', '의 실시 예 에 따르다 스케줄 스마트 헬멧 을 이용 하다 상황 모니터링 은 상황 으로부터 자의 머리 를 보호 헬멧 자 가다 소지 헬멧 과 에 의하다 자 에게 상황 이 스마트 디바이스 스마트 디바이스 로부터 감지 상황 을 취합 관제 서버 를 헬멧 은 무선통신 이 가능하다 제 통 신부 자의 움직임 을 감지 위 하다 움직임 감지 상황 질문 을 자 에게 들려주다 위 하다 스피커 자의 음성 을 인식 음성인식 를 하다 스마트 디바이스 늘다 제 부와 무선 이 가능하다 제 통 신부 의 각 자 별 자의 스케쥴 를 위 하다 스케줄 헬멧 의 움직임 감지 에서 감지 움직임 감지 를 수신 위 하다 움직임 감지 수 신부 움직임 감지 수 신부 에서 수신 움직임 감지 를 이용 하다 자 에게 상황 이 여부 를 판단 상황 판단 부르다 하다 상황 판단 불다 스케줄 에서 의 각 자 별 자의 스케쥴 를 확인 각 자의 작업시간 를 생 성하다 작업시간 생 성 작업시간 생 성 에서 생 성 각 자의 작업시간 동안 해당 자의 움직임 감지 로부터 움직임 감지 가다 소정 시간 이상 감지 않다 경우 해당 자 에게 단계 상황 이 판단 단계 상황 판단 단계 상황 판단 로부터 자 에게 단계 상황 이 판단 자 에게 상황 이 실제 로 여부 를 질문 위 하다 상황 질문 을 생 성하다 상황 질문 음성 생 성 헬멧 의 스피커 를 통해 자 에게 상황 질문 을 들려주다 위해 자 에게 상황 질문 을 헬멧 위 하다 상황 질문 상황 질문 이 헬멧 에 상황 질문 을 하다 이후 소정 시간 이내 에 음성인식 를 통해 자로 부터 답변 이 인식 않다 경우 자 에게 단계 상황 이 판단 단계 상황 판단 을 점 에 그 특징 이 에 따르다 자 에게 위험하다 상황 이 때 이르다 정확하다 확인 하다 또한 신속하다 이르다 감지 알다 줌 으로써 상황 에 즉각 적 인 대처 가다 가능하다 장점 이', '은 다양하다 에 투입 사용자 들다 을 일괄 적 수 의 스마트 에 관 하다 것 이다 의 의 스마트 은 의 사용자 의 종류 를 사용자 인증 수단 을 하나 이상 의 오다 사용자 인증 수단 을 인식 사용자 의 인증 를 사용자 인식 부와 인증 를 하다 사용자 인증 의 통과 여부 를 수신 제 부르다 출입 게이트 오다 그리고 사용자 의 인증 를 수신 사용자 인증 을 하다 사용자 인증 의 결과 로서 사용자 인증 의 통과 여부 를 서버 를', '의 다양하다 실시 예 늘다 에 관 하다 것 이다 의 다양하다 실시 예 에 따르다 은 에서 활선 을 감지 활선 감 지부 에 설치 배전 반의 상태 를 감지 제 부 에 설치 전기 선로 의 누설 전류 를 감지 제 부 활선 감 지부 제 부 제 부로 부터 수신 하다 에 기반 의 감전 도르다 수학 식 에 따르다 산출 제 어부 를 수 다른 실시 예 들다 도 가능하다 수', '발판 의 응력 검 추다 이르다 이용 하다 발판 이 개시 개시 발판 의 응력 검 추다 은 발판 의 서로 다른 제 제 에 제 제 스 트레인 게이지 를 이용 제 제 에서의 제 제 변형률 를 각각 단계 오다 제 제 변형률 로부터 발판 의 다수 개다 에서의 응력 를 단계 를 제 제 변형률 늘다 각각 발판 의 제 제 에서의 축 방향 의 변형률 이다', '자율 이동 로봇 기반 의 안면 동작 인식 을 이용 하다 공 사장 이 개시 개시 자율 이동 로봇 기반 의 안면 동작 인식 을 이용 하다 공 사장 은 알고리즘 을 용이하다 산업 을 자율 이동 산업 의 자 안면 동작 인식 을 자 상태 를 하다 장구 착용 에 점검 을 다중 카메라 를 구비 하다 자율 이동 로봇 자율 이동 로봇 이 산업 의 자 안면 동작 인식 을 자 상태 를 하다 장구 착용 에 점검 을 원격 로봇 서버 를 것 을 특징', '은 에 설치 복수 의 형 카메라 오다 하나 이상 의 회전 형 카메라 를 감시 카메라 들다 과 비상 벨 스피커 경 광등 을 별도 의 아 답타 없이 개별 적 연결하다 전원 공급 자동 전원 복구 을 형 카메라 회전 형 카메라 의 수 에 대응 포트 들다 을 갖추다 를 통해 포트 들다 에 각각 의 카메라 들다 을 연결하다 각 당 채널 포트 를 설정 하다 그 설정 값 들다 의 을 관제 센터 컴퓨터 를 통해 것 으로서 감시 카메라 들다 중 적어도 어느 하나 에 에러 가다 경우 에러 를 리셋 시키다 수 각 별 리셋 버튼 들다 을 구비 하다 또한 이 들다 전체 리셋 버튼 들다 을 하나 의 버튼 에 연결하다 작동시키다 수 온 오프 스위치 를 구비 망 을 통해 관제 센터 컴퓨터 오다 로 을 방문 않다 관제 센터 에서 직접 의 에러 들다 온 오프 하 여 리셋 복구 시키다 또한 이 내장 무선망 을 통해 관제 센터 컴퓨터 오다 수 전원 이상 이상 인하다 망 을 사용 수 없다 상황 이 경우 이 무선망 을 통해 장애 를 관제 센터 로 즉각 적 인 대응 을 수 스마트 파워 을 제공 하다 다', '은 의 마커 추적 을 이용 건설 용 가시 설 물의 안전성 을 지속 적 실시간 모니터링 수 나아가다 건설 용 가시 설 물의 평면 상의 변위 뿐 만 아니다 전방 후방 으로의 변위 도 민감하다 감지 수 건설 용 가시 설 구 안전성 모니터링 에 관 하다 것 이다 특히 은 별도 의 인력 투입 이나 과 다한 없이 건설 용 가시 설 물의 안정 성 을 모니터링 수', '은 건설 의 구역 에 독립 설치 수 구역 접근 자의 영상 을 적절하다 내용 의 경고 를 안 내 수 인공 지능 형 영상 을 이용 하다 건설 의 재난 사고 예방 에 관 하다 것 이다 의 과제 를 해결 위 하다 에 따르다 인공 지능 형 영상 을 이용 하다 건설 의 재난 사고 예방 늘다 내부 에 수 용공 간 이 구비 하우 징 하우 징 의 외측 에 설치 소정 각도 범위 의 영상 을 촬영 카메라 수 용공 간 에 구비 카메라 를 통해 촬영 영상 을 실시간 제 어부 제 어부 의 에 의하다 선택 적 경 고 방송 이 스피커 를 하다 제 어부 늘다 카메라 를 통해 촬영 영상 을 반복 학습 자의 행동 패턴 으로부터 행동 을 인지 하다 객체 인식 을 통해 보호 의 작용 여부 를 판별 것 을 특징', '에 따르다 인공 지능 형 상업 용 주방 소화 은 부 서버 부 개별 단말 부르다 상업 용 주방 시설 에서 가스 누 추다 화재 에 정확하다 진단 이 가능하다 연료 가스 의 공급 오다 화재 를 진압하 늘다 소화 의 동작 을 수 사고 에 즉각 적 인 대응 과 예방 이 또한 표지 가스 를 공급 수단 과 검 출하 늘다 수단 이 추가 로 구비 연료 가스 감지 의 오 인하다 오류 를 보정 수 연료 가스 의 누 추다 여부 를 정확하다 평가 수 또한 에 따르다 인공 지능 형 상업 용 주방 소화 은 가스 누 추다 화재 이외 에도 지진 등 의 요소 에 상황 를 실시간 모니터링 수 뿐 만 아니다 가스 공급 의 교체 시기 보수 시기 를 파악 수 상업 용 주방 시설 을 통합 수', '의 실시 예 에 따르다 인공 지능 을 활용 하다 통합 스마트 플랫폼 은 스마트 안전모 를 제 패킷 을 브로드캐스트 제 비콘 태그 를 부착 하다 스마트 안전모 과 이동형 스피커 를 제 패킷 을 브로드캐스트 제 비콘 태그 를 부착 하다 이동형 스피커 오다 의 기 설정 마다 인접 하다 스마트 안전모 과 이동형 스피커 로부터 제 제 패킷 들다 을 수신 비콘 오다 비콘 로부터 수신 제 제 패킷 들다 을 비콘 오다 인접 하다 스마트 안전모 과 이동형 스피커 를 특정하다 특정 스마트 안전모 의 착용 자 에게 비콘 가다 하다 에서의 을 설명 위해 를 생 성하다 를 비콘 에 전송 중앙 제어장치 를 하다 이동형 스피커 늘다 인접 하다 비콘 를 통해 중앙 제어장치 로부터 수신 에 응답 명령 을', '은 이동형 그 의 구 동 에 관 하다 것 으로서 의 실시 예 에 따르다 이동형 늘다 공 사 의 작 업자 들다 에 순서 에 관련 스케줄링 를 저 장부 공 사 의 을 센싱 하다 센싱 정보 를 근거 로 지정 에 따르다 기 하다 스케줄링 를 변경 변경 하다 스케줄링 에 따르다 공 사 의 이 이루어지다 작 업자 들다 에 통지 제 어부 를 수', '인공 지능 을 이용 하다 위험성 판단 가이드 제공 이 제공 의 다양하다 실시 예 에 따르다 인공 지능 을 이용 하다 위험성 판단 가이드 제공 은 자 단말 에 하나 이상 의 카메라 기 학습 인공 지능 을 통해 하나 이상 의 카메라 로부터 영상 을 영상 에 하나 이상 의 객체 에 상태 를 판단 하다 판단 상태 에 기초 하나 이상 의 객체 에 가이드 를 자 단말 로 제공 서버 를', '실시 예 들다 은 건설 산업 을 제공 하다 다 의 실시 예 에 따르다 건설 산업 은 특정 에 난이도 도 소 요 기간 을 산출 부 난이도 도 소 요 기간 을 기초 로 특정 에 기 준인 원 을 기준 인원 결 정부 복수 의 근로자 단말 각각으로 부터 근로자 의 하나 이상 의 바 이탈 근로자 의 교육 이수 근로자 의 근로 스케줄 를 수신 하다 근로자 부 바 이탈 를 기초 로 건강 상태 점수 를 산출 하다 건강 상태 점수 교육 이수 근로 스케줄 를 기초 로 근로자 의 특정 진행 가부 를 판단 하다 특정 에 제 가용 인원 을 산출 가용 인원 산출 부 하나 이상 의 바 이탈 각각 을 기초 로 바 이탈 값 들다 을 생 성 하다 하나 이상 의 바 이탈 각각 에 대응 하나 이상 의 임계 값 과 바 이탈 값 을 각각 비교 근로자 의 하나 이상 의 바 이탈 가다 각각 정상 범위 에 속 판단 바 이탈 모니터링 부르다 수', '인공 지능 기반 의 영상 을 통한 이 제공 의 다양하다 실시 예 에 따르다 인공 지능 기반 의 영상 을 통한 은 에 내 에 자의 신체 적어도 일부분 에 부착 카메라 자 에게 솔루션 을 제공 서버 를 서버 늘다 로부터 카메라 로부터 영상 중 적어도 하나 를 자의 을 예측 하다 솔루션 으로써 자 에게 예측 에 알림 을 제공 하다 다', '은 인공 지능 기반 영 상인 식 플랫폼 을 이동식 지능 형 에 관 하다 것 상세 건설 산업 에서 사용 이동식 으로서 사람 개인 보호 미착 용 화재 불꽃 연기 를 영상 촬영 을 위 하다 카메라 과 온도 습도 가스 농도 를 를 감지 측정 위 하다 과 외부 서버 관리자 단말기 를 외부 와의 을 위 하다 부르다 이동식 과 이동식 오다 연동 카메라 로부터 영상 촬영 를 수신 영상 수 신부 오다 로부터 를 수신 수 신부 오다 영상 수 신 부로 부터 수신 영상 촬영 에서 사람 개인 보호 미착 용 화재 불꽃 연기 를 인식 하다 인식 각각 의 객체 에 대응 해당 인식 각각 의 객체 를 박스 화하다 탐지 기반 객체 인식 부와 기반 객체 인식 부로 부터 탐지 사람 객체 가다 중장비 주변 을 미리 설정 반경 상황 에 노출 경우 개인 보호 미착 용 화재 불꽃 연기 객체 가다 인식 경우 수 신 부로 부터 고온 달다 가스 농도 가다 탐지 경우 를 이벤트 를 수신 경 광등 경 고 알람 을 이벤트 부르다 영 상인 식 과 영 상인 식 과 연동 기반 객체 인식 부로 부터 이벤트 를 수신 정탐 오 타다 미탐 분류 오 탐미 타다 분류 부와 오 탐미 타다 분류 부로 부터 수신 오 타다 미탐 분류 를 딥 러닝 기반 의 객체 인식 학습 알고리즘 인 를 통해 실시간 재 학습 시키다 재 학습 부와 재 학습 부로 부터 생 성 재 학습 셋 을 온라인 실시간 기반 객체 인식 부로 업로드 시키다 학습 업데이트 부르다 하영 영 상인 식 플랫폼 을 인공 지능 기반 영 상인 식 플랫폼 을 이동식 지능 형 에 관 하다 것 이다', '은 인공 지능 기반 영상 인식 을 임베디드 영상 인식 통합 관제 플랫폼 에 관 하다 것 상세 카메라 로부터 건설 산업 주변 영상 촬영 를 수신 영상 수 신부 오다 영상 수 신 부로 부터 수신 영상 촬영 에서 사람 객체 를 인식 하다 인식 사람 객체 의 에 대응 해당 인식 사람 의 객체 를 박스 화하다 탐지 기반 객체 인식 부 기반 객체 인식 부로 부터 탐지 사람 객체 가다 중장비 주변 을 미리 설정 반경 상황 에 노출 경우 경 광등 경 고 알람 을 이벤트 부르다 영 상인 식 과 기반 객체 인식 부로 부터 탐지 이벤트 를 수신 정탐 오 타다 미탐 분류 오 탐미 타다 분류 부 오 탐미 타다 분류 부로 부터 수신 오 타다 미탐 분류 를 딥 러닝 기반 의 객체 인식 학습 알고리즘 인 를 통해 실시간 재 학습 시키다 재 학습 부 재 학습 부로 부터 생 성 재 학습 셋 을 온라인 실시간 기반 객체 인식 부로 업로드 시키다 학습 업데이트 부 영 상인 식 과 외부 서버 관리자 단말기 를 외부 와의 을 위 하다 부르다 영 상인 식 플랫폼 인공 지능 기반 영상 인식 을 임베디드 영상 인식 통합 관제 플랫폼 에 관 하다 것 이다', '은 이동형 시공 에 관 하다 것 구체 적 으로는 시공 에 출입 근로자 의 기 설정 식별 영역 을 촬영 하다 이동형 시공 가다 설치 주변 영역 을 촬영 함 으로써 시공 에 실시간 영상 를 생 성하다 카메라 시공 에 구비 들다 중 이동형 시공 가다 설치 영역 과 기 설정 반경 내 에 하다 적어도 하나 의 오다 주변 영역 의 요소 에 센싱 를 센싱 영상 센싱 중 적어도 어느 하나 를 를 원 격의 클라우드 서버 로 송 출하 늘다 영상 센싱 중 적어도 어느 하나 를 로부터 시공 에 도르다 이동형 시공 의 내부 외부 에 구비 경고 송출 수단 에 경고 콘텐츠 를 경고 을 것 을 특징', '은 이동식 크레인 지상 작업장 자 사고 원인 빅데이터 를 이용 하다 기반 이동식 크레인 지상 작업장 자 탐지 에 관 하다 것 이동식 크레인 종류 특징 과 이동식 크레인 과 이동식 크레인 과 관련 하다 추락 낙하 전도 협착 도괴 붕괴 감전 충돌 을 재해 별 재해 사례 오다 인양 물 부다 차체 탑승 후크 결함 을 사 고유 발원 인 과 크레인 운전자 인근 자 관리자 를 피해자 분류 오다 수 칙 밉다 준수 줄 걸이 불량 크레인 불량 크레인 전도 탑승 불량 버켓 불량 미숙 을 사 고원 인 을 이동식 크레인 종류 특징 이동식 크레인 재해 별 재해 사례 사고 유발 원인 피해자 분류 사고 원인 별로 분류 별 빅데이터 화 하다 분류 별 빅데이터 에 상응 사고 대응 시나리오 를 작성 맵핑하 여 구축 하다 인공 지능 과 이동식 크레인 자 사물 에 부착 을 인공 지능 에 의하다 이동식 크레인 지상 작업장 자의 을 탐지 위 하다 에 관 하다 것 이다', '세이프 존 에 설치 소방 상태 판단 을 위 하다 를 하나 이상 의 가다 구비 세이프 박스 세이프 박스 로부터 수신 에 기초 세이프 존 에 소방 을 서버 를 하다 서버 늘다 세이프 박스 로부터 수신 에 기초 세이프 존 의 소 방안 전 상태 를 판단 하다 세이프 존 의 소 방안 전 상태 에 이상 이 경우 대상 등록 하나 이상 의 사용자 단말 에 메시지 를 전송 하다 세이프 박스 늘다 소 방안 전용 물품 이 보관 수납 공간 을 유비 무 화 소방 이 개시', '은 유 무선 통합 형 산업 에 관 하다 것 더욱 상세 내 자 에 부착 무선 를 시키다 적어도 하나 이상 의 오다 을 촬영 카메라 로부터 전송 를 무선 전송 적어도 하나 이상 의 로부터 에 관 하다 를 수신 모니터링 수 관제 서버 를 하 늘다 기 설정 소정 영역 내 에 로부터 를 전송 받다 영역 내의 자의 상태 를 관제 서버 로 전송 로부터 상황 에 오다 카메라 를 통해 촬영 영상 를 무선 전송 함 으로써 내 상황 을 통합 적 수 넓다 산업 내 에서 자 에게 사고 등 의 긴급 상황 이 하 거나 상황 에 따르다 인력 통제 가다 필요하다 경우 내 자의 를 용이하다 탐색 수 유 무선 통합 형 산업 에 관 하다 것 이다', '은 건설 을 출입 근로자 의 신체 장구 류 에 장착 근로자 의 활동 영역 을 촬영 하다 그 영상 이 원격 지 의 관제 센터 에서 모니터링 함 으로써 관리자 의 육안 확인 없다 내의 상황 을 실시간 파악 수 웨어 러블 카메라 를 이용 하다 건설 모니터링 에 관 하다 것 상세 고유 의 식별 를 가지 고 선택 근로자 의 신체 장구 류 에 장착 근로자 의 활동 영역 을 촬영 하다 제 영상 를 하나 이상 의 이동식 카메라 이동식 카메라 에 이동식 카메라 로부터 제 영상 를 수신 에 영상 을 모니터링 모니터링 영상 을 에서의 요소 사고 유무 를 판단 서버 를 것 이 특징 이다', '은 웨어 러블 디바이스 오다 인체 감지 을 결합 하다 에 관 하다 것 이다 에 따르다 은 적어도 하나 의 감지 로부터 자 에 감지 를 하다 적어도 하나 의 감지 에 따르다 대상 내 에 자 를 확인 자 확인 대상 의 로부터 입력 혹은 자 확인 로부터 입력 자 감지 중 적어도 하나 에 따르다 대상 로 잠그다 를 잠그다 을 것 을 특징', '은 웨어 러블 디바이스 를 기반 건설 내 그 에 관 하다 것 건설 내 은 근로자 의 신체 에 장착 복수 의 를 통해 근로자 의 체온 심박수 혈압 산소 포화 도 양 발의 압력 도르다 건강 를 측정 하다 실시간 근로자 의 고도 를 웨어 러블 기기 측정 건강 를 항 목별 로 설정 기준 값 과 비교 도 점수 로 산정 하다 고도 를 이용 근로자 의 추락 도 점수 를 산정 서버 그리고 건강 항 목별 로 각 근로자 의 날씨 건설 에 따르다 설정 가중 치르다 하다 가중 치가 도 점수 를 합산 총 점 을 산출 산출 총 점 에 대응 단계 에 따르다 연 계 스마트 기기 외부 기관 에 알림 를 전송 서버 를 에 따르다 관리자 가다 근로자 들다 의 건강 상태 의 도르다 도 지수 를 통해 쉬 다 인지 수 때문 에 각 근로자 의 가능 여부 를 판단 에 함 으로써 적 건설 을 수', '은 웨어 러블 기기 를 이용 하다 건설 의 평가 표시 그 에 관 하다 것 건설 의 영상 자 시점 의 영상 하다 이르다 바탕 실시간 빠르다 정확하다 웨어 러블 기기 를 통해 자 에게 안전성 평가 를 제 공함 으로써 건설 의 예측 수 사고 뿐 만 아니다 예측 못 하다 돌발 적 인 사고 에 대해 서도 확률 을 저 감 수 을 제공 하다 다', '와이파이 기반 자 추정 을 통한 모니터링 을 통해 재고 나 물류 창고 등 과 같다 시설 물 내 에서 자율 주행 복수 의 모바일 구동 유닛 들다 의 주행 를 을 제공 하다 다', '에 의하다 영상 을 통한 은 에 설치 의 영상 을 영상 수신 영상 수 신 로부터 영상 을 영상 을 상황 에 해당 특정 패턴 오다 비교 영상 서버 을 관제 관제 실 에 구비 모니터링 부가 통신망 구축 영상 을 통한 으로서 영상 수 신 늘다 을 촬영 에 의하다 촬영 영상 을 영상 서버 에 실시간 전송 영상 서버 를 하다 영상 서버 늘다 영상 서버 로부터 영상 을 영상 부 영상 을 매 프레임 별로 실시간 하다 각각 의 상황 에 따르다 설정 상황 에 해당 특정 패턴 를 이벤트 로 베이스 베이스 에 영상 과 특정 패턴 를 을 통해 서다 매 프레임 별로 비교 실시간 영상 부 영상 부 에서의 비교 에 의하다 상황 을 확인 상황 에 등급 을 판독 하다 그 이력 을 상황 판독 부르다 하다 모니터링 불다 영상 서버 로부터 영상 을 제공 받다 관리자 가다 모니터링 영상 을 하다 상황 판독 부로 부터 판독 등급 에 따르다 알람 을 시키다 모니터링 단말기 를', '의 실시 예 에 따르다 서버 가다 영상 에 기반 건설 의 을 판단 으로서 영상 촬영 로부터 건설 내 에서 촬영 영상 을 단계 영상 내 에서 자 를 식별 하다 각 자 가다 구비 하다 식별자 를 기반 자 를 그룹 화하다 단계 영상 을 자 그룹 별로 착용 보호 를 올바르다 착용 하다 여부 를 판단 단계 를 건설 의 판단 이 제공', '의 일 실시 예 에 따르다 산업 을 촬영 열 화상 을 생 성하다 카메라 카메라 로부터 수신 하다 열 화상 을 에 이상 온도 가다 존재 판단 서버 를 열 화상 카메라 로 산업 의 이상 온도 를 감지 표현 하다 경보 를 시키다 알리 다 이의 동 작 을 제공 이상 온도 가다 열 화상 에 나타나다 경우 이상 이벤트 를 관리자 에게 알다 사고 를 미연 에 방지 하 거나 하다 사고 를 빠르다 대처 수', '은 점검 요청 자 가다 자신 이 보유 하다 점검 대상 시설 에 점검 을 점검 회사 에 요청 점검 회사 에 소속 점검 자 가다 점검 대상 시설 을 방문 에서 점검 을 하다 후 점검 결과 를 앱 웹 중앙 플랫폼 서버 로 제공 하다 중앙 플랫폼 서버 늘다 점검 결과 를 이용 전자 서류 형식 의 점검 서다 를 생 성하다 점검 요청 자 에게 제공 하다 점검 서다 점검 요청 자의 확인 이 경우 점검 확인 서다 를 점검 대상 시설 을 점검 하다 점검 회사 로 제공 점검 대상 시설 에 종합 적 이고 체계 적 인 점검 를 수 점검 플랫폼 에 관 하다 것 점검 자 단말기 점검 회사 단말기 점검 요청 자 단말기 중앙 플랫폼 서버 를 것 을 특징', '은 사고 가상 체험 을 제안 은 체험 자의 손 에 착용 내장 를 통해 손 의 움직임 을 추적 위 하다 핸드 트래킹 를 생 성하다 체험 장갑 체험 자의 머리 에 착용 내장 를 통해 머리 의 움직임 을 추적 위 하다 헤드 트래킹 를 생 성 하다 헤드 트래킹 핸드 트래킹 에 대응 영상 음향 를 체험 헬멧 체험 장갑 체험 헬멧 으로부터 핸드 트래킹 헤드 트래킹 를 수신 하다 수신 헤드 트래킹 핸드 트래킹 를 기초 로 기 설정 사고 체험 시나리오 에 대응 영상 음향 를 식별 하다 식별 영상 음향 를 체험 헬멧 에 전송 체험 서버 를 수', '은 상호 무선통신 이루어지다 근로자 의 주변 상태 를 송수 신 수 안전모 오다 안전모 오다 무선통신 을 이용 근로자 의 출퇴근시간 이나 근로자 의 상태 등 의 를 수신 통합 서버 오다 통합 서버 를 통해 무섭다 를 통해 상황 을 관리자 로 하여금 체크 수 관리자 단말기 를 것 으로서 지역 건설 근로자 의 을 위 하다 실시간 모니터링 을 통한 사전 사고 방지 을 구축함 에 근로자 의 상세 하다 상태 체온 상태 음주 유무 지역 접근 등 를 실시간 측정 모니터링 수 안전모 에 친환경 에너지 태양광 를 적 축적 공급 하다 안전모 에 내장 마이크로 컨트롤러 가다 단전 인하다 작 동 오류 를 방지 위 하다 안전모 그 를 이용 하다 이다', '은 지하철 에서 현황 을 파악 하다 통제 수 자 통합 에 온도 조도 습도 분진 유해 가스 진동 의 변화 를 감지 하다 변화 량 을 검 추다 위 에 일정 간격 설치 부 자의 호흡 을 통 자 상태 를 파악 하다 위급 상황 시 자 에게 산소 를 공급 마스크 자의 인적 생체 진행 상황 가다 내장 카드 를 장 착하다 부의 검 추다 에 따르다 마스크 를 무선 단말기 부 무선 단말기 로부터 를 수신 하다 작업장 자 주변 의 상황 에 따르다 경고 업무 분장 에 를 무선 단말기 측 에 관제 센터 부 마스크 무선 단말기 관제 센터 간의 무선통신 을 중계 중계기 를 것 을 특징 통합 을 제공 하다 다', '은 을 갖다 스마트 다지 점 구 인상 통합 에 관 하다 것 으로서 더욱 상세 유압잭 로드 쉘 수직 변위 수평 변위 변위 제어장치 유압 분 배기 파워 팩 과 연동 시키다 구 을 인상 컴퓨터 인상 다지 점 구 인상 과 영상 카메라 음성 송수신기 비상 버튼 램프 오다 연동 시키다 모니터링 컴퓨터 스마트 을 통합 함 으로써 실시간 연동 을 통 을 모니터링 하다 의 비상 상황 시 에 관제 센터 관리자 단말기 로 전송 대응조치 를 수 내 에 근거리 원거리 통신망 을 구축 하다 이르다 통해 다지 점 구 인상 과 스마트 을 통합 연 동 시킴 으로써 물의 인상 중 변위 유 압제 어 를 구 인상 을 실시간 오다 통제 모니터링 을 수 음 은 물론 물의 정밀 하다 인상 중 예 기 치 않다 의 문제점 을 사전 에 단계 별로 인지 하다 확인 해결 하므다 절대 적 인 구 인상 의 안전성 과 정밀 하다 시 공성 자의 안전성 을 확보 수 비상 버튼 카메라 음성 송수신기 램프 를 단말기 를 자의 안전모 오다 작업복 에 부착 함 으로써 자의 신체 적 이 시 오다 의 예 기 치 않다 요소 로 인하다 진행 이 불가하다 상황 시 에 자 오다 관리자 관리자 가다 실시간 요소 긴급 상황 에 빠르다 대응 해결 수 구 인상 에 일정 간격 무선 확장 공유기 를 설치 줌 으로써 근거리 원거리통신망 의 전송 거리 를 더 길다 확보 수 가다', '은 태양광 의 지다 지구 에 설치 지다 지구조 물의 움직임 을 감지 모니터링 함 으로써 태양광 에 물리 적 안전성 을 판단 수 감지 모니터링 장 치가 구비 태양광 발전 에 관 하다 것 상세 지다 지구 을 구비 하다 하나 이상 의 태양광 태양광 에 구비 지다 지구조 물의 움직임 을 감지 하다 감지 를 생 성 움직임 감 지부 태양광 에서 발전 오다 움직임 감 지부 에서 감지 를 반 반 과 반 에서 하다 태양광 의 발전 오다 움직임 감지 부의 감지 를 수신 하다 감지 를 기반 태양광 의 움직임 오다 그 변화 량 을 서버 서버 오다 서버 의 오다 를 모 티터링 모니터링 서버 를 것 이 특징 이다', '의 일 실시 예 에 따르다 진단 이 태양광 발전 은 태양광 스트링 의 전압 전류 일사량 온도 습도 대기 구 에 설치 와이어 보강 재 에 장력 구 기둥 의 변위 상태 를 체크 위 하다 구 거리 를 하다 센싱 정보 를 위 하다 복수 의 복수 의 로부터 센싱 정보 를 제공 받다 서버 에 제공 태양광 발전 물의 상태 를 파악 위해 장력 구 거리 를 이용 구 진단 에 구 진단 결과 를 제공 받다 반 태양광 발전 상태 를 파악 위해 로부터 를 토대 로 기간 별 발 전량 누적 발 전량 장소 별 발 전량 을 산출 모니터링 을 통 확인 반 을 통 장력 구 거리 를 이용 태양광 발전 물의 진단 을 서버 를', '은 진단 을 구비 하다 기반 태양광 발전 구 에 관 하다 것 진단 을 구비 하다 기반 태양광 발전 구 은 태양광 의 빛 에너지 를 전 기 에너지 로 전력 을 생 성 하다 생 성 발전 전력 을 요구 발 전량 에 따르다 복수 로 경우 병렬 직렬 로 하나 의 단위 태양광 스트링 을 태양광 태양광 을 지면 으로부터 지지 경사 각도 가다 선택 적 조정 수 설치 지지 구조대 태양광 의 경 사각 이 변경 기울어지다 설치 경우 외부 에 따르다 태양광 의 경 사각 이 변경 태양광 각도 지지 구조대 에 지지 구조대 의 진동 값 을 세다 싱하 늘다 진동 태양광 사이 에 태양광 의 경 사각 을 측정 기울기 기울기 로부터 수신 경 사각 태양광 각도 에 의하다 경 사각 을 비교 태양광 의 경사 각의 이상 여부 를 임시 적 확인 하다 확인 결과 에 따르다 지지 구조대 의 진동 값 에 따르다 태양광 의 경사 각의 이상 여부 를 최종 확인 외부 서버 에 제공 진단 를', '은 산업 에서 기계 등 의 점검 보수 시 불시 가동 으로부터 자 를 보호 잠그다 그 의 동작 에 관 하다 것 이다 실시 예 에 따르다 잠그다 은 공간 내 에서 에너지 원 을 차단 수 주변 에 설치 잠 금식 원격 스위치 박스 잠 금식 원격 스위치 박스 오다 전 기적 차단 를 하다 차단 늘다 프로세서 프로세서 오다 동작 가능하다 프로세서 에서 적어도 하나 의 코드 를 메모리 를 하다 메모리 늘다 프로세서 를 통해 때 프로세서 가다 잠 금식 원격 스위치 박스 로부터 에너지 원 에 차단 요청 를 수신 하다 차단 요청 의 수신 에 대응 에너지 원 을 차단시키다 에너지 원 의 차단 완료 여부 를 검증 하다 검증 에 의하다 에너지 원 이 차단 완료 따르다 잠 금식 원격 스위치 박스 로 검증 완료 를 야기 코드 를 수', '실시 예 에 따르다 보호 구 착용 상태 모니터링 은 조업 에 설치 감시 로부터 영상 을 수신 단계 영상 을 목표 자 목표 자 주변 에 하다 복수 의 객체 를 검 출하 늘다 단계 목표 자 복수 의 객체 에 기초 목표 자 가다 하다 유형 을 판단 단계 그리고 유형 복수 의 객체 에 기초 목표 자 에게 요구 보호 구 종류 를 판단 단계 를', '명세서 늘다 밀폐 공간 에서 유해 가스 등 에 알림 을 통해 자의 생명 을 보호 세트 을 개시 하다 다 명세서 에 따르다 세트 늘다 모자 에 결 홈 이 하우 징 하우 징 내 에 설치 근거리 하우 징 의 하단 부 에 설치 하우 징 외부 로 발광하다 수 광원 부 하우 징 내 에 설치 근거리 광원 부 에 전력 을 공급 배터리 를 헤드 공 기 구멍 이 하우 징 하우 징 내 에 공 기 구멍 을 통해 공기 중 산소 농도 를 측정 산소 하우 징 내 에 설치 근거리 하우 징 내 에 설치 근거리 산소 에 전력 을 공급 배터리 를 버클 를 수', '운용 을 위 하다 이기 종 기기 간 통합 서버 가다 개시 통합 서버 늘다 통 신부 메모리 하나 이상 의 프로세서 를 프로세서 늘다 작업장 에 의 이상 동작 을 모니터링 위 하다 자의 이상 행동 을 모니터링 위 하다 자 를 부르다 통해 하다 후 자 를 전 하다 전 자 를 이용 수 통합 서버 가다 제공 이용 에 통합 적 인 기준 이 제공 수', '고리 의 가설 구 체결 여부 인식 가다 개시 다양하다 실시 예 들다 에 따르다 고리 의 가설 구 에 체결 여부 를 인식 은 사용자 의 몸체 에 가다 사용자 의 움직임 을 세다 싱하 여 생 성 하다 사용자 센싱 를 사용자 의 몸체 에 로부터 동작 고리 에 가다 고리 의 움직임 을 세다 싱하 여 생 성 하다 고리 센싱 를 고리 에 로부터 동작 사용자 센싱 고리 센싱 의 물리량 의 경향 성 에 기초 고리 오다 가설 물의 체결 상태 를 인식 동작 을 수 그 외 에도 다양하다 실시 예 들다 이 가능하다 수', '은 추락 방지 용 로프 에서 로프 양단 에 결합 개 의 고리 중 적어도 하나 의 고리 에 결합 고리 체결 감지 에 고리 를 사이 에 두다 양 측면 을 감싸다 결합 하우 징 하우 징 의 기 지정 에 삽입 적어도 하나 의 거리 측정 를 고리 내 에 삽입 수단 까지의 거리 를 측정 부 세다 서부 에서 측정 거리 를 기반 수단 의 삽입 여부 오다 수단 의 굵다 판별 감지 제 어부 를 고리 가다 충분하다 굵다 수단 에 정상 체결 여부 오다 수단 이 충분하다 길이 를 갖다 안전하다 수단 인지 판별 수 뿐 만 아니다 자 가다 시 에 실제 로 로프 를 수단 에 체결 을 여부 를 판별 추락 사고 를 방지 수 고리 체결 감지 를 제공 수', '에서는 종래 스마트 안전모 의 경우 에 사막 이나 바다 오지 에서는 하나 의 하나 의 무선통신 인 단일 만으로 범위 환경상 의 잡음 방해 전파 로 인하다 가다 자주 끊기다 오류 가다 자주 문제점 과 원격 지 의 중앙 서버 관리자 의 스마트 디바이스 쪽 자동 사전 에 알리 고 통보 해주다 가다 없다 문제점 과 폭염 때 안전모 를 착용 경우 에 땀 이 많이 나 고 덥다 자주 벗다 착용 않다 때문 에 물체 의 낙하 비 래 에 의하다 사고 율 이 높다 능률 또한 떨어지다 문제점 을 개선 안전모 본체 쓰다 실렉션 캡 형 라이브 스피커 부 에어 플로우 생 성 스마트 배터리 엣지 기반 형 안전모 플랫폼 로 의 근거리 의 중거리 의 원거리통신 이루어지다 쓰다 실렉션 을 통해 사막 이나 바다 오지 에서도 기존 에 비 다 배배 향상 감다 향상 속도 를 제공 수 안전모 사용자 를 기준 식별 설정 과 함께 현 장존 중심 그룹 핑 연 결제 어 로 상호 간 에 양 방향 을 수가 혹 하다 이나 폭염 의 날씨 산업 재해 유해 가스 시 빠르다 통보 오다 정확하다 파악 그리고 원활하다 의사소통 을 통해 안전모 사용자 를 신속하다 피난 수 클립 형 냉온 송 풍부 를 통해 안전모 보다 체내 에 냉온 의 바람 을 보내다 에어 플로우 공기 흐르다 시키다 안전모 보다 체내 를 환기 시키다 사용자 의 땀 을 증발 시키다 수 안전모 착용 률 을 높이 다 물체 의 낙하 비 래 에 의하다 으로부터 사용자 를 보호 수 이로 인하다 안전모 를 착용 하다 상태 에서도 능률 을 기존 에 비 다 배배 로 올 리다 수 클립 형 냉온 송 풍부 를 통해 안전모 보다 체내 에 냉온 의 바람 을 보내다 에어 플로우 공기 흐르다 시키다 안전모 보다 체내 를 환기 시키다 사용자 의 땀 을 증발 시키다 수 마스크 형 자동 페이스 쉴드 을 착용 하다 상태 에서도 능률 을 기존 에 비 다 배배 로 올 리다 수 엣지 기반 형 안전모 플랫폼 을 통해 사용자 의 신체 온도 혈압 유해 가스 산업 주위 영상 에 관 하다 산업 용 를 생 성 시키다 사용자 에게 맞춤 형 산업 도우미 모드 를 제공 수 기존 에 비 다 산업 사고 에 따르다 사망 율 을 이하 로 낮추다 수 쓰다 이 펙트 형 산업 지능 식 안전모 화 를 제공 그 목적 이', '은 실시간 추적 를 이용 하다 인공 지능 기반 산업 산업 에 관 하다 것 구체 적 으로는 산업 내 에 분산 보건 분야 의 를 전산 통합 위 하다 종합 적 업무 자동화 를 통해 자율 적 보건 경영 을 정착 시키다 이르다 통한 진보 하다 경 영 체계 를 구축 위 하다 실시간 추적 를 이용 하다 인공 지능 기반 산업 산업 에 관 하다 것 이다 이 에 의하다 의 통합 로 사고 체계 를 정립 사고 사례 의 공유 가다 표준화 일괄 적 인 안전교육 이 가능하다 를 제공 하다 다 또한 안전교육 이력 를 활용 협력 업체 오다 외부 출입 자의 에 도 가다 향상 인 허가 보호 구 재고 개인 별 지급 이력 등 의 이력 를 통해 점검 에 계획 수립 를 공유 체계 적 가능하다 를 제공 하다 다', '의 실시 예 에 따르다 스마트 헬멧 을 이용 하다 상황 모니터링 은 상황 으로부터 자의 머리 를 보호 헬멧 자 가다 소지 헬멧 과 에 의하다 자 에게 상황 이 스마트 디바이스 스마트 디바이스 로부터 감지 상황 을 취합 관제 서버 를 헬멧 은 무선통신 이 가능하다 제 통 신부 자의 쓰러지다 유무 를 감지 위 하다 쓰러지다 감지 자의 머리 에 충격 이 가해 지다 상황 의 여부 를 감지 위 하다 충격 감지 상황 질문 을 자 에게 들려주다 위 하다 스피커 자의 음성 을 인식 음성인식 를 하다 스마트 디바이스 늘다 제 부와 무선 이 가능하다 제 통 신부 제 통 신부 제 부르다 통해 헬멧 의 쓰러지다 감지 충격 감지 에서 감지 들다 을 수신 위 하다 수 신부 수 신부 에서 수신 를 이용 자 에게 상황 이 여부 를 판단 상황 판단 부르다 하다 상황 판단 불다 쓰러지다 감지 를 통해 자의 쓰러지다 감지 충격 감지 에서 자 헬멧 의 충격 이 함께 감지 경우 에 자 에게 단계 상황 이 판단 단계 상황 판단 단계 상황 판단 로부터 자 에게 단계 상황 이 판단 자 에게 상황 이 실제 로 여부 를 판단 위해 상황 질문 을 생 성하다 위 하다 상황 질문 음성 생 성 헬멧 의 스피커 를 통해 자 에게 상황 질문 을 들려주다 위해 자 에게 상황 질문 을 헬멧 위 하다 상황 질문 상황 질문 이 헬멧 에 상황 질문 을 하다 이후 소정 시간 이내 에 음성인식 를 통해 자로 부터 답변 이 않다 경우 자 에게 단계 상황 이 판단 단계 상황 판단 을 점 에 그 특징 이 에 따르다 자 에게 위험하다 상황 이 때 이르다 정확하다 확인 하다 또한 신속하다 이르다 감지 알다 줌 으로써 상황 에 즉각 적 인 대처 가다 가능하다 장점 이', '에 따르다 스마트 단말기 를 이용 하다 현 장전 력 의 이상 진단 은 스마트 단말기 의 무선통신 과 정보처리 과 같다 컴퓨터 을 이용 현 장전 력 의 에러 시 실시간 에러 를 수신 수 스마트 단말기 에 설치 애플리케이션 소프트웨어 로 수신 진단 상태 를 함 으로써 현 장전 력 의 작 동 상태 를 실시간 진단 수 따르다 시간 공간 적 감시 과 진단 가능성 을 개선 에러 의 원인 을 신속하다 함 으로써 이 에 상응 보전 조치 도 적기 에 취하 게 따르다 현 장전 력 에 안전성 과 신뢰 도르다 제 고하 늘다 것 이 가능하다 지다 가다', '의 일 실시 예 늘다 스마트 크레인 에 관 하다 것 해결 적 과제 늘다 다수 의 로부터 측정 빅 를 이용 적 크레인 를 하다 을 확인 수 이르다 위해 의 일 실시 예 늘다 크레인 의 복수 개 의 에 각각 에 구비 로드 셀 소음 측정 진동 변위 전류 전압 를 구비 각각 의 에서의 권 상 하중 소음 진동 변위 전류 전압 값 을 크레인 를 감지 감지 감지 로부터 감지 크레인 를 실시간 수신 하다 크레인 를 하다 후 웹 페이지 상 에 제공 중앙 감시 크레인 용 어플리케이션 이 설치 크레인 용 어플리케이션 의 에 의하다 중앙 감시 의 웹 페이지 상 에 원하다 크레인 를 열람 스마트 단말 을 스마트 크레인 을 개시 하다 다', '은 스마트 원격 조정 용 열 풍기 에 관 하다 것 구체 적 으로는 자동 원격 조정 이 연료 급유 상태 가다 인식 이 스마트 원격 조정 용 열 풍기 의 구동 상태 를 확인 수 뿐 만 아니다 근로자 의 출입 최소 화 하다 일산화탄소 중독 등 인하다 사망 사고 예방 를 제공 위 하다 스마트 원격 조정 용 열 풍기 에 관 하다 것 이다', '의 실시 늘다 분전 반의 누설 전류 과 전류 역률 을 하다 전기 상태 를 측정 측정 하다 전기 상태 가다 미리 설정 임계 치르다 초과 않다 경우 측정 하다 전기 상태 를 분전 반 아이디 오다 함께 외부 의 원격 전기 점검 서버 로 전송 점검 결과 통보 모드 로 동작 측정 하다 전기 상태 가다 미리 설정 임계 치르다 초과 경우 수 에 의하다 전기 점검 을 요청 재 점검 요청 모드 로서 동작 전기 점검 스마트 기기 전기 점검 스마트 기기 로부터 수신 하다 전기 상태 를 분전 반 아이디 별로 관리자 로부터 선택 분전 반 아이디 의 전기 상태 를 원격 전기 점검 서버 전기 점검 스마트 기기 오다 원격 전기 점검 서버 간 에 유선 무선 을 제공 유 무선 통신망 을 수', '스마트 를 활용 하다 건설 비대 면 이 개시 건설 비대 면 은 자 가다 착용 가능하다 자 오다 관련 를 위 하다 복합 가다 장착 안전모 자 가다 소지 가능하다 단 말로 서다 안전모 로부터 복합 를 통해 감지 를 수신 와의 을 통해 로부터 를 수신 하다 에 기초 자의 안전모 착용 여부 행동 패턴 을 모니터링 하다 후 모니터링 결과 에 따르다 로 알림 을 제공 관제 서버 를', '은 스마트 안전모 에 관 하다 것 사고 를 방지 위해 에서 수 요소 인 화재 정전 일산화탄소 를 감지 부르다 안전모 에 사용자 의 두부 를 보호 동시 에 요소 에 를 경 고음 나타내다 수 스마트 안전모 를 제공 수', '스마트 안전모 스마트 안전모 이 제시 머리 에 착용 외부 충격 으로부터 착용 자의 머리 를 보호 본체 본체 에 외부 오다 무선 무선 무선 에 전원 을 공급 전원 공 급부 본체 가다 착용 자의 머리 에 본체 의 양 측 에서 턱 을 감싸다 지지 끈 이루어지다 무선 과 외부 오다 무선 에 의하다 음성 를 송수 신하 늘다 마이크로폰 과 이어폰 이 각각 착용 끈 을 수', '은 스마트 에 관 하다 것 이다 이르다 위 은 복수 의 사용자 단말 과 로 를 송수 신하 늘다 처리장치 오다 사용자 단말 처리장치 오다 를 송수 신하 여 저장장치 를 건설 의 에 처리장치 늘다 별 허가 서다 를 생 성하다 제공 허가 부 생 성 허가 서다 를 바탕 별 등급 을 평가 제공 위험성 평가 부 인 에 안전교육 이력 오다 생 성 허가 서다 를 바탕 인 별 요구 안전교육 를 제공 안전교육 부 생 성 허가 서다 를 바탕 인 의 입문 을 승인 하다 입출 문 를 제공 입출 문 부 생 성 허가 서다 를 바탕 별 점검 사항 을 제공 지다 원부 를 이로써 의 스마트 에 의하다 서다 지다 기반 의 에서 벗어나다 사용자 단말 과 를 활용 의 대부분 의 활동 을 데이타 화하다 자동화 가다 가능하다 건설 의 모든 활동 이 처리장치 의 허가 부의 액 티비 티 를 중심 데이타 화 에 향후 위험관리 를 위 하다 로 활용 수', '은 산업 이나 재해 에서 자 가다 착용 장구 에 장착 스마트 웨어 스마트 운용 에 관리자 가다 순찰 시 공정 에 관련 사항 을 실시간 입력 단말기 관리자 의 주변 상황 을 촬영 하 거나 소정 의 들다 로 감지 촬영 감지 상황 들다 과 단말기 에 입력 사항 을 무선 전송 제 스마트 웨어 자의 주변 상황 을 촬영 하 거나 소정 의 들다 로 감지 감지 상황 들다 을 무선 전송 제 스마트 웨어 스마트 웨어 오다 중앙 통제 센터 간의 무선통신 을 중계 을 통해 제 스마트 웨어 제 스마트 웨어 의 를 수신 하다 수신 에 기초 산업 의 사 황 과 자의 주변 상황 을 추론 하다 추론 결과 에 따르다 를 해당 스마트 웨어 에 지령 하 거나 응용 서비스 를 제공 중앙 통제 센터 를 것 을 특징 스마트 운용 을 제공 하다 다', '실시 예 에 따르다 스마트 고리 체결 판단 은 제 에서 고리 의 체결 클러치 에 설치 좌우 대각 방향 빛 을 발산 하다 반사 되돌아오다 빛 을 수신 단계 제 에서 고리 체결 이후 고리 체결 완료 를 스틸컷 단계 생 성부 에서 제 로부터 하다 빛 의 수신 시점 발신 시점 빛 발산 량 빛 수 신 량 을 제 체결 판단 를 생 성 하다 제 로부터 하다 스틸컷 을 제 체결 판단 로 생 성하다 단계 부 에서 생 성부 에서 생 성 제 체결 판단 제 체결 판단 중 적어도 하나 를 단계 판단 부 에서 제 체결 판단 제 체결 판단 중 적어도 하나 의 결과 에 따르다 고리 체결 여부 를 판단 단계 감시 부 에서 제 체결 판단 오다 판단 부 에서 내 리다 체결 여부 를 지속 적 대조 단계 를', '은 스마트 헬멧 이르다 에 관 하다 것 이다 의 일 실시 예 에 따르다 스마트 헬멧 은 자 가다 공간 내부 의 미세먼지 농도 자의 건강 에 영향 을 미치다 정도 를 판단 위 하다 적어도 하나 의 파라미터 를 측정 측정 측정 미세먼지 농도 파라미터 를 기저대역 로 변조 컨트롤러 기저대역 를 로 미세먼지 농도 파라미터 에 를 모니터링 로 전송 무선 을 수', '은 스마트 진단 보고 그 에 관 하다 것 계약 을 체결 하다 업체 의 업체 를 업체 저 장부 업체 의 업체 오다 에 하다 진단 기술자 의 단말기 로부터 입력 진단 를 토대 로 진단 보고서 사고 시 에 하다 진단 기술자 의 단말기 로부터 입력 사고 를 토대 로 사고 보고서 를 작성 보고서 작 성부 작성 진단 보고서 사고 보고서 를 업체 기관 에 전송 보고서 전송 부 진단 기술자 업체 관리자 의 단 말로 부터 사고 를 입력 받다 기관 에 사고 를 전송 사고 전송 부 진단 기술자 업체 관리자 의 단 말로 부터 사고 를 입력 받다 인사 사고 이 예측 의료 기관 서버 에 사고 를 전송 의료 서비스 제공 요청 부르다', '은 건설 공사 산업 등 과 같다 에 설치 모니터링 등 과 같다 수동 적 인 수단 이 아니다 자 가다 작업장 에서 반드시 착용 의복 자체 를 이용 의 감지 등 을 수 화하다 자 가다 시각 적 확인 수 전방 에 존재 요소 늘다 물론 자 가다 볼 수 없다 후방 에 존재 요소 까지 동시 에 감지 를 수 요소 에 신속하다 대처 가다 가능하다 스마트 의복 그 을 제공 위 하다 것 이다', '은 새롭다 업체 가다 데이터베이스 에 최초 등록 업체 관련 사고 관련 항목 들다 을 입력 받다 사고 에 에 필요하다 항목 들다 을 반 영 함 으로써 사고 을 예상 의 스마트 사고 예측 에 관 하다 것 이다 잠재 적 화재 을 감지 하다 기계 의 이상 동작 가능성 을 감 하다 화재 이 감지 기계 의 이상 동작 가능성 이 감지 미리 설정 구역 의 도르다 재 설정 하다 관리자 에게 이상 사고 상황 을 보고 에 따르다 산업 의 도르다 평가 하다 단말 이 하다 를 피드백 함 으로써 능동 적 이고 적극 적 스마트 하다 예측 이 가능하다 이로써 재해 예측 의 인력 부족 에 따르다 문제점 이 해결 사회 전반 적 인 산업 재해 이 경제 적 인 손실 을 방지 수 산업 재해 예방 을 위해 요구 예산 이 재해 예방 을 위 하다 인프라 가다 널리 보급 수 사회 전반 적 건전하다 산업 발전 이 도모 수', '은 스마트 산업 에 관 하다 것 이다 자세하다 웨어 러블 디바이스 를 이용 산업 의 사고 을 방지 하다 자 에게 안전교육 을 실시 수 스마트 산업 에 관 하다 것 사고 방지 를 위 하다 생체 측정 콘텐츠 를 제공 스마트 산업 에 웨어 러블 디바이스 로 마련 자의 심박수 를 생체 를 측정 생체 를 생 성하다 스마트워치 오다 웨어 러블 디바이스 로 마련 자 가다 신발 하방 가하다 압력 분포 를 감지 압력 를 생 성 하다 자의 를 생 성하다 스마트 신발 과 작업장 에 복수 개 마련 무선통신 로 스마트 신발 과 무선통신 포인트 를 생 성하다 웨이 포인트 부와 생체 압력 포인트 를 실시간 전송 받다 하다 기 설정 기준 에 따르다 피로 도르다 산출 하다 지속 도르다 판단 통합 관제 부 자의 교육 을 위 하다 콘텐츠 를 제공 교육 콘텐츠 부르다 하다 통합 관제 불다 교육 콘텐츠 부와 연 계 하 여 교육 이수 여부 를 확인 것 을 특징', '건설 가다 미리 건설 데이터베이스 건설 의 사용자 의 착용 상태 테스트 결과 가다 실시간 누적 사용자 건설 착용 테스트 데이터베이스 건설 테스트 결과 를 표시 패널 과 패널 의 전면 에 부착 사용자 의 터치 를 입력 받다 터치 패널 과 터치 패널 의 전면 에 부착 사용자 가다 자신 의 건설 의 착용 상태 를 육안 볼 수 위 하다 하프 미러 가다 구비 스마트 미러 엔진 을 이용 건설 데이터베이스 에 미리 건설 를 기반 사용자 의 착용 상태 상태 를 테스트 착용 테스트 을 하다 다', '에 따르다 스마트 모니터링 은 자 주변 상황 을 촬영 하 거나 소정 의 들다 로서 감지 제 스마트 웨어 스마트 헬멧 오다 감지 상황 들다 을 무선 전송 제 스마트 웨어 스마트 벨트 오다 스마트 웨어 오다 통제 센터 간 의 무선통신 을 중계 액세스 포인트 오다 액세스 포인트 를 통해 제 스마트 웨어 의 를 수신 하다 수신 에 기초 산업 의 상황 과 자 주변 의 상황 을 추론 하다 추론 결과 에 따르다 를 해당 스마트 웨어 에 지령 통제 센터 를 에 따르다 스마트 모니터링 은 화재 진압 지진 건물붕괴 수해 복구 등 의 각종 재난 이나 산업 에서 스마트 웨어 를 이용 상황 에 관 하다 각종 를 실시간 원격 지 의 중앙 통제 센터 로 하다 센터 의 지시 에 따르다 의 을 통제 하다 의 긴급 상황 에 신속하다 대처 수 에 따르다 스마트 웨어 늘다 헬멧 벨트 장갑 과 같다 자의 보호 장구 에 원격 지다 작 업자 들다 중앙 통제 센터 과의 을 위 하다 무전기 이동 단말기 그리고 카메라 배터리 헤드셋 각종 등 을 실장 하다 것 산업 재해 의 위험하다 으로부터 자 를 보호 하다 능률 과 성 을 높이 다 수', '의 일 실시 예 에 따르다 기반 진단 을 하다 태양광 발전 은 태양광 발전 상태 발전 구 상태 를 파악 위 하다 전압 전류 일사량 온도 습도 대기 경사 풍속 풍향 를 하다 센싱 정보 를 위 하다 복수 의 복수 의 들다 로부터 센싱 정보 를 제공 받다 서버 에 제공 태양광 발전 물의 경 사각 에 경 사 를 이용 구 진단 을 하다 서버 의 구 진단 결과 를 제공 받다 제어기 를 이용 태양광 발전 물의 경 사각 를 반 반 을 통 경 사 를 이용 태양광 발전 물의 진단 을 서버 를', '블록 체인 기반 의 변전소 원격 은 변전소 원격 서버 가다 변전소 관련 기초 를 변전소 별 변전소 의 배전 선로 별 변압기 별로 매칭 관련 과 근무 자 스마트 폰 에 분산 등록 하다 변전소 에서 사고 의 주 원인 이 지락 단락 사고 오다 변압기 사고 를 중심 사고 시 의 계전기 동작 부터 사고 를 수습 하다 복구 까지의 생 성 주요 상태 조작 감시 들다 을 상호 관련 과 근무 자의 스마트 폰 을 통 전송 공유 기준 대로 사고 복구 것 변전소 사고 배전 선로 사고 시 사고 수습 을 사람 중심 이 아니다 중심 사고 를 적 수습 함 으로써 특히 의 오 조작 인하다 사고 전원 파급 사고 를 방지 것 이다', '의 실시 예 늘다 밀폐 공간 에서 자 가다 휴대 용 가스 감지기 를 휴대 여부 를 감시 휴대 용 가스 감지기 의 미소 지로 인하다 가스 관련 인적 사고 을 방지 위 하다 밀폐 공간 자의 에 관 하다 것 의 일 측면 에 따르다 밀폐 공간 자 은 사용자 단말 에서 밀폐 공간 자 으로서 휴대 용 가스 감지기 로부터 비콘 를 수신 위 하다 단계 사용자 단말 에 탑재 앱 의 시 밀폐 공간 의 을 선택 위 하다 버튼 과 종료 를 선택 위 하다 종료 버튼 을 표시 위 하다 단계 버튼 의 선택 시 수 신부 를 통한 비콘 의 수신 여부 에 따르다 알람 불가 알람 을 표시 위 하다 단계 를 수', '에 따르다 를 통해 기반 의 차량 이상 상태 감지 은 서버 사용자 단말 을 사용자 단말 은 각각 의 차량 등록 각각 의 차량 에 탑재 를 통 각각 의 사용자 단말 의 를 차량 를 하다 차량 중 비정상 값 을 제거 하다 정상 값 이 남다 필터 링 하 며 서버 늘다 복수 의 사용자 단 말로 부터 정상 값 과 비정상 값 을 수신 하다 필터 링 정상 값 을 기초 로 차량 의 화물 운반 안전성 차량 이력 차량 의 감가상각 비용 차량 별 이상 상태 유무 를 판단 사용자 단말 다른 서버 로 제공 비정상 값 들다 을 이용 의 오 동작 유무 상태 불량 유무 차량 결함 유무 조작 오류 유무 를 판단 사용자 단말 다른 서버 로 제공 수', '은 건축 주 단말기 감리 자 단말기 의 을 위 하다 웹페이지 를 제공 웹서버 건축 공사 의 에 영상 을 설치 적어도 하나 이상 의 카메라 카메라 로부터 영상 을 웹서버 에 건축 주 단말기 감리 자 단말기 가다 제공 받다 수 모니터링 부 카메라 로부터 영상 을 건축 공사 의 별로 각각 데이터베이스 부 카메라 로부터 영상 을 자 오다 안전모 에 를 영 상처리 부 영 상처리 부 에 의하다 를 통해 서다 자 별 안전모 착용 여부 에 빈 도수 를 통해 도르다 제공 안전판 단부 를 스마트 감리 에 관 하다 것 이다 에 따르다 건축 공사 의 에 영상 의 제공 을 통해 감리 자 오다 건축 주 에게 건축 에 를 편리하다 제공 수 감리 의 업무 오다 건축 주의 확인 에 부담 을 경감시키다 수 건축 공사 에 관련 보고서 감리 일지 를 제 공함 으로써 이의 작성 에 수고 를 줄 이다 수 공사 에서 안전모 착용 등 의 감시 를 통해 안전하다 시공 에 기여 수 방범 활동 을 통한 건축 공사 의 에 안전성 을 담보 수 건축물 에 내부 에 영상 을 시간 순 제 공함 으로써 공사 에 하자 원인 공사 의 히스토리 확인 이 가능하다', '모바일 위급 상황 알림 이 제공 신체 에 착용 부착 생체 를 감지 하다 외부 의 소리 를 를 측정 웨어 러블 오다 무선 모바일 늘다 웨어 러블 가다 측정 하다 생체 를 주 기적 받다 수 신부 웨어 러블 에서 인접 의 세기 를 측정 웨어 러블 와의 거리 를 판단 인접 수 신부 생체 를 주 기적 서버 에 통 신부 인접 의 세기 가다 미리 설정 값 이하 로 내려가다 서버 로부터 위급 상황 를 받다 경우 생체 를 웨어 러블 에 요청 하다 수신 생체 를 서버 로 전송 시키다 제 어부 를', '공사 감시 이 개시 일 실시 예 에 따르다 공사 감시 에 가다 공사 유형 공사 유형 은 빌딩 첨단 아파트 공사 를 함 을 분류 하다 분류 공사 유형 별 공정 를 하다 가다 하다 공사 유형 별 공정 에 따르다 감시 단위 들다 을 재다 성하다 감시자 들다 을 가이드 위 하다 감시 지침 를 생 성하다 가다 감시 지침 의 규모 에 따르다 감시자 들다 의 규모 를 판단 하다 각 감시자 들다 별로 재 감시 단위 에 따르다 감시 지침 을 분배 교육 을 감시 앱 을 통해 실시 공사 에 하다 가다 공사 에 각 감시자 들다 의 단말 에 설치 감시 앱 을 통해 입력 전송 체크 리스트 감시 결과 를 공정 별 감시 률 을 갱신 하다 공사 감시 완료 여부 를 판단 수', '은 프로세서 에 의하다 동작 서버 를 통해 건설 을 에 관 하다 것 으로서 관리자 의 제 단 말로 부터 건설 을 감독 일일 책임자 일일 책임자 의 중점 항목 에 선택 를 수신 하다 선택 일일 책임자 의 제 단말 로 중점 항목 을 단계 제 단 말로 부터 중점 항목 에 점검 결과 를 수신 하다 점검 결과 를 제 단말 담당자 의 제 단말 로 제 단계 제 단 말로 부터 조치 가다 필요하다 것 분류 항목 에 조치 결과 를 수신 하다 조치 결과 를 제 단말 제 단말 로 제 단계 를', '은 전산 화 그 의 을 개시 하다 다 즉 은 을 전산 화하다 자 의 요소 를 하다 전산 화 을 통해 자의 확인 검증 를 함 으로써 작성 대다 기 시간 을 단축 하다 손실 을 줄 이다 시간 을 증가 시키다 안전하다 을 극 대화 하다 조업 정비 를 담당 담당자 의 적 인 시간 활용 을 제공 수', '에 따르다 자 가다 시 을 위해 착용 의 착용 동 작 여부 를 체크 스마트 웨어 러블 은 장 치가 부착 자 가다 착용 수 멜빵 에 부착 의 착용 동 작 여부 를 체크 고리 디바이스 멜빵 에 부착 전원 을 공급 배터리 고리 디바이스 의 착용 동작 여부 상태 를 전송 받다 부르다 벨트 디바이스 부와 고리 디바이스 의 상태 를 전송 받다 또 다른 로 게이트웨이 게이트웨이 로부터 고리 디바이스 의 상태 를 전송 받다 모니터링 서버 모니터링 서버 로부터 고리 디바이스 의 상태 를 확인 수 사용자 단말기 를 것 을 특징', '은 공사 그 의 구 동 에 관 하다 것 으로서 의 실시 예 에 따르다 공사 늘다 공 사 의 자 가다 착용 착용 용품 에서 가다 레이저 빔 제공 위 하다 복수 의 를 저 장부 하다 복수 의 중 에서 공 사 에서의 자의 를 근거 로 선택 가다 착용 용품 에서 레이저 빔 인터페이스 부르다 제 어부 를 수', '은 로고 라이트 를 이용 공사 그 의 구 동 에 관 하다 것 으로서 의 실시 예 에 따르다 로고 라이트 를 이용 공사 늘다 공 사 의 자 가다 착용 착용 용품 에 부착 를 로고 라이트 제공 영 사 오다 을 인터페이스 부 영 사 에 기 등록 복수 의 중 에서 자의 에 근거 선택 가다 로고 라이트 영 사 에서 제공 인터페이스 부르다 제 어부 를 수', '은 차원 지형 를 바탕 건설 내 다수 의 건설 자 를 실시간 통합 공사 품질 을 적 함 을 제공 건설 주변 를 비행 영상 을 촬영 영상 를 하다 영상 로부터 차원 지형 를 도출 시 공 현 장지 형 의 디지털 정사영 상 과 함께 차원 지형 를 생 성 시키다 스마트 공사 부와 건설 내 중장비 에 탑재 하다 건설 의 자세 범위 에 를 시공 를 운전자 에게 실시간 안내 스마트 품질 부와 건설 내 지역 건설 에 탑재 하다 주변 에 접근 보행자 자 를 인지 경보 알람 중장비 스마트 부와 스마트 공사 부 스마트 품질 부 스마트 부로 부터 를 하다 차원 지형 를 바탕 내 중장비 자 를 실시간 통합 스마트 통합 부르다 기반 스마트 건설 을 위 하다 차원 공간 플랫폼 을 제공 하다 다', '에 따르다 건설 의 개구 부 에 모니터링 은 건설 의 구 에 개구 부르다 차 폐하 기 위 하다 개구 부 덮개 의 일 측 에 구비 개구 부 덮개 의 동작 을 감지 개구 부의 차폐 여부 에 모니터링 를 생 성 하다 생 성 모니터링 를 무선 전송 개구 부 모니터링 개구 부 모니터링 에서 무선 전송 모니터링 를 수신 하다 수신 모니터링 를 무선 중계기 무선 중계기 로부터 받다 모니터링 에 대응 개구 부 덮개 가다 개구 부로 부터 개방 을 나타내다 경보 음 을 경보 음 출력장치 를 하다 개구 부 모니터링 늘다 개구 부 덮개 의 움직임 을 감지 움직임 물의 근접 여부 를 감지 근접 움직임 근접 의 감지 결과 에 따르다 개구 부의 차폐 여부 에 대응 모니터링 를 생 성 하다 생 성 모니터링 의 전송 을 모니터링 제 어부 모니터링 제 어부 의 동작 을 위 하다 전원 을 공급 전 원부 모니터링 제 어부 의 에 따르다 모니터링 를 무선 전송 무선 부르다 것 을 특징', '의 일 태양 에 따르다 산업 의 도 에 관 하다 를 제공 위 하다 으로서 자 단말 로부터 산업 에서 예정 인 적어도 하나 의 단위 의 도 코드 에 관 하다 를 단계 적어도 하나 의 단위 의 도 코드 에 관 하다 를 참조 로 산업 의 도 에 관 하다 를 제공 단계 를 이 제공', '벙커 링 시 에 사전 에 을 감지 하다 에 원인 을 파악 함 과 동시 에 대책 을 마련 수 벙커 링 모니터링 이 개시 벙커 링 모니터링 은 연료 를 공급 받다 선박 이나 탱크 오다 같이 벙커 링 시 자 가다 투입 자 주변 의 온도 습도 풍향 풍속 영상 를 감지 수 과 연료 를 공급 받다 선박 탱크 공급 탱크 파이프 에 설치 유량 압력 전기 저항 을 감지 검 추다 과 검 추다 과 검 추다 로부터 감지 자 주변 오다 검 추다 테이 터 를 전송 받다 저 장함 과 동시 에 기 기준 오다 비교 세팅된 기준 값 미만 이 거나 세팅된 기준 값 을 초과 검 추다 의 를 산출 서버 부 서버 부로 부터 세팅된 기준 값 미만 이 거나 세팅된 기준 값 을 초과 검 추다 의 를 전송 받다 세팅된 기준 값 미만 이 거나 세팅된 기준 값 을 초과 검 추다 이 하다 파이프 의 을 중지 시킴 과 동시 에 를 시키다 제 어부 를 수', '은 자의 주변 요소 를 측정 수 다양하다 저 전력 광역 를 사용 상황 의 이나 가능성 이 크다 판단 시 자 에게 이르다 인지 시키다 동시 에 을 통해 관제 서버 에 구호 를 대응 이 이루어지다 발신 수 필요시 관제 서버 에 요청 를 보내다 사고 의 예방 이나 신속하다 조치 가다 이루어지다 지원 기반 자 감지 에 관 하다 것 이다', '은 건설 의 자 용 웨어 러블 에 관 하다 것 작업복 에 부착 하 거나 손목 에 착용 수 웨어 러블 로 자의 상황 을 모니터링 하다 저 주파 자극 에 의하다 상황 을 자 에게 인지 시키다 아우르다 건물 의 붕괴 에 따르다 자의 매몰 시 에 자 가다 착용 하다 연막 용기 로부터 색상 을 갖다 연막 이 누 추다 도록 함 으로써 자의 를 신속하다 확인 가능하다 또한 각종 공구 가다 올바르다 사용 또한 회수 관리자 에게 통보 수', '제철소 등 에 설치 부생 가스 누 추다 감지 감시 에 이 개시 일 실시 예 에 따르다 부생 가스 배관 가스 누 추다 감시 은 수위 단말 과 가스 단말 과 제 무선통신 액세스 포인트 오다 알람 단말 과 서버 를 수위 단말 은 수 봉변 에 설치 센싱된 수 봉변 의 수위 를 가스 단말 에 전송 하다 가스 단말 은 수 봉변 주위 에 적어도 둘 이상 설치 누 추다 가스 를 설정 주기 로 감지 하다 가스 누 추다 감지 시 주변 에 를 브로드캐스팅 알람 단말 은 가스 누 추다 시 를 부저 오다 알람 등 표시 하다 제 무선통신 액세스 포인트 늘다 감시 지역 에 적어도 하나 이상 설치 가스 단말 에서 수신 가스 센싱 오다 수위 센싱 를 서버 로 하다 서버 늘다 수신 가스 센싱 오다 수위 센싱 를 수 봉변 별로 가스 누 추다 여부 수 봉변 수 봉 여부 를 표시 하다 모니터링 가스 센싱 로부터 누 추다 수 봉변 과 누 추다 구간 을 추정', '은 의 을 경고 위 하다 이르다 위 하다 이 을 이 컴퓨터 판독 가능하다 매체 에 관 하다 것 이다 이러하다 은 의 서로 다른 에 복수 의 작 업자 들다 이 각각 착용 하다 복수 의 자 로부터 에 존재 객체 의 를 나타내다 레이어 객체 의 재질 을 나타내다 재질 레이어 객체 의 를 나타내다 레이어 를 영상 을 수신 과 영상 에 대해 인공 신경망 의 가중 치가 복수 의 연산 을 사고 가능성 이 높다 객체 를 나타내다 경고 태그 가다 태그 레이어 를 부가 하다 경고 영상 을 생 성하다 경 고 영 상생 성 을 것 을 특징 의 을 경고 위 하다 서버 오다 이 에 대응 자 이 에 따르다 이 이 컴퓨터 판독 가능하다 매체 를 제공 하다 다', '은 모바일 스마트폰 등 의 이동통신 단말기 기반 의 화재 감시 화재 경보 전송 그 에 관 하다 것 상세 의 이 설치 장소 의 화재 를 가다 이상 징후 가다 설정 모바일 로 문자 음성 메시지 가다 전송 신속하다 대처 수 함 으로써 귀중하다 인명 과 재산 을 화재 로부터 보호 수 모바일 의 충전 과 전송 이 자동 되게 함 으로써 충전 전원 공급 이 원활하다 않다 모바일 의 약점 을 보완 함 으로써 모바일 이 항상 동작 수 것 제 어부 의 입력 에 열 화상 감지 부와 전류 감지 부와 주변 온도 를 감지 온 도감 지부 설 정부 제 어부 의 에 현재 설정 동작 상태 등 이 표시 표시 부와 화재 나 이상 동 작시 경보 를 발령 경보 부와 전원 부의 마 그 네트 스위치 를 온 오프 시키다 스위치 부와 케이블 로 모바일 과 를 주다 받다 을 수', '의 기반 의 전기 수용 가다 별 실시간 원격 경보 출동 에 따르다 빌딩 의 층별 분전 반 전기 실 배 전반 등 에 설치 를 통 전기 사고 의 주요 원인 이 저항 성 누설 전류 과 전류 과전압 등 을 실시간 모니터링 전 기적 요소 를 통합 센터 로 전송 하다 통합 센터 늘다 전송 전 기적 요소 를 빅 화 센터 오다 공유 빅 화 전 기적 요소 의 변화 추이 를 전 기적 이상 징후 가다 센터 늘다 전기 관리자 의 단말기 로 전 기적 이상 징후 가다 장소 로 출동 지시 전기 관리자 를 통 전 기적 이상 에 진단 복구 조치 를 신속하다 취할 수 함 으로써 전기 사고 를 미리 예방 수 가다', '실시 예 늘다 건설 에 설치 복수 의 로부터 를 수득 하다 로부터 를 수득 하다 오다 를 건설 에 원인 을 파악 하다 대책 을 생 성하다 계 측 모니터링 서버 그리고 계 측 모니터링 서버 로부터 건설 에 에 경고 를 수득 하다 원인 대책 을 표시 적어도 하나 의 관리자 단말 을 건설 을 제공 하다 다 따라서 를 건설 의 오다 함께 연동 의 원인 을 파악 수 의 로부터 임계 값 이상 의 이상 를 수득 시 원인 파악 대책 수립 을 위 하다 시간 노력 을 줄 이다 수 따라서 적합하다 대책 을 신속하다 수 수 크다 을 미리 방지 수 하다 을 빨리 제거 수', '의 실시 예 늘다 기반 실시간 측위 를 이용 하다 사고 관제 에 관 하다 것 해결 적 과제 늘다 실시간 측위 을 활용 작업장 내 에 자의 현재 를 실시간 파악 하다 자 가다 미리 지도 내 구역 접근 구역 에 접근 시 자의 을 위해 연 계 구역 내 자동화 가다 을 멈추다 알림 을 제공 수 을 제공 이르다 위해 은 자 에 의하다 착용 태그 산업 용 로봇 컨베어 벨트 모터 가다 설치 공정 라인 의 둘레 를 따르다 설치 태그 로부터 자의 를 수신 동시 에 공정 라인 의 온도 습도 조도 진동수 를 세다 싱하 늘다 다수 의 앵커 다수 의 앵커 로부터 자의 오다 공정 라인 의 온도 습도 조도 진동수 를 수신 액세스 포인트 액세스 포인트 로부터 자의 공정 라인 의 온도 습도 조도 진동수 를 수신 동시 에 자의 가다 미리 설정 접근 구역 내 에 여부 를 판단 서버 서버 로부터 액세스 포인트 를 통 자의 가다 접근 구역 내 에 근접 를 수신 공정 라인 내의 산업 용 로봇 컨베어 벨트 모터 의 동작 을 정지 박스 를 기반 실시간 측위 를 이용 하다 사고 관제 을 제공 하다 다', '건축물 진단 서비스 제공 이 제공 진단 단말 협업 자 단 말로 부터 진단 을 받다 객체 인 건축물 의 도면 의 도면 번호 툴바 에서 추가 버튼 이 선택 도면 에 기 지정 도면 번호 가다 단계 도면 번호 중 어느 번호 가다 선택 도면 의 어느 지점 이 선택 드 래그 경우 선택 점 에 대응 도면 에 선택 번호 가다 표시 드 래그 가다 끝나다 방향 의 지점 에 번호 오다 동일하다 번호 가다 생 성 표시 입력 받다 단계 표시 번호 의 진단 속성 를 선택 번호 의 진단 속성 오다 동일하다 도면 에 매핑 단계 도면 을 기준 진단 단말 협업 자 단 말로 부터 수신 지점 진단 속성 를 도면 에 통합 단계 통합 결과 도면 을 보고서 생 성 단말 로 전송 단계 를', '은 다양하다 항해 영향 인자 에 근거 선박 의 요동 을 정확하다 신뢰 성 하다 예측 판단 고지 수 함 과 동시 에 하나 이상 의 을 통해 선박 의 롤링 횡 요 등 흔들리다 안정 적 신속하다 보정 수 선박 의 안전하다 항해 를 도모 수 원격 지 의 관리자 나 모니터링 센터 에서 항해 상황 을 실시간 공유 수 항해 중 를 빅데이터 화 하다 후행 선박 이나 다음 번의 항해 에서 항해 의 기준 로 활용 수 선박 항해 선박 항해 에 관 하다 것 이다 에 따르다 운항 중인 선박 의 운항 를 선박 운항 단계 운항 오다 선박 의 무게 중심 간 에 상관 관계 를 산출 모니터링 인자 를 도출 모니터링 인자 도출 단계 도출 모니터링 인자 에 근거 선박 의 운항 여부 를 판단 선박 운항 판단 단계 선박 운행 판단 단계 의 를 표시 선박 내 단계 상가 선박 운행 판단 단계 의 를 육상 관 제국 전송 단계 를 것 을 특징 선박 항해 이 제공', '은 건설 의 지역 의 구 부근 건설 에 탈착 가능하다 설치 설치 를 변경 수 방향 조정 이 가능하다 하우 징 과 기 설정 거리 오다 방향 건설 의 자 에게 직접 적 를 를 수신 하다 자 이하 해당 자 오다 해당 자 멀리 다른 작 업자 들다 에게 의 전파 가다 가능하다 제 컨트롤러 를 경고 유닛 해당 자 다른 작 업자 들다 각각 의 안전모 엑스 밴드 손목 밴드 작업복 에 탈 부착 가능하다 케이 싱 과 경고 유닛 으로부터 를 하다 를 수신 단계 별 상황 별로 기 설정 소리 나 진동 다른 의 로 해당 자 다른 작 업자 들다 에게 을 알리 다 제 컨트롤러 를 개인 단말 유닛 을 것 을 특징 건설 의 가능성 이 장소 오다 자의 장구 오다 안전모 의복 에 장 착하다 사고 를 미연 에 방지 하다 예측 까지 가능하다 건설 알림 에 관 하다 것 이다', '지다 중 시설 등 의 사고 예방 을 위 시간 실시간 모니터링 가령 기반 을 통한 사고 예측 사고 시 상황 의 원거리 통제 등 이 필요하다 은 영상 을 통해 자 에게 조 치가 필요하다 의 로 쉬 다 접근 수 자의 을 확보 그리고 의 를 실시간 자동 진단 보고 수 을 제공 하다 다 이 은 의 영상 을 촬영 촬영 영상 을 영상 모델링 영상 으로부터 관심 객체 식별 오다 식별 를 기반 영상 과 매핑 생 성 자 방문 시 영상 수신 자 식별 자 모바일 단말기 로 영상 점검 대상 자 주변 긴급 상 황시 자 에게 상황 을 알다 즉시 철수 수 알람 제공 등 의 을', '은 변전 의 설치 나 대체 에서 의 시공 상황 을 시공사 발주 처 에 동시 에 전송 감독 함 으로써 이상 징후 에 신속하다 대처 수 변전 시공 의 실시간 에 관 하다 것 의 변전 시공 의 실시간 은 시공 에 설치 오디오 를 마이크로 폰 과 비디오 를 카메라 과 대응 를 스피커 과 마이크로 폰 의 오디오 오다 카메라 의 비디오 를 하다 스피커 로 대응 를 수신 제 과 에 설치 해당 의 구동 를 측정 과 의 측정 를 제 을 감지 유닛 감지 유닛 의 제 제 과 를 송수 신하 늘다 제 과 원격 지 에 설치 다수 의 단말기 오다 를 송수 신하 늘다 제 과 로부터 전송 측정 를 이용 해당 의 이상 동작 여부 를 판단 판단 과 의 정상 적 인 동작 에 기준 오다 측정 를 누적 적 데이터베이스 오다 제 제 판단 데이터베이스 의 동작 을 메인 컨트롤 유닛 을 서버 의 자 가다 소지 를 하다 대응 를 수신 받다 자 단말기 오다 원격 지 에 설치 를 수신 받다 대응 를 관리자 단말기 오다 원격 지 에 설치 를 수신 받다 대응 를 감독 관 단말기 를 하다 유 무선 수단 서버 오다 를 사용자 단말기 유닛 을', '은 공사 모니터링 에 관 하다 것 공사 에서 근무 자 에 만전 을 기 위해 장소 오다 시간 에 상관 없이 공사 모니터링 을 구축 스마트폰 과 를 통 실시간 출입 생체인식 기 지문 인식 손 혈관 지다 정맥 얼굴 인식 심박수 측정 등 에 의하다 자 방문자 의 생체인식 출입 오다 심박수 측정 에 의하다 건강 상태 모니터링 출입 증 에 부착 비콘 태그 추적 비상 연락망 과 공사 주의 사항 전기 주의 사항 굴착 시 주의 사항 등 공지 건설 자재 물질 지역 의 유해 가스 모니터링 굳다 상황 모니터링 실시간 상황 모니터링 기상 제공 날씨 기온 강수량 풍향 풍속 등 지역 재난사 고 대응 을 위해 웹 카메라 모니터링 과 스마트폰 모니터링 전광판 연동 을 제공 출입 인원 의 확인 을 제공 하다 다', '은 건설 의 단위 영역 에 설치 비콘 송신기 에서 비콘 를 이용 근로자 의 를 파악 하다 근로자 에서 예측 시 알림 을 제공 기반 의 에 관 하다 것 이다 구체 적 건설 의 단위 영역 에 설치 기 설정 주기 로 비콘 를 비콘 송신기 이동 에 대응 해당 단위 영역 의 비콘 를 수 신시 건설 에 구축 로컬망 을 통해 실시간 전송 근로자 단말기 건설 에 설치 로컬망 을 통해 건설 내의 근로자 단말기 로부터 비콘 를 수 신시 외부 망 을 통해 전송 외부 망 을 통해 수신 근로자 단말 기별 비콘 를 통해 근로자 의 실시간 를 파악 하다 근로자 에 따르다 요소 시 을 통해 해당 근로자 단말기 로 알림 서버 를 것 을 특징 기반 의 에 관 하다 것 이다', '일 실시 예 에 따르다 건설 은 대상 이 대상 건설 프로젝트 에 복수 의 기존 건설 프로젝트 에 가다 입력 입력 부 복수 의 기존 건설 프로젝트 중 에서 대상 건설 프로젝트 오다 유사하다 건설 프로젝트 를 유사 건설 프로젝트 부 유사 건설 프로젝트 부 에서 유사 건설 프로젝트 에서 시공 중 사고 를 공정 별로 분류 사고 분류 부 사고 분류 부 에서 분류 사고 를 대상 건설 프로젝트 의 일정 오다 동기화 시키다 대상 건설 프로젝트 에서 예상 사고 를 예상 사고 부 예상 사고 부 에서 사고 를 바탕 외부 전문가 에게 사고 에 대하 여 질의 질의 부 외부 전문가 로부터 받다 답변 을 기반 예상 사고 의 확률 심각 도르다 도출 관리자 자 에게 항목 사고 예방 지침 에 를 제공 제 공부 를 수', '은 와이파이 을 이용 하다 를 제공 소형 선박 용 무선 중계 에 관 하다 것 으로서 소형 선박 에 의무 설치 가다 확대 선박 자동식 별 를 활용 하다 서비스 로 를 선박 의 사용자 가다 휴대 단말기 를 이용 를 수신 선박 의 경 위도 대다 지침 로 대지 속력 선수 방위 회 두 율 항해 상황 등 의 를 더 정확하다 파악 위 별도 의 개 의 를 구비 선박 의 동 적 를 제공 수 와이파이 을 이용 하다 를 제공 사용자 가다 로부터 전송 를 통해 주변 선박 들다 의 를 모니터링 수 에서 수신 선박 의 오다 별도 로 정확하다 자신 의 선박 의 를 확인 수 연근 선박 간 의 사고 나 선박 의 사고 에 미리 예방 하 거나 대처 수 적 특징 을 갖다', '은 생체모방 센싱 을 하다 진단 에 관 하다 것 으로서 더욱 상세 건설 구 에 건설 물의 상태 평가 를 위 하다 다 종 의 응답 들다 을 다수 의 생체모방 노드 생체모방 노드 로부터 받다 다 종 의 응답 들다 을 이용 건설 물의 건전 도 모니터링 을 부 부의 건전 도 모니터링 결과 값 을 이용 실시간 피드백 진동 실시간 구 조 규명 을 진단 부르다 것 을 특징 생체모방 센싱 을 하다 진단 에 관 하다 것 이다', '에 따르다 기반 통합 형 수배 전반 은 수 전반 배전 반 고압 배 전반 저압 배 전반 수배 전반 분전 반 전동기 반 과 같다 전력 배전 기기 의 전력 상태 기기 상태 가다 통합 적 검 추다 면서 전력 이상 과 기기 이상 이 통합 적 간편하다 원활하다 감시 에 의하다 송수 신 이 가능하다 취약 조건 낮다 접근 용이 성 등 을 갖다 에 하다 관리자 나 전력 배전 기기 의 문 을 개방 않다 관리자 도 전력 배전 기기 의 전력 상태 기기 상태 를 블루투스 신속하다 용이하다 받다 수 전력 배전 기기 의 상태 모니터링 기기 이상 감시 등 이 의 기기 나 원격 지다 단말기 관리자 휴대 단말기 를 통해 문자 음성 메시지 경보 용 문자 사운드 등 의 다양하다 로 신속하다 원활하다 특히 축 가속도 에 의하다 검 추다 전력 배전 기기 움직임 에 주파수 을 통해 도출 흔들리다 로부터 중요 개 소의 볼트 풀림 여부 판단 오다 같다 기기 상태 판단 가다 산출 지진 등 에 의하다 흔들리다 그 에 따르다 기기 이상 피해 가다 정확하다 정밀 파악 수 이르다 통해 관리자 가다 기기 이상 피해 의 원인 을 신속하다 파악 이 에 대응 수 사고 을 최소 화 시키다 수 적 특징 을 갖다', '은 무인 송배전 에 대하 여 인 가다 자 만이 출입 수 출입 을 통제 등 보안 를 함 과 아우르다 송배전 안 에서 작 업자 들다 에 를 파악 하다 상태 에 놓이다 경우 경보 를 발 등 작 업자 들다 의 을 적 주다 에 관 하다 이다 은 저렴하다 비용 과 간편하다 무인 송배전 에 설치 송배전 의 출입구 에 시 건장 치르다 비 인가 자의 출입 을 통제 출입 을 인 가다 받다 작 업자 들다 의 늘다 물론 이동 방향 이동속도 를 정확하다 파악 뿐 만 아니다 자의 현재 를 각각 의 작 업자 들다 이 소지 자 단말기 상 에 표시 작 업자 들다 이 스스로 송배전 내 에서 자신 의 를 정확하다 파악 수 이르다 통 자신 들다 의 을 확보 수 관리자 입장 에서는 작 업자 들다 의 현재 를 정확하다 파악 통제 수 송배전 의 보안 을 제공 것 을 목적 또한 자 가다 송 변전 내 구역 에 접근 접근 오다 경우 경 고 를 자 에게 보내다 수 다인 조로 을 시 모든 작 업자 들다 이 도착 않다 출입문 이 개방 않다 뿐 만 아니다 작 업도 중 에 자 중 일부 가다 일 탈 경우 에 경보 를 발 등 의 규정 을 준수 토록 강제 규정 밉다 준수 로 인하다 사고 을 예방 수 송배전 의 보안 을 제공 것 을 목적', '물의 이 상거동 검 추다 안전성 평가 에 활용 수 로 비 주기 를 가공 하다 비 주기 에 연속성 을 부여 를 병합 함 으로써 가능하다 잡음 을 최소 화하다 수 또한 비 주기 가속도 를 이용 최소 조건 에 부합 셋 을 생 성함 으로써 물의 이 상거동 검 추다 안전성 평가 를 간편하다 수 비 주기 가속도 를 병합 함 으로써 저 비용 의 하드웨어 를 수 이 에 따르다 물의 이 상거동 검 추다 안전성 평가 를 위 하다 비 를 절감 시키다 수 비 주기 가속도 를 병합 하다 구 이 상거동 검 추다 안전성 평가 그 이 제공', '은 다수 의 레이저 빔 과 지피다 에스 를 이용 하다 교량 구 처지 다 진단 에 관 하다 것 상세 지피다 에스 오다 다수 의 레이저 빔 을 활용 교량 물의 처지 다 여부 를 검 출하 고 이르다 통해 안전성 여부 를 확인 수 다수 의 레이저 빔 과 지피다 에스 를 이용 하다 교량 구 처지 다 진단 에 관 하다 것 이다', '사물 사물인터넷 기반 주변 감지 이 개시 주변 감지 은 다수 의 객체 에 부착 로부터 객체 의 를 단계 다수 의 객체 에 구비 사물인터넷 을 이용 다수 의 주변 을 모니터링 단계 가능성 이 기 설정 확률 이상 감지 경우 상황 의 회피 안 을 제시 단계 를', '에서는 기존 의 수배 전반 용 부분 방전 검 출장 치가 이 아니다 원격 지 의 서버 로 의 전자파 를 시키다 원격 지 에서 수배 전반 의 상태 를 진단 때문 에 수배 전반 의 진단 시간 이 오래 걸리다 즉각 적 인 조 치가 늦어지다 수배 전반 화재 폭발 의 문제점 과 의 만을 기반 수배 전반 의 부분 방전 횟수 만으로 에 하다 수배 전반 의 상태 를 진단 때문 에 별도 의 를 추가 진단 하므다 진단 비용 이 많이 무엇 양질 의 수배 전반 의 열 화 상태 고장 유무 를 진단 어렵다 문제점 을 개선 본체 전 원부 스마트 유 무선 부 스마트 부로 각각 의 공진 주파수 에 초음파 대역 의 부분 방전 오다 가다 청 영역 의 를 기반 관리자 가다 에서 수배 전반 의 부분 방전 오다 정상 상태 의 배경 잡음 소리 를 구 분할 수 부분 방전 이 현상 과 를 에서 파악 수 스마트 로부터 부분 방전 를 검 출하 고 또한 가다 청 영역 의 를 기반 방사 형 기 저 함수 신경회로망 을 고장 유무 를 에서 바로 진단 시키다 수 양질 의 수배 전반 의 현재 상태 고장 유무 를 실시간 진단 수 기존 에 비 다 진단 시간 을 획기 적 단축 시키다 수 박스 형상 슬림 하다 자석 보조 프레임 을 통해 수배 전반 내부 도어 일 측 수배 전반 내부 공간 일 측 외부 공간 일 측 에 자석 이나 보조 프레임 을 통해 손쉽다 설치 수 설치 성과 호환성 이 우수하다 스마트 제 어부 의 고장 진단 결과 값 에 따르다 수배 전반 의 전 원 구동 을 강제 로 자동 오프 시키다 수 수배 전반 의 부분 방전 인하다 화재 폭발위험 을 현저 낮추다 수 스마트 제 어부 의 에 따르다 유 무선 을 통해 원격 지 에 하다 서버 쪽 실시간 고장 진단 를 시키다 이 에 따르다 응답 로서 명령 를 수신 받다 스마트 부로 시키다 수 형 진단 구축 뿐 만 아니다 수배 전반 내부 전력 의 수명연장 유지 보수 비용 을 추가 절감 시키다 수 수배 전반 의 검 추다 의하다 부분 방전 열 화 감시 진단 를 제공 그 목적 이', '은 의 보호 그 에 의하다 보호 에 관 하다 것 이고 구체 적 전력 소 모 량 이 많다 복잡하다 로 인하다 특정 지점 에서 과열 상황 을 미리 탐지 요구 조치 가다 취 수 의 보호 그 에 의하다 의 보호 에 관 하다 것 이다 의 보호 늘다 서로 다른 에서 서로 다른 조건 에 각각 의 지점 의 온도 를 탐지 온도 탐지 유닛 내지 미리 영역 의 상황 을 탐지 다수 개 의 상황 탐지 유닛 온도 탐지 유닛 내지 상황 탐지 유닛 으로부터 전송 로부터 여부 를 유닛 유닛 의 에 따르다 결과 를 유닛 을 하다 유닛 의 의 적어도 하나 늘다 패널 에 표시', '의 일 실시 예 늘다 자의 고도 검 추다 통한 건설 에 관 하다 것 해결 적 과제 늘다 건설 의 자의 헬멧 에 태그 단말 을 부착 자 가다 하다 건물 의 층 수 를 파악 수 이르다 위해 의 일 실시 예 늘다 작 업자 들다 이 하다 건물 의 층 수 를 감지 작 업자 들다 의 현재 오다 를 파악 자의 고도 검 추다 통한 건설 에 자의 고유 코드 오다 를 태그 를 전송 자의 안전모 에 부착 태그 단말 대기압 를 내장 에 다수 개 설치 태그 단 말로 부터 태그 를 수신 하다 후 태그 오다 대기압 에 의하다 감지 대기압 단말 코드 를 수신 코드 를 생 성하다 수신 단말 건물 의 층 수 별 대기압 가다 미리 수신 단 말로 부터 수신 코드 를 수신 하다 후 수신 코드 의 대기압 오다 층 수 별 대기압 를 매칭 자 가다 하다 건물 의 층 수 를 산출 하다 산출 건물 의 층 수 오다 자의 를 이용 별 관제 를 생 성하다 서버 를 자의 고도 검 추다 통한 건설 을 개시 하다 다', '은 를 이용 하다 무인 지게차 에 관 하다 것 으로서 더욱 상세 공 사장 이나 물류 업체 에서 지게차 가다 물체 를 들어오다 린 상태 에서 운반 경우 에 시야 를 가다 인명 사고 가다 이르다 개선 블루투스 을 이용 스마트폰 조종 수 를 이용 하다 무인 지게차 에 관 하다 것 이다 인 를 이용 하다 무인 지게차 늘다 전 동 지게차 의 포크 에 승강 구 동력 을 제공 스텝 모터 를 상 여자 위 하다 스텝 모터 제어기 전 동 지게차 의 바퀴 에 주행 구 동력 을 제공 디씨 모터 를 전진 후진 을 위 하다 디씨 모터 제어기 기울이다 업 과 다운 을 제공 디지털 서보모터 를 위 하다 서보모터 제어기 스텝 모터 제어기 오다 디씨 모터 제어기 서보모터 제어기 에 를 제공 동작 정지 를 수 위 하다 수단 을 것 을 특징 을 통해 항상 휴대 하다 스마트폰 을 이용 블루투스 에 의하다 원격 무선 조정 을 수 함 으로써 공 사장 이나 물류 업체 의 인명 피해 를 줄 이다 를 제공', '물의 이 상거동 을 평가 경우 에 이 상거동 시점 을 기준 손상 이전 손상 이후 의 비교 만으로 물의 손상 유무 를 판단 함 으로써 물의 손상 을 정확하다 판단 수 또한 추정 이 상거동 시점 을 기준 손상 이전 과 손상 이후 의 를 각각 고 속 퓨리 에 통계 적 인 기법 을 함 으로써 정확하다 물의 안전성 평가 결과 를 수 물의 안전성 평가 를 위 하다 그 이 제공', '고안 은 스마트폰 태블릿 피씨 오다 같다 모바일 기기 를 살균 보 관할 수 살균 을 갖다 모바일 기기 보관 에 관 하다 것 상세 학교 교실 시험 장 종교 시설 경찰서 의 증거 보관 실 군대 위병 소나 휴게소 사무실 공장 등 의 기타 공중 시설 물 에 설치 다수 개 의 모바일 기기 를 일괄 적 보관 함 과 동시 에 모바일 기기 를 각각 개별 적 분리 보관 모바일 기기 의 회수 식별 을 용이하다 보관 시 모바일 기기 를 살균 수 모바일 기기 보관 에 관 하다 것 이다', '은 시설 원격 감시 에 관 하다 것 원거리 에 마련 오다 의 동작 을 반 과 를 감지 감시 부와 외부 오다 감지 에 따르다 반 과 감시 부르다 하다 반 과 감시 부의 결과 를 송 출하 늘다 무선 중계기 오다 인터넷 망 망 을 통해 무선 중계기 오다 관제 서버 인터넷 망 망 을 통해 관제 서버 무선 중계기 오다 스마트 단말기 를 것 을 특징 시설 원격 감시 을 제공 하다 다', '대형 사회 기반시설 물 인 물의 고 주파 진동 응답 신 호로 부터 시간 영역 주파수 영역 을 조합 하다 자가 학습 패턴인식 기반 의 알고리즘 에 따르다 물의 비정상 거동 평가 를 함 으로써 물의 연속 적 이 상거동 시점 을 용이하다 추정 수 또한 물의 이 상거동 이 감지 때 마다 감지 이 상거동 의 진위 를 판별 수 노드 를 중심 손상 영역 을 용이하다 추정 수 물의 이 상거동 검 추다 안전성 평가 과 그 이 제공', '은 스마트 구 을 위 하다 멀티 센싱 을 이용 하다 분산 형 적 상태 평가 에 관 하다 것 상세 최적 알고리즘 과 유한 요소 개선 알고리즘 을 통해 서다 실시간 스마트 물의 적 상태 를 평가 적 상태 평가 에 기 설정 최적 알고리즘 을 통해 스마트 구 로부터 적 상태 평가 를 위 하다 를 검 추다 위 하다 다수 개 의 의 최적 계 측 를 하다 기 설정 개선 알고리즘 을 통해 연산 횟수 를 최소 화하다 스마트 물의 수치 을 도출 계 측 부 계 측 부와 무선 를 통해 계 측 부 에서 하다 최적 계 측 에 스마트 구 로부터 적 상태 평가 를 위 하다 를 검 출하 늘다 다수 개 의 로 멀티 센싱부 를 계 측 불다 멀티 센싱부 의 다수 개 의 에 의하다 계 측 값 들다 을 실시간 받다 스마트 구 에 적 상태 를 진단 평가 것 을 특징 스마트 구 을 위 하다 멀티 센싱 을 이용 하다 분산 형 적 상태 평가 에 관 하다 것 이다', '은 기준 국 의 일정하다 고도 값 과 기압 의 편차 를 고려 현재 의 기압 값 이 가리키다 기준 고도 값 을 구함 으로써 절대 고도 값 을 확보 수 건설 자의 절대 고도 검 추다 절대 고도 검 추다 을 제공 그 목적 이 목적 을 달성 위 하다 은 건설 자 인 이동국 의 자세 건설 현재 의 기압 를 검 출하 늘다 기반 부 기반 부로 부터의 자세 를 하다 동기화 자세 동기화 부 자세 동기화 부로 부터의 에 대하 여 온도 변화 에 따르다 바이어스 변화 를 추정 하다 보정 바이어스 변화 보 정부 바이어스 변화 보정 부의 보정 에 근거 자의 이 동 거리 오다 방향 을 산출 거리 산출 부 기반 부로 부터의 기압 건설 측량 원점 인 기준 국 의 기상 를 하다 동기화 기압 동기화 부 기압 동기화 부로 부터의 에 근거 자의 절대 고도 를 절대 고도 산출 부 거리 산출 부의 산출 값 과 절대 고도 산출 부로 부터 산출 값 에 근거 자의 를 추측 부르다 기반 건설 자의 을 제공 하다 다', '의 일 실시 예 에 따르다 보행 보조 은 보조 보행기 를 이용 사용자 의 보행 을 위 하다 보행 보조 에서 보행 보조 은 보조 보행기 의 핸들 부르다 파지 하다 사용자 의 생체 에 대응 사용자 의 생체 지수 를 이용 사용자 의 보행 등급 을 단계 사용자 의 보행 등급 에 따르다 보조 보행기 의 이동 을 단계 를 따라서 은 보조 보행기 를 이용 사용자 의 생체 에 대응 사용자 의 생체 지수 를 이용 사용자 의 보행 등급 에 따르다 보조 보행기 의 이동 을 함 으로써 보조 보행기 사용자 가다 편리하다 안전하다 이동 수', '은 스마트 폰 이나 디지털 카메라 를 이용 콘크리트 표면 의 균열 을 촬영 하다 스마트 폰 이나 컴퓨터 에 설치 애플리케이션 에 의하다 촬영 영상 으로부터 균열 폭 을 때문 에 측정 자 가다 언제 어디 서나 쉬 다 정확하다 균열 폭 을 측정 수 이점 이 또한 검사 대상 에 척도 부재 를 부착 하다 촬영 척도 부재 를 통해 촬영 영상 과 실제 크기 비율 의 확인 이 가능하다 때문 에 쉬 다 정확하다 균열 폭 의 실제 크기 를 확인 수 또한 검사 대상 에 균열 의 이 가능하다 동일 검사 대상 에 추후 검사 시 균열 오다 비교 것 이 가능하다 이전 검사 시 선택 측정 영역 과 동일하다 영역 의 선택 이 가능하다 동일 영역 의 균열 진전 을 모니터링 수 이점 이', '은 모바일 단말 을 이용 구 을 점검 에서 구 에 다양하다 를 조회 하다 실시간 점검 결과 에 를 등록 수 을 제 함 으로써 구 점검 의 을 증대 시키다 수 구 점검 구 점검 을 제공 하다 다', '은 공장 빌딩 아파트 등 과 같다 대형 건물 에 설치 전력 조명 공 조 위생 방재 등 의 각종 건물 를 에너지 절감 쾌적하다 재해 예방 신속하다 유지 보수 등 이 가능하다 건물 자동화 에 관 하다 것 이다 에 따르다 건물 자동화 은 수배 전반 분전 반 전력량 계 를 건물 로 공급 전력 을 각 전 기 사용 로 분배 전력 히터 에어컨 과 온도 제 가습기 오다 습도 환풍기 오다 분진 를 건물 내의 온도 습도 환기 를 공 조 등기 구 조도 출입 감지 를 건물 내의 조명 을 조명 화재 감지기 소화전 지진 감지 를 건물 내의 재해 를 방지 방재 촬영 각도 조 절기 침입 자 감지 를 건물 내부 주변 을 촬영 방범 보일러 순환 펌프 저수조 를 건물 을 난방 난방 를 건물 전력 공 조 조명 방재 방범 난방 각각 에 구비 이 들다 을 기기 들다 을 원 격 반 컴퓨터 모니터 데이터베이스 를 원 격 반 과 건물 들다 의 상황 을 모니터링 하다 관리제 어 중앙 관제 를 이루어지다', '에서 부재 수용 가의 를 전기 점검 에 체계 를 확보 수 전기 점검 을 개시 하다 다 에 따르다 전기 점검 은 지역별 로 구획 다수 수용 가다 피 점검 자 의 수용 가다 단말기 로 법규 화 전기 점검 통지 를 위 하다 점검 안내 메시지 를 제공 하다 점검 안내 메시지 에 근거 해당 지역 의 점검 자 로부터 측정 점검 자 측정 를 수용 가다 별 점검 자 측정 를 토대 로 부재 수용 가의 색출 색출 부재 수용 가다 재 점검 을 위 하다 방문 스케줄 를 생 성 하다 방문 스케줄 에 대응 수용 가다 를 점검 자 로 전송 전기 점검 결과 에 대응 행정 결과 를 생 성 하다 이르다 근거 로 부재 수용 가다 부재 종결 해당 관청 으로의 통지 를 서버 를 따라서 은 부재 수용 가의 를 전기 점검 에 체계 를 확보 함 으로써 전기 인력 의 불필요하다 낭비 를 줄 이다 수 전기 사고 를 미연 에 방지 수 를 갖다 전기 점검 전폐 거부 부재 방문 점검', '은 무인 를 이용 하다 시설 물 에 관 하다 것 이다 저수지 담수호 상하 수도 장 하천 보 사방댐 다목적댐 등 의 물 시설 물 장내 에 하나 이상 의 무인 를 설치 각종 들다 을 수 시설 물 에 시설 물 장내 의 각종 들다 에 대해 감시 용 카메라 를 통해 기준영 상 과 현재영 상 을 비교 움직임 이 포착 들다 에 부착 로부터 이상 음성 이 감지 혹은 를 통해 동영상 을 촬영 동영상 과 연동 하다 원 격 명령 이나 사전 에 설정 에 따르다 침입 자 나 사 고발 생시 사고 부위 를 추적 다양하다 각도 로 사진 정밀 촬영 하다 로부터 감지 기계 진동 음 과 같다 이상 음성 을 기반 의 유 니트 를 통해 하 시설 물 장내 의 각종 전기 들다 의 전압 전류 온도 압력 사운드 오다 같다 전기 물리 적 인 현상 에 사고 원인 을 추정 하다 위 하다 그래픽 챠트 보고서 등 의 감시 용 모니터링 에 필요하다 각종 이벤트 들다 이 사전 에 설정 사용자 입력 용 응용프로그램 에 의하다 하 여 디지털 로 하다 후 합성 압축 파일 로 하다 또한 시설 물 장내 의 사고 신고 나 사고 영상 자막 를 수신 하다 침입 자 에 경고 나 상황 의 알림 과 수리 를 안내 하나 이상 의 영상 음성 를 하 도록 제 단계 를 하 하나 이상 의 영상 음성 를 다양하다 편리하다 사용자 지원 모니터링 과 양 방향 을 지원 지역 관제 센터 의 서버 로 유 무선 통신망 을 통해 전송 제 단계 오다 서버 로부터 실시간 제공 동영상 과 음성 를 멀티 분할 을 통해 표시 하다 시설 물 장내 의 침입 자 나 사 고발 생시 자동 적 아이콘 의 알람 램프 점등 표시 가다 동시 에 표시 전자 지도 에 의하다 모니터링 제 단계 오다 제 단계 에서 사고 여부 에 따르다 동영상 과 음성 를 하다 계속 모니터링 제 단계 오다 제 단계 에서 동영상 과 음성 를 하 근무 자 오다 수시로 교환 하다 각종 시설 물 들다 에 사고 늘다 사전 에 준비 실제 사진 과 설계 도면 의 관측 지점 매핑 사고 부위 를 정밀 제 단계 오다 늘다 데이터베이스 화하다 지역 관제 센터 상황 실로 전송 근무 자 전용 송수신기 나 책임자 에게 제공 중앙 센터 에 보고 제 단계 를 것 을 특징 무인 를 이용 하다 시설 물 을 제공 하다 다', '청구 범위 에 기재 이 속 하다 분야 은 레이저 스캐닝 를 이용 하다 시설 물 검 측 그 과 그 를 이용 하다 터널 그 에 관 하다 것임 이 해결 적 과제 은 차원 레이저 스캐너 를 활용 특히 터널 내부 등 을 스캐닝 하다 후 스캐닝 로부터 터널 내 콘크리트 라이닝 부분 과 터널 내 부착 시설 물 전차 선로 레일 파이프라인 등 을 분리 하다 이렇게 분리 를 이용 터널 내 시설 물의 상태변화 유지 보수 여부 를 수 시설 물 검 측 그 과 그 를 이용 하다 터널 그 을 제공 그 목적 이 의 해결 의 요지 은 시설 물 검 측 에 레이저 스캐너 에 의하다 프로파일 기 촬영 스캐닝 를 반 사 강도 의 분포 에 따르다 각 프로파일 내 에서 라이닝 부분 과 시설 물 부분 분리 위 하다 제 분리 수단 제 분리 수단 에 의하다 분리 시설 물이 존재 스캐닝 에서 반 사 강도 의 광학 적 과 시설 물의 에 따르다 기하학 적 을 이용 시설 물 을 분리 제거 위 하다 제 분리 수단 제 분리 수단 에 의하다 시설 물이 분리 스캐닝 라이닝 전체 프로파일 을 세그먼트 별로 기준 이 면 을 이 면 을 기준 남아 시설 물 손상 부위 를 분리 위 하다 제 분리 수단 을 의 중요하다 용도 은 터널 내 시설 물의 상태변화 유지 보수 여부 를 등 에 이용']\n"
     ]
    }
   ],
   "source": [
    "# 표제어 추출\n",
    "lemmatized_patents = extract_lemmatized_tokens(patent_prep)\n",
    "print(lemmatized_patents)"
   ]
  },
  {
   "cell_type": "markdown",
   "metadata": {},
   "source": [
    "----------------"
   ]
  },
  {
   "cell_type": "code",
   "execution_count": 31,
   "metadata": {},
   "outputs": [],
   "source": [
    "from ugtm import eGTM\n",
    "import umap\n",
    "import hdbscan"
   ]
  },
  {
   "cell_type": "code",
   "execution_count": 32,
   "metadata": {},
   "outputs": [],
   "source": [
    "from transformers import BertModel, BertTokenizer\n",
    "from sentence_transformers import SentenceTransformer\n",
    "from bertopic import BERTopic\n",
    "from sklearn.feature_extraction.text import CountVectorizer"
   ]
  },
  {
   "cell_type": "code",
   "execution_count": 33,
   "metadata": {},
   "outputs": [
    {
     "name": "stderr",
     "output_type": "stream",
     "text": [
      "No sentence-transformers model found with name snunlp/KR-BERT-char16424. Creating a new one with mean pooling.\n"
     ]
    }
   ],
   "source": [
    "import umap\n",
    "\n",
    "# KoBERT 모델과 토크나이저 불러오기\n",
    "tokenizer = BertTokenizer.from_pretrained('monologg/kobert')\n",
    "model = BertModel.from_pretrained('monologg/kobert')\n",
    "\n",
    "# KoBERT 기반 SentenceTransformer 모델 로드\n",
    "embedding_model = SentenceTransformer('snunlp/KR-BERT-char16424')\n",
    "\n",
    "# Vectorizer 모델 설정\n",
    "vectorizer_model = CountVectorizer(ngram_range=(1, 2), stop_words=None)\n",
    "\n",
    "# UMAP 모델 설정\n",
    "umap_model = umap.UMAP(n_neighbors=15, n_components=5, min_dist=0.0, metric='cosine')\n",
    "\n",
    "# HDBSCAN 모델 설정\n",
    "hdbscan_model = hdbscan.HDBSCAN(min_cluster_size=10, metric='euclidean', cluster_selection_method='eom', prediction_data=True)\n"
   ]
  },
  {
   "cell_type": "markdown",
   "metadata": {},
   "source": [
    "--------------------"
   ]
  },
  {
   "cell_type": "code",
   "execution_count": 34,
   "metadata": {},
   "outputs": [],
   "source": [
    "# BERTopic 모델 초기화 및 훈련\n",
    "topic_model = BERTopic(\n",
    "    language=\"multilingual\",  # 언어 설정\n",
    "    calculate_probabilities=True,  # 확률 계산 여부\n",
    "    nr_topics=10,  # 주제의 수 제한\n",
    "    top_n_words=10,  # 각 주제의 상위 단어 수\n",
    "    min_topic_size=5,  # 주제의 최소 크기\n",
    "    vectorizer_model=vectorizer_model,  # 벡터화 모델\n",
    "    embedding_model=embedding_model,  # 임베딩 모델\n",
    "    umap_model=umap_model,  # UMAP 모델\n",
    "    hdbscan_model=hdbscan_model,  # HDBSCAN 모델\n",
    "    ctfidf_model=None,  # c-TFIDF 모델\n",
    "    verbose=True  # 진행 상황 출력 여부\n",
    ")"
   ]
  },
  {
   "cell_type": "code",
   "execution_count": 35,
   "metadata": {},
   "outputs": [
    {
     "name": "stderr",
     "output_type": "stream",
     "text": [
      "2024-06-20 02:18:13,126 - BERTopic - Embedding - Transforming documents to embeddings.\n",
      "Batches: 100%|██████████| 6/6 [00:41<00:00,  6.94s/it]\n",
      "2024-06-20 02:18:54,831 - BERTopic - Embedding - Completed ✓\n",
      "2024-06-20 02:18:54,831 - BERTopic - Dimensionality - Fitting the dimensionality reduction algorithm\n",
      "2024-06-20 02:19:00,781 - BERTopic - Dimensionality - Completed ✓\n",
      "2024-06-20 02:19:00,781 - BERTopic - Cluster - Start clustering the reduced embeddings\n",
      "2024-06-20 02:19:00,800 - BERTopic - Cluster - Completed ✓\n",
      "2024-06-20 02:19:00,814 - BERTopic - Representation - Extracting topics from clusters using representation models.\n",
      "2024-06-20 02:19:00,868 - BERTopic - Representation - Completed ✓\n",
      "2024-06-20 02:19:00,868 - BERTopic - Topic reduction - Reducing number of topics\n",
      "2024-06-20 02:19:00,868 - BERTopic - Topic reduction - Reduced number of topics from 3 to 3\n"
     ]
    }
   ],
   "source": [
    "# 주제 모델 훈련\n",
    "topics, probabilities = topic_model.fit_transform(lemmatized_patents)"
   ]
  },
  {
   "cell_type": "code",
   "execution_count": 36,
   "metadata": {},
   "outputs": [
    {
     "name": "stdout",
     "output_type": "stream",
     "text": [
      "[-1, -1, -1, 0, 0, -1, 0, -1, -1, 1, -1, -1, -1, 0, -1, -1, -1, -1, 0, -1, -1, -1, -1, -1, -1, -1, 1, -1, 0, -1, -1, -1, 1, -1, 1, -1, -1, 1, 1, -1, -1, -1, 1, -1, -1, 0, -1, -1, -1, 0, 0, -1, -1, -1, 0, -1, -1, -1, -1, -1, 0, -1, -1, -1, -1, 1, 1, 0, -1, -1, -1, -1, 0, 0, -1, -1, -1, 1, -1, 0, -1, 0, 0, 0, 0, 0, -1, -1, 0, 0, -1, 0, -1, -1, 1, -1, -1, 1, -1, -1, -1, 0, 1, 0, -1, -1, -1, 1, -1, 0, -1, -1, -1, 0, -1, 0, -1, -1, 1, -1, -1, 0, 0, -1, 0, -1, -1, -1, 0, 1, 1, 0, 0, -1, -1, -1, -1, 0, 1, -1, 0, -1, 0, -1, -1, -1, 0, -1, -1, -1, -1, -1, -1, 1, -1, 0, -1, -1, -1, -1, -1, 1, -1, 0, 0]\n",
      "   Topic  Count            Name                                Representation  \\\n",
      "0     -1    104  -1_하다_가다_오다_제공    [하다, 가다, 오다, 제공, 스마트, 감지, 따르다, 점검, 수신, 에서]   \n",
      "1      0     41  0_하다_영상_오다_로부터  [하다, 영상, 오다, 로부터, 모니터링, 제공, 에서, 따르다, 사고, 감지]   \n",
      "2      1     20  1_하다_모바일_가다_상태   [하다, 모바일, 가다, 상태, 전송, 화재, 감지, 모니터링, 상황, 건물]   \n",
      "\n",
      "                                 Representative_Docs  \n",
      "0  [은 카메라 를 이용 하다 감시 에 관 하다 것 이다 에 따르다 감시 의 카메라 를...  \n",
      "1  [의 실시 예 에 따르다 스마트 헬멧 을 이용 하다 상황 모니터링 은 상황 으로부터...  \n",
      "2  [은 각종 산업 에서 사용자 의 몸 에 착용 하다 채 재난 요소 를 자 에게 실시간...  \n"
     ]
    }
   ],
   "source": [
    "# 주제 모델 결과 출력\n",
    "print(topics)\n",
    "print(topic_model.get_topic_info())"
   ]
  }
 ],
 "metadata": {
  "kernelspec": {
   "display_name": "Python 3",
   "language": "python",
   "name": "python3"
  },
  "language_info": {
   "codemirror_mode": {
    "name": "ipython",
    "version": 3
   },
   "file_extension": ".py",
   "mimetype": "text/x-python",
   "name": "python",
   "nbconvert_exporter": "python",
   "pygments_lexer": "ipython3",
   "version": "3.8.9"
  }
 },
 "nbformat": 4,
 "nbformat_minor": 2
}
